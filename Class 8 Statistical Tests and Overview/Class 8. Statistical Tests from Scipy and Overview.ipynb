{
 "cells": [
  {
   "cell_type": "markdown",
   "metadata": {},
   "source": [
    "# Reading Libraries"
   ]
  },
  {
   "cell_type": "code",
   "execution_count": 1,
   "metadata": {},
   "outputs": [],
   "source": [
    "import pandas as pd\n",
    "import numpy as np\n",
    "import matplotlib.pyplot as plt\n",
    "import seaborn as sns\n",
    "\n",
    "from scipy.stats import pearsonr\n",
    "from scipy.stats import ttest_ind #Independent Sample T-test\n",
    "from scipy.stats import f_oneway #One-Way ANOVA\n",
    "from scipy.stats import levene"
   ]
  },
  {
   "cell_type": "markdown",
   "metadata": {},
   "source": [
    "# Reading Data"
   ]
  },
  {
   "cell_type": "code",
   "execution_count": 2,
   "metadata": {},
   "outputs": [],
   "source": [
    "wine_df=pd.read_excel('Wine.xlsx',sheet_name='Transactions')"
   ]
  },
  {
   "cell_type": "markdown",
   "metadata": {},
   "source": [
    "# Data Preparation and Cleaning"
   ]
  },
  {
   "cell_type": "code",
   "execution_count": 3,
   "metadata": {},
   "outputs": [
    {
     "name": "stdout",
     "output_type": "stream",
     "text": [
      "<class 'pandas.core.frame.DataFrame'>\n",
      "RangeIndex: 324 entries, 0 to 323\n",
      "Data columns (total 10 columns):\n",
      "Customer Last Name    324 non-null object\n",
      "Offer #               324 non-null int64\n",
      "Gender                324 non-null object\n",
      "Discount              324 non-null int64\n",
      "Varietal              324 non-null object\n",
      "Customer_Segment      324 non-null object\n",
      "Minimum Qty (kg)      324 non-null int64\n",
      "Origin                324 non-null object\n",
      "Campaign              324 non-null object\n",
      "Past Peak             324 non-null bool\n",
      "dtypes: bool(1), int64(3), object(6)\n",
      "memory usage: 23.2+ KB\n"
     ]
    }
   ],
   "source": [
    "wine_df.info()"
   ]
  },
  {
   "cell_type": "code",
   "execution_count": 4,
   "metadata": {},
   "outputs": [
    {
     "data": {
      "text/plain": [
       "array(['Pinot Noir', 'Espumante', 'Champagne', 'Prosecco', 'Pinot Grigio',\n",
       "       'Malbec', 'Merlot', 'Cabernet Sauvignon', 'Chardonnay'],\n",
       "      dtype=object)"
      ]
     },
     "execution_count": 4,
     "metadata": {},
     "output_type": "execute_result"
    }
   ],
   "source": [
    "#extracting unique values\n",
    "wine_df.Varietal.unique()"
   ]
  },
  {
   "cell_type": "code",
   "execution_count": 5,
   "metadata": {},
   "outputs": [
    {
     "data": {
      "text/plain": [
       "9"
      ]
     },
     "execution_count": 5,
     "metadata": {},
     "output_type": "execute_result"
    }
   ],
   "source": [
    "#number of unique values\n",
    "wine_df.Varietal.nunique()"
   ]
  },
  {
   "cell_type": "code",
   "execution_count": 6,
   "metadata": {},
   "outputs": [],
   "source": [
    "#defining a function that will code Discount into ranges\n",
    "def discount_range(discount):\n",
    "    if discount<30:\n",
    "        return 'Up to 30'\n",
    "    elif discount>=30 and discount<=60:\n",
    "        return '[30,60]'\n",
    "    else:\n",
    "        return 'More than 60'"
   ]
  },
  {
   "cell_type": "code",
   "execution_count": 7,
   "metadata": {},
   "outputs": [
    {
     "data": {
      "text/plain": [
       "'More than 60'"
      ]
     },
     "execution_count": 7,
     "metadata": {},
     "output_type": "execute_result"
    }
   ],
   "source": [
    "#applying a function defined above on a values\n",
    "discount_range(wine_df.Discount[4])"
   ]
  },
  {
   "cell_type": "code",
   "execution_count": 8,
   "metadata": {},
   "outputs": [
    {
     "name": "stdout",
     "output_type": "stream",
     "text": [
      "Smith Up to 30\n",
      "Smith [30,60]\n",
      "Johnson [30,60]\n",
      "Johnson [30,60]\n",
      "Johnson More than 60\n",
      "Williams [30,60]\n",
      "Williams More than 60\n",
      "Williams More than 60\n",
      "Brown [30,60]\n",
      "Brown More than 60\n"
     ]
    }
   ],
   "source": [
    "#applying discount function on the first 10 rows of data\n",
    "for i in range(10):\n",
    "    print(wine_df['Customer Last Name'][i],discount_range(wine_df.Discount[i]))"
   ]
  },
  {
   "cell_type": "markdown",
   "metadata": {},
   "source": [
    "> In order to apply the function defined above on the Discount column in the dataset, **<code>apply()</code>** function can be used."
   ]
  },
  {
   "cell_type": "code",
   "execution_count": 9,
   "metadata": {},
   "outputs": [],
   "source": [
    "#storing results of function in new column: discount_name\n",
    "wine_df['discount_name']=wine_df.Discount.apply(discount_range)"
   ]
  },
  {
   "cell_type": "code",
   "execution_count": 10,
   "metadata": {},
   "outputs": [
    {
     "data": {
      "text/html": [
       "<div>\n",
       "<style scoped>\n",
       "    .dataframe tbody tr th:only-of-type {\n",
       "        vertical-align: middle;\n",
       "    }\n",
       "\n",
       "    .dataframe tbody tr th {\n",
       "        vertical-align: top;\n",
       "    }\n",
       "\n",
       "    .dataframe thead th {\n",
       "        text-align: right;\n",
       "    }\n",
       "</style>\n",
       "<table border=\"1\" class=\"dataframe\">\n",
       "  <thead>\n",
       "    <tr style=\"text-align: right;\">\n",
       "      <th></th>\n",
       "      <th>Customer Last Name</th>\n",
       "      <th>Offer #</th>\n",
       "      <th>Gender</th>\n",
       "      <th>Discount</th>\n",
       "      <th>Varietal</th>\n",
       "      <th>Customer_Segment</th>\n",
       "      <th>Minimum Qty (kg)</th>\n",
       "      <th>Origin</th>\n",
       "      <th>Campaign</th>\n",
       "      <th>Past Peak</th>\n",
       "      <th>discount_name</th>\n",
       "    </tr>\n",
       "  </thead>\n",
       "  <tbody>\n",
       "    <tr>\n",
       "      <th>0</th>\n",
       "      <td>Smith</td>\n",
       "      <td>2</td>\n",
       "      <td>Male</td>\n",
       "      <td>17</td>\n",
       "      <td>Pinot Noir</td>\n",
       "      <td>Segment 4</td>\n",
       "      <td>72</td>\n",
       "      <td>France</td>\n",
       "      <td>January</td>\n",
       "      <td>False</td>\n",
       "      <td>Up to 30</td>\n",
       "    </tr>\n",
       "    <tr>\n",
       "      <th>1</th>\n",
       "      <td>Smith</td>\n",
       "      <td>24</td>\n",
       "      <td>Male</td>\n",
       "      <td>34</td>\n",
       "      <td>Pinot Noir</td>\n",
       "      <td>Segment 4</td>\n",
       "      <td>6</td>\n",
       "      <td>Italy</td>\n",
       "      <td>September</td>\n",
       "      <td>False</td>\n",
       "      <td>[30,60]</td>\n",
       "    </tr>\n",
       "    <tr>\n",
       "      <th>2</th>\n",
       "      <td>Johnson</td>\n",
       "      <td>17</td>\n",
       "      <td>Male</td>\n",
       "      <td>47</td>\n",
       "      <td>Pinot Noir</td>\n",
       "      <td>Segment 4</td>\n",
       "      <td>12</td>\n",
       "      <td>Germany</td>\n",
       "      <td>July</td>\n",
       "      <td>False</td>\n",
       "      <td>[30,60]</td>\n",
       "    </tr>\n",
       "    <tr>\n",
       "      <th>3</th>\n",
       "      <td>Johnson</td>\n",
       "      <td>24</td>\n",
       "      <td>Male</td>\n",
       "      <td>34</td>\n",
       "      <td>Pinot Noir</td>\n",
       "      <td>Segment 4</td>\n",
       "      <td>6</td>\n",
       "      <td>Italy</td>\n",
       "      <td>September</td>\n",
       "      <td>False</td>\n",
       "      <td>[30,60]</td>\n",
       "    </tr>\n",
       "    <tr>\n",
       "      <th>4</th>\n",
       "      <td>Johnson</td>\n",
       "      <td>26</td>\n",
       "      <td>Male</td>\n",
       "      <td>83</td>\n",
       "      <td>Pinot Noir</td>\n",
       "      <td>Segment 4</td>\n",
       "      <td>144</td>\n",
       "      <td>Australia</td>\n",
       "      <td>October</td>\n",
       "      <td>False</td>\n",
       "      <td>More than 60</td>\n",
       "    </tr>\n",
       "  </tbody>\n",
       "</table>\n",
       "</div>"
      ],
      "text/plain": [
       "  Customer Last Name  Offer # Gender  Discount    Varietal Customer_Segment  \\\n",
       "0              Smith        2   Male        17  Pinot Noir        Segment 4   \n",
       "1              Smith       24   Male        34  Pinot Noir        Segment 4   \n",
       "2            Johnson       17   Male        47  Pinot Noir        Segment 4   \n",
       "3            Johnson       24   Male        34  Pinot Noir        Segment 4   \n",
       "4            Johnson       26   Male        83  Pinot Noir        Segment 4   \n",
       "\n",
       "   Minimum Qty (kg)     Origin   Campaign  Past Peak discount_name  \n",
       "0                72     France    January      False      Up to 30  \n",
       "1                 6      Italy  September      False       [30,60]  \n",
       "2                12    Germany       July      False       [30,60]  \n",
       "3                 6      Italy  September      False       [30,60]  \n",
       "4               144  Australia    October      False  More than 60  "
      ]
     },
     "execution_count": 10,
     "metadata": {},
     "output_type": "execute_result"
    }
   ],
   "source": [
    "wine_df.head()"
   ]
  },
  {
   "cell_type": "code",
   "execution_count": 11,
   "metadata": {},
   "outputs": [
    {
     "data": {
      "text/plain": [
       "Customer Last Name    0\n",
       "Offer #               0\n",
       "Gender                0\n",
       "Discount              0\n",
       "Varietal              0\n",
       "Customer_Segment      0\n",
       "Minimum Qty (kg)      0\n",
       "Origin                0\n",
       "Campaign              0\n",
       "Past Peak             0\n",
       "discount_name         0\n",
       "dtype: int64"
      ]
     },
     "execution_count": 11,
     "metadata": {},
     "output_type": "execute_result"
    }
   ],
   "source": [
    "#checking missing values\n",
    "wine_df.isnull().sum()"
   ]
  },
  {
   "cell_type": "markdown",
   "metadata": {},
   "source": [
    "> **There are no missing values in the dataset.**"
   ]
  },
  {
   "cell_type": "code",
   "execution_count": 12,
   "metadata": {},
   "outputs": [
    {
     "name": "stdout",
     "output_type": "stream",
     "text": [
      "<class 'pandas.core.frame.DataFrame'>\n",
      "RangeIndex: 324 entries, 0 to 323\n",
      "Data columns (total 11 columns):\n",
      "Customer Last Name    324 non-null object\n",
      "Offer #               324 non-null int64\n",
      "Gender                324 non-null object\n",
      "Discount              324 non-null int64\n",
      "Varietal              324 non-null object\n",
      "Customer_Segment      324 non-null object\n",
      "Minimum Qty (kg)      324 non-null int64\n",
      "Origin                324 non-null object\n",
      "Campaign              324 non-null object\n",
      "Past Peak             324 non-null bool\n",
      "discount_name         324 non-null object\n",
      "dtypes: bool(1), int64(3), object(7)\n",
      "memory usage: 25.7+ KB\n"
     ]
    }
   ],
   "source": [
    "wine_df.info()"
   ]
  },
  {
   "cell_type": "code",
   "execution_count": 13,
   "metadata": {},
   "outputs": [
    {
     "data": {
      "text/html": [
       "<div>\n",
       "<style scoped>\n",
       "    .dataframe tbody tr th:only-of-type {\n",
       "        vertical-align: middle;\n",
       "    }\n",
       "\n",
       "    .dataframe tbody tr th {\n",
       "        vertical-align: top;\n",
       "    }\n",
       "\n",
       "    .dataframe thead th {\n",
       "        text-align: right;\n",
       "    }\n",
       "</style>\n",
       "<table border=\"1\" class=\"dataframe\">\n",
       "  <thead>\n",
       "    <tr style=\"text-align: right;\">\n",
       "      <th></th>\n",
       "      <th>Offer #</th>\n",
       "      <th>Discount</th>\n",
       "      <th>Minimum Qty (kg)</th>\n",
       "    </tr>\n",
       "  </thead>\n",
       "  <tbody>\n",
       "    <tr>\n",
       "      <th>0</th>\n",
       "      <td>2</td>\n",
       "      <td>17</td>\n",
       "      <td>72</td>\n",
       "    </tr>\n",
       "    <tr>\n",
       "      <th>1</th>\n",
       "      <td>24</td>\n",
       "      <td>34</td>\n",
       "      <td>6</td>\n",
       "    </tr>\n",
       "    <tr>\n",
       "      <th>2</th>\n",
       "      <td>17</td>\n",
       "      <td>47</td>\n",
       "      <td>12</td>\n",
       "    </tr>\n",
       "    <tr>\n",
       "      <th>3</th>\n",
       "      <td>24</td>\n",
       "      <td>34</td>\n",
       "      <td>6</td>\n",
       "    </tr>\n",
       "    <tr>\n",
       "      <th>4</th>\n",
       "      <td>26</td>\n",
       "      <td>83</td>\n",
       "      <td>144</td>\n",
       "    </tr>\n",
       "  </tbody>\n",
       "</table>\n",
       "</div>"
      ],
      "text/plain": [
       "   Offer #  Discount  Minimum Qty (kg)\n",
       "0        2        17                72\n",
       "1       24        34                 6\n",
       "2       17        47                12\n",
       "3       24        34                 6\n",
       "4       26        83               144"
      ]
     },
     "execution_count": 13,
     "metadata": {},
     "output_type": "execute_result"
    }
   ],
   "source": [
    "#selecting only numeric data\n",
    "data_num=wine_df.select_dtypes(include='int64')\n",
    "data_num.head()"
   ]
  },
  {
   "cell_type": "code",
   "execution_count": null,
   "metadata": {},
   "outputs": [],
   "source": []
  },
  {
   "cell_type": "code",
   "execution_count": 14,
   "metadata": {},
   "outputs": [
    {
     "data": {
      "text/html": [
       "<div>\n",
       "<style scoped>\n",
       "    .dataframe tbody tr th:only-of-type {\n",
       "        vertical-align: middle;\n",
       "    }\n",
       "\n",
       "    .dataframe tbody tr th {\n",
       "        vertical-align: top;\n",
       "    }\n",
       "\n",
       "    .dataframe thead th {\n",
       "        text-align: right;\n",
       "    }\n",
       "</style>\n",
       "<table border=\"1\" class=\"dataframe\">\n",
       "  <thead>\n",
       "    <tr style=\"text-align: right;\">\n",
       "      <th></th>\n",
       "      <th>Customer Last Name</th>\n",
       "      <th>Gender</th>\n",
       "      <th>Varietal</th>\n",
       "      <th>Customer_Segment</th>\n",
       "      <th>Origin</th>\n",
       "      <th>Campaign</th>\n",
       "      <th>Past Peak</th>\n",
       "      <th>discount_name</th>\n",
       "    </tr>\n",
       "  </thead>\n",
       "  <tbody>\n",
       "    <tr>\n",
       "      <th>0</th>\n",
       "      <td>Smith</td>\n",
       "      <td>Male</td>\n",
       "      <td>Pinot Noir</td>\n",
       "      <td>Segment 4</td>\n",
       "      <td>France</td>\n",
       "      <td>January</td>\n",
       "      <td>False</td>\n",
       "      <td>Up to 30</td>\n",
       "    </tr>\n",
       "    <tr>\n",
       "      <th>1</th>\n",
       "      <td>Smith</td>\n",
       "      <td>Male</td>\n",
       "      <td>Pinot Noir</td>\n",
       "      <td>Segment 4</td>\n",
       "      <td>Italy</td>\n",
       "      <td>September</td>\n",
       "      <td>False</td>\n",
       "      <td>[30,60]</td>\n",
       "    </tr>\n",
       "    <tr>\n",
       "      <th>2</th>\n",
       "      <td>Johnson</td>\n",
       "      <td>Male</td>\n",
       "      <td>Pinot Noir</td>\n",
       "      <td>Segment 4</td>\n",
       "      <td>Germany</td>\n",
       "      <td>July</td>\n",
       "      <td>False</td>\n",
       "      <td>[30,60]</td>\n",
       "    </tr>\n",
       "    <tr>\n",
       "      <th>3</th>\n",
       "      <td>Johnson</td>\n",
       "      <td>Male</td>\n",
       "      <td>Pinot Noir</td>\n",
       "      <td>Segment 4</td>\n",
       "      <td>Italy</td>\n",
       "      <td>September</td>\n",
       "      <td>False</td>\n",
       "      <td>[30,60]</td>\n",
       "    </tr>\n",
       "    <tr>\n",
       "      <th>4</th>\n",
       "      <td>Johnson</td>\n",
       "      <td>Male</td>\n",
       "      <td>Pinot Noir</td>\n",
       "      <td>Segment 4</td>\n",
       "      <td>Australia</td>\n",
       "      <td>October</td>\n",
       "      <td>False</td>\n",
       "      <td>More than 60</td>\n",
       "    </tr>\n",
       "  </tbody>\n",
       "</table>\n",
       "</div>"
      ],
      "text/plain": [
       "  Customer Last Name Gender    Varietal Customer_Segment     Origin  \\\n",
       "0              Smith   Male  Pinot Noir        Segment 4     France   \n",
       "1              Smith   Male  Pinot Noir        Segment 4      Italy   \n",
       "2            Johnson   Male  Pinot Noir        Segment 4    Germany   \n",
       "3            Johnson   Male  Pinot Noir        Segment 4      Italy   \n",
       "4            Johnson   Male  Pinot Noir        Segment 4  Australia   \n",
       "\n",
       "    Campaign  Past Peak discount_name  \n",
       "0    January      False      Up to 30  \n",
       "1  September      False       [30,60]  \n",
       "2       July      False       [30,60]  \n",
       "3  September      False       [30,60]  \n",
       "4    October      False  More than 60  "
      ]
     },
     "execution_count": 14,
     "metadata": {},
     "output_type": "execute_result"
    }
   ],
   "source": [
    "#selecting numeric and bool data\n",
    "data_str=wine_df.select_dtypes(exclude='int64')\n",
    "data_str.head()"
   ]
  },
  {
   "cell_type": "code",
   "execution_count": 15,
   "metadata": {},
   "outputs": [
    {
     "data": {
      "text/html": [
       "<div>\n",
       "<style scoped>\n",
       "    .dataframe tbody tr th:only-of-type {\n",
       "        vertical-align: middle;\n",
       "    }\n",
       "\n",
       "    .dataframe tbody tr th {\n",
       "        vertical-align: top;\n",
       "    }\n",
       "\n",
       "    .dataframe thead th {\n",
       "        text-align: right;\n",
       "    }\n",
       "</style>\n",
       "<table border=\"1\" class=\"dataframe\">\n",
       "  <thead>\n",
       "    <tr style=\"text-align: right;\">\n",
       "      <th></th>\n",
       "      <th>Offer #</th>\n",
       "      <th>Discount</th>\n",
       "      <th>Minimum Qty (kg)</th>\n",
       "    </tr>\n",
       "  </thead>\n",
       "  <tbody>\n",
       "    <tr>\n",
       "      <th>count</th>\n",
       "      <td>324.000000</td>\n",
       "      <td>324.000000</td>\n",
       "      <td>324.000000</td>\n",
       "    </tr>\n",
       "    <tr>\n",
       "      <th>mean</th>\n",
       "      <td>17.012346</td>\n",
       "      <td>59.481481</td>\n",
       "      <td>58.407407</td>\n",
       "    </tr>\n",
       "    <tr>\n",
       "      <th>std</th>\n",
       "      <td>9.703332</td>\n",
       "      <td>20.327877</td>\n",
       "      <td>49.741444</td>\n",
       "    </tr>\n",
       "    <tr>\n",
       "      <th>min</th>\n",
       "      <td>1.000000</td>\n",
       "      <td>17.000000</td>\n",
       "      <td>6.000000</td>\n",
       "    </tr>\n",
       "    <tr>\n",
       "      <th>25%</th>\n",
       "      <td>8.000000</td>\n",
       "      <td>45.000000</td>\n",
       "      <td>6.000000</td>\n",
       "    </tr>\n",
       "    <tr>\n",
       "      <th>50%</th>\n",
       "      <td>18.000000</td>\n",
       "      <td>56.000000</td>\n",
       "      <td>72.000000</td>\n",
       "    </tr>\n",
       "    <tr>\n",
       "      <th>75%</th>\n",
       "      <td>26.000000</td>\n",
       "      <td>83.000000</td>\n",
       "      <td>72.000000</td>\n",
       "    </tr>\n",
       "    <tr>\n",
       "      <th>max</th>\n",
       "      <td>32.000000</td>\n",
       "      <td>89.000000</td>\n",
       "      <td>144.000000</td>\n",
       "    </tr>\n",
       "  </tbody>\n",
       "</table>\n",
       "</div>"
      ],
      "text/plain": [
       "          Offer #    Discount  Minimum Qty (kg)\n",
       "count  324.000000  324.000000        324.000000\n",
       "mean    17.012346   59.481481         58.407407\n",
       "std      9.703332   20.327877         49.741444\n",
       "min      1.000000   17.000000          6.000000\n",
       "25%      8.000000   45.000000          6.000000\n",
       "50%     18.000000   56.000000         72.000000\n",
       "75%     26.000000   83.000000         72.000000\n",
       "max     32.000000   89.000000        144.000000"
      ]
     },
     "execution_count": 15,
     "metadata": {},
     "output_type": "execute_result"
    }
   ],
   "source": [
    "data_num.describe()"
   ]
  },
  {
   "cell_type": "markdown",
   "metadata": {},
   "source": [
    "> There is no meaning calculation descriptive stat for **\"Offer #\"** column, therefore let's drop it."
   ]
  },
  {
   "cell_type": "code",
   "execution_count": 16,
   "metadata": {},
   "outputs": [
    {
     "name": "stderr",
     "output_type": "stream",
     "text": [
      "C:\\Users\\psargsyan\\Anaconda3\\lib\\site-packages\\pandas\\core\\frame.py:3697: SettingWithCopyWarning: \n",
      "A value is trying to be set on a copy of a slice from a DataFrame\n",
      "\n",
      "See the caveats in the documentation: http://pandas.pydata.org/pandas-docs/stable/indexing.html#indexing-view-versus-copy\n",
      "  errors=errors)\n"
     ]
    },
    {
     "data": {
      "text/html": [
       "<div>\n",
       "<style scoped>\n",
       "    .dataframe tbody tr th:only-of-type {\n",
       "        vertical-align: middle;\n",
       "    }\n",
       "\n",
       "    .dataframe tbody tr th {\n",
       "        vertical-align: top;\n",
       "    }\n",
       "\n",
       "    .dataframe thead th {\n",
       "        text-align: right;\n",
       "    }\n",
       "</style>\n",
       "<table border=\"1\" class=\"dataframe\">\n",
       "  <thead>\n",
       "    <tr style=\"text-align: right;\">\n",
       "      <th></th>\n",
       "      <th>Discount</th>\n",
       "      <th>Minimum Qty (kg)</th>\n",
       "    </tr>\n",
       "  </thead>\n",
       "  <tbody>\n",
       "    <tr>\n",
       "      <th>0</th>\n",
       "      <td>17</td>\n",
       "      <td>72</td>\n",
       "    </tr>\n",
       "    <tr>\n",
       "      <th>1</th>\n",
       "      <td>34</td>\n",
       "      <td>6</td>\n",
       "    </tr>\n",
       "    <tr>\n",
       "      <th>2</th>\n",
       "      <td>47</td>\n",
       "      <td>12</td>\n",
       "    </tr>\n",
       "    <tr>\n",
       "      <th>3</th>\n",
       "      <td>34</td>\n",
       "      <td>6</td>\n",
       "    </tr>\n",
       "    <tr>\n",
       "      <th>4</th>\n",
       "      <td>83</td>\n",
       "      <td>144</td>\n",
       "    </tr>\n",
       "  </tbody>\n",
       "</table>\n",
       "</div>"
      ],
      "text/plain": [
       "   Discount  Minimum Qty (kg)\n",
       "0        17                72\n",
       "1        34                 6\n",
       "2        47                12\n",
       "3        34                 6\n",
       "4        83               144"
      ]
     },
     "execution_count": 16,
     "metadata": {},
     "output_type": "execute_result"
    }
   ],
   "source": [
    "data_num.drop('Offer #',axis=1,inplace=True)\n",
    "data_num.head()"
   ]
  },
  {
   "cell_type": "code",
   "execution_count": 17,
   "metadata": {
    "scrolled": false
   },
   "outputs": [
    {
     "name": "stdout",
     "output_type": "stream",
     "text": [
      "\n",
      " Customer Last Name \n",
      "\n",
      "Sanders      9\n",
      "Fisher       7\n",
      "Miller       7\n",
      "Sanchez      7\n",
      "Morales      6\n",
      "Harris       6\n",
      "Rogers       6\n",
      "Thomas       6\n",
      "Peterson     6\n",
      "Young        6\n",
      "Lopez        5\n",
      "Butler       5\n",
      "James        5\n",
      "Parker       5\n",
      "Hughes       5\n",
      "Foster       5\n",
      "Lee          5\n",
      "Jackson      5\n",
      "Kelly        4\n",
      "Gutierrez    4\n",
      "White        4\n",
      "Clark        4\n",
      "Diaz         4\n",
      "Carter       4\n",
      "Barnes       4\n",
      "Taylor       4\n",
      "King         4\n",
      "Price        4\n",
      "Wright       4\n",
      "Wood         4\n",
      "            ..\n",
      "Moore        2\n",
      "Morgan       2\n",
      "Gonzalez     2\n",
      "Nguyen       2\n",
      "Murphy       2\n",
      "Rodriguez    2\n",
      "Edwards      2\n",
      "Hall         2\n",
      "Smith        2\n",
      "Bennett      2\n",
      "Garcia       2\n",
      "Ross         2\n",
      "Bailey       2\n",
      "Anderson     2\n",
      "Rivera       2\n",
      "Perez        2\n",
      "Watson       2\n",
      "Jenkins      2\n",
      "Mitchell     2\n",
      "Reed         2\n",
      "Flores       2\n",
      "Powell       1\n",
      "Ramirez      1\n",
      "Jones        1\n",
      "Roberts      1\n",
      "Ward         1\n",
      "Torres       1\n",
      "Ortiz        1\n",
      "Green        1\n",
      "Russell      1\n",
      "Name: Customer Last Name, Length: 100, dtype: int64\n",
      "\n",
      " Gender \n",
      "\n",
      "Female    162\n",
      "Male      162\n",
      "Name: Gender, dtype: int64\n",
      "\n",
      " Varietal \n",
      "\n",
      "Champagne             81\n",
      "Pinot Noir            44\n",
      "Prosecco              43\n",
      "Espumante             40\n",
      "Malbec                32\n",
      "Cabernet Sauvignon    32\n",
      "Merlot                20\n",
      "Pinot Grigio          17\n",
      "Chardonnay            15\n",
      "Name: Varietal, dtype: int64\n",
      "\n",
      " Customer_Segment \n",
      "\n",
      "Segment 1    124\n",
      "Segment 2     96\n",
      "Segment 3     73\n",
      "Segment 4     31\n",
      "Name: Customer_Segment, dtype: int64\n",
      "\n",
      " Origin \n",
      "\n",
      "France          128\n",
      "Australia        39\n",
      "Chile            37\n",
      "Oregon           26\n",
      "South Africa     25\n",
      "Italy            24\n",
      "California       16\n",
      "Germany          16\n",
      "New Zealand      13\n",
      "Name: Origin, dtype: int64\n",
      "\n",
      " Campaign \n",
      "\n",
      "March        51\n",
      "December     43\n",
      "August       31\n",
      "October      30\n",
      "July         26\n",
      "May          24\n",
      "November     23\n",
      "February     22\n",
      "June         20\n",
      "January      20\n",
      "September    17\n",
      "April        17\n",
      "Name: Campaign, dtype: int64\n",
      "\n",
      " Past Peak \n",
      "\n",
      "False    267\n",
      "True      57\n",
      "Name: Past Peak, dtype: int64\n",
      "\n",
      " discount_name \n",
      "\n",
      "[30,60]         174\n",
      "More than 60    134\n",
      "Up to 30         16\n",
      "Name: discount_name, dtype: int64\n"
     ]
    }
   ],
   "source": [
    "#value counts for all object-type variable\n",
    "for i in data_str.columns:\n",
    "    print('\\n',i,'\\n')\n",
    "    print(data_str[i].value_counts())"
   ]
  },
  {
   "cell_type": "code",
   "execution_count": 18,
   "metadata": {},
   "outputs": [
    {
     "data": {
      "text/html": [
       "<div>\n",
       "<style scoped>\n",
       "    .dataframe tbody tr th:only-of-type {\n",
       "        vertical-align: middle;\n",
       "    }\n",
       "\n",
       "    .dataframe tbody tr th {\n",
       "        vertical-align: top;\n",
       "    }\n",
       "\n",
       "    .dataframe thead th {\n",
       "        text-align: right;\n",
       "    }\n",
       "</style>\n",
       "<table border=\"1\" class=\"dataframe\">\n",
       "  <thead>\n",
       "    <tr style=\"text-align: right;\">\n",
       "      <th></th>\n",
       "      <th>Discount</th>\n",
       "      <th>Minimum Qty (kg)</th>\n",
       "    </tr>\n",
       "  </thead>\n",
       "  <tbody>\n",
       "    <tr>\n",
       "      <th>0</th>\n",
       "      <td>17</td>\n",
       "      <td>72</td>\n",
       "    </tr>\n",
       "    <tr>\n",
       "      <th>1</th>\n",
       "      <td>34</td>\n",
       "      <td>6</td>\n",
       "    </tr>\n",
       "    <tr>\n",
       "      <th>2</th>\n",
       "      <td>47</td>\n",
       "      <td>12</td>\n",
       "    </tr>\n",
       "    <tr>\n",
       "      <th>3</th>\n",
       "      <td>34</td>\n",
       "      <td>6</td>\n",
       "    </tr>\n",
       "    <tr>\n",
       "      <th>4</th>\n",
       "      <td>83</td>\n",
       "      <td>144</td>\n",
       "    </tr>\n",
       "  </tbody>\n",
       "</table>\n",
       "</div>"
      ],
      "text/plain": [
       "   Discount  Minimum Qty (kg)\n",
       "0        17                72\n",
       "1        34                 6\n",
       "2        47                12\n",
       "3        34                 6\n",
       "4        83               144"
      ]
     },
     "execution_count": 18,
     "metadata": {},
     "output_type": "execute_result"
    }
   ],
   "source": [
    "data_num.head()"
   ]
  },
  {
   "cell_type": "code",
   "execution_count": 19,
   "metadata": {},
   "outputs": [
    {
     "data": {
      "text/html": [
       "<div>\n",
       "<style scoped>\n",
       "    .dataframe tbody tr th:only-of-type {\n",
       "        vertical-align: middle;\n",
       "    }\n",
       "\n",
       "    .dataframe tbody tr th {\n",
       "        vertical-align: top;\n",
       "    }\n",
       "\n",
       "    .dataframe thead th {\n",
       "        text-align: right;\n",
       "    }\n",
       "</style>\n",
       "<table border=\"1\" class=\"dataframe\">\n",
       "  <thead>\n",
       "    <tr style=\"text-align: right;\">\n",
       "      <th></th>\n",
       "      <th>Customer Last Name</th>\n",
       "      <th>Gender</th>\n",
       "      <th>Varietal</th>\n",
       "      <th>Customer_Segment</th>\n",
       "      <th>Origin</th>\n",
       "      <th>Campaign</th>\n",
       "      <th>Past Peak</th>\n",
       "      <th>discount_name</th>\n",
       "    </tr>\n",
       "  </thead>\n",
       "  <tbody>\n",
       "    <tr>\n",
       "      <th>0</th>\n",
       "      <td>Smith</td>\n",
       "      <td>Male</td>\n",
       "      <td>Pinot Noir</td>\n",
       "      <td>Segment 4</td>\n",
       "      <td>France</td>\n",
       "      <td>January</td>\n",
       "      <td>False</td>\n",
       "      <td>Up to 30</td>\n",
       "    </tr>\n",
       "    <tr>\n",
       "      <th>1</th>\n",
       "      <td>Smith</td>\n",
       "      <td>Male</td>\n",
       "      <td>Pinot Noir</td>\n",
       "      <td>Segment 4</td>\n",
       "      <td>Italy</td>\n",
       "      <td>September</td>\n",
       "      <td>False</td>\n",
       "      <td>[30,60]</td>\n",
       "    </tr>\n",
       "    <tr>\n",
       "      <th>2</th>\n",
       "      <td>Johnson</td>\n",
       "      <td>Male</td>\n",
       "      <td>Pinot Noir</td>\n",
       "      <td>Segment 4</td>\n",
       "      <td>Germany</td>\n",
       "      <td>July</td>\n",
       "      <td>False</td>\n",
       "      <td>[30,60]</td>\n",
       "    </tr>\n",
       "  </tbody>\n",
       "</table>\n",
       "</div>"
      ],
      "text/plain": [
       "  Customer Last Name Gender    Varietal Customer_Segment   Origin   Campaign  \\\n",
       "0              Smith   Male  Pinot Noir        Segment 4   France    January   \n",
       "1              Smith   Male  Pinot Noir        Segment 4    Italy  September   \n",
       "2            Johnson   Male  Pinot Noir        Segment 4  Germany       July   \n",
       "\n",
       "   Past Peak discount_name  \n",
       "0      False      Up to 30  \n",
       "1      False       [30,60]  \n",
       "2      False       [30,60]  "
      ]
     },
     "execution_count": 19,
     "metadata": {},
     "output_type": "execute_result"
    }
   ],
   "source": [
    "data_str.head(3)"
   ]
  },
  {
   "cell_type": "markdown",
   "metadata": {},
   "source": [
    "> You can use **<code>join()</code>** function to join two dataset. Details here: https://pandas.pydata.org/docs/reference/api/pandas.DataFrame.join.html"
   ]
  },
  {
   "cell_type": "code",
   "execution_count": 20,
   "metadata": {},
   "outputs": [],
   "source": [
    "#join function\n",
    "wine_df_join=data_num.join(data_str,how='outer')"
   ]
  },
  {
   "cell_type": "code",
   "execution_count": 21,
   "metadata": {},
   "outputs": [
    {
     "data": {
      "text/html": [
       "<div>\n",
       "<style scoped>\n",
       "    .dataframe tbody tr th:only-of-type {\n",
       "        vertical-align: middle;\n",
       "    }\n",
       "\n",
       "    .dataframe tbody tr th {\n",
       "        vertical-align: top;\n",
       "    }\n",
       "\n",
       "    .dataframe thead th {\n",
       "        text-align: right;\n",
       "    }\n",
       "</style>\n",
       "<table border=\"1\" class=\"dataframe\">\n",
       "  <thead>\n",
       "    <tr style=\"text-align: right;\">\n",
       "      <th></th>\n",
       "      <th>Discount</th>\n",
       "      <th>Minimum Qty (kg)</th>\n",
       "      <th>Customer Last Name</th>\n",
       "      <th>Gender</th>\n",
       "      <th>Varietal</th>\n",
       "      <th>Customer_Segment</th>\n",
       "      <th>Origin</th>\n",
       "      <th>Campaign</th>\n",
       "      <th>Past Peak</th>\n",
       "      <th>discount_name</th>\n",
       "    </tr>\n",
       "  </thead>\n",
       "  <tbody>\n",
       "    <tr>\n",
       "      <th>0</th>\n",
       "      <td>17</td>\n",
       "      <td>72</td>\n",
       "      <td>Smith</td>\n",
       "      <td>Male</td>\n",
       "      <td>Pinot Noir</td>\n",
       "      <td>Segment 4</td>\n",
       "      <td>France</td>\n",
       "      <td>January</td>\n",
       "      <td>False</td>\n",
       "      <td>Up to 30</td>\n",
       "    </tr>\n",
       "    <tr>\n",
       "      <th>1</th>\n",
       "      <td>34</td>\n",
       "      <td>6</td>\n",
       "      <td>Smith</td>\n",
       "      <td>Male</td>\n",
       "      <td>Pinot Noir</td>\n",
       "      <td>Segment 4</td>\n",
       "      <td>Italy</td>\n",
       "      <td>September</td>\n",
       "      <td>False</td>\n",
       "      <td>[30,60]</td>\n",
       "    </tr>\n",
       "    <tr>\n",
       "      <th>2</th>\n",
       "      <td>47</td>\n",
       "      <td>12</td>\n",
       "      <td>Johnson</td>\n",
       "      <td>Male</td>\n",
       "      <td>Pinot Noir</td>\n",
       "      <td>Segment 4</td>\n",
       "      <td>Germany</td>\n",
       "      <td>July</td>\n",
       "      <td>False</td>\n",
       "      <td>[30,60]</td>\n",
       "    </tr>\n",
       "    <tr>\n",
       "      <th>3</th>\n",
       "      <td>34</td>\n",
       "      <td>6</td>\n",
       "      <td>Johnson</td>\n",
       "      <td>Male</td>\n",
       "      <td>Pinot Noir</td>\n",
       "      <td>Segment 4</td>\n",
       "      <td>Italy</td>\n",
       "      <td>September</td>\n",
       "      <td>False</td>\n",
       "      <td>[30,60]</td>\n",
       "    </tr>\n",
       "    <tr>\n",
       "      <th>4</th>\n",
       "      <td>83</td>\n",
       "      <td>144</td>\n",
       "      <td>Johnson</td>\n",
       "      <td>Male</td>\n",
       "      <td>Pinot Noir</td>\n",
       "      <td>Segment 4</td>\n",
       "      <td>Australia</td>\n",
       "      <td>October</td>\n",
       "      <td>False</td>\n",
       "      <td>More than 60</td>\n",
       "    </tr>\n",
       "  </tbody>\n",
       "</table>\n",
       "</div>"
      ],
      "text/plain": [
       "   Discount  Minimum Qty (kg) Customer Last Name Gender    Varietal  \\\n",
       "0        17                72              Smith   Male  Pinot Noir   \n",
       "1        34                 6              Smith   Male  Pinot Noir   \n",
       "2        47                12            Johnson   Male  Pinot Noir   \n",
       "3        34                 6            Johnson   Male  Pinot Noir   \n",
       "4        83               144            Johnson   Male  Pinot Noir   \n",
       "\n",
       "  Customer_Segment     Origin   Campaign  Past Peak discount_name  \n",
       "0        Segment 4     France    January      False      Up to 30  \n",
       "1        Segment 4      Italy  September      False       [30,60]  \n",
       "2        Segment 4    Germany       July      False       [30,60]  \n",
       "3        Segment 4      Italy  September      False       [30,60]  \n",
       "4        Segment 4  Australia    October      False  More than 60  "
      ]
     },
     "execution_count": 21,
     "metadata": {},
     "output_type": "execute_result"
    }
   ],
   "source": [
    "wine_df_join.head()"
   ]
  },
  {
   "cell_type": "markdown",
   "metadata": {},
   "source": [
    "# Visualization"
   ]
  },
  {
   "cell_type": "markdown",
   "metadata": {},
   "source": [
    "## Bar Chart"
   ]
  },
  {
   "cell_type": "code",
   "execution_count": 22,
   "metadata": {},
   "outputs": [
    {
     "data": {
      "text/plain": [
       "Varietal\n",
       "Cabernet Sauvignon    51.625000\n",
       "Champagne             72.086420\n",
       "Chardonnay            51.000000\n",
       "Espumante             44.800000\n",
       "Malbec                54.625000\n",
       "Merlot                63.700000\n",
       "Pinot Grigio          87.000000\n",
       "Pinot Noir            48.909091\n",
       "Prosecco              59.790698\n",
       "Name: Discount, dtype: float64"
      ]
     },
     "execution_count": 22,
     "metadata": {},
     "output_type": "execute_result"
    }
   ],
   "source": [
    " wine_df_join.groupby('Varietal')['Discount'].mean()"
   ]
  },
  {
   "cell_type": "code",
   "execution_count": 23,
   "metadata": {},
   "outputs": [
    {
     "data": {
      "image/png": "[encoded data removed]",
      "text/plain": [
       "<Figure size 936x576 with 1 Axes>"
      ]
     },
     "metadata": {},
     "output_type": "display_data"
    }
   ],
   "source": [
    "sns.set_style('darkgrid')\n",
    "\n",
    "plt.figure(figsize=(13,8))\n",
    "\n",
    "plt.bar(wine_df_join.Varietal.unique(),\n",
    "        wine_df_join.groupby('Varietal')['Discount'].mean())\n",
    "\n",
    "plt.show()"
   ]
  },
  {
   "cell_type": "code",
   "execution_count": 24,
   "metadata": {},
   "outputs": [
    {
     "data": {
      "image/png": "[encoded data removed]",
      "text/plain": [
       "<Figure size 936x576 with 1 Axes>"
      ]
     },
     "metadata": {},
     "output_type": "display_data"
    }
   ],
   "source": [
    "plt.figure(figsize=(13,8))\n",
    "\n",
    "sns.barplot(wine_df_join.Varietal.unique(),\n",
    "           wine_df.Varietal.value_counts())\n",
    "\n",
    "plt.show()"
   ]
  },
  {
   "cell_type": "markdown",
   "metadata": {},
   "source": [
    "## Scatter Plot"
   ]
  },
  {
   "cell_type": "code",
   "execution_count": 25,
   "metadata": {},
   "outputs": [
    {
     "data": {
      "image/png": "[encoded data removed]",
      "text/plain": [
       "<Figure size 936x576 with 1 Axes>"
      ]
     },
     "metadata": {},
     "output_type": "display_data"
    }
   ],
   "source": [
    "plt.figure(figsize=(13,8))\n",
    "sns.scatterplot(data_num.Discount,\n",
    "               data_num['Minimum Qty (kg)'])\n",
    "plt.show()"
   ]
  },
  {
   "cell_type": "markdown",
   "metadata": {},
   "source": [
    "# Histograms\n"
   ]
  },
  {
   "cell_type": "code",
   "execution_count": 26,
   "metadata": {},
   "outputs": [
    {
     "name": "stderr",
     "output_type": "stream",
     "text": [
      "C:\\Users\\psargsyan\\Anaconda3\\lib\\site-packages\\scipy\\stats\\stats.py:1713: FutureWarning: Using a non-tuple sequence for multidimensional indexing is deprecated; use `arr[tuple(seq)]` instead of `arr[seq]`. In the future this will be interpreted as an array index, `arr[np.array(seq)]`, which will result either in an error or a different result.\n",
      "  return np.add.reduce(sorted[indexer] * weights, axis=axis) / sumval\n"
     ]
    },
    {
     "data": {
      "image/png": "[encoded data removed]",
      "text/plain": [
       "<Figure size 432x288 with 1 Axes>"
      ]
     },
     "metadata": {},
     "output_type": "display_data"
    }
   ],
   "source": [
    "sns.distplot(data_num.Discount)\n",
    "plt.show()"
   ]
  },
  {
   "cell_type": "code",
   "execution_count": 27,
   "metadata": {},
   "outputs": [
    {
     "data": {
      "image/png": "[encoded data removed]",
      "text/plain": [
       "<Figure size 432x288 with 1 Axes>"
      ]
     },
     "metadata": {},
     "output_type": "display_data"
    },
    {
     "data": {
      "image/png": "[encoded data removed]",
      "text/plain": [
       "<Figure size 432x288 with 1 Axes>"
      ]
     },
     "metadata": {},
     "output_type": "display_data"
    }
   ],
   "source": [
    "for i in data_num.columns:\n",
    "    sns.distplot(data_num[i])\n",
    "    plt.show()"
   ]
  },
  {
   "cell_type": "code",
   "execution_count": 28,
   "metadata": {},
   "outputs": [
    {
     "data": {
      "image/png": "[encoded data removed]",
      "text/plain": [
       "<Figure size 360x360 with 6 Axes>"
      ]
     },
     "metadata": {},
     "output_type": "display_data"
    }
   ],
   "source": [
    "sns.pairplot(data_num)\n",
    "plt.show()"
   ]
  },
  {
   "cell_type": "markdown",
   "metadata": {},
   "source": [
    "## Boxplot"
   ]
  },
  {
   "cell_type": "code",
   "execution_count": 29,
   "metadata": {},
   "outputs": [
    {
     "data": {
      "image/png": "[encoded data removed]",
      "text/plain": [
       "<Figure size 936x576 with 1 Axes>"
      ]
     },
     "metadata": {},
     "output_type": "display_data"
    }
   ],
   "source": [
    "plt.figure(figsize=(13,8))\n",
    "sns.boxplot(y=wine_df_join.Discount,x=wine_df_join.Varietal)\n",
    "plt.show()"
   ]
  },
  {
   "cell_type": "markdown",
   "metadata": {},
   "source": [
    "# Statistical Test"
   ]
  },
  {
   "cell_type": "code",
   "execution_count": 30,
   "metadata": {},
   "outputs": [
    {
     "data": {
      "text/html": [
       "<div>\n",
       "<style scoped>\n",
       "    .dataframe tbody tr th:only-of-type {\n",
       "        vertical-align: middle;\n",
       "    }\n",
       "\n",
       "    .dataframe tbody tr th {\n",
       "        vertical-align: top;\n",
       "    }\n",
       "\n",
       "    .dataframe thead th {\n",
       "        text-align: right;\n",
       "    }\n",
       "</style>\n",
       "<table border=\"1\" class=\"dataframe\">\n",
       "  <thead>\n",
       "    <tr style=\"text-align: right;\">\n",
       "      <th></th>\n",
       "      <th>Discount</th>\n",
       "      <th>Minimum Qty (kg)</th>\n",
       "    </tr>\n",
       "  </thead>\n",
       "  <tbody>\n",
       "    <tr>\n",
       "      <th>Discount</th>\n",
       "      <td>1.000000</td>\n",
       "      <td>0.208962</td>\n",
       "    </tr>\n",
       "    <tr>\n",
       "      <th>Minimum Qty (kg)</th>\n",
       "      <td>0.208962</td>\n",
       "      <td>1.000000</td>\n",
       "    </tr>\n",
       "  </tbody>\n",
       "</table>\n",
       "</div>"
      ],
      "text/plain": [
       "                  Discount  Minimum Qty (kg)\n",
       "Discount          1.000000          0.208962\n",
       "Minimum Qty (kg)  0.208962          1.000000"
      ]
     },
     "execution_count": 30,
     "metadata": {},
     "output_type": "execute_result"
    }
   ],
   "source": [
    "#correlation table\n",
    "data_num.corr()"
   ]
  },
  {
   "cell_type": "code",
   "execution_count": 31,
   "metadata": {},
   "outputs": [
    {
     "data": {
      "image/png": "[encoded data removed]",
      "text/plain": [
       "<Figure size 432x288 with 2 Axes>"
      ]
     },
     "metadata": {},
     "output_type": "display_data"
    }
   ],
   "source": [
    "#heatmap\n",
    "sns.heatmap(data_num.corr(),annot=True)\n",
    "plt.show()"
   ]
  },
  {
   "cell_type": "markdown",
   "metadata": {},
   "source": [
    "## pearsonr: https://docs.scipy.org/doc/scipy-0.14.0/reference/generated/scipy.stats.pearsonr.html"
   ]
  },
  {
   "cell_type": "code",
   "execution_count": 32,
   "metadata": {},
   "outputs": [
    {
     "data": {
      "text/plain": [
       "(0.20896189931265605, 0.00015144638556188587)"
      ]
     },
     "execution_count": 32,
     "metadata": {},
     "output_type": "execute_result"
    }
   ],
   "source": [
    "#correlation test\n",
    "pearsonr(data_num.Discount,data_num['Minimum Qty (kg)'])"
   ]
  },
  {
   "cell_type": "markdown",
   "metadata": {},
   "source": [
    "> First value in the output above shows corr coeff and second value is for p-value. In the example above, since p<0.05 therefore correlation between Discount and Minimum Qty is statistically significant."
   ]
  },
  {
   "cell_type": "code",
   "execution_count": 33,
   "metadata": {},
   "outputs": [
    {
     "data": {
      "text/html": [
       "<div>\n",
       "<style scoped>\n",
       "    .dataframe tbody tr th:only-of-type {\n",
       "        vertical-align: middle;\n",
       "    }\n",
       "\n",
       "    .dataframe tbody tr th {\n",
       "        vertical-align: top;\n",
       "    }\n",
       "\n",
       "    .dataframe thead th {\n",
       "        text-align: right;\n",
       "    }\n",
       "</style>\n",
       "<table border=\"1\" class=\"dataframe\">\n",
       "  <thead>\n",
       "    <tr style=\"text-align: right;\">\n",
       "      <th>Gender</th>\n",
       "      <th>Female</th>\n",
       "      <th>Male</th>\n",
       "    </tr>\n",
       "  </thead>\n",
       "  <tbody>\n",
       "    <tr>\n",
       "      <th>Discount</th>\n",
       "      <td>59.876543</td>\n",
       "      <td>59.08642</td>\n",
       "    </tr>\n",
       "    <tr>\n",
       "      <th>Minimum Qty (kg)</th>\n",
       "      <td>59.185185</td>\n",
       "      <td>57.62963</td>\n",
       "    </tr>\n",
       "  </tbody>\n",
       "</table>\n",
       "</div>"
      ],
      "text/plain": [
       "Gender               Female      Male\n",
       "Discount          59.876543  59.08642\n",
       "Minimum Qty (kg)  59.185185  57.62963"
      ]
     },
     "execution_count": 33,
     "metadata": {},
     "output_type": "execute_result"
    }
   ],
   "source": [
    "#creating pivot table\n",
    "pd.pivot_table(data=wine_df_join,columns='Gender',values=['Minimum Qty (kg)','Discount'],aggfunc='mean')"
   ]
  },
  {
   "cell_type": "code",
   "execution_count": 34,
   "metadata": {},
   "outputs": [
    {
     "data": {
      "text/plain": [
       "24    17\n",
       "25    83\n",
       "37    56\n",
       "38    48\n",
       "39    57\n",
       "Name: Discount, dtype: int64"
      ]
     },
     "execution_count": 34,
     "metadata": {},
     "output_type": "execute_result"
    }
   ],
   "source": [
    "wine_df['Discount'][wine_df['Gender']=='Female'].head()"
   ]
  },
  {
   "cell_type": "markdown",
   "metadata": {},
   "source": [
    "# Independent sample T-test"
   ]
  },
  {
   "cell_type": "markdown",
   "metadata": {},
   "source": [
    "From T-test documentation: **This is a two-sided test for the null hypothesis that 2 independent samples have identical average (expected) values. This test assumes that the populations have identical variances by default.**"
   ]
  },
  {
   "cell_type": "code",
   "execution_count": 35,
   "metadata": {},
   "outputs": [
    {
     "data": {
      "text/plain": [
       "Ttest_indResult(statistic=0.3493449018773563, pvalue=0.7270587420532792)"
      ]
     },
     "execution_count": 35,
     "metadata": {},
     "output_type": "execute_result"
    }
   ],
   "source": [
    "ttest_ind(wine_df['Discount'][wine_df['Gender']=='Female'], #Discount for Female customers\n",
    "          wine_df['Discount'][wine_df['Gender']=='Male'],  #Discount for Male customers\n",
    "          equal_var=True #Defining whether variances are equal or not\n",
    ")"
   ]
  },
  {
   "cell_type": "markdown",
   "metadata": {},
   "source": [
    "> **The results above show that average Discount is statistically significantly different between male and female customers.**"
   ]
  },
  {
   "cell_type": "code",
   "execution_count": 36,
   "metadata": {},
   "outputs": [
    {
     "name": "stdout",
     "output_type": "stream",
     "text": [
      "Discount ---- Ttest_indResult(statistic=0.3493449018773563, pvalue=0.7270587420532792)\n",
      "Minimum Qty (kg) ---- Ttest_indResult(statistic=0.2810538816316087, pvalue=0.7788495822610434)\n"
     ]
    }
   ],
   "source": [
    "for i in data_num.columns:\n",
    "    print(i, '----', ttest_ind(wine_df[i][wine_df['Gender']=='Female'],\n",
    "          wine_df[i][wine_df['Gender']=='Male']))"
   ]
  },
  {
   "cell_type": "markdown",
   "metadata": {},
   "source": [
    "> Levene's test should be used to check whether the variances between two sample are equal or not. The Levene test tests the **null hypothesis that all input samples are from populations with equal variances.**"
   ]
  },
  {
   "cell_type": "code",
   "execution_count": 37,
   "metadata": {},
   "outputs": [
    {
     "data": {
      "text/plain": [
       "LeveneResult(statistic=0.8097998601665954, pvalue=0.3688519181536686)"
      ]
     },
     "execution_count": 37,
     "metadata": {},
     "output_type": "execute_result"
    }
   ],
   "source": [
    "levene(wine_df['Discount'][wine_df['Gender']=='Female'],\n",
    "          wine_df['Discount'][wine_df['Gender']=='Male'])"
   ]
  },
  {
   "cell_type": "markdown",
   "metadata": {},
   "source": [
    "> **The result above indicates that we can accept null hypotheses, therefore there is NO stat significant difference between variances of discount for male and female customers.**"
   ]
  },
  {
   "cell_type": "markdown",
   "metadata": {},
   "source": [
    "## One-Way ANOVA"
   ]
  },
  {
   "cell_type": "markdown",
   "metadata": {},
   "source": [
    "**From One-Way ANOVA Scipy Documentation: The one-way ANOVA tests the null hypothesis that two or more groups have the same population mean. The test is applied to samples from two or more groups, possibly with differing sizes.**"
   ]
  },
  {
   "cell_type": "code",
   "execution_count": 38,
   "metadata": {},
   "outputs": [
    {
     "data": {
      "text/plain": [
       "F_onewayResult(statistic=28.03200050009234, pvalue=6.0178135475001005e-12)"
      ]
     },
     "execution_count": 38,
     "metadata": {},
     "output_type": "execute_result"
    }
   ],
   "source": [
    "f_oneway(wine_df['Minimum Qty (kg)'][wine_df['discount_name']=='Up to 30'],\n",
    "        wine_df['Minimum Qty (kg)'][wine_df['discount_name']=='[30,60]'],\n",
    "        wine_df['Minimum Qty (kg)'][wine_df['discount_name']=='More than 60']\n",
    "        )"
   ]
  },
  {
   "cell_type": "markdown",
   "metadata": {},
   "source": [
    "> **The results above indicate that average min quantity is stat significantly different between discount ranges.**"
   ]
  },
  {
   "cell_type": "code",
   "execution_count": 39,
   "metadata": {},
   "outputs": [
    {
     "data": {
      "text/plain": [
       "LeveneResult(statistic=2.1276213771479866, pvalue=0.12079713843119513)"
      ]
     },
     "execution_count": 39,
     "metadata": {},
     "output_type": "execute_result"
    }
   ],
   "source": [
    "levene(wine_df['Minimum Qty (kg)'][wine_df['discount_name']=='Up to 30'],\n",
    "        wine_df['Minimum Qty (kg)'][wine_df['discount_name']=='[30,60]'],\n",
    "        wine_df['Minimum Qty (kg)'][wine_df['discount_name']=='More than 60'])"
   ]
  },
  {
   "cell_type": "markdown",
   "metadata": {},
   "source": [
    "> **Levene's test results show that p is more than 0.05, therefore there is NO stat significant difference between variances of Minimum quantity by discount ranges.**"
   ]
  },
  {
   "cell_type": "code",
   "execution_count": 40,
   "metadata": {},
   "outputs": [
    {
     "name": "stdout",
     "output_type": "stream",
     "text": [
      "Discount - LeveneResult(statistic=7.595661157511225, pvalue=0.0005983076494783423)\n",
      "Minimum Qty (kg) - LeveneResult(statistic=2.1276213771479866, pvalue=0.12079713843119513)\n"
     ]
    }
   ],
   "source": [
    "for i in data_num.columns:\n",
    "    print(i,'-',levene(wine_df[i][wine_df['discount_name']=='Up to 30'],\n",
    "        wine_df[i][wine_df['discount_name']=='[30,60]'],\n",
    "        wine_df[i][wine_df['discount_name']=='More than 60']))"
   ]
  },
  {
   "cell_type": "code",
   "execution_count": 41,
   "metadata": {},
   "outputs": [
    {
     "name": "stdout",
     "output_type": "stream",
     "text": [
      "Discount   F_onewayResult(statistic=777.0575589541559, pvalue=9.398836351724517e-124)\n",
      "Minimum Qty (kg)   F_onewayResult(statistic=28.03200050009234, pvalue=6.0178135475001005e-12)\n"
     ]
    }
   ],
   "source": [
    "for i in data_num.columns:\n",
    "    print(i,' ',f_oneway(wine_df[i][wine_df['discount_name']=='Up to 30'],\n",
    "        wine_df[i][wine_df['discount_name']=='[30,60]'],\n",
    "        wine_df[i][wine_df['discount_name']=='More than 60']\n",
    "        ))"
   ]
  }
 ],
 "metadata": {
  "kernelspec": {
   "display_name": "Python 3",
   "language": "python",
   "name": "python3"
  },
  "language_info": {
   "codemirror_mode": {
    "name": "ipython",
    "version": 3
   },
   "file_extension": ".py",
   "mimetype": "text/x-python",
   "name": "python",
   "nbconvert_exporter": "python",
   "pygments_lexer": "ipython3",
   "version": "3.7.1"
  }
 },
 "nbformat": 4,
 "nbformat_minor": 2
}
