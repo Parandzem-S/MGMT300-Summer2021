{
 "cells": [
  {
   "cell_type": "markdown",
   "metadata": {},
   "source": [
    "# Class 7. Data Visulization, Reading Data from Web, Interactive Plotting"
   ]
  },
  {
   "cell_type": "markdown",
   "metadata": {},
   "source": [
    "In these notebook the following topics are covered:\n",
    "- **Reading data** by using <code>pandas</code> functions, \n",
    "- **Exploring dataframe** that was read by doing the following: \n",
    "    - Identifying information the data contains: name of columns, shape of data, etc.\n",
    "    - Identifying missing values in the dataset: how many columns have missing values, number of missing values in each column, etc.\n",
    "    - Dropping the columns that have missing values,\n",
    "    - Dropping the rows that have at least one missing value,\n",
    "    - Creating a dataset from only numeric variables, and creating a dataset from only string variables.\n",
    "    - Visualising Dataset\n",
    "- **Visualising data** by using functions from <code>matplotlib</code> and <code>seaborn</code> modules\n",
    "- **Reading data directly from web**: from *Quandl* and from *Yahoo Finance*\n",
    "- **Interactive Plotting** by using <code>plotly</code> module\n"
   ]
  },
  {
   "cell_type": "markdown",
   "metadata": {},
   "source": [
    "> You need to install <code>quandl</code>, <code>pandas_datareader</code>,<code>plotly</code> modules before importing them. If you are installing these modules through *Command Prompt/Anaconda Prompt*, use the following code - <code>pip install quandl</code>, if you are installing them inside Jupyter Notebook, use the following code: <code>!pip install quandl</code>."
   ]
  },
  {
   "cell_type": "markdown",
   "metadata": {
    "scrolled": false
   },
   "source": [
    "*In Jupyter Notebook, run the following lines of codes before starting using plotly, quandl, pandas_datareader modules:*\n",
    "\n",
    ">  - !pip install quandl  \n",
    ">  - !pip install plotly \n",
    ">  - !pip install pandas_datareader "
   ]
  },
  {
   "cell_type": "markdown",
   "metadata": {},
   "source": [
    "**! Note** Before starting coding, always make sure to import libraries in the beginning of your script"
   ]
  },
  {
   "cell_type": "code",
   "execution_count": 1,
   "metadata": {},
   "outputs": [
    {
     "data": {
      "text/html": [
       "        <script type=\"text/javascript\">\n",
       "        window.PlotlyConfig = {MathJaxConfig: 'local'};\n",
       "        if (window.MathJax) {MathJax.Hub.Config({SVG: {font: \"STIX-Web\"}});}\n",
       "        if (typeof require !== 'undefined') {\n",
       "        require.undef(\"plotly\");\n",
       "        requirejs.config({\n",
       "            paths: {\n",
       "                'plotly': ['https://cdn.plot.ly/plotly-latest.min']\n",
       "            }\n",
       "        });\n",
       "        require(['plotly'], function(Plotly) {\n",
       "            window._Plotly = Plotly;\n",
       "        });\n",
       "        }\n",
       "        </script>\n",
       "        "
      ]
     },
     "metadata": {},
     "output_type": "display_data"
    }
   ],
   "source": [
    "import pandas as pd #for reading and working with data\n",
    "import matplotlib.pyplot as plt #for visuals\n",
    "import seaborn as sns #for visuals\n",
    "import numpy as np #for doing math/stat calculations, working with arrays\n",
    "\n",
    "import quandl #for downloading data from Quandl website\n",
    "from pandas_datareader import data #for downloading data from Yahoo Finance website\n",
    "\n",
    "##plotly is for interactive plotting\n",
    "from plotly.offline import iplot\n",
    "from plotly.offline import init_notebook_mode\n",
    "import plotly.graph_objects as go #the basic charts that we will use are mainly stored under graph_objs\n",
    "init_notebook_mode(connected=True) #if we want the charts to be displayed in JN"
   ]
  },
  {
   "cell_type": "markdown",
   "metadata": {},
   "source": [
    "# Reading data"
   ]
  },
  {
   "cell_type": "code",
   "execution_count": 2,
   "metadata": {},
   "outputs": [],
   "source": [
    "data_car=pd.read_excel('car_sales.xls')"
   ]
  },
  {
   "cell_type": "markdown",
   "metadata": {},
   "source": [
    "# Exploring Data"
   ]
  },
  {
   "cell_type": "markdown",
   "metadata": {},
   "source": [
    "> Before visualising the data, first we need to explore it to understand what are the variables in data, how many missing values there are, handle missing values."
   ]
  },
  {
   "cell_type": "code",
   "execution_count": 3,
   "metadata": {},
   "outputs": [
    {
     "data": {
      "text/html": [
       "<div>\n",
       "<style scoped>\n",
       "    .dataframe tbody tr th:only-of-type {\n",
       "        vertical-align: middle;\n",
       "    }\n",
       "\n",
       "    .dataframe tbody tr th {\n",
       "        vertical-align: top;\n",
       "    }\n",
       "\n",
       "    .dataframe thead th {\n",
       "        text-align: right;\n",
       "    }\n",
       "</style>\n",
       "<table border=\"1\" class=\"dataframe\">\n",
       "  <thead>\n",
       "    <tr style=\"text-align: right;\">\n",
       "      <th></th>\n",
       "      <th>ID</th>\n",
       "      <th>manufact</th>\n",
       "      <th>type</th>\n",
       "      <th>fuel_cap</th>\n",
       "      <th>sales</th>\n",
       "      <th>model</th>\n",
       "      <th>resale</th>\n",
       "      <th>price</th>\n",
       "      <th>horsepow</th>\n",
       "      <th>width</th>\n",
       "      <th>length</th>\n",
       "    </tr>\n",
       "  </thead>\n",
       "  <tbody>\n",
       "    <tr>\n",
       "      <th>0</th>\n",
       "      <td>1</td>\n",
       "      <td>Acura</td>\n",
       "      <td>Automobile</td>\n",
       "      <td>13.2</td>\n",
       "      <td>16.919</td>\n",
       "      <td>Integra</td>\n",
       "      <td>16.360</td>\n",
       "      <td>21.50</td>\n",
       "      <td>140.0</td>\n",
       "      <td>67.3</td>\n",
       "      <td>172.4</td>\n",
       "    </tr>\n",
       "    <tr>\n",
       "      <th>1</th>\n",
       "      <td>2</td>\n",
       "      <td>Acura</td>\n",
       "      <td>Automobile</td>\n",
       "      <td>17.2</td>\n",
       "      <td>39.384</td>\n",
       "      <td>TL</td>\n",
       "      <td>19.875</td>\n",
       "      <td>28.40</td>\n",
       "      <td>225.0</td>\n",
       "      <td>70.3</td>\n",
       "      <td>192.9</td>\n",
       "    </tr>\n",
       "    <tr>\n",
       "      <th>2</th>\n",
       "      <td>3</td>\n",
       "      <td>Acura</td>\n",
       "      <td>Automobile</td>\n",
       "      <td>17.2</td>\n",
       "      <td>14.114</td>\n",
       "      <td>CL</td>\n",
       "      <td>18.225</td>\n",
       "      <td>NaN</td>\n",
       "      <td>225.0</td>\n",
       "      <td>70.6</td>\n",
       "      <td>192.0</td>\n",
       "    </tr>\n",
       "    <tr>\n",
       "      <th>3</th>\n",
       "      <td>4</td>\n",
       "      <td>Acura</td>\n",
       "      <td>Automobile</td>\n",
       "      <td>18.0</td>\n",
       "      <td>8.588</td>\n",
       "      <td>RL</td>\n",
       "      <td>29.725</td>\n",
       "      <td>42.00</td>\n",
       "      <td>210.0</td>\n",
       "      <td>71.4</td>\n",
       "      <td>196.6</td>\n",
       "    </tr>\n",
       "    <tr>\n",
       "      <th>4</th>\n",
       "      <td>5</td>\n",
       "      <td>Audi</td>\n",
       "      <td>Automobile</td>\n",
       "      <td>16.4</td>\n",
       "      <td>20.397</td>\n",
       "      <td>A4</td>\n",
       "      <td>22.255</td>\n",
       "      <td>23.99</td>\n",
       "      <td>150.0</td>\n",
       "      <td>68.2</td>\n",
       "      <td>178.0</td>\n",
       "    </tr>\n",
       "  </tbody>\n",
       "</table>\n",
       "</div>"
      ],
      "text/plain": [
       "   ID manufact        type  fuel_cap   sales    model  resale  price  \\\n",
       "0   1    Acura  Automobile      13.2  16.919  Integra  16.360  21.50   \n",
       "1   2    Acura  Automobile      17.2  39.384       TL  19.875  28.40   \n",
       "2   3    Acura  Automobile      17.2  14.114       CL  18.225    NaN   \n",
       "3   4    Acura  Automobile      18.0   8.588       RL  29.725  42.00   \n",
       "4   5     Audi  Automobile      16.4  20.397       A4  22.255  23.99   \n",
       "\n",
       "   horsepow  width  length  \n",
       "0     140.0   67.3   172.4  \n",
       "1     225.0   70.3   192.9  \n",
       "2     225.0   70.6   192.0  \n",
       "3     210.0   71.4   196.6  \n",
       "4     150.0   68.2   178.0  "
      ]
     },
     "execution_count": 3,
     "metadata": {},
     "output_type": "execute_result"
    }
   ],
   "source": [
    "#looking at the head of data\n",
    "data_car.head()"
   ]
  },
  {
   "cell_type": "code",
   "execution_count": 4,
   "metadata": {},
   "outputs": [
    {
     "name": "stdout",
     "output_type": "stream",
     "text": [
      "<class 'pandas.core.frame.DataFrame'>\n",
      "RangeIndex: 159 entries, 0 to 158\n",
      "Data columns (total 11 columns):\n",
      " #   Column    Non-Null Count  Dtype  \n",
      "---  ------    --------------  -----  \n",
      " 0   ID        159 non-null    int64  \n",
      " 1   manufact  159 non-null    object \n",
      " 2   type      157 non-null    object \n",
      " 3   fuel_cap  158 non-null    float64\n",
      " 4   sales     157 non-null    float64\n",
      " 5   model     159 non-null    object \n",
      " 6   resale    121 non-null    float64\n",
      " 7   price     157 non-null    float64\n",
      " 8   horsepow  158 non-null    float64\n",
      " 9   width     158 non-null    float64\n",
      " 10  length    158 non-null    float64\n",
      "dtypes: float64(7), int64(1), object(3)\n",
      "memory usage: 13.8+ KB\n"
     ]
    }
   ],
   "source": [
    "#let's see how many observation are there in each variabl, i.e. how many rows in each variable\n",
    "\n",
    "data_car.info()"
   ]
  },
  {
   "cell_type": "markdown",
   "metadata": {},
   "source": [
    "> **Interpretation of the output above:** There are 11 variables in the dataset, which can be divided into two types of variables: numeric (float, integer) and string (object). Two columns (ID, manufact) have 159 observations (rows) while others have less."
   ]
  },
  {
   "cell_type": "code",
   "execution_count": 5,
   "metadata": {},
   "outputs": [
    {
     "data": {
      "text/plain": [
       "(159, 11)"
      ]
     },
     "execution_count": 5,
     "metadata": {},
     "output_type": "execute_result"
    }
   ],
   "source": [
    "data_car.shape"
   ]
  },
  {
   "cell_type": "markdown",
   "metadata": {},
   "source": [
    "> **There are 159 rows and 11 columns in the dataset.**"
   ]
  },
  {
   "cell_type": "code",
   "execution_count": 6,
   "metadata": {},
   "outputs": [
    {
     "data": {
      "text/plain": [
       "Index(['ID', 'manufact', 'type', 'fuel_cap', 'sales', 'model', 'resale',\n",
       "       'price', 'horsepow', 'width', 'length'],\n",
       "      dtype='object')"
      ]
     },
     "execution_count": 6,
     "metadata": {},
     "output_type": "execute_result"
    }
   ],
   "source": [
    "# getting list of column names in the dataset\n",
    "data_car.columns"
   ]
  },
  {
   "cell_type": "markdown",
   "metadata": {},
   "source": [
    "### Checking for Missing Values"
   ]
  },
  {
   "cell_type": "code",
   "execution_count": 7,
   "metadata": {},
   "outputs": [
    {
     "data": {
      "text/plain": [
       "ID          False\n",
       "manufact    False\n",
       "type         True\n",
       "fuel_cap     True\n",
       "sales        True\n",
       "model       False\n",
       "resale       True\n",
       "price        True\n",
       "horsepow     True\n",
       "width        True\n",
       "length       True\n",
       "dtype: bool"
      ]
     },
     "execution_count": 7,
     "metadata": {},
     "output_type": "execute_result"
    }
   ],
   "source": [
    "#let's check for missing values\n",
    "data_car.isna().any()"
   ]
  },
  {
   "cell_type": "markdown",
   "metadata": {},
   "source": [
    "> **Only** three variables don't have missing values."
   ]
  },
  {
   "cell_type": "code",
   "execution_count": 8,
   "metadata": {},
   "outputs": [
    {
     "data": {
      "text/plain": [
       "ID           0\n",
       "manufact     0\n",
       "type         2\n",
       "fuel_cap     1\n",
       "sales        2\n",
       "model        0\n",
       "resale      38\n",
       "price        2\n",
       "horsepow     1\n",
       "width        1\n",
       "length       1\n",
       "dtype: int64"
      ]
     },
     "execution_count": 8,
     "metadata": {},
     "output_type": "execute_result"
    }
   ],
   "source": [
    "#printing how many missing values are in each column\n",
    "\n",
    "data_car.isnull().sum()"
   ]
  },
  {
   "cell_type": "markdown",
   "metadata": {},
   "source": [
    "> **resale** has has 38 missing values while other variables have from 1 to 2 missings. Therefore let's drop resale column first, then drop rows which have missing values.resale has 38 missing values, while other vars have up to 2."
   ]
  },
  {
   "cell_type": "code",
   "execution_count": 9,
   "metadata": {},
   "outputs": [
    {
     "data": {
      "text/plain": [
       "Index(['ID', 'manufact', 'type', 'fuel_cap', 'sales', 'model', 'price',\n",
       "       'horsepow', 'width', 'length'],\n",
       "      dtype='object')"
      ]
     },
     "execution_count": 9,
     "metadata": {},
     "output_type": "execute_result"
    }
   ],
   "source": [
    "#dropping column resale\n",
    "data_car.drop(columns=['resale'],axis=1,inplace=True)\n",
    "\n",
    "#looking at the new list of column names without resale\n",
    "data_car.columns"
   ]
  },
  {
   "cell_type": "code",
   "execution_count": 10,
   "metadata": {},
   "outputs": [],
   "source": [
    "#now let's drop rows, which have at least one missing value in any of the columns\n",
    "\n",
    "data_car.dropna(inplace=True)"
   ]
  },
  {
   "cell_type": "code",
   "execution_count": 11,
   "metadata": {},
   "outputs": [
    {
     "data": {
      "text/plain": [
       "ID          0\n",
       "manufact    0\n",
       "type        0\n",
       "fuel_cap    0\n",
       "sales       0\n",
       "model       0\n",
       "price       0\n",
       "horsepow    0\n",
       "width       0\n",
       "length      0\n",
       "dtype: int64"
      ]
     },
     "execution_count": 11,
     "metadata": {},
     "output_type": "execute_result"
    }
   ],
   "source": [
    "#checking for missing values again\n",
    "data_car.isnull().sum()"
   ]
  },
  {
   "cell_type": "markdown",
   "metadata": {},
   "source": [
    "> **No missing values in any of the columns**"
   ]
  },
  {
   "cell_type": "markdown",
   "metadata": {},
   "source": [
    "### Dividing data into numeric and object type subsets"
   ]
  },
  {
   "cell_type": "code",
   "execution_count": 12,
   "metadata": {},
   "outputs": [
    {
     "data": {
      "text/html": [
       "<div>\n",
       "<style scoped>\n",
       "    .dataframe tbody tr th:only-of-type {\n",
       "        vertical-align: middle;\n",
       "    }\n",
       "\n",
       "    .dataframe tbody tr th {\n",
       "        vertical-align: top;\n",
       "    }\n",
       "\n",
       "    .dataframe thead th {\n",
       "        text-align: right;\n",
       "    }\n",
       "</style>\n",
       "<table border=\"1\" class=\"dataframe\">\n",
       "  <thead>\n",
       "    <tr style=\"text-align: right;\">\n",
       "      <th></th>\n",
       "      <th>ID</th>\n",
       "      <th>fuel_cap</th>\n",
       "      <th>sales</th>\n",
       "      <th>price</th>\n",
       "      <th>horsepow</th>\n",
       "      <th>width</th>\n",
       "      <th>length</th>\n",
       "    </tr>\n",
       "  </thead>\n",
       "  <tbody>\n",
       "    <tr>\n",
       "      <th>0</th>\n",
       "      <td>1</td>\n",
       "      <td>13.2</td>\n",
       "      <td>16.919</td>\n",
       "      <td>21.50</td>\n",
       "      <td>140.0</td>\n",
       "      <td>67.3</td>\n",
       "      <td>172.4</td>\n",
       "    </tr>\n",
       "    <tr>\n",
       "      <th>1</th>\n",
       "      <td>2</td>\n",
       "      <td>17.2</td>\n",
       "      <td>39.384</td>\n",
       "      <td>28.40</td>\n",
       "      <td>225.0</td>\n",
       "      <td>70.3</td>\n",
       "      <td>192.9</td>\n",
       "    </tr>\n",
       "    <tr>\n",
       "      <th>3</th>\n",
       "      <td>4</td>\n",
       "      <td>18.0</td>\n",
       "      <td>8.588</td>\n",
       "      <td>42.00</td>\n",
       "      <td>210.0</td>\n",
       "      <td>71.4</td>\n",
       "      <td>196.6</td>\n",
       "    </tr>\n",
       "    <tr>\n",
       "      <th>4</th>\n",
       "      <td>5</td>\n",
       "      <td>16.4</td>\n",
       "      <td>20.397</td>\n",
       "      <td>23.99</td>\n",
       "      <td>150.0</td>\n",
       "      <td>68.2</td>\n",
       "      <td>178.0</td>\n",
       "    </tr>\n",
       "    <tr>\n",
       "      <th>5</th>\n",
       "      <td>6</td>\n",
       "      <td>18.5</td>\n",
       "      <td>18.780</td>\n",
       "      <td>33.95</td>\n",
       "      <td>200.0</td>\n",
       "      <td>76.1</td>\n",
       "      <td>192.0</td>\n",
       "    </tr>\n",
       "  </tbody>\n",
       "</table>\n",
       "</div>"
      ],
      "text/plain": [
       "   ID  fuel_cap   sales  price  horsepow  width  length\n",
       "0   1      13.2  16.919  21.50     140.0   67.3   172.4\n",
       "1   2      17.2  39.384  28.40     225.0   70.3   192.9\n",
       "3   4      18.0   8.588  42.00     210.0   71.4   196.6\n",
       "4   5      16.4  20.397  23.99     150.0   68.2   178.0\n",
       "5   6      18.5  18.780  33.95     200.0   76.1   192.0"
      ]
     },
     "execution_count": 12,
     "metadata": {},
     "output_type": "execute_result"
    }
   ],
   "source": [
    "data_numeric=data_car.select_dtypes(exclude='object')\n",
    "data_numeric.head()"
   ]
  },
  {
   "cell_type": "code",
   "execution_count": 13,
   "metadata": {},
   "outputs": [
    {
     "data": {
      "text/plain": [
       "Index(['manufact', 'type', 'model'], dtype='object')"
      ]
     },
     "execution_count": 13,
     "metadata": {},
     "output_type": "execute_result"
    }
   ],
   "source": [
    "data_object=data_car.select_dtypes(include='object')\n",
    "data_object.columns"
   ]
  },
  {
   "cell_type": "code",
   "execution_count": 14,
   "metadata": {},
   "outputs": [
    {
     "name": "stdout",
     "output_type": "stream",
     "text": [
      "Columns in data numeric dataset:  Index(['ID', 'fuel_cap', 'sales', 'price', 'horsepow', 'width', 'length'], dtype='object')\n",
      "Columns in data object dataset: Index(['manufact', 'type', 'model'], dtype='object')\n"
     ]
    }
   ],
   "source": [
    "print(\"Columns in data numeric dataset: \", data_numeric.columns)\n",
    "print('Columns in data object dataset:', data_object.columns)"
   ]
  },
  {
   "cell_type": "markdown",
   "metadata": {},
   "source": [
    "# Descriptive statistics about data"
   ]
  },
  {
   "cell_type": "code",
   "execution_count": 15,
   "metadata": {},
   "outputs": [
    {
     "data": {
      "text/html": [
       "<div>\n",
       "<style scoped>\n",
       "    .dataframe tbody tr th:only-of-type {\n",
       "        vertical-align: middle;\n",
       "    }\n",
       "\n",
       "    .dataframe tbody tr th {\n",
       "        vertical-align: top;\n",
       "    }\n",
       "\n",
       "    .dataframe thead th {\n",
       "        text-align: right;\n",
       "    }\n",
       "</style>\n",
       "<table border=\"1\" class=\"dataframe\">\n",
       "  <thead>\n",
       "    <tr style=\"text-align: right;\">\n",
       "      <th></th>\n",
       "      <th>ID</th>\n",
       "      <th>fuel_cap</th>\n",
       "      <th>sales</th>\n",
       "      <th>price</th>\n",
       "      <th>horsepow</th>\n",
       "      <th>width</th>\n",
       "      <th>length</th>\n",
       "    </tr>\n",
       "  </thead>\n",
       "  <tbody>\n",
       "    <tr>\n",
       "      <th>count</th>\n",
       "      <td>155.000000</td>\n",
       "      <td>155.000000</td>\n",
       "      <td>155.000000</td>\n",
       "      <td>155.000000</td>\n",
       "      <td>155.000000</td>\n",
       "      <td>155.000000</td>\n",
       "      <td>155.000000</td>\n",
       "    </tr>\n",
       "    <tr>\n",
       "      <th>mean</th>\n",
       "      <td>79.780645</td>\n",
       "      <td>17.956774</td>\n",
       "      <td>53.245832</td>\n",
       "      <td>27.390755</td>\n",
       "      <td>185.696774</td>\n",
       "      <td>71.153548</td>\n",
       "      <td>187.313548</td>\n",
       "    </tr>\n",
       "    <tr>\n",
       "      <th>std</th>\n",
       "      <td>45.196723</td>\n",
       "      <td>3.900050</td>\n",
       "      <td>68.397550</td>\n",
       "      <td>14.351653</td>\n",
       "      <td>56.796444</td>\n",
       "      <td>3.462776</td>\n",
       "      <td>13.470034</td>\n",
       "    </tr>\n",
       "    <tr>\n",
       "      <th>min</th>\n",
       "      <td>1.000000</td>\n",
       "      <td>10.300000</td>\n",
       "      <td>0.110000</td>\n",
       "      <td>9.235000</td>\n",
       "      <td>55.000000</td>\n",
       "      <td>62.600000</td>\n",
       "      <td>149.400000</td>\n",
       "    </tr>\n",
       "    <tr>\n",
       "      <th>25%</th>\n",
       "      <td>41.500000</td>\n",
       "      <td>15.800000</td>\n",
       "      <td>14.074500</td>\n",
       "      <td>18.017500</td>\n",
       "      <td>149.000000</td>\n",
       "      <td>68.400000</td>\n",
       "      <td>177.550000</td>\n",
       "    </tr>\n",
       "    <tr>\n",
       "      <th>50%</th>\n",
       "      <td>80.000000</td>\n",
       "      <td>17.200000</td>\n",
       "      <td>29.450000</td>\n",
       "      <td>22.799000</td>\n",
       "      <td>175.000000</td>\n",
       "      <td>70.500000</td>\n",
       "      <td>187.800000</td>\n",
       "    </tr>\n",
       "    <tr>\n",
       "      <th>75%</th>\n",
       "      <td>118.500000</td>\n",
       "      <td>19.650000</td>\n",
       "      <td>68.183500</td>\n",
       "      <td>31.947500</td>\n",
       "      <td>215.000000</td>\n",
       "      <td>73.450000</td>\n",
       "      <td>196.150000</td>\n",
       "    </tr>\n",
       "    <tr>\n",
       "      <th>max</th>\n",
       "      <td>157.000000</td>\n",
       "      <td>32.000000</td>\n",
       "      <td>540.561000</td>\n",
       "      <td>85.500000</td>\n",
       "      <td>450.000000</td>\n",
       "      <td>79.900000</td>\n",
       "      <td>224.500000</td>\n",
       "    </tr>\n",
       "  </tbody>\n",
       "</table>\n",
       "</div>"
      ],
      "text/plain": [
       "               ID    fuel_cap       sales       price    horsepow       width  \\\n",
       "count  155.000000  155.000000  155.000000  155.000000  155.000000  155.000000   \n",
       "mean    79.780645   17.956774   53.245832   27.390755  185.696774   71.153548   \n",
       "std     45.196723    3.900050   68.397550   14.351653   56.796444    3.462776   \n",
       "min      1.000000   10.300000    0.110000    9.235000   55.000000   62.600000   \n",
       "25%     41.500000   15.800000   14.074500   18.017500  149.000000   68.400000   \n",
       "50%     80.000000   17.200000   29.450000   22.799000  175.000000   70.500000   \n",
       "75%    118.500000   19.650000   68.183500   31.947500  215.000000   73.450000   \n",
       "max    157.000000   32.000000  540.561000   85.500000  450.000000   79.900000   \n",
       "\n",
       "           length  \n",
       "count  155.000000  \n",
       "mean   187.313548  \n",
       "std     13.470034  \n",
       "min    149.400000  \n",
       "25%    177.550000  \n",
       "50%    187.800000  \n",
       "75%    196.150000  \n",
       "max    224.500000  "
      ]
     },
     "execution_count": 15,
     "metadata": {},
     "output_type": "execute_result"
    }
   ],
   "source": [
    "data_numeric.describe()"
   ]
  },
  {
   "cell_type": "markdown",
   "metadata": {},
   "source": [
    "> From the table above we can see that maybe there is indication of skewness in price of cars because average price is about 27.4 while highest is 85.5, as well as sales seem to have skewed distribution, therefore we should consider visualising distributions of these variables in the visualisation section of this analysis."
   ]
  },
  {
   "cell_type": "code",
   "execution_count": 16,
   "metadata": {},
   "outputs": [
    {
     "data": {
      "text/plain": [
       "count    155.000000\n",
       "mean      79.780645\n",
       "std       45.196723\n",
       "min        1.000000\n",
       "25%       41.500000\n",
       "50%       80.000000\n",
       "75%      118.500000\n",
       "max      157.000000\n",
       "Name: ID, dtype: float64"
      ]
     },
     "execution_count": 16,
     "metadata": {},
     "output_type": "execute_result"
    }
   ],
   "source": [
    "#description of only one column\n",
    "data_numeric['ID'].describe()"
   ]
  },
  {
   "cell_type": "code",
   "execution_count": 17,
   "metadata": {},
   "outputs": [
    {
     "data": {
      "text/plain": [
       "14.0745"
      ]
     },
     "execution_count": 17,
     "metadata": {},
     "output_type": "execute_result"
    }
   ],
   "source": [
    "#calculationg quantile with only one function\n",
    "data_numeric.sales.quantile(0.25)\n",
    "np.percentile(data_numeric.sales,25)"
   ]
  },
  {
   "cell_type": "markdown",
   "metadata": {},
   "source": [
    "# Poll Question"
   ]
  },
  {
   "cell_type": "markdown",
   "metadata": {},
   "source": [
    "> **How many cars have manufacture type as \"Ford\"?**"
   ]
  },
  {
   "cell_type": "code",
   "execution_count": 18,
   "metadata": {},
   "outputs": [
    {
     "data": {
      "text/plain": [
       "manufact    11\n",
       "type        11\n",
       "model       11\n",
       "dtype: int64"
      ]
     },
     "execution_count": 18,
     "metadata": {},
     "output_type": "execute_result"
    }
   ],
   "source": [
    "data_object[data_object['manufact']=='Ford'].count()"
   ]
  },
  {
   "cell_type": "code",
   "execution_count": 19,
   "metadata": {},
   "outputs": [
    {
     "data": {
      "text/plain": [
       "Automobile    115\n",
       "Truck          40\n",
       "Name: type, dtype: int64"
      ]
     },
     "execution_count": 19,
     "metadata": {},
     "output_type": "execute_result"
    }
   ],
   "source": [
    "data_object.type.value_counts()"
   ]
  },
  {
   "cell_type": "markdown",
   "metadata": {},
   "source": [
    "### Printing number of entries/observations for each category of each object-type variable"
   ]
  },
  {
   "cell_type": "code",
   "execution_count": 20,
   "metadata": {
    "scrolled": false
   },
   "outputs": [
    {
     "name": "stdout",
     "output_type": "stream",
     "text": [
      "manufact\n",
      "\n",
      "\n",
      "Dodge            11\n",
      "Ford             11\n",
      "Toyota            9\n",
      "Mercedes-Benz     9\n",
      "Chevrolet         9\n",
      "Mitsubishi        7\n",
      "Nissan            7\n",
      "Volkswagen        6\n",
      "Lexus             6\n",
      "Mercury           6\n",
      "Oldsmobile        6\n",
      "Chrysler          6\n",
      "Pontiac           6\n",
      "Volvo             6\n",
      "Cadillac          5\n",
      "Honda             5\n",
      "Saturn            5\n",
      "Buick             4\n",
      "Plymouth          4\n",
      "Lincoln           3\n",
      "Jeep              3\n",
      "Porsche           3\n",
      "BMW               3\n",
      "Audi              3\n",
      "Hyundai           3\n",
      "Acura             3\n",
      "Subaru            2\n",
      "Saab              2\n",
      "Jaguar            1\n",
      "Infiniti          1\n",
      "Name: manufact, dtype: int64\n",
      "-------------------------------\n",
      "type\n",
      "\n",
      "\n",
      "Automobile    115\n",
      "Truck          40\n",
      "Name: type, dtype: int64\n",
      "-------------------------------\n",
      "model\n",
      "\n",
      "\n",
      "Neon             2\n",
      "Accord           1\n",
      "SLK              1\n",
      "LHS              1\n",
      "LS               1\n",
      "                ..\n",
      "RX300            1\n",
      "Carrera Coupe    1\n",
      "Passat           1\n",
      "9-3              1\n",
      "TL               1\n",
      "Name: model, Length: 154, dtype: int64\n",
      "-------------------------------\n"
     ]
    }
   ],
   "source": [
    "for i in data_object.columns:\n",
    "    print(i)\n",
    "    print('\\n')\n",
    "    print(data_object[i].value_counts())\n",
    "    print('-------------------------------')"
   ]
  },
  {
   "cell_type": "markdown",
   "metadata": {},
   "source": [
    "# Data Visualisation: Matplotlib, Seaborn"
   ]
  },
  {
   "cell_type": "markdown",
   "metadata": {},
   "source": [
    "### Histogram\n",
    "\n",
    "> **A frequency histogram shows the frequency distribution of the data**, i.e. how many times an outcome occurs in a data. It allows to organize data and not only to see the distribution type of data (e.g. normal distribution) but also to observe skewness, outliers, etc."
   ]
  },
  {
   "cell_type": "code",
   "execution_count": 21,
   "metadata": {},
   "outputs": [
    {
     "data": {
      "image/png": "[encoded data removed]",
      "text/plain": [
       "<Figure size 432x288 with 1 Axes>"
      ]
     },
     "metadata": {
      "needs_background": "light"
     },
     "output_type": "display_data"
    }
   ],
   "source": [
    "plt.hist(data_numeric.price,\n",
    "         color='#0f732a',\n",
    "         bins=25\n",
    "        )\n",
    "\n",
    "plt.title(\"Distribution of Price\")\n",
    "\n",
    "plt.show()"
   ]
  },
  {
   "cell_type": "code",
   "execution_count": 22,
   "metadata": {
    "scrolled": false
   },
   "outputs": [
    {
     "data": {
      "image/png": "[encoded data removed]",
      "text/plain": [
       "<Figure size 432x288 with 1 Axes>"
      ]
     },
     "metadata": {
      "needs_background": "light"
     },
     "output_type": "display_data"
    },
    {
     "data": {
      "image/png": "[encoded data removed]",
      "text/plain": [
       "<Figure size 432x288 with 1 Axes>"
      ]
     },
     "metadata": {
      "needs_background": "light"
     },
     "output_type": "display_data"
    },
    {
     "data": {
      "image/png": "[encoded data removed]",
      "text/plain": [
       "<Figure size 432x288 with 1 Axes>"
      ]
     },
     "metadata": {
      "needs_background": "light"
     },
     "output_type": "display_data"
    },
    {
     "data": {
      "image/png": "[encoded data removed]",
      "text/plain": [
       "<Figure size 432x288 with 1 Axes>"
      ]
     },
     "metadata": {
      "needs_background": "light"
     },
     "output_type": "display_data"
    },
    {
     "data": {
      "image/png": "[encoded data removed]",
      "text/plain": [
       "<Figure size 432x288 with 1 Axes>"
      ]
     },
     "metadata": {
      "needs_background": "light"
     },
     "output_type": "display_data"
    },
    {
     "data": {
      "image/png": "[encoded data removed]",
      "text/plain": [
       "<Figure size 432x288 with 1 Axes>"
      ]
     },
     "metadata": {
      "needs_background": "light"
     },
     "output_type": "display_data"
    },
    {
     "data": {
      "image/png": "[encoded data removed]",
      "text/plain": [
       "<Figure size 432x288 with 1 Axes>"
      ]
     },
     "metadata": {
      "needs_background": "light"
     },
     "output_type": "display_data"
    }
   ],
   "source": [
    "#printing histograms for all numeric variables by using for loop\n",
    "for i in data_numeric.columns:\n",
    "    plt.hist(data_numeric[i],\n",
    "         color='#0f732a',\n",
    "         bins=25\n",
    "        )\n",
    "    plt.title(f\"Distribution of {i}\")\n",
    "    plt.show()"
   ]
  },
  {
   "cell_type": "markdown",
   "metadata": {},
   "source": [
    "### Scatter Plot\n",
    "\n",
    "> **Scatter plots are used to visualize the relationship between two variables** by using dots to plot the values of two variables along the x-axis and the y-axis.\n",
    "\n",
    "- Scatter plots require at least two arguments: X-axis values and Y-axis values, therefore be careful in  functions to use two variables."
   ]
  },
  {
   "cell_type": "code",
   "execution_count": 23,
   "metadata": {},
   "outputs": [
    {
     "data": {
      "image/png": "[encoded data removed]",
      "text/plain": [
       "<Figure size 576x576 with 2 Axes>"
      ]
     },
     "metadata": {
      "needs_background": "light"
     },
     "output_type": "display_data"
    }
   ],
   "source": [
    "plt.figure(figsize=(8,8)) #changing the size of figure\n",
    "\n",
    "plt.subplot(2,1,1) #first plot when plotting to figures side by side, or under each other\n",
    "plt.scatter(data_numeric.horsepow, #X-axis values\n",
    "            data_numeric.price #Y-axis values\n",
    "           )\n",
    "\n",
    "plt.title(\"Price VS Horsepower\") #title of the first chart\n",
    "\n",
    "\n",
    "plt.subplot(2,1,2) #second plot\n",
    "plt.scatter(data_numeric.horsepow, #X-axis values\n",
    "            data_numeric.sales #Y-axis values\n",
    "           )\n",
    "\n",
    "plt.title(\"Sales VS Horsepower\") #title of second chart\n",
    "\n",
    "plt.show()"
   ]
  },
  {
   "cell_type": "code",
   "execution_count": 24,
   "metadata": {},
   "outputs": [
    {
     "data": {
      "image/png": "[encoded data removed]",
      "text/plain": [
       "<Figure size 864x432 with 1 Axes>"
      ]
     },
     "metadata": {
      "needs_background": "light"
     },
     "output_type": "display_data"
    }
   ],
   "source": [
    "plt.figure(figsize=(12,6)) #changing the chart size\n",
    "\n",
    "plt.scatter(data_numeric.horsepow,\n",
    "            data_numeric.price,\n",
    "            label='Price'\n",
    "           )\n",
    "\n",
    "plt.title(\"Price VS Horsepower\")\n",
    "\n",
    "\n",
    "plt.scatter(data_numeric.horsepow,\n",
    "            data_numeric.sales,\n",
    "            label='Sales'\n",
    "           )\n",
    "\n",
    "plt.legend() #showing legend on the chart: Price, Sales\n",
    "\n",
    "plt.title(\"Sales VS Horsepower\")\n",
    "\n",
    "plt.show()"
   ]
  },
  {
   "cell_type": "markdown",
   "metadata": {},
   "source": [
    "# Seaborn"
   ]
  },
  {
   "cell_type": "markdown",
   "metadata": {},
   "source": [
    "> ### Seaborn ia a data visualization library with a high-level interface."
   ]
  },
  {
   "cell_type": "code",
   "execution_count": 25,
   "metadata": {},
   "outputs": [
    {
     "name": "stderr",
     "output_type": "stream",
     "text": [
      "C:\\Users\\HP\\anaconda3\\lib\\site-packages\\seaborn\\_decorators.py:43: FutureWarning:\n",
      "\n",
      "Pass the following variables as keyword args: x, y. From version 0.12, the only valid positional argument will be `data`, and passing other arguments without an explicit keyword will result in an error or misinterpretation.\n",
      "\n"
     ]
    },
    {
     "data": {
      "image/png": "[encoded data removed]",
      "text/plain": [
       "<Figure size 720x432 with 1 Axes>"
      ]
     },
     "metadata": {
      "needs_background": "light"
     },
     "output_type": "display_data"
    }
   ],
   "source": [
    "plt.figure(figsize=(10,6)) #figure size\n",
    "\n",
    "sns.set_style('darkgrid') #setting style for the charts\n",
    "\n",
    "sns.scatterplot(data_numeric.horsepow, #X-axis values\n",
    "            data_numeric.price #Y-axis values\n",
    "               )\n",
    "\n",
    "plt.show()"
   ]
  },
  {
   "cell_type": "markdown",
   "metadata": {},
   "source": [
    "### Heatmap\n",
    "> https://seaborn.pydata.org/generated/seaborn.heatmap.html"
   ]
  },
  {
   "cell_type": "markdown",
   "metadata": {},
   "source": [
    "In this script, **Heatmap** is used to visualise correlations between all numeric variables in the dataset."
   ]
  },
  {
   "cell_type": "code",
   "execution_count": 26,
   "metadata": {},
   "outputs": [
    {
     "data": {
      "text/html": [
       "<div>\n",
       "<style scoped>\n",
       "    .dataframe tbody tr th:only-of-type {\n",
       "        vertical-align: middle;\n",
       "    }\n",
       "\n",
       "    .dataframe tbody tr th {\n",
       "        vertical-align: top;\n",
       "    }\n",
       "\n",
       "    .dataframe thead th {\n",
       "        text-align: right;\n",
       "    }\n",
       "</style>\n",
       "<table border=\"1\" class=\"dataframe\">\n",
       "  <thead>\n",
       "    <tr style=\"text-align: right;\">\n",
       "      <th></th>\n",
       "      <th>ID</th>\n",
       "      <th>fuel_cap</th>\n",
       "      <th>sales</th>\n",
       "      <th>price</th>\n",
       "      <th>horsepow</th>\n",
       "      <th>width</th>\n",
       "      <th>length</th>\n",
       "    </tr>\n",
       "  </thead>\n",
       "  <tbody>\n",
       "    <tr>\n",
       "      <th>ID</th>\n",
       "      <td>1.00</td>\n",
       "      <td>-0.13</td>\n",
       "      <td>-0.13</td>\n",
       "      <td>-0.03</td>\n",
       "      <td>-0.20</td>\n",
       "      <td>-0.29</td>\n",
       "      <td>-0.31</td>\n",
       "    </tr>\n",
       "    <tr>\n",
       "      <th>fuel_cap</th>\n",
       "      <td>-0.13</td>\n",
       "      <td>1.00</td>\n",
       "      <td>0.09</td>\n",
       "      <td>0.42</td>\n",
       "      <td>0.50</td>\n",
       "      <td>0.66</td>\n",
       "      <td>0.56</td>\n",
       "    </tr>\n",
       "    <tr>\n",
       "      <th>sales</th>\n",
       "      <td>-0.13</td>\n",
       "      <td>0.09</td>\n",
       "      <td>1.00</td>\n",
       "      <td>-0.30</td>\n",
       "      <td>-0.20</td>\n",
       "      <td>0.14</td>\n",
       "      <td>0.26</td>\n",
       "    </tr>\n",
       "    <tr>\n",
       "      <th>price</th>\n",
       "      <td>-0.03</td>\n",
       "      <td>0.42</td>\n",
       "      <td>-0.30</td>\n",
       "      <td>1.00</td>\n",
       "      <td>0.84</td>\n",
       "      <td>0.33</td>\n",
       "      <td>0.16</td>\n",
       "    </tr>\n",
       "    <tr>\n",
       "      <th>horsepow</th>\n",
       "      <td>-0.20</td>\n",
       "      <td>0.50</td>\n",
       "      <td>-0.20</td>\n",
       "      <td>0.84</td>\n",
       "      <td>1.00</td>\n",
       "      <td>0.54</td>\n",
       "      <td>0.39</td>\n",
       "    </tr>\n",
       "    <tr>\n",
       "      <th>width</th>\n",
       "      <td>-0.29</td>\n",
       "      <td>0.66</td>\n",
       "      <td>0.14</td>\n",
       "      <td>0.33</td>\n",
       "      <td>0.54</td>\n",
       "      <td>1.00</td>\n",
       "      <td>0.71</td>\n",
       "    </tr>\n",
       "    <tr>\n",
       "      <th>length</th>\n",
       "      <td>-0.31</td>\n",
       "      <td>0.56</td>\n",
       "      <td>0.26</td>\n",
       "      <td>0.16</td>\n",
       "      <td>0.39</td>\n",
       "      <td>0.71</td>\n",
       "      <td>1.00</td>\n",
       "    </tr>\n",
       "  </tbody>\n",
       "</table>\n",
       "</div>"
      ],
      "text/plain": [
       "            ID  fuel_cap  sales  price  horsepow  width  length\n",
       "ID        1.00     -0.13  -0.13  -0.03     -0.20  -0.29   -0.31\n",
       "fuel_cap -0.13      1.00   0.09   0.42      0.50   0.66    0.56\n",
       "sales    -0.13      0.09   1.00  -0.30     -0.20   0.14    0.26\n",
       "price    -0.03      0.42  -0.30   1.00      0.84   0.33    0.16\n",
       "horsepow -0.20      0.50  -0.20   0.84      1.00   0.54    0.39\n",
       "width    -0.29      0.66   0.14   0.33      0.54   1.00    0.71\n",
       "length   -0.31      0.56   0.26   0.16      0.39   0.71    1.00"
      ]
     },
     "execution_count": 26,
     "metadata": {},
     "output_type": "execute_result"
    }
   ],
   "source": [
    "#first we need to create correlation table by using corr() function\n",
    "data_numeric.corr().round(2)"
   ]
  },
  {
   "cell_type": "code",
   "execution_count": 27,
   "metadata": {},
   "outputs": [
    {
     "data": {
      "image/png": "[encoded data removed]",
      "text/plain": [
       "<Figure size 432x288 with 2 Axes>"
      ]
     },
     "metadata": {},
     "output_type": "display_data"
    }
   ],
   "source": [
    "#the argument of the heatmap is a correlation atble created in the cell above\n",
    "sns.heatmap(data_numeric.corr().round(2) #corr table\n",
    "           ,annot=True #to show corr values on the cells on the chart below\n",
    "           )\n",
    "\n",
    "plt.show()"
   ]
  },
  {
   "cell_type": "markdown",
   "metadata": {},
   "source": [
    "> *Interpretation example*: **Price and horsepower have the highest correlation among all numeric variables.**"
   ]
  },
  {
   "cell_type": "markdown",
   "metadata": {},
   "source": [
    "### Visualising distribution plots in Seaborn"
   ]
  },
  {
   "cell_type": "code",
   "execution_count": 28,
   "metadata": {},
   "outputs": [
    {
     "name": "stderr",
     "output_type": "stream",
     "text": [
      "C:\\Users\\HP\\anaconda3\\lib\\site-packages\\seaborn\\distributions.py:2551: FutureWarning:\n",
      "\n",
      "`distplot` is a deprecated function and will be removed in a future version. Please adapt your code to use either `displot` (a figure-level function with similar flexibility) or `kdeplot` (an axes-level function for kernel density plots).\n",
      "\n",
      "C:\\Users\\HP\\anaconda3\\lib\\site-packages\\seaborn\\distributions.py:2551: FutureWarning:\n",
      "\n",
      "`distplot` is a deprecated function and will be removed in a future version. Please adapt your code to use either `displot` (a figure-level function with similar flexibility) or `histplot` (an axes-level function for histograms).\n",
      "\n",
      "C:\\Users\\HP\\anaconda3\\lib\\site-packages\\seaborn\\distributions.py:2551: FutureWarning:\n",
      "\n",
      "`distplot` is a deprecated function and will be removed in a future version. Please adapt your code to use either `displot` (a figure-level function with similar flexibility) or `histplot` (an axes-level function for histograms).\n",
      "\n"
     ]
    },
    {
     "data": {
      "image/png": "[encoded data removed]",
      "text/plain": [
       "<Figure size 432x288 with 3 Axes>"
      ]
     },
     "metadata": {},
     "output_type": "display_data"
    }
   ],
   "source": [
    "plt.subplot(3,1,1)\n",
    "sns.distplot(data_numeric.price, hist=False) #only density plot\n",
    "\n",
    "plt.subplot(3,1,2)\n",
    "sns.distplot(data_numeric.price, hist=True, kde=False) #only histogram\n",
    "\n",
    "plt.subplot(3,1,3)\n",
    "sns.distplot(data_numeric.price) #both density plot and histogram on the same chart\n",
    "\n",
    "plt.show()"
   ]
  },
  {
   "cell_type": "markdown",
   "metadata": {},
   "source": [
    "## Box plots\n",
    "\n",
    "The another type of distribution chart graph is a box plot. **Box plot uses five measures to describe how the data is distributed: minimum, first quartile, median, third quartile, and maximum.** It is generally very useful tool to detect **outliers** in the data."
   ]
  },
  {
   "cell_type": "code",
   "execution_count": 29,
   "metadata": {},
   "outputs": [
    {
     "name": "stderr",
     "output_type": "stream",
     "text": [
      "C:\\Users\\HP\\anaconda3\\lib\\site-packages\\seaborn\\_decorators.py:43: FutureWarning:\n",
      "\n",
      "Pass the following variable as a keyword arg: x. From version 0.12, the only valid positional argument will be `data`, and passing other arguments without an explicit keyword will result in an error or misinterpretation.\n",
      "\n",
      "C:\\Users\\HP\\anaconda3\\lib\\site-packages\\seaborn\\_core.py:1303: UserWarning:\n",
      "\n",
      "Vertical orientation ignored with only `x` specified.\n",
      "\n"
     ]
    },
    {
     "data": {
      "image/png": "[encoded data removed]",
      "text/plain": [
       "<Figure size 432x288 with 1 Axes>"
      ]
     },
     "metadata": {},
     "output_type": "display_data"
    }
   ],
   "source": [
    "#visualising boxplot for price\n",
    "sns.boxplot(data_numeric.price, orient='v')\n",
    "\n",
    "plt.show()"
   ]
  },
  {
   "cell_type": "code",
   "execution_count": 30,
   "metadata": {},
   "outputs": [
    {
     "name": "stderr",
     "output_type": "stream",
     "text": [
      "C:\\Users\\HP\\anaconda3\\lib\\site-packages\\seaborn\\_decorators.py:43: FutureWarning:\n",
      "\n",
      "Pass the following variables as keyword args: x, y. From version 0.12, the only valid positional argument will be `data`, and passing other arguments without an explicit keyword will result in an error or misinterpretation.\n",
      "\n"
     ]
    },
    {
     "data": {
      "image/png": "[encoded data removed]",
      "text/plain": [
       "<Figure size 432x288 with 1 Axes>"
      ]
     },
     "metadata": {},
     "output_type": "display_data"
    }
   ],
   "source": [
    "#boxplot for price by categories of \"type\" variable\n",
    "sns.boxplot(data_car.type, \n",
    "           data_car.price,\n",
    "           orient='v')\n",
    "\n",
    "plt.show()"
   ]
  },
  {
   "cell_type": "markdown",
   "metadata": {},
   "source": [
    "> **Interpretation example**: Median price is lower in case of automobiles compared to trucks. There are more outliers in automobiles."
   ]
  },
  {
   "cell_type": "markdown",
   "metadata": {},
   "source": [
    "# Data from Web\n",
    "\n",
    "## Quandl\n",
    "\n",
    "**Quandl** is a marketplace for financial, economic and alternative data delivered in modern formats for today's analysts, including Python, Excel, Matlab, R.\n",
    "\n",
    "Gettting data from quandl:\n",
    "\n",
    "- Check available data in quandl webpage (https://www.quandl.com/),\n",
    "- Write the code in JN with the following logic: \"Source of Data\" then put \"/\" then name of a measure."
   ]
  },
  {
   "cell_type": "code",
   "execution_count": 31,
   "metadata": {},
   "outputs": [
    {
     "data": {
      "text/html": [
       "<div>\n",
       "<style scoped>\n",
       "    .dataframe tbody tr th:only-of-type {\n",
       "        vertical-align: middle;\n",
       "    }\n",
       "\n",
       "    .dataframe tbody tr th {\n",
       "        vertical-align: top;\n",
       "    }\n",
       "\n",
       "    .dataframe thead th {\n",
       "        text-align: right;\n",
       "    }\n",
       "</style>\n",
       "<table border=\"1\" class=\"dataframe\">\n",
       "  <thead>\n",
       "    <tr style=\"text-align: right;\">\n",
       "      <th></th>\n",
       "      <th>Value</th>\n",
       "    </tr>\n",
       "    <tr>\n",
       "      <th>Date</th>\n",
       "      <th></th>\n",
       "    </tr>\n",
       "  </thead>\n",
       "  <tbody>\n",
       "    <tr>\n",
       "      <th>1980-12-31</th>\n",
       "      <td>2857.33</td>\n",
       "    </tr>\n",
       "    <tr>\n",
       "      <th>1981-12-31</th>\n",
       "      <td>3207.03</td>\n",
       "    </tr>\n",
       "    <tr>\n",
       "      <th>1982-12-31</th>\n",
       "      <td>3343.80</td>\n",
       "    </tr>\n",
       "    <tr>\n",
       "      <th>1983-12-31</th>\n",
       "      <td>3634.03</td>\n",
       "    </tr>\n",
       "    <tr>\n",
       "      <th>1984-12-31</th>\n",
       "      <td>4037.65</td>\n",
       "    </tr>\n",
       "  </tbody>\n",
       "</table>\n",
       "</div>"
      ],
      "text/plain": [
       "              Value\n",
       "Date               \n",
       "1980-12-31  2857.33\n",
       "1981-12-31  3207.03\n",
       "1982-12-31  3343.80\n",
       "1983-12-31  3634.03\n",
       "1984-12-31  4037.65"
      ]
     },
     "execution_count": 31,
     "metadata": {},
     "output_type": "execute_result"
    }
   ],
   "source": [
    "#getting USA GDP\n",
    "data_gdp=quandl.get(\"ODA/USA_NGDP\",\n",
    "                    authtoken=\"1G3FoWaBrbMgwREZMNWt\", #your API, use this if you are registered in Quandl\n",
    "                   )\n",
    "data_gdp.head()"
   ]
  },
  {
   "cell_type": "code",
   "execution_count": 32,
   "metadata": {},
   "outputs": [
    {
     "data": {
      "text/html": [
       "<div>\n",
       "<style scoped>\n",
       "    .dataframe tbody tr th:only-of-type {\n",
       "        vertical-align: middle;\n",
       "    }\n",
       "\n",
       "    .dataframe tbody tr th {\n",
       "        vertical-align: top;\n",
       "    }\n",
       "\n",
       "    .dataframe thead th {\n",
       "        text-align: right;\n",
       "    }\n",
       "</style>\n",
       "<table border=\"1\" class=\"dataframe\">\n",
       "  <thead>\n",
       "    <tr style=\"text-align: right;\">\n",
       "      <th></th>\n",
       "      <th>Value</th>\n",
       "    </tr>\n",
       "    <tr>\n",
       "      <th>Date</th>\n",
       "      <th></th>\n",
       "    </tr>\n",
       "  </thead>\n",
       "  <tbody>\n",
       "    <tr>\n",
       "      <th>2020-12-31</th>\n",
       "      <td>22198.12</td>\n",
       "    </tr>\n",
       "    <tr>\n",
       "      <th>2021-12-31</th>\n",
       "      <td>23059.65</td>\n",
       "    </tr>\n",
       "    <tr>\n",
       "      <th>2022-12-31</th>\n",
       "      <td>23922.82</td>\n",
       "    </tr>\n",
       "    <tr>\n",
       "      <th>2023-12-31</th>\n",
       "      <td>24812.96</td>\n",
       "    </tr>\n",
       "    <tr>\n",
       "      <th>2024-12-31</th>\n",
       "      <td>25728.73</td>\n",
       "    </tr>\n",
       "  </tbody>\n",
       "</table>\n",
       "</div>"
      ],
      "text/plain": [
       "               Value\n",
       "Date                \n",
       "2020-12-31  22198.12\n",
       "2021-12-31  23059.65\n",
       "2022-12-31  23922.82\n",
       "2023-12-31  24812.96\n",
       "2024-12-31  25728.73"
      ]
     },
     "execution_count": 32,
     "metadata": {},
     "output_type": "execute_result"
    }
   ],
   "source": [
    "data_gdp.tail()"
   ]
  },
  {
   "cell_type": "code",
   "execution_count": 33,
   "metadata": {},
   "outputs": [
    {
     "data": {
      "text/html": [
       "<div>\n",
       "<style scoped>\n",
       "    .dataframe tbody tr th:only-of-type {\n",
       "        vertical-align: middle;\n",
       "    }\n",
       "\n",
       "    .dataframe tbody tr th {\n",
       "        vertical-align: top;\n",
       "    }\n",
       "\n",
       "    .dataframe thead th {\n",
       "        text-align: right;\n",
       "    }\n",
       "</style>\n",
       "<table border=\"1\" class=\"dataframe\">\n",
       "  <thead>\n",
       "    <tr style=\"text-align: right;\">\n",
       "      <th></th>\n",
       "      <th>Value</th>\n",
       "    </tr>\n",
       "    <tr>\n",
       "      <th>Date</th>\n",
       "      <th></th>\n",
       "    </tr>\n",
       "  </thead>\n",
       "  <tbody>\n",
       "    <tr>\n",
       "      <th>2020-12-31</th>\n",
       "      <td>22198.12</td>\n",
       "    </tr>\n",
       "    <tr>\n",
       "      <th>2019-12-31</th>\n",
       "      <td>21344.67</td>\n",
       "    </tr>\n",
       "    <tr>\n",
       "      <th>2018-12-31</th>\n",
       "      <td>20494.05</td>\n",
       "    </tr>\n",
       "    <tr>\n",
       "      <th>2017-12-31</th>\n",
       "      <td>19485.40</td>\n",
       "    </tr>\n",
       "    <tr>\n",
       "      <th>2016-12-31</th>\n",
       "      <td>18707.15</td>\n",
       "    </tr>\n",
       "  </tbody>\n",
       "</table>\n",
       "</div>"
      ],
      "text/plain": [
       "               Value\n",
       "Date                \n",
       "2020-12-31  22198.12\n",
       "2019-12-31  21344.67\n",
       "2018-12-31  20494.05\n",
       "2017-12-31  19485.40\n",
       "2016-12-31  18707.15"
      ]
     },
     "execution_count": 33,
     "metadata": {},
     "output_type": "execute_result"
    }
   ],
   "source": [
    "data_gdp=quandl.get(\"ODA/USA_NGDP\",\n",
    "                   start_date='1994-01-01', end_date='2020-12-31', #defining time period\n",
    "                    order='desc',\n",
    "                    authtoken=\"1G3FoWaBrbMgwREZMNWt\", #your API, use this if you are registered in Quandl\n",
    "                   collapse='daily' #to be used if applicable, in this example there is no daily data\n",
    "                   )\n",
    "data_gdp.head()"
   ]
  },
  {
   "cell_type": "code",
   "execution_count": 34,
   "metadata": {},
   "outputs": [
    {
     "data": {
      "image/png": "[encoded data removed]",
      "text/plain": [
       "<Figure size 432x288 with 1 Axes>"
      ]
     },
     "metadata": {},
     "output_type": "display_data"
    }
   ],
   "source": [
    "data_gdp.Value.plot()\n",
    "\n",
    "plt.show()"
   ]
  },
  {
   "cell_type": "code",
   "execution_count": 35,
   "metadata": {},
   "outputs": [
    {
     "name": "stderr",
     "output_type": "stream",
     "text": [
      "C:\\Users\\HP\\anaconda3\\lib\\site-packages\\seaborn\\_decorators.py:43: FutureWarning:\n",
      "\n",
      "Pass the following variables as keyword args: x, y. From version 0.12, the only valid positional argument will be `data`, and passing other arguments without an explicit keyword will result in an error or misinterpretation.\n",
      "\n"
     ]
    },
    {
     "data": {
      "image/png": "[encoded data removed]",
      "text/plain": [
       "<Figure size 432x288 with 1 Axes>"
      ]
     },
     "metadata": {},
     "output_type": "display_data"
    }
   ],
   "source": [
    "#visualising time-series data\n",
    "sns.lineplot(data_gdp.index, data_gdp.Value)\n",
    "\n",
    "plt.show()"
   ]
  },
  {
   "cell_type": "markdown",
   "metadata": {},
   "source": [
    "## Data from Yahoo Finance\n",
    "\n",
    "**From pandas_datareader.data use <code>DataReader()</code> function.**\n",
    "\n",
    "There’re some limitations by making the call to Yahoo Finance API:\n",
    "\n",
    "- Using the Public API, you are limited to 2,000 requests per hour per IP (or up to a total of 48,000 requests a day).\n",
    "- When importing many tickers, use time.sleep(1) (python time module) function to avoid your IP getting blocked\n",
    "\n",
    "Use <code>?data.DataReader</code> to see more about <code>DataReader()</code> function."
   ]
  },
  {
   "cell_type": "code",
   "execution_count": 36,
   "metadata": {},
   "outputs": [],
   "source": [
    "data_dis=data.DataReader(name='DIS', #ticker of staock\n",
    "                        data_source='yahoo', #source of data, for example 'fred' is another data source\n",
    "                        start='2020-01-01', end='2021-01-01', #time period\n",
    "                        pause=1 # to puase some time in seconds after each request to Yahoo, in order not to get blocked\n",
    "                        )"
   ]
  },
  {
   "cell_type": "code",
   "execution_count": 37,
   "metadata": {},
   "outputs": [
    {
     "data": {
      "text/html": [
       "<div>\n",
       "<style scoped>\n",
       "    .dataframe tbody tr th:only-of-type {\n",
       "        vertical-align: middle;\n",
       "    }\n",
       "\n",
       "    .dataframe tbody tr th {\n",
       "        vertical-align: top;\n",
       "    }\n",
       "\n",
       "    .dataframe thead th {\n",
       "        text-align: right;\n",
       "    }\n",
       "</style>\n",
       "<table border=\"1\" class=\"dataframe\">\n",
       "  <thead>\n",
       "    <tr style=\"text-align: right;\">\n",
       "      <th></th>\n",
       "      <th>High</th>\n",
       "      <th>Low</th>\n",
       "      <th>Open</th>\n",
       "      <th>Close</th>\n",
       "      <th>Volume</th>\n",
       "      <th>Adj Close</th>\n",
       "    </tr>\n",
       "    <tr>\n",
       "      <th>Date</th>\n",
       "      <th></th>\n",
       "      <th></th>\n",
       "      <th></th>\n",
       "      <th></th>\n",
       "      <th></th>\n",
       "      <th></th>\n",
       "    </tr>\n",
       "  </thead>\n",
       "  <tbody>\n",
       "    <tr>\n",
       "      <th>2020-01-02</th>\n",
       "      <td>148.199997</td>\n",
       "      <td>145.100006</td>\n",
       "      <td>145.289993</td>\n",
       "      <td>148.199997</td>\n",
       "      <td>9502100</td>\n",
       "      <td>148.199997</td>\n",
       "    </tr>\n",
       "    <tr>\n",
       "      <th>2020-01-03</th>\n",
       "      <td>147.899994</td>\n",
       "      <td>146.050003</td>\n",
       "      <td>146.399994</td>\n",
       "      <td>146.500000</td>\n",
       "      <td>7320200</td>\n",
       "      <td>146.500000</td>\n",
       "    </tr>\n",
       "    <tr>\n",
       "      <th>2020-01-06</th>\n",
       "      <td>146.029999</td>\n",
       "      <td>144.309998</td>\n",
       "      <td>145.539993</td>\n",
       "      <td>145.649994</td>\n",
       "      <td>8262500</td>\n",
       "      <td>145.649994</td>\n",
       "    </tr>\n",
       "    <tr>\n",
       "      <th>2020-01-07</th>\n",
       "      <td>146.869995</td>\n",
       "      <td>145.419998</td>\n",
       "      <td>145.990005</td>\n",
       "      <td>145.699997</td>\n",
       "      <td>6906500</td>\n",
       "      <td>145.699997</td>\n",
       "    </tr>\n",
       "    <tr>\n",
       "      <th>2020-01-08</th>\n",
       "      <td>146.130005</td>\n",
       "      <td>144.820007</td>\n",
       "      <td>145.490005</td>\n",
       "      <td>145.399994</td>\n",
       "      <td>6984200</td>\n",
       "      <td>145.399994</td>\n",
       "    </tr>\n",
       "  </tbody>\n",
       "</table>\n",
       "</div>"
      ],
      "text/plain": [
       "                  High         Low        Open       Close   Volume  \\\n",
       "Date                                                                  \n",
       "2020-01-02  148.199997  145.100006  145.289993  148.199997  9502100   \n",
       "2020-01-03  147.899994  146.050003  146.399994  146.500000  7320200   \n",
       "2020-01-06  146.029999  144.309998  145.539993  145.649994  8262500   \n",
       "2020-01-07  146.869995  145.419998  145.990005  145.699997  6906500   \n",
       "2020-01-08  146.130005  144.820007  145.490005  145.399994  6984200   \n",
       "\n",
       "             Adj Close  \n",
       "Date                    \n",
       "2020-01-02  148.199997  \n",
       "2020-01-03  146.500000  \n",
       "2020-01-06  145.649994  \n",
       "2020-01-07  145.699997  \n",
       "2020-01-08  145.399994  "
      ]
     },
     "execution_count": 37,
     "metadata": {},
     "output_type": "execute_result"
    }
   ],
   "source": [
    "#let's take a look at data\n",
    "data_dis.head()"
   ]
  },
  {
   "cell_type": "code",
   "execution_count": 38,
   "metadata": {},
   "outputs": [
    {
     "name": "stderr",
     "output_type": "stream",
     "text": [
      "C:\\Users\\HP\\anaconda3\\lib\\site-packages\\seaborn\\_decorators.py:43: FutureWarning:\n",
      "\n",
      "Pass the following variables as keyword args: x, y. From version 0.12, the only valid positional argument will be `data`, and passing other arguments without an explicit keyword will result in an error or misinterpretation.\n",
      "\n"
     ]
    },
    {
     "data": {
      "image/png": "[encoded data removed]",
      "text/plain": [
       "<Figure size 432x288 with 1 Axes>"
      ]
     },
     "metadata": {},
     "output_type": "display_data"
    }
   ],
   "source": [
    "#time series chart\n",
    "sns.lineplot(data_dis.index, data_dis.Close)\n",
    "\n",
    "plt.show()"
   ]
  },
  {
   "cell_type": "code",
   "execution_count": 39,
   "metadata": {},
   "outputs": [
    {
     "data": {
      "image/png": "[encoded data removed]",
      "text/plain": [
       "<Figure size 720x576 with 1 Axes>"
      ]
     },
     "metadata": {},
     "output_type": "display_data"
    }
   ],
   "source": [
    "#few lines on one chart\n",
    "plt.figure(figsize=(10,8))\n",
    "\n",
    "sns.lineplot(data=data_dis[['Open',\"Close\",\"High\"]],\n",
    "            palette=['#f22e02','#00a110','#002fc9'])\n",
    "\n",
    "plt.show()"
   ]
  },
  {
   "cell_type": "markdown",
   "metadata": {},
   "source": [
    "# Plotly"
   ]
  },
  {
   "cell_type": "markdown",
   "metadata": {},
   "source": [
    "The plotly Python library is an interactive, open-source plotting library that supports over 40 unique chart types covering a wide range of statistical, financial, geographic, scientific, and 3-dimensional use-cases.\n",
    "\n",
    "Built on top of the Plotly JavaScript library (plotly.js), plotly enables Python users to create beautiful interactive web-based visualizations that can be displayed in Jupyter notebooks, saved to standalone HTML files, or served as part of pure Python-built web applications using Dash. The plotly Python library is sometimes referred to as \"plotly.py\" to differentiate it from the JavaScript library.\n",
    "\n",
    "In Jupyter Notebook you can plot in Plotly via different ways:\n",
    "\n",
    "**Online**\n",
    "\n",
    "- Inside JupyterNotebook (from plotly.plotly import iplot)\n",
    "\n",
    "- Not in JupyterNotebook (from plotly.plotly import plot)\n",
    "\n",
    "**Offline**\n",
    "\n",
    "- <code>Inside JupyterNotebook (from plotly.offline import iplot)</code>\n",
    "- <code>Not in JupyterNotebook (from plotly.offline import plot)</code>\n",
    "\n",
    "In case of plotting inside the Notebook (using iplot), the following line of code must be executed, to show the plot inline:\n",
    "\n",
    "- <code>from plotly.offline import init_notebook_mode</code>\n",
    "- <code>init_notebook_mode(connected=True)</code>\n",
    "\n",
    "Use <code>go.Scatter()</code> function to create  line charts, scatter charts, text charts, and bubble charts: https://plotly.com/python-api-reference/generated/plotly.graph_objects.Scatter.html"
   ]
  },
  {
   "cell_type": "code",
   "execution_count": 40,
   "metadata": {},
   "outputs": [],
   "source": [
    "#first, create a data that plotly will understand\n",
    "data_obj=go.Scatter(x=data_dis.index, y=data_dis.Close,\n",
    "                   mode='lines')"
   ]
  },
  {
   "cell_type": "code",
   "execution_count": 41,
   "metadata": {},
   "outputs": [
    {
     "data": {
      "text/plain": [
       "Scatter({\n",
       "    'mode': 'lines',\n",
       "    'x': array([datetime.datetime(2020, 1, 2, 0, 0),\n",
       "                datetime.datetime(2020, 1, 3, 0, 0),\n",
       "                datetime.datetime(2020, 1, 6, 0, 0), ...,\n",
       "                datetime.datetime(2020, 12, 29, 0, 0),\n",
       "                datetime.datetime(2020, 12, 30, 0, 0),\n",
       "                datetime.datetime(2020, 12, 31, 0, 0)], dtype=object),\n",
       "    'y': array([148.19999695, 146.5       , 145.6499939 , ..., 177.30000305,\n",
       "                181.16999817, 181.17999268])\n",
       "})"
      ]
     },
     "execution_count": 41,
     "metadata": {},
     "output_type": "execute_result"
    }
   ],
   "source": [
    "#here is the data format that plotly understands\n",
    "data_obj"
   ]
  },
  {
   "cell_type": "code",
   "execution_count": 42,
   "metadata": {
    "scrolled": true
   },
   "outputs": [
    {
     "data": {
      "application/vnd.plotly.v1+json": {
       "config": {
        "plotlyServerURL": "https://plot.ly"
       },
       "data": [
        {
         "mode": "lines",
         "type": "scatter",
         "x": [
          "2020-01-02T00:00:00",
          "2020-01-03T00:00:00",
          "2020-01-06T00:00:00",
          "2020-01-07T00:00:00",
          "2020-01-08T00:00:00",
          "2020-01-09T00:00:00",
          "2020-01-10T00:00:00",
          "2020-01-13T00:00:00",
          "2020-01-14T00:00:00",
          "2020-01-15T00:00:00",
          "2020-01-16T00:00:00",
          "2020-01-17T00:00:00",
          "2020-01-21T00:00:00",
          "2020-01-22T00:00:00",
          "2020-01-23T00:00:00",
          "2020-01-24T00:00:00",
          "2020-01-27T00:00:00",
          "2020-01-28T00:00:00",
          "2020-01-29T00:00:00",
          "2020-01-30T00:00:00",
          "2020-01-31T00:00:00",
          "2020-02-03T00:00:00",
          "2020-02-04T00:00:00",
          "2020-02-05T00:00:00",
          "2020-02-06T00:00:00",
          "2020-02-07T00:00:00",
          "2020-02-10T00:00:00",
          "2020-02-11T00:00:00",
          "2020-02-12T00:00:00",
          "2020-02-13T00:00:00",
          "2020-02-14T00:00:00",
          "2020-02-18T00:00:00",
          "2020-02-19T00:00:00",
          "2020-02-20T00:00:00",
          "2020-02-21T00:00:00",
          "2020-02-24T00:00:00",
          "2020-02-25T00:00:00",
          "2020-02-26T00:00:00",
          "2020-02-27T00:00:00",
          "2020-02-28T00:00:00",
          "2020-03-02T00:00:00",
          "2020-03-03T00:00:00",
          "2020-03-04T00:00:00",
          "2020-03-05T00:00:00",
          "2020-03-06T00:00:00",
          "2020-03-09T00:00:00",
          "2020-03-10T00:00:00",
          "2020-03-11T00:00:00",
          "2020-03-12T00:00:00",
          "2020-03-13T00:00:00",
          "2020-03-16T00:00:00",
          "2020-03-17T00:00:00",
          "2020-03-18T00:00:00",
          "2020-03-19T00:00:00",
          "2020-03-20T00:00:00",
          "2020-03-23T00:00:00",
          "2020-03-24T00:00:00",
          "2020-03-25T00:00:00",
          "2020-03-26T00:00:00",
          "2020-03-27T00:00:00",
          "2020-03-30T00:00:00",
          "2020-03-31T00:00:00",
          "2020-04-01T00:00:00",
          "2020-04-02T00:00:00",
          "2020-04-03T00:00:00",
          "2020-04-06T00:00:00",
          "2020-04-07T00:00:00",
          "2020-04-08T00:00:00",
          "2020-04-09T00:00:00",
          "2020-04-13T00:00:00",
          "2020-04-14T00:00:00",
          "2020-04-15T00:00:00",
          "2020-04-16T00:00:00",
          "2020-04-17T00:00:00",
          "2020-04-20T00:00:00",
          "2020-04-21T00:00:00",
          "2020-04-22T00:00:00",
          "2020-04-23T00:00:00",
          "2020-04-24T00:00:00",
          "2020-04-27T00:00:00",
          "2020-04-28T00:00:00",
          "2020-04-29T00:00:00",
          "2020-04-30T00:00:00",
          "2020-05-01T00:00:00",
          "2020-05-04T00:00:00",
          "2020-05-05T00:00:00",
          "2020-05-06T00:00:00",
          "2020-05-07T00:00:00",
          "2020-05-08T00:00:00",
          "2020-05-11T00:00:00",
          "2020-05-12T00:00:00",
          "2020-05-13T00:00:00",
          "2020-05-14T00:00:00",
          "2020-05-15T00:00:00",
          "2020-05-18T00:00:00",
          "2020-05-19T00:00:00",
          "2020-05-20T00:00:00",
          "2020-05-21T00:00:00",
          "2020-05-22T00:00:00",
          "2020-05-26T00:00:00",
          "2020-05-27T00:00:00",
          "2020-05-28T00:00:00",
          "2020-05-29T00:00:00",
          "2020-06-01T00:00:00",
          "2020-06-02T00:00:00",
          "2020-06-03T00:00:00",
          "2020-06-04T00:00:00",
          "2020-06-05T00:00:00",
          "2020-06-08T00:00:00",
          "2020-06-09T00:00:00",
          "2020-06-10T00:00:00",
          "2020-06-11T00:00:00",
          "2020-06-12T00:00:00",
          "2020-06-15T00:00:00",
          "2020-06-16T00:00:00",
          "2020-06-17T00:00:00",
          "2020-06-18T00:00:00",
          "2020-06-19T00:00:00",
          "2020-06-22T00:00:00",
          "2020-06-23T00:00:00",
          "2020-06-24T00:00:00",
          "2020-06-25T00:00:00",
          "2020-06-26T00:00:00",
          "2020-06-29T00:00:00",
          "2020-06-30T00:00:00",
          "2020-07-01T00:00:00",
          "2020-07-02T00:00:00",
          "2020-07-06T00:00:00",
          "2020-07-07T00:00:00",
          "2020-07-08T00:00:00",
          "2020-07-09T00:00:00",
          "2020-07-10T00:00:00",
          "2020-07-13T00:00:00",
          "2020-07-14T00:00:00",
          "2020-07-15T00:00:00",
          "2020-07-16T00:00:00",
          "2020-07-17T00:00:00",
          "2020-07-20T00:00:00",
          "2020-07-21T00:00:00",
          "2020-07-22T00:00:00",
          "2020-07-23T00:00:00",
          "2020-07-24T00:00:00",
          "2020-07-27T00:00:00",
          "2020-07-28T00:00:00",
          "2020-07-29T00:00:00",
          "2020-07-30T00:00:00",
          "2020-07-31T00:00:00",
          "2020-08-03T00:00:00",
          "2020-08-04T00:00:00",
          "2020-08-05T00:00:00",
          "2020-08-06T00:00:00",
          "2020-08-07T00:00:00",
          "2020-08-10T00:00:00",
          "2020-08-11T00:00:00",
          "2020-08-12T00:00:00",
          "2020-08-13T00:00:00",
          "2020-08-14T00:00:00",
          "2020-08-17T00:00:00",
          "2020-08-18T00:00:00",
          "2020-08-19T00:00:00",
          "2020-08-20T00:00:00",
          "2020-08-21T00:00:00",
          "2020-08-24T00:00:00",
          "2020-08-25T00:00:00",
          "2020-08-26T00:00:00",
          "2020-08-27T00:00:00",
          "2020-08-28T00:00:00",
          "2020-08-31T00:00:00",
          "2020-09-01T00:00:00",
          "2020-09-02T00:00:00",
          "2020-09-03T00:00:00",
          "2020-09-04T00:00:00",
          "2020-09-08T00:00:00",
          "2020-09-09T00:00:00",
          "2020-09-10T00:00:00",
          "2020-09-11T00:00:00",
          "2020-09-14T00:00:00",
          "2020-09-15T00:00:00",
          "2020-09-16T00:00:00",
          "2020-09-17T00:00:00",
          "2020-09-18T00:00:00",
          "2020-09-21T00:00:00",
          "2020-09-22T00:00:00",
          "2020-09-23T00:00:00",
          "2020-09-24T00:00:00",
          "2020-09-25T00:00:00",
          "2020-09-28T00:00:00",
          "2020-09-29T00:00:00",
          "2020-09-30T00:00:00",
          "2020-10-01T00:00:00",
          "2020-10-02T00:00:00",
          "2020-10-05T00:00:00",
          "2020-10-06T00:00:00",
          "2020-10-07T00:00:00",
          "2020-10-08T00:00:00",
          "2020-10-09T00:00:00",
          "2020-10-12T00:00:00",
          "2020-10-13T00:00:00",
          "2020-10-14T00:00:00",
          "2020-10-15T00:00:00",
          "2020-10-16T00:00:00",
          "2020-10-19T00:00:00",
          "2020-10-20T00:00:00",
          "2020-10-21T00:00:00",
          "2020-10-22T00:00:00",
          "2020-10-23T00:00:00",
          "2020-10-26T00:00:00",
          "2020-10-27T00:00:00",
          "2020-10-28T00:00:00",
          "2020-10-29T00:00:00",
          "2020-10-30T00:00:00",
          "2020-11-02T00:00:00",
          "2020-11-03T00:00:00",
          "2020-11-04T00:00:00",
          "2020-11-05T00:00:00",
          "2020-11-06T00:00:00",
          "2020-11-09T00:00:00",
          "2020-11-10T00:00:00",
          "2020-11-11T00:00:00",
          "2020-11-12T00:00:00",
          "2020-11-13T00:00:00",
          "2020-11-16T00:00:00",
          "2020-11-17T00:00:00",
          "2020-11-18T00:00:00",
          "2020-11-19T00:00:00",
          "2020-11-20T00:00:00",
          "2020-11-23T00:00:00",
          "2020-11-24T00:00:00",
          "2020-11-25T00:00:00",
          "2020-11-27T00:00:00",
          "2020-11-30T00:00:00",
          "2020-12-01T00:00:00",
          "2020-12-02T00:00:00",
          "2020-12-03T00:00:00",
          "2020-12-04T00:00:00",
          "2020-12-07T00:00:00",
          "2020-12-08T00:00:00",
          "2020-12-09T00:00:00",
          "2020-12-10T00:00:00",
          "2020-12-11T00:00:00",
          "2020-12-14T00:00:00",
          "2020-12-15T00:00:00",
          "2020-12-16T00:00:00",
          "2020-12-17T00:00:00",
          "2020-12-18T00:00:00",
          "2020-12-21T00:00:00",
          "2020-12-22T00:00:00",
          "2020-12-23T00:00:00",
          "2020-12-24T00:00:00",
          "2020-12-28T00:00:00",
          "2020-12-29T00:00:00",
          "2020-12-30T00:00:00",
          "2020-12-31T00:00:00"
         ],
         "y": [
          148.1999969482422,
          146.5,
          145.64999389648438,
          145.6999969482422,
          145.39999389648438,
          144.8300018310547,
          144.6199951171875,
          143.8800048828125,
          145.1999969482422,
          144.32000732421875,
          145.1199951171875,
          144.3300018310547,
          143.55999755859375,
          144.00999450683594,
          142.1999969482422,
          140.0800018310547,
          135.89999389648438,
          138.3699951171875,
          136.05999755859375,
          137.80999755859375,
          138.30999755859375,
          141.32000732421875,
          144.72999572753906,
          141.3699951171875,
          142.6999969482422,
          141.02000427246094,
          142.58999633789062,
          141.00999450683594,
          141.85000610351562,
          140.89999389648438,
          139.5399932861328,
          139.13999938964844,
          141.3000030517578,
          140.3699951171875,
          138.97000122070312,
          133.00999450683594,
          128.19000244140625,
          123.36000061035156,
          118.04000091552734,
          117.6500015258789,
          119.9800033569336,
          116.44999694824219,
          119.18000030517578,
          113.9800033569336,
          115.2699966430664,
          104.3499984741211,
          111.45999908447266,
          105.51000213623047,
          91.80999755859375,
          102.5199966430664,
          95.01000213623047,
          93.52999877929688,
          88.80000305175781,
          94.93000030517578,
          85.9800033569336,
          85.76000213623047,
          98.12000274658203,
          100.7300033569336,
          105.36000061035156,
          96.4000015258789,
          99.80000305175781,
          96.5999984741211,
          94.91999816894531,
          96.97000122070312,
          93.87999725341797,
          99.58000183105469,
          101.23999786376953,
          101.06999969482422,
          104.5,
          103.5,
          106.02999877929688,
          103.37000274658203,
          102.0199966430664,
          106.62999725341797,
          102.26000213623047,
          100.54000091552734,
          100.98999786376953,
          101,
          101.19000244140625,
          106.05999755859375,
          106.20999908447266,
          112.25,
          108.1500015258789,
          105.5,
          103.18000030517578,
          101.05999755859375,
          100.87999725341797,
          105.56999969482422,
          109.16000366210938,
          107.7699966430664,
          104.55999755859375,
          102.91999816894531,
          105.91000366210938,
          109.05000305175781,
          116.8499984741211,
          114.37000274658203,
          119.91999816894531,
          117.83000183105469,
          118.0199966430664,
          120.94999694824219,
          121.52999877929688,
          116.75,
          117.30000305175781,
          118.7699966430664,
          118.75,
          122.18000030517578,
          123.69000244140625,
          124.81999969482422,
          127.27999877929688,
          123.88999938964844,
          122.18000030517578,
          112.63999938964844,
          115.48999786376953,
          117.08000183105469,
          118.44000244140625,
          117.6500015258789,
          118.37000274658203,
          114.3499984741211,
          115.91999816894531,
          116.58999633789062,
          112.06999969482422,
          111.36000061035156,
          109.0999984741211,
          111.5199966430664,
          111.51000213623047,
          113.01000213623047,
          112.18000030517578,
          114.43000030517578,
          113.62999725341797,
          116.66000366210938,
          116.80999755859375,
          119.33999633789062,
          116.22000122070312,
          118.66000366210938,
          120.9000015258789,
          119.43000030517578,
          118.6500015258789,
          117.79000091552734,
          118.62000274658203,
          119.02999877929688,
          118.12000274658203,
          117.61000061035156,
          116.30999755859375,
          116.18000030517578,
          115.61000061035156,
          115.66000366210938,
          116.94000244140625,
          116.3499984741211,
          117.29000091552734,
          127.61000061035156,
          130.82000732421875,
          129.92999267578125,
          128.7899932861328,
          130.49000549316406,
          131.7899932861328,
          130.9600067138672,
          130.52999877929688,
          129.3699951171875,
          128.9199981689453,
          127.7699966430664,
          128.1199951171875,
          127.44000244140625,
          130.69000244140625,
          129.7899932861328,
          132.17999267578125,
          133.72999572753906,
          135.5399932861328,
          131.8699951171875,
          133.5500030517578,
          135.38999938964844,
          133.24000549316406,
          131.99000549316406,
          134.1999969482422,
          133.36000061035156,
          133.22000122070312,
          131.75,
          131.25,
          131.24000549316406,
          132.08999633789062,
          130.22000122070312,
          128.6300048828125,
          125.41000366210938,
          127.20999908447266,
          123.27999877929688,
          122.48999786376953,
          124,
          125.98999786376953,
          125.4000015258789,
          124.08000183105469,
          123.30999755859375,
          122.55000305175781,
          123.37000274658203,
          120.93000030517578,
          122.91000366210938,
          123.08999633789062,
          124.9800033569336,
          124.97000122070312,
          128.9600067138672,
          126.58999633789062,
          127.36000061035156,
          126.80999755859375,
          124.2300033569336,
          124.94999694824219,
          126.62999725341797,
          127.55999755859375,
          128.35000610351562,
          124.05999755859375,
          123.30999755859375,
          118.47000122070312,
          121.54000091552734,
          121.25,
          120.12999725341797,
          124.0199966430664,
          125.06999969482422,
          126.95999908447266,
          127.45999908447266,
          142.58999633789062,
          142.11000061035156,
          137.82000732421875,
          135.52000427246094,
          138.36000061035156,
          144.6699981689453,
          144.5,
          143.89999389648438,
          141.72000122070312,
          141.07000732421875,
          145.97999572753906,
          151.49000549316406,
          149.08999633789062,
          147.1300048828125,
          148.00999450683594,
          149.44000244140625,
          153.61000061035156,
          153.24000549316406,
          154.13999938964844,
          153.67999267578125,
          153.72000122070312,
          154.42999267578125,
          154.69000244140625,
          175.72000122070312,
          169.3000030517578,
          173.94000244140625,
          173.1199951171875,
          173.5500030517578,
          172.88999938964844,
          170.69000244140625,
          170.4499969482422,
          173.5500030517578,
          173.72999572753906,
          178.86000061035156,
          177.3000030517578,
          181.1699981689453,
          181.17999267578125
         ]
        }
       ],
       "layout": {
        "template": {
         "data": {
          "bar": [
           {
            "error_x": {
             "color": "#2a3f5f"
            },
            "error_y": {
             "color": "#2a3f5f"
            },
            "marker": {
             "line": {
              "color": "#E5ECF6",
              "width": 0.5
             }
            },
            "type": "bar"
           }
          ],
          "barpolar": [
           {
            "marker": {
             "line": {
              "color": "#E5ECF6",
              "width": 0.5
             }
            },
            "type": "barpolar"
           }
          ],
          "carpet": [
           {
            "aaxis": {
             "endlinecolor": "#2a3f5f",
             "gridcolor": "white",
             "linecolor": "white",
             "minorgridcolor": "white",
             "startlinecolor": "#2a3f5f"
            },
            "baxis": {
             "endlinecolor": "#2a3f5f",
             "gridcolor": "white",
             "linecolor": "white",
             "minorgridcolor": "white",
             "startlinecolor": "#2a3f5f"
            },
            "type": "carpet"
           }
          ],
          "choropleth": [
           {
            "colorbar": {
             "outlinewidth": 0,
             "ticks": ""
            },
            "type": "choropleth"
           }
          ],
          "contour": [
           {
            "colorbar": {
             "outlinewidth": 0,
             "ticks": ""
            },
            "colorscale": [
             [
              0,
              "#0d0887"
             ],
             [
              0.1111111111111111,
              "#46039f"
             ],
             [
              0.2222222222222222,
              "#7201a8"
             ],
             [
              0.3333333333333333,
              "#9c179e"
             ],
             [
              0.4444444444444444,
              "#bd3786"
             ],
             [
              0.5555555555555556,
              "#d8576b"
             ],
             [
              0.6666666666666666,
              "#ed7953"
             ],
             [
              0.7777777777777778,
              "#fb9f3a"
             ],
             [
              0.8888888888888888,
              "#fdca26"
             ],
             [
              1,
              "#f0f921"
             ]
            ],
            "type": "contour"
           }
          ],
          "contourcarpet": [
           {
            "colorbar": {
             "outlinewidth": 0,
             "ticks": ""
            },
            "type": "contourcarpet"
           }
          ],
          "heatmap": [
           {
            "colorbar": {
             "outlinewidth": 0,
             "ticks": ""
            },
            "colorscale": [
             [
              0,
              "#0d0887"
             ],
             [
              0.1111111111111111,
              "#46039f"
             ],
             [
              0.2222222222222222,
              "#7201a8"
             ],
             [
              0.3333333333333333,
              "#9c179e"
             ],
             [
              0.4444444444444444,
              "#bd3786"
             ],
             [
              0.5555555555555556,
              "#d8576b"
             ],
             [
              0.6666666666666666,
              "#ed7953"
             ],
             [
              0.7777777777777778,
              "#fb9f3a"
             ],
             [
              0.8888888888888888,
              "#fdca26"
             ],
             [
              1,
              "#f0f921"
             ]
            ],
            "type": "heatmap"
           }
          ],
          "heatmapgl": [
           {
            "colorbar": {
             "outlinewidth": 0,
             "ticks": ""
            },
            "colorscale": [
             [
              0,
              "#0d0887"
             ],
             [
              0.1111111111111111,
              "#46039f"
             ],
             [
              0.2222222222222222,
              "#7201a8"
             ],
             [
              0.3333333333333333,
              "#9c179e"
             ],
             [
              0.4444444444444444,
              "#bd3786"
             ],
             [
              0.5555555555555556,
              "#d8576b"
             ],
             [
              0.6666666666666666,
              "#ed7953"
             ],
             [
              0.7777777777777778,
              "#fb9f3a"
             ],
             [
              0.8888888888888888,
              "#fdca26"
             ],
             [
              1,
              "#f0f921"
             ]
            ],
            "type": "heatmapgl"
           }
          ],
          "histogram": [
           {
            "marker": {
             "colorbar": {
              "outlinewidth": 0,
              "ticks": ""
             }
            },
            "type": "histogram"
           }
          ],
          "histogram2d": [
           {
            "colorbar": {
             "outlinewidth": 0,
             "ticks": ""
            },
            "colorscale": [
             [
              0,
              "#0d0887"
             ],
             [
              0.1111111111111111,
              "#46039f"
             ],
             [
              0.2222222222222222,
              "#7201a8"
             ],
             [
              0.3333333333333333,
              "#9c179e"
             ],
             [
              0.4444444444444444,
              "#bd3786"
             ],
             [
              0.5555555555555556,
              "#d8576b"
             ],
             [
              0.6666666666666666,
              "#ed7953"
             ],
             [
              0.7777777777777778,
              "#fb9f3a"
             ],
             [
              0.8888888888888888,
              "#fdca26"
             ],
             [
              1,
              "#f0f921"
             ]
            ],
            "type": "histogram2d"
           }
          ],
          "histogram2dcontour": [
           {
            "colorbar": {
             "outlinewidth": 0,
             "ticks": ""
            },
            "colorscale": [
             [
              0,
              "#0d0887"
             ],
             [
              0.1111111111111111,
              "#46039f"
             ],
             [
              0.2222222222222222,
              "#7201a8"
             ],
             [
              0.3333333333333333,
              "#9c179e"
             ],
             [
              0.4444444444444444,
              "#bd3786"
             ],
             [
              0.5555555555555556,
              "#d8576b"
             ],
             [
              0.6666666666666666,
              "#ed7953"
             ],
             [
              0.7777777777777778,
              "#fb9f3a"
             ],
             [
              0.8888888888888888,
              "#fdca26"
             ],
             [
              1,
              "#f0f921"
             ]
            ],
            "type": "histogram2dcontour"
           }
          ],
          "mesh3d": [
           {
            "colorbar": {
             "outlinewidth": 0,
             "ticks": ""
            },
            "type": "mesh3d"
           }
          ],
          "parcoords": [
           {
            "line": {
             "colorbar": {
              "outlinewidth": 0,
              "ticks": ""
             }
            },
            "type": "parcoords"
           }
          ],
          "pie": [
           {
            "automargin": true,
            "type": "pie"
           }
          ],
          "scatter": [
           {
            "marker": {
             "colorbar": {
              "outlinewidth": 0,
              "ticks": ""
             }
            },
            "type": "scatter"
           }
          ],
          "scatter3d": [
           {
            "line": {
             "colorbar": {
              "outlinewidth": 0,
              "ticks": ""
             }
            },
            "marker": {
             "colorbar": {
              "outlinewidth": 0,
              "ticks": ""
             }
            },
            "type": "scatter3d"
           }
          ],
          "scattercarpet": [
           {
            "marker": {
             "colorbar": {
              "outlinewidth": 0,
              "ticks": ""
             }
            },
            "type": "scattercarpet"
           }
          ],
          "scattergeo": [
           {
            "marker": {
             "colorbar": {
              "outlinewidth": 0,
              "ticks": ""
             }
            },
            "type": "scattergeo"
           }
          ],
          "scattergl": [
           {
            "marker": {
             "colorbar": {
              "outlinewidth": 0,
              "ticks": ""
             }
            },
            "type": "scattergl"
           }
          ],
          "scattermapbox": [
           {
            "marker": {
             "colorbar": {
              "outlinewidth": 0,
              "ticks": ""
             }
            },
            "type": "scattermapbox"
           }
          ],
          "scatterpolar": [
           {
            "marker": {
             "colorbar": {
              "outlinewidth": 0,
              "ticks": ""
             }
            },
            "type": "scatterpolar"
           }
          ],
          "scatterpolargl": [
           {
            "marker": {
             "colorbar": {
              "outlinewidth": 0,
              "ticks": ""
             }
            },
            "type": "scatterpolargl"
           }
          ],
          "scatterternary": [
           {
            "marker": {
             "colorbar": {
              "outlinewidth": 0,
              "ticks": ""
             }
            },
            "type": "scatterternary"
           }
          ],
          "surface": [
           {
            "colorbar": {
             "outlinewidth": 0,
             "ticks": ""
            },
            "colorscale": [
             [
              0,
              "#0d0887"
             ],
             [
              0.1111111111111111,
              "#46039f"
             ],
             [
              0.2222222222222222,
              "#7201a8"
             ],
             [
              0.3333333333333333,
              "#9c179e"
             ],
             [
              0.4444444444444444,
              "#bd3786"
             ],
             [
              0.5555555555555556,
              "#d8576b"
             ],
             [
              0.6666666666666666,
              "#ed7953"
             ],
             [
              0.7777777777777778,
              "#fb9f3a"
             ],
             [
              0.8888888888888888,
              "#fdca26"
             ],
             [
              1,
              "#f0f921"
             ]
            ],
            "type": "surface"
           }
          ],
          "table": [
           {
            "cells": {
             "fill": {
              "color": "#EBF0F8"
             },
             "line": {
              "color": "white"
             }
            },
            "header": {
             "fill": {
              "color": "#C8D4E3"
             },
             "line": {
              "color": "white"
             }
            },
            "type": "table"
           }
          ]
         },
         "layout": {
          "annotationdefaults": {
           "arrowcolor": "#2a3f5f",
           "arrowhead": 0,
           "arrowwidth": 1
          },
          "coloraxis": {
           "colorbar": {
            "outlinewidth": 0,
            "ticks": ""
           }
          },
          "colorscale": {
           "diverging": [
            [
             0,
             "#8e0152"
            ],
            [
             0.1,
             "#c51b7d"
            ],
            [
             0.2,
             "#de77ae"
            ],
            [
             0.3,
             "#f1b6da"
            ],
            [
             0.4,
             "#fde0ef"
            ],
            [
             0.5,
             "#f7f7f7"
            ],
            [
             0.6,
             "#e6f5d0"
            ],
            [
             0.7,
             "#b8e186"
            ],
            [
             0.8,
             "#7fbc41"
            ],
            [
             0.9,
             "#4d9221"
            ],
            [
             1,
             "#276419"
            ]
           ],
           "sequential": [
            [
             0,
             "#0d0887"
            ],
            [
             0.1111111111111111,
             "#46039f"
            ],
            [
             0.2222222222222222,
             "#7201a8"
            ],
            [
             0.3333333333333333,
             "#9c179e"
            ],
            [
             0.4444444444444444,
             "#bd3786"
            ],
            [
             0.5555555555555556,
             "#d8576b"
            ],
            [
             0.6666666666666666,
             "#ed7953"
            ],
            [
             0.7777777777777778,
             "#fb9f3a"
            ],
            [
             0.8888888888888888,
             "#fdca26"
            ],
            [
             1,
             "#f0f921"
            ]
           ],
           "sequentialminus": [
            [
             0,
             "#0d0887"
            ],
            [
             0.1111111111111111,
             "#46039f"
            ],
            [
             0.2222222222222222,
             "#7201a8"
            ],
            [
             0.3333333333333333,
             "#9c179e"
            ],
            [
             0.4444444444444444,
             "#bd3786"
            ],
            [
             0.5555555555555556,
             "#d8576b"
            ],
            [
             0.6666666666666666,
             "#ed7953"
            ],
            [
             0.7777777777777778,
             "#fb9f3a"
            ],
            [
             0.8888888888888888,
             "#fdca26"
            ],
            [
             1,
             "#f0f921"
            ]
           ]
          },
          "colorway": [
           "#636efa",
           "#EF553B",
           "#00cc96",
           "#ab63fa",
           "#FFA15A",
           "#19d3f3",
           "#FF6692",
           "#B6E880",
           "#FF97FF",
           "#FECB52"
          ],
          "font": {
           "color": "#2a3f5f"
          },
          "geo": {
           "bgcolor": "white",
           "lakecolor": "white",
           "landcolor": "#E5ECF6",
           "showlakes": true,
           "showland": true,
           "subunitcolor": "white"
          },
          "hoverlabel": {
           "align": "left"
          },
          "hovermode": "closest",
          "mapbox": {
           "style": "light"
          },
          "paper_bgcolor": "white",
          "plot_bgcolor": "#E5ECF6",
          "polar": {
           "angularaxis": {
            "gridcolor": "white",
            "linecolor": "white",
            "ticks": ""
           },
           "bgcolor": "#E5ECF6",
           "radialaxis": {
            "gridcolor": "white",
            "linecolor": "white",
            "ticks": ""
           }
          },
          "scene": {
           "xaxis": {
            "backgroundcolor": "#E5ECF6",
            "gridcolor": "white",
            "gridwidth": 2,
            "linecolor": "white",
            "showbackground": true,
            "ticks": "",
            "zerolinecolor": "white"
           },
           "yaxis": {
            "backgroundcolor": "#E5ECF6",
            "gridcolor": "white",
            "gridwidth": 2,
            "linecolor": "white",
            "showbackground": true,
            "ticks": "",
            "zerolinecolor": "white"
           },
           "zaxis": {
            "backgroundcolor": "#E5ECF6",
            "gridcolor": "white",
            "gridwidth": 2,
            "linecolor": "white",
            "showbackground": true,
            "ticks": "",
            "zerolinecolor": "white"
           }
          },
          "shapedefaults": {
           "line": {
            "color": "#2a3f5f"
           }
          },
          "ternary": {
           "aaxis": {
            "gridcolor": "white",
            "linecolor": "white",
            "ticks": ""
           },
           "baxis": {
            "gridcolor": "white",
            "linecolor": "white",
            "ticks": ""
           },
           "bgcolor": "#E5ECF6",
           "caxis": {
            "gridcolor": "white",
            "linecolor": "white",
            "ticks": ""
           }
          },
          "title": {
           "x": 0.05
          },
          "xaxis": {
           "automargin": true,
           "gridcolor": "white",
           "linecolor": "white",
           "ticks": "",
           "title": {
            "standoff": 15
           },
           "zerolinecolor": "white",
           "zerolinewidth": 2
          },
          "yaxis": {
           "automargin": true,
           "gridcolor": "white",
           "linecolor": "white",
           "ticks": "",
           "title": {
            "standoff": 15
           },
           "zerolinecolor": "white",
           "zerolinewidth": 2
          }
         }
        }
       }
      },
      "text/html": [
       "<div>\n",
       "        \n",
       "        \n",
       "            <div id=\"b508ae04-8e14-439c-b5a1-9a46df899f43\" class=\"plotly-graph-div\" style=\"height:525px; width:100%;\"></div>\n",
       "            <script type=\"text/javascript\">\n",
       "                require([\"plotly\"], function(Plotly) {\n",
       "                    window.PLOTLYENV=window.PLOTLYENV || {};\n",
       "                    \n",
       "                if (document.getElementById(\"b508ae04-8e14-439c-b5a1-9a46df899f43\")) {\n",
       "                    Plotly.newPlot(\n",
       "                        'b508ae04-8e14-439c-b5a1-9a46df899f43',\n",
       "                        [{\"mode\": \"lines\", \"type\": \"scatter\", \"x\": [\"2020-01-02T00:00:00\", \"2020-01-03T00:00:00\", \"2020-01-06T00:00:00\", \"2020-01-07T00:00:00\", \"2020-01-08T00:00:00\", \"2020-01-09T00:00:00\", \"2020-01-10T00:00:00\", \"2020-01-13T00:00:00\", \"2020-01-14T00:00:00\", \"2020-01-15T00:00:00\", \"2020-01-16T00:00:00\", \"2020-01-17T00:00:00\", \"2020-01-21T00:00:00\", \"2020-01-22T00:00:00\", \"2020-01-23T00:00:00\", \"2020-01-24T00:00:00\", \"2020-01-27T00:00:00\", \"2020-01-28T00:00:00\", \"2020-01-29T00:00:00\", \"2020-01-30T00:00:00\", \"2020-01-31T00:00:00\", \"2020-02-03T00:00:00\", \"2020-02-04T00:00:00\", \"2020-02-05T00:00:00\", \"2020-02-06T00:00:00\", \"2020-02-07T00:00:00\", \"2020-02-10T00:00:00\", \"2020-02-11T00:00:00\", \"2020-02-12T00:00:00\", \"2020-02-13T00:00:00\", \"2020-02-14T00:00:00\", \"2020-02-18T00:00:00\", \"2020-02-19T00:00:00\", \"2020-02-20T00:00:00\", \"2020-02-21T00:00:00\", \"2020-02-24T00:00:00\", \"2020-02-25T00:00:00\", \"2020-02-26T00:00:00\", \"2020-02-27T00:00:00\", \"2020-02-28T00:00:00\", \"2020-03-02T00:00:00\", \"2020-03-03T00:00:00\", \"2020-03-04T00:00:00\", \"2020-03-05T00:00:00\", \"2020-03-06T00:00:00\", \"2020-03-09T00:00:00\", \"2020-03-10T00:00:00\", \"2020-03-11T00:00:00\", \"2020-03-12T00:00:00\", \"2020-03-13T00:00:00\", \"2020-03-16T00:00:00\", \"2020-03-17T00:00:00\", \"2020-03-18T00:00:00\", \"2020-03-19T00:00:00\", \"2020-03-20T00:00:00\", \"2020-03-23T00:00:00\", \"2020-03-24T00:00:00\", \"2020-03-25T00:00:00\", \"2020-03-26T00:00:00\", \"2020-03-27T00:00:00\", \"2020-03-30T00:00:00\", \"2020-03-31T00:00:00\", \"2020-04-01T00:00:00\", \"2020-04-02T00:00:00\", \"2020-04-03T00:00:00\", \"2020-04-06T00:00:00\", \"2020-04-07T00:00:00\", \"2020-04-08T00:00:00\", \"2020-04-09T00:00:00\", \"2020-04-13T00:00:00\", \"2020-04-14T00:00:00\", \"2020-04-15T00:00:00\", \"2020-04-16T00:00:00\", \"2020-04-17T00:00:00\", \"2020-04-20T00:00:00\", \"2020-04-21T00:00:00\", \"2020-04-22T00:00:00\", \"2020-04-23T00:00:00\", \"2020-04-24T00:00:00\", \"2020-04-27T00:00:00\", \"2020-04-28T00:00:00\", \"2020-04-29T00:00:00\", \"2020-04-30T00:00:00\", \"2020-05-01T00:00:00\", \"2020-05-04T00:00:00\", \"2020-05-05T00:00:00\", \"2020-05-06T00:00:00\", \"2020-05-07T00:00:00\", \"2020-05-08T00:00:00\", \"2020-05-11T00:00:00\", \"2020-05-12T00:00:00\", \"2020-05-13T00:00:00\", \"2020-05-14T00:00:00\", \"2020-05-15T00:00:00\", \"2020-05-18T00:00:00\", \"2020-05-19T00:00:00\", \"2020-05-20T00:00:00\", \"2020-05-21T00:00:00\", \"2020-05-22T00:00:00\", \"2020-05-26T00:00:00\", \"2020-05-27T00:00:00\", \"2020-05-28T00:00:00\", \"2020-05-29T00:00:00\", \"2020-06-01T00:00:00\", \"2020-06-02T00:00:00\", \"2020-06-03T00:00:00\", \"2020-06-04T00:00:00\", \"2020-06-05T00:00:00\", \"2020-06-08T00:00:00\", \"2020-06-09T00:00:00\", \"2020-06-10T00:00:00\", \"2020-06-11T00:00:00\", \"2020-06-12T00:00:00\", \"2020-06-15T00:00:00\", \"2020-06-16T00:00:00\", \"2020-06-17T00:00:00\", \"2020-06-18T00:00:00\", \"2020-06-19T00:00:00\", \"2020-06-22T00:00:00\", \"2020-06-23T00:00:00\", \"2020-06-24T00:00:00\", \"2020-06-25T00:00:00\", \"2020-06-26T00:00:00\", \"2020-06-29T00:00:00\", \"2020-06-30T00:00:00\", \"2020-07-01T00:00:00\", \"2020-07-02T00:00:00\", \"2020-07-06T00:00:00\", \"2020-07-07T00:00:00\", \"2020-07-08T00:00:00\", \"2020-07-09T00:00:00\", \"2020-07-10T00:00:00\", \"2020-07-13T00:00:00\", \"2020-07-14T00:00:00\", \"2020-07-15T00:00:00\", \"2020-07-16T00:00:00\", \"2020-07-17T00:00:00\", \"2020-07-20T00:00:00\", \"2020-07-21T00:00:00\", \"2020-07-22T00:00:00\", \"2020-07-23T00:00:00\", \"2020-07-24T00:00:00\", \"2020-07-27T00:00:00\", \"2020-07-28T00:00:00\", \"2020-07-29T00:00:00\", \"2020-07-30T00:00:00\", \"2020-07-31T00:00:00\", \"2020-08-03T00:00:00\", \"2020-08-04T00:00:00\", \"2020-08-05T00:00:00\", \"2020-08-06T00:00:00\", \"2020-08-07T00:00:00\", \"2020-08-10T00:00:00\", \"2020-08-11T00:00:00\", \"2020-08-12T00:00:00\", \"2020-08-13T00:00:00\", \"2020-08-14T00:00:00\", \"2020-08-17T00:00:00\", \"2020-08-18T00:00:00\", \"2020-08-19T00:00:00\", \"2020-08-20T00:00:00\", \"2020-08-21T00:00:00\", \"2020-08-24T00:00:00\", \"2020-08-25T00:00:00\", \"2020-08-26T00:00:00\", \"2020-08-27T00:00:00\", \"2020-08-28T00:00:00\", \"2020-08-31T00:00:00\", \"2020-09-01T00:00:00\", \"2020-09-02T00:00:00\", \"2020-09-03T00:00:00\", \"2020-09-04T00:00:00\", \"2020-09-08T00:00:00\", \"2020-09-09T00:00:00\", \"2020-09-10T00:00:00\", \"2020-09-11T00:00:00\", \"2020-09-14T00:00:00\", \"2020-09-15T00:00:00\", \"2020-09-16T00:00:00\", \"2020-09-17T00:00:00\", \"2020-09-18T00:00:00\", \"2020-09-21T00:00:00\", \"2020-09-22T00:00:00\", \"2020-09-23T00:00:00\", \"2020-09-24T00:00:00\", \"2020-09-25T00:00:00\", \"2020-09-28T00:00:00\", \"2020-09-29T00:00:00\", \"2020-09-30T00:00:00\", \"2020-10-01T00:00:00\", \"2020-10-02T00:00:00\", \"2020-10-05T00:00:00\", \"2020-10-06T00:00:00\", \"2020-10-07T00:00:00\", \"2020-10-08T00:00:00\", \"2020-10-09T00:00:00\", \"2020-10-12T00:00:00\", \"2020-10-13T00:00:00\", \"2020-10-14T00:00:00\", \"2020-10-15T00:00:00\", \"2020-10-16T00:00:00\", \"2020-10-19T00:00:00\", \"2020-10-20T00:00:00\", \"2020-10-21T00:00:00\", \"2020-10-22T00:00:00\", \"2020-10-23T00:00:00\", \"2020-10-26T00:00:00\", \"2020-10-27T00:00:00\", \"2020-10-28T00:00:00\", \"2020-10-29T00:00:00\", \"2020-10-30T00:00:00\", \"2020-11-02T00:00:00\", \"2020-11-03T00:00:00\", \"2020-11-04T00:00:00\", \"2020-11-05T00:00:00\", \"2020-11-06T00:00:00\", \"2020-11-09T00:00:00\", \"2020-11-10T00:00:00\", \"2020-11-11T00:00:00\", \"2020-11-12T00:00:00\", \"2020-11-13T00:00:00\", \"2020-11-16T00:00:00\", \"2020-11-17T00:00:00\", \"2020-11-18T00:00:00\", \"2020-11-19T00:00:00\", \"2020-11-20T00:00:00\", \"2020-11-23T00:00:00\", \"2020-11-24T00:00:00\", \"2020-11-25T00:00:00\", \"2020-11-27T00:00:00\", \"2020-11-30T00:00:00\", \"2020-12-01T00:00:00\", \"2020-12-02T00:00:00\", \"2020-12-03T00:00:00\", \"2020-12-04T00:00:00\", \"2020-12-07T00:00:00\", \"2020-12-08T00:00:00\", \"2020-12-09T00:00:00\", \"2020-12-10T00:00:00\", \"2020-12-11T00:00:00\", \"2020-12-14T00:00:00\", \"2020-12-15T00:00:00\", \"2020-12-16T00:00:00\", \"2020-12-17T00:00:00\", \"2020-12-18T00:00:00\", \"2020-12-21T00:00:00\", \"2020-12-22T00:00:00\", \"2020-12-23T00:00:00\", \"2020-12-24T00:00:00\", \"2020-12-28T00:00:00\", \"2020-12-29T00:00:00\", \"2020-12-30T00:00:00\", \"2020-12-31T00:00:00\"], \"y\": [148.1999969482422, 146.5, 145.64999389648438, 145.6999969482422, 145.39999389648438, 144.8300018310547, 144.6199951171875, 143.8800048828125, 145.1999969482422, 144.32000732421875, 145.1199951171875, 144.3300018310547, 143.55999755859375, 144.00999450683594, 142.1999969482422, 140.0800018310547, 135.89999389648438, 138.3699951171875, 136.05999755859375, 137.80999755859375, 138.30999755859375, 141.32000732421875, 144.72999572753906, 141.3699951171875, 142.6999969482422, 141.02000427246094, 142.58999633789062, 141.00999450683594, 141.85000610351562, 140.89999389648438, 139.5399932861328, 139.13999938964844, 141.3000030517578, 140.3699951171875, 138.97000122070312, 133.00999450683594, 128.19000244140625, 123.36000061035156, 118.04000091552734, 117.6500015258789, 119.9800033569336, 116.44999694824219, 119.18000030517578, 113.9800033569336, 115.2699966430664, 104.3499984741211, 111.45999908447266, 105.51000213623047, 91.80999755859375, 102.5199966430664, 95.01000213623047, 93.52999877929688, 88.80000305175781, 94.93000030517578, 85.9800033569336, 85.76000213623047, 98.12000274658203, 100.7300033569336, 105.36000061035156, 96.4000015258789, 99.80000305175781, 96.5999984741211, 94.91999816894531, 96.97000122070312, 93.87999725341797, 99.58000183105469, 101.23999786376953, 101.06999969482422, 104.5, 103.5, 106.02999877929688, 103.37000274658203, 102.0199966430664, 106.62999725341797, 102.26000213623047, 100.54000091552734, 100.98999786376953, 101.0, 101.19000244140625, 106.05999755859375, 106.20999908447266, 112.25, 108.1500015258789, 105.5, 103.18000030517578, 101.05999755859375, 100.87999725341797, 105.56999969482422, 109.16000366210938, 107.7699966430664, 104.55999755859375, 102.91999816894531, 105.91000366210938, 109.05000305175781, 116.8499984741211, 114.37000274658203, 119.91999816894531, 117.83000183105469, 118.0199966430664, 120.94999694824219, 121.52999877929688, 116.75, 117.30000305175781, 118.7699966430664, 118.75, 122.18000030517578, 123.69000244140625, 124.81999969482422, 127.27999877929688, 123.88999938964844, 122.18000030517578, 112.63999938964844, 115.48999786376953, 117.08000183105469, 118.44000244140625, 117.6500015258789, 118.37000274658203, 114.3499984741211, 115.91999816894531, 116.58999633789062, 112.06999969482422, 111.36000061035156, 109.0999984741211, 111.5199966430664, 111.51000213623047, 113.01000213623047, 112.18000030517578, 114.43000030517578, 113.62999725341797, 116.66000366210938, 116.80999755859375, 119.33999633789062, 116.22000122070312, 118.66000366210938, 120.9000015258789, 119.43000030517578, 118.6500015258789, 117.79000091552734, 118.62000274658203, 119.02999877929688, 118.12000274658203, 117.61000061035156, 116.30999755859375, 116.18000030517578, 115.61000061035156, 115.66000366210938, 116.94000244140625, 116.3499984741211, 117.29000091552734, 127.61000061035156, 130.82000732421875, 129.92999267578125, 128.7899932861328, 130.49000549316406, 131.7899932861328, 130.9600067138672, 130.52999877929688, 129.3699951171875, 128.9199981689453, 127.7699966430664, 128.1199951171875, 127.44000244140625, 130.69000244140625, 129.7899932861328, 132.17999267578125, 133.72999572753906, 135.5399932861328, 131.8699951171875, 133.5500030517578, 135.38999938964844, 133.24000549316406, 131.99000549316406, 134.1999969482422, 133.36000061035156, 133.22000122070312, 131.75, 131.25, 131.24000549316406, 132.08999633789062, 130.22000122070312, 128.6300048828125, 125.41000366210938, 127.20999908447266, 123.27999877929688, 122.48999786376953, 124.0, 125.98999786376953, 125.4000015258789, 124.08000183105469, 123.30999755859375, 122.55000305175781, 123.37000274658203, 120.93000030517578, 122.91000366210938, 123.08999633789062, 124.9800033569336, 124.97000122070312, 128.9600067138672, 126.58999633789062, 127.36000061035156, 126.80999755859375, 124.2300033569336, 124.94999694824219, 126.62999725341797, 127.55999755859375, 128.35000610351562, 124.05999755859375, 123.30999755859375, 118.47000122070312, 121.54000091552734, 121.25, 120.12999725341797, 124.0199966430664, 125.06999969482422, 126.95999908447266, 127.45999908447266, 142.58999633789062, 142.11000061035156, 137.82000732421875, 135.52000427246094, 138.36000061035156, 144.6699981689453, 144.5, 143.89999389648438, 141.72000122070312, 141.07000732421875, 145.97999572753906, 151.49000549316406, 149.08999633789062, 147.1300048828125, 148.00999450683594, 149.44000244140625, 153.61000061035156, 153.24000549316406, 154.13999938964844, 153.67999267578125, 153.72000122070312, 154.42999267578125, 154.69000244140625, 175.72000122070312, 169.3000030517578, 173.94000244140625, 173.1199951171875, 173.5500030517578, 172.88999938964844, 170.69000244140625, 170.4499969482422, 173.5500030517578, 173.72999572753906, 178.86000061035156, 177.3000030517578, 181.1699981689453, 181.17999267578125]}],\n",
       "                        {\"template\": {\"data\": {\"bar\": [{\"error_x\": {\"color\": \"#2a3f5f\"}, \"error_y\": {\"color\": \"#2a3f5f\"}, \"marker\": {\"line\": {\"color\": \"#E5ECF6\", \"width\": 0.5}}, \"type\": \"bar\"}], \"barpolar\": [{\"marker\": {\"line\": {\"color\": \"#E5ECF6\", \"width\": 0.5}}, \"type\": \"barpolar\"}], \"carpet\": [{\"aaxis\": {\"endlinecolor\": \"#2a3f5f\", \"gridcolor\": \"white\", \"linecolor\": \"white\", \"minorgridcolor\": \"white\", \"startlinecolor\": \"#2a3f5f\"}, \"baxis\": {\"endlinecolor\": \"#2a3f5f\", \"gridcolor\": \"white\", \"linecolor\": \"white\", \"minorgridcolor\": \"white\", \"startlinecolor\": \"#2a3f5f\"}, \"type\": \"carpet\"}], \"choropleth\": [{\"colorbar\": {\"outlinewidth\": 0, \"ticks\": \"\"}, \"type\": \"choropleth\"}], \"contour\": [{\"colorbar\": {\"outlinewidth\": 0, \"ticks\": \"\"}, \"colorscale\": [[0.0, \"#0d0887\"], [0.1111111111111111, \"#46039f\"], [0.2222222222222222, \"#7201a8\"], [0.3333333333333333, \"#9c179e\"], [0.4444444444444444, \"#bd3786\"], [0.5555555555555556, \"#d8576b\"], [0.6666666666666666, \"#ed7953\"], [0.7777777777777778, \"#fb9f3a\"], [0.8888888888888888, \"#fdca26\"], [1.0, \"#f0f921\"]], \"type\": \"contour\"}], \"contourcarpet\": [{\"colorbar\": {\"outlinewidth\": 0, \"ticks\": \"\"}, \"type\": \"contourcarpet\"}], \"heatmap\": [{\"colorbar\": {\"outlinewidth\": 0, \"ticks\": \"\"}, \"colorscale\": [[0.0, \"#0d0887\"], [0.1111111111111111, \"#46039f\"], [0.2222222222222222, \"#7201a8\"], [0.3333333333333333, \"#9c179e\"], [0.4444444444444444, \"#bd3786\"], [0.5555555555555556, \"#d8576b\"], [0.6666666666666666, \"#ed7953\"], [0.7777777777777778, \"#fb9f3a\"], [0.8888888888888888, \"#fdca26\"], [1.0, \"#f0f921\"]], \"type\": \"heatmap\"}], \"heatmapgl\": [{\"colorbar\": {\"outlinewidth\": 0, \"ticks\": \"\"}, \"colorscale\": [[0.0, \"#0d0887\"], [0.1111111111111111, \"#46039f\"], [0.2222222222222222, \"#7201a8\"], [0.3333333333333333, \"#9c179e\"], [0.4444444444444444, \"#bd3786\"], [0.5555555555555556, \"#d8576b\"], [0.6666666666666666, \"#ed7953\"], [0.7777777777777778, \"#fb9f3a\"], [0.8888888888888888, \"#fdca26\"], [1.0, \"#f0f921\"]], \"type\": \"heatmapgl\"}], \"histogram\": [{\"marker\": {\"colorbar\": {\"outlinewidth\": 0, \"ticks\": \"\"}}, \"type\": \"histogram\"}], \"histogram2d\": [{\"colorbar\": {\"outlinewidth\": 0, \"ticks\": \"\"}, \"colorscale\": [[0.0, \"#0d0887\"], [0.1111111111111111, \"#46039f\"], [0.2222222222222222, \"#7201a8\"], [0.3333333333333333, \"#9c179e\"], [0.4444444444444444, \"#bd3786\"], [0.5555555555555556, \"#d8576b\"], [0.6666666666666666, \"#ed7953\"], [0.7777777777777778, \"#fb9f3a\"], [0.8888888888888888, \"#fdca26\"], [1.0, \"#f0f921\"]], \"type\": \"histogram2d\"}], \"histogram2dcontour\": [{\"colorbar\": {\"outlinewidth\": 0, \"ticks\": \"\"}, \"colorscale\": [[0.0, \"#0d0887\"], [0.1111111111111111, \"#46039f\"], [0.2222222222222222, \"#7201a8\"], [0.3333333333333333, \"#9c179e\"], [0.4444444444444444, \"#bd3786\"], [0.5555555555555556, \"#d8576b\"], [0.6666666666666666, \"#ed7953\"], [0.7777777777777778, \"#fb9f3a\"], [0.8888888888888888, \"#fdca26\"], [1.0, \"#f0f921\"]], \"type\": \"histogram2dcontour\"}], \"mesh3d\": [{\"colorbar\": {\"outlinewidth\": 0, \"ticks\": \"\"}, \"type\": \"mesh3d\"}], \"parcoords\": [{\"line\": {\"colorbar\": {\"outlinewidth\": 0, \"ticks\": \"\"}}, \"type\": \"parcoords\"}], \"pie\": [{\"automargin\": true, \"type\": \"pie\"}], \"scatter\": [{\"marker\": {\"colorbar\": {\"outlinewidth\": 0, \"ticks\": \"\"}}, \"type\": \"scatter\"}], \"scatter3d\": [{\"line\": {\"colorbar\": {\"outlinewidth\": 0, \"ticks\": \"\"}}, \"marker\": {\"colorbar\": {\"outlinewidth\": 0, \"ticks\": \"\"}}, \"type\": \"scatter3d\"}], \"scattercarpet\": [{\"marker\": {\"colorbar\": {\"outlinewidth\": 0, \"ticks\": \"\"}}, \"type\": \"scattercarpet\"}], \"scattergeo\": [{\"marker\": {\"colorbar\": {\"outlinewidth\": 0, \"ticks\": \"\"}}, \"type\": \"scattergeo\"}], \"scattergl\": [{\"marker\": {\"colorbar\": {\"outlinewidth\": 0, \"ticks\": \"\"}}, \"type\": \"scattergl\"}], \"scattermapbox\": [{\"marker\": {\"colorbar\": {\"outlinewidth\": 0, \"ticks\": \"\"}}, \"type\": \"scattermapbox\"}], \"scatterpolar\": [{\"marker\": {\"colorbar\": {\"outlinewidth\": 0, \"ticks\": \"\"}}, \"type\": \"scatterpolar\"}], \"scatterpolargl\": [{\"marker\": {\"colorbar\": {\"outlinewidth\": 0, \"ticks\": \"\"}}, \"type\": \"scatterpolargl\"}], \"scatterternary\": [{\"marker\": {\"colorbar\": {\"outlinewidth\": 0, \"ticks\": \"\"}}, \"type\": \"scatterternary\"}], \"surface\": [{\"colorbar\": {\"outlinewidth\": 0, \"ticks\": \"\"}, \"colorscale\": [[0.0, \"#0d0887\"], [0.1111111111111111, \"#46039f\"], [0.2222222222222222, \"#7201a8\"], [0.3333333333333333, \"#9c179e\"], [0.4444444444444444, \"#bd3786\"], [0.5555555555555556, \"#d8576b\"], [0.6666666666666666, \"#ed7953\"], [0.7777777777777778, \"#fb9f3a\"], [0.8888888888888888, \"#fdca26\"], [1.0, \"#f0f921\"]], \"type\": \"surface\"}], \"table\": [{\"cells\": {\"fill\": {\"color\": \"#EBF0F8\"}, \"line\": {\"color\": \"white\"}}, \"header\": {\"fill\": {\"color\": \"#C8D4E3\"}, \"line\": {\"color\": \"white\"}}, \"type\": \"table\"}]}, \"layout\": {\"annotationdefaults\": {\"arrowcolor\": \"#2a3f5f\", \"arrowhead\": 0, \"arrowwidth\": 1}, \"coloraxis\": {\"colorbar\": {\"outlinewidth\": 0, \"ticks\": \"\"}}, \"colorscale\": {\"diverging\": [[0, \"#8e0152\"], [0.1, \"#c51b7d\"], [0.2, \"#de77ae\"], [0.3, \"#f1b6da\"], [0.4, \"#fde0ef\"], [0.5, \"#f7f7f7\"], [0.6, \"#e6f5d0\"], [0.7, \"#b8e186\"], [0.8, \"#7fbc41\"], [0.9, \"#4d9221\"], [1, \"#276419\"]], \"sequential\": [[0.0, \"#0d0887\"], [0.1111111111111111, \"#46039f\"], [0.2222222222222222, \"#7201a8\"], [0.3333333333333333, \"#9c179e\"], [0.4444444444444444, \"#bd3786\"], [0.5555555555555556, \"#d8576b\"], [0.6666666666666666, \"#ed7953\"], [0.7777777777777778, \"#fb9f3a\"], [0.8888888888888888, \"#fdca26\"], [1.0, \"#f0f921\"]], \"sequentialminus\": [[0.0, \"#0d0887\"], [0.1111111111111111, \"#46039f\"], [0.2222222222222222, \"#7201a8\"], [0.3333333333333333, \"#9c179e\"], [0.4444444444444444, \"#bd3786\"], [0.5555555555555556, \"#d8576b\"], [0.6666666666666666, \"#ed7953\"], [0.7777777777777778, \"#fb9f3a\"], [0.8888888888888888, \"#fdca26\"], [1.0, \"#f0f921\"]]}, \"colorway\": [\"#636efa\", \"#EF553B\", \"#00cc96\", \"#ab63fa\", \"#FFA15A\", \"#19d3f3\", \"#FF6692\", \"#B6E880\", \"#FF97FF\", \"#FECB52\"], \"font\": {\"color\": \"#2a3f5f\"}, \"geo\": {\"bgcolor\": \"white\", \"lakecolor\": \"white\", \"landcolor\": \"#E5ECF6\", \"showlakes\": true, \"showland\": true, \"subunitcolor\": \"white\"}, \"hoverlabel\": {\"align\": \"left\"}, \"hovermode\": \"closest\", \"mapbox\": {\"style\": \"light\"}, \"paper_bgcolor\": \"white\", \"plot_bgcolor\": \"#E5ECF6\", \"polar\": {\"angularaxis\": {\"gridcolor\": \"white\", \"linecolor\": \"white\", \"ticks\": \"\"}, \"bgcolor\": \"#E5ECF6\", \"radialaxis\": {\"gridcolor\": \"white\", \"linecolor\": \"white\", \"ticks\": \"\"}}, \"scene\": {\"xaxis\": {\"backgroundcolor\": \"#E5ECF6\", \"gridcolor\": \"white\", \"gridwidth\": 2, \"linecolor\": \"white\", \"showbackground\": true, \"ticks\": \"\", \"zerolinecolor\": \"white\"}, \"yaxis\": {\"backgroundcolor\": \"#E5ECF6\", \"gridcolor\": \"white\", \"gridwidth\": 2, \"linecolor\": \"white\", \"showbackground\": true, \"ticks\": \"\", \"zerolinecolor\": \"white\"}, \"zaxis\": {\"backgroundcolor\": \"#E5ECF6\", \"gridcolor\": \"white\", \"gridwidth\": 2, \"linecolor\": \"white\", \"showbackground\": true, \"ticks\": \"\", \"zerolinecolor\": \"white\"}}, \"shapedefaults\": {\"line\": {\"color\": \"#2a3f5f\"}}, \"ternary\": {\"aaxis\": {\"gridcolor\": \"white\", \"linecolor\": \"white\", \"ticks\": \"\"}, \"baxis\": {\"gridcolor\": \"white\", \"linecolor\": \"white\", \"ticks\": \"\"}, \"bgcolor\": \"#E5ECF6\", \"caxis\": {\"gridcolor\": \"white\", \"linecolor\": \"white\", \"ticks\": \"\"}}, \"title\": {\"x\": 0.05}, \"xaxis\": {\"automargin\": true, \"gridcolor\": \"white\", \"linecolor\": \"white\", \"ticks\": \"\", \"title\": {\"standoff\": 15}, \"zerolinecolor\": \"white\", \"zerolinewidth\": 2}, \"yaxis\": {\"automargin\": true, \"gridcolor\": \"white\", \"linecolor\": \"white\", \"ticks\": \"\", \"title\": {\"standoff\": 15}, \"zerolinecolor\": \"white\", \"zerolinewidth\": 2}}}},\n",
       "                        {\"responsive\": true}\n",
       "                    ).then(function(){\n",
       "                            \n",
       "var gd = document.getElementById('b508ae04-8e14-439c-b5a1-9a46df899f43');\n",
       "var x = new MutationObserver(function (mutations, observer) {{\n",
       "        var display = window.getComputedStyle(gd).display;\n",
       "        if (!display || display === 'none') {{\n",
       "            console.log([gd, 'removed!']);\n",
       "            Plotly.purge(gd);\n",
       "            observer.disconnect();\n",
       "        }}\n",
       "}});\n",
       "\n",
       "// Listen for the removal of the full notebook cells\n",
       "var notebookContainer = gd.closest('#notebook-container');\n",
       "if (notebookContainer) {{\n",
       "    x.observe(notebookContainer, {childList: true});\n",
       "}}\n",
       "\n",
       "// Listen for the clearing of the current output cell\n",
       "var outputEl = gd.closest('.output');\n",
       "if (outputEl) {{\n",
       "    x.observe(outputEl, {childList: true});\n",
       "}}\n",
       "\n",
       "                        })\n",
       "                };\n",
       "                });\n",
       "            </script>\n",
       "        </div>"
      ]
     },
     "metadata": {},
     "output_type": "display_data"
    }
   ],
   "source": [
    "#Use go.Figure() function to visualise created data: data_obj\n",
    "fig_one=go.Figure(data_obj)\n",
    "\n",
    "fig_one.show() #to show the chart"
   ]
  },
  {
   "cell_type": "code",
   "execution_count": 43,
   "metadata": {},
   "outputs": [],
   "source": [
    "#creating two data objects for close and open prices\n",
    "data_obj_close=go.Scatter(x=data_dis.index, y=data_dis.Close,\n",
    "                   mode='lines', name='Close')\n",
    "\n",
    "data_obj_open=go.Scatter(x=data_dis.index, y=data_dis.Open,\n",
    "                   mode='lines', name='Open')"
   ]
  },
  {
   "cell_type": "code",
   "execution_count": 44,
   "metadata": {
    "scrolled": true
   },
   "outputs": [
    {
     "data": {
      "application/vnd.plotly.v1+json": {
       "config": {
        "plotlyServerURL": "https://plot.ly"
       },
       "data": [
        {
         "mode": "lines",
         "name": "Close",
         "type": "scatter",
         "x": [
          "2020-01-02T00:00:00",
          "2020-01-03T00:00:00",
          "2020-01-06T00:00:00",
          "2020-01-07T00:00:00",
          "2020-01-08T00:00:00",
          "2020-01-09T00:00:00",
          "2020-01-10T00:00:00",
          "2020-01-13T00:00:00",
          "2020-01-14T00:00:00",
          "2020-01-15T00:00:00",
          "2020-01-16T00:00:00",
          "2020-01-17T00:00:00",
          "2020-01-21T00:00:00",
          "2020-01-22T00:00:00",
          "2020-01-23T00:00:00",
          "2020-01-24T00:00:00",
          "2020-01-27T00:00:00",
          "2020-01-28T00:00:00",
          "2020-01-29T00:00:00",
          "2020-01-30T00:00:00",
          "2020-01-31T00:00:00",
          "2020-02-03T00:00:00",
          "2020-02-04T00:00:00",
          "2020-02-05T00:00:00",
          "2020-02-06T00:00:00",
          "2020-02-07T00:00:00",
          "2020-02-10T00:00:00",
          "2020-02-11T00:00:00",
          "2020-02-12T00:00:00",
          "2020-02-13T00:00:00",
          "2020-02-14T00:00:00",
          "2020-02-18T00:00:00",
          "2020-02-19T00:00:00",
          "2020-02-20T00:00:00",
          "2020-02-21T00:00:00",
          "2020-02-24T00:00:00",
          "2020-02-25T00:00:00",
          "2020-02-26T00:00:00",
          "2020-02-27T00:00:00",
          "2020-02-28T00:00:00",
          "2020-03-02T00:00:00",
          "2020-03-03T00:00:00",
          "2020-03-04T00:00:00",
          "2020-03-05T00:00:00",
          "2020-03-06T00:00:00",
          "2020-03-09T00:00:00",
          "2020-03-10T00:00:00",
          "2020-03-11T00:00:00",
          "2020-03-12T00:00:00",
          "2020-03-13T00:00:00",
          "2020-03-16T00:00:00",
          "2020-03-17T00:00:00",
          "2020-03-18T00:00:00",
          "2020-03-19T00:00:00",
          "2020-03-20T00:00:00",
          "2020-03-23T00:00:00",
          "2020-03-24T00:00:00",
          "2020-03-25T00:00:00",
          "2020-03-26T00:00:00",
          "2020-03-27T00:00:00",
          "2020-03-30T00:00:00",
          "2020-03-31T00:00:00",
          "2020-04-01T00:00:00",
          "2020-04-02T00:00:00",
          "2020-04-03T00:00:00",
          "2020-04-06T00:00:00",
          "2020-04-07T00:00:00",
          "2020-04-08T00:00:00",
          "2020-04-09T00:00:00",
          "2020-04-13T00:00:00",
          "2020-04-14T00:00:00",
          "2020-04-15T00:00:00",
          "2020-04-16T00:00:00",
          "2020-04-17T00:00:00",
          "2020-04-20T00:00:00",
          "2020-04-21T00:00:00",
          "2020-04-22T00:00:00",
          "2020-04-23T00:00:00",
          "2020-04-24T00:00:00",
          "2020-04-27T00:00:00",
          "2020-04-28T00:00:00",
          "2020-04-29T00:00:00",
          "2020-04-30T00:00:00",
          "2020-05-01T00:00:00",
          "2020-05-04T00:00:00",
          "2020-05-05T00:00:00",
          "2020-05-06T00:00:00",
          "2020-05-07T00:00:00",
          "2020-05-08T00:00:00",
          "2020-05-11T00:00:00",
          "2020-05-12T00:00:00",
          "2020-05-13T00:00:00",
          "2020-05-14T00:00:00",
          "2020-05-15T00:00:00",
          "2020-05-18T00:00:00",
          "2020-05-19T00:00:00",
          "2020-05-20T00:00:00",
          "2020-05-21T00:00:00",
          "2020-05-22T00:00:00",
          "2020-05-26T00:00:00",
          "2020-05-27T00:00:00",
          "2020-05-28T00:00:00",
          "2020-05-29T00:00:00",
          "2020-06-01T00:00:00",
          "2020-06-02T00:00:00",
          "2020-06-03T00:00:00",
          "2020-06-04T00:00:00",
          "2020-06-05T00:00:00",
          "2020-06-08T00:00:00",
          "2020-06-09T00:00:00",
          "2020-06-10T00:00:00",
          "2020-06-11T00:00:00",
          "2020-06-12T00:00:00",
          "2020-06-15T00:00:00",
          "2020-06-16T00:00:00",
          "2020-06-17T00:00:00",
          "2020-06-18T00:00:00",
          "2020-06-19T00:00:00",
          "2020-06-22T00:00:00",
          "2020-06-23T00:00:00",
          "2020-06-24T00:00:00",
          "2020-06-25T00:00:00",
          "2020-06-26T00:00:00",
          "2020-06-29T00:00:00",
          "2020-06-30T00:00:00",
          "2020-07-01T00:00:00",
          "2020-07-02T00:00:00",
          "2020-07-06T00:00:00",
          "2020-07-07T00:00:00",
          "2020-07-08T00:00:00",
          "2020-07-09T00:00:00",
          "2020-07-10T00:00:00",
          "2020-07-13T00:00:00",
          "2020-07-14T00:00:00",
          "2020-07-15T00:00:00",
          "2020-07-16T00:00:00",
          "2020-07-17T00:00:00",
          "2020-07-20T00:00:00",
          "2020-07-21T00:00:00",
          "2020-07-22T00:00:00",
          "2020-07-23T00:00:00",
          "2020-07-24T00:00:00",
          "2020-07-27T00:00:00",
          "2020-07-28T00:00:00",
          "2020-07-29T00:00:00",
          "2020-07-30T00:00:00",
          "2020-07-31T00:00:00",
          "2020-08-03T00:00:00",
          "2020-08-04T00:00:00",
          "2020-08-05T00:00:00",
          "2020-08-06T00:00:00",
          "2020-08-07T00:00:00",
          "2020-08-10T00:00:00",
          "2020-08-11T00:00:00",
          "2020-08-12T00:00:00",
          "2020-08-13T00:00:00",
          "2020-08-14T00:00:00",
          "2020-08-17T00:00:00",
          "2020-08-18T00:00:00",
          "2020-08-19T00:00:00",
          "2020-08-20T00:00:00",
          "2020-08-21T00:00:00",
          "2020-08-24T00:00:00",
          "2020-08-25T00:00:00",
          "2020-08-26T00:00:00",
          "2020-08-27T00:00:00",
          "2020-08-28T00:00:00",
          "2020-08-31T00:00:00",
          "2020-09-01T00:00:00",
          "2020-09-02T00:00:00",
          "2020-09-03T00:00:00",
          "2020-09-04T00:00:00",
          "2020-09-08T00:00:00",
          "2020-09-09T00:00:00",
          "2020-09-10T00:00:00",
          "2020-09-11T00:00:00",
          "2020-09-14T00:00:00",
          "2020-09-15T00:00:00",
          "2020-09-16T00:00:00",
          "2020-09-17T00:00:00",
          "2020-09-18T00:00:00",
          "2020-09-21T00:00:00",
          "2020-09-22T00:00:00",
          "2020-09-23T00:00:00",
          "2020-09-24T00:00:00",
          "2020-09-25T00:00:00",
          "2020-09-28T00:00:00",
          "2020-09-29T00:00:00",
          "2020-09-30T00:00:00",
          "2020-10-01T00:00:00",
          "2020-10-02T00:00:00",
          "2020-10-05T00:00:00",
          "2020-10-06T00:00:00",
          "2020-10-07T00:00:00",
          "2020-10-08T00:00:00",
          "2020-10-09T00:00:00",
          "2020-10-12T00:00:00",
          "2020-10-13T00:00:00",
          "2020-10-14T00:00:00",
          "2020-10-15T00:00:00",
          "2020-10-16T00:00:00",
          "2020-10-19T00:00:00",
          "2020-10-20T00:00:00",
          "2020-10-21T00:00:00",
          "2020-10-22T00:00:00",
          "2020-10-23T00:00:00",
          "2020-10-26T00:00:00",
          "2020-10-27T00:00:00",
          "2020-10-28T00:00:00",
          "2020-10-29T00:00:00",
          "2020-10-30T00:00:00",
          "2020-11-02T00:00:00",
          "2020-11-03T00:00:00",
          "2020-11-04T00:00:00",
          "2020-11-05T00:00:00",
          "2020-11-06T00:00:00",
          "2020-11-09T00:00:00",
          "2020-11-10T00:00:00",
          "2020-11-11T00:00:00",
          "2020-11-12T00:00:00",
          "2020-11-13T00:00:00",
          "2020-11-16T00:00:00",
          "2020-11-17T00:00:00",
          "2020-11-18T00:00:00",
          "2020-11-19T00:00:00",
          "2020-11-20T00:00:00",
          "2020-11-23T00:00:00",
          "2020-11-24T00:00:00",
          "2020-11-25T00:00:00",
          "2020-11-27T00:00:00",
          "2020-11-30T00:00:00",
          "2020-12-01T00:00:00",
          "2020-12-02T00:00:00",
          "2020-12-03T00:00:00",
          "2020-12-04T00:00:00",
          "2020-12-07T00:00:00",
          "2020-12-08T00:00:00",
          "2020-12-09T00:00:00",
          "2020-12-10T00:00:00",
          "2020-12-11T00:00:00",
          "2020-12-14T00:00:00",
          "2020-12-15T00:00:00",
          "2020-12-16T00:00:00",
          "2020-12-17T00:00:00",
          "2020-12-18T00:00:00",
          "2020-12-21T00:00:00",
          "2020-12-22T00:00:00",
          "2020-12-23T00:00:00",
          "2020-12-24T00:00:00",
          "2020-12-28T00:00:00",
          "2020-12-29T00:00:00",
          "2020-12-30T00:00:00",
          "2020-12-31T00:00:00"
         ],
         "y": [
          148.1999969482422,
          146.5,
          145.64999389648438,
          145.6999969482422,
          145.39999389648438,
          144.8300018310547,
          144.6199951171875,
          143.8800048828125,
          145.1999969482422,
          144.32000732421875,
          145.1199951171875,
          144.3300018310547,
          143.55999755859375,
          144.00999450683594,
          142.1999969482422,
          140.0800018310547,
          135.89999389648438,
          138.3699951171875,
          136.05999755859375,
          137.80999755859375,
          138.30999755859375,
          141.32000732421875,
          144.72999572753906,
          141.3699951171875,
          142.6999969482422,
          141.02000427246094,
          142.58999633789062,
          141.00999450683594,
          141.85000610351562,
          140.89999389648438,
          139.5399932861328,
          139.13999938964844,
          141.3000030517578,
          140.3699951171875,
          138.97000122070312,
          133.00999450683594,
          128.19000244140625,
          123.36000061035156,
          118.04000091552734,
          117.6500015258789,
          119.9800033569336,
          116.44999694824219,
          119.18000030517578,
          113.9800033569336,
          115.2699966430664,
          104.3499984741211,
          111.45999908447266,
          105.51000213623047,
          91.80999755859375,
          102.5199966430664,
          95.01000213623047,
          93.52999877929688,
          88.80000305175781,
          94.93000030517578,
          85.9800033569336,
          85.76000213623047,
          98.12000274658203,
          100.7300033569336,
          105.36000061035156,
          96.4000015258789,
          99.80000305175781,
          96.5999984741211,
          94.91999816894531,
          96.97000122070312,
          93.87999725341797,
          99.58000183105469,
          101.23999786376953,
          101.06999969482422,
          104.5,
          103.5,
          106.02999877929688,
          103.37000274658203,
          102.0199966430664,
          106.62999725341797,
          102.26000213623047,
          100.54000091552734,
          100.98999786376953,
          101,
          101.19000244140625,
          106.05999755859375,
          106.20999908447266,
          112.25,
          108.1500015258789,
          105.5,
          103.18000030517578,
          101.05999755859375,
          100.87999725341797,
          105.56999969482422,
          109.16000366210938,
          107.7699966430664,
          104.55999755859375,
          102.91999816894531,
          105.91000366210938,
          109.05000305175781,
          116.8499984741211,
          114.37000274658203,
          119.91999816894531,
          117.83000183105469,
          118.0199966430664,
          120.94999694824219,
          121.52999877929688,
          116.75,
          117.30000305175781,
          118.7699966430664,
          118.75,
          122.18000030517578,
          123.69000244140625,
          124.81999969482422,
          127.27999877929688,
          123.88999938964844,
          122.18000030517578,
          112.63999938964844,
          115.48999786376953,
          117.08000183105469,
          118.44000244140625,
          117.6500015258789,
          118.37000274658203,
          114.3499984741211,
          115.91999816894531,
          116.58999633789062,
          112.06999969482422,
          111.36000061035156,
          109.0999984741211,
          111.5199966430664,
          111.51000213623047,
          113.01000213623047,
          112.18000030517578,
          114.43000030517578,
          113.62999725341797,
          116.66000366210938,
          116.80999755859375,
          119.33999633789062,
          116.22000122070312,
          118.66000366210938,
          120.9000015258789,
          119.43000030517578,
          118.6500015258789,
          117.79000091552734,
          118.62000274658203,
          119.02999877929688,
          118.12000274658203,
          117.61000061035156,
          116.30999755859375,
          116.18000030517578,
          115.61000061035156,
          115.66000366210938,
          116.94000244140625,
          116.3499984741211,
          117.29000091552734,
          127.61000061035156,
          130.82000732421875,
          129.92999267578125,
          128.7899932861328,
          130.49000549316406,
          131.7899932861328,
          130.9600067138672,
          130.52999877929688,
          129.3699951171875,
          128.9199981689453,
          127.7699966430664,
          128.1199951171875,
          127.44000244140625,
          130.69000244140625,
          129.7899932861328,
          132.17999267578125,
          133.72999572753906,
          135.5399932861328,
          131.8699951171875,
          133.5500030517578,
          135.38999938964844,
          133.24000549316406,
          131.99000549316406,
          134.1999969482422,
          133.36000061035156,
          133.22000122070312,
          131.75,
          131.25,
          131.24000549316406,
          132.08999633789062,
          130.22000122070312,
          128.6300048828125,
          125.41000366210938,
          127.20999908447266,
          123.27999877929688,
          122.48999786376953,
          124,
          125.98999786376953,
          125.4000015258789,
          124.08000183105469,
          123.30999755859375,
          122.55000305175781,
          123.37000274658203,
          120.93000030517578,
          122.91000366210938,
          123.08999633789062,
          124.9800033569336,
          124.97000122070312,
          128.9600067138672,
          126.58999633789062,
          127.36000061035156,
          126.80999755859375,
          124.2300033569336,
          124.94999694824219,
          126.62999725341797,
          127.55999755859375,
          128.35000610351562,
          124.05999755859375,
          123.30999755859375,
          118.47000122070312,
          121.54000091552734,
          121.25,
          120.12999725341797,
          124.0199966430664,
          125.06999969482422,
          126.95999908447266,
          127.45999908447266,
          142.58999633789062,
          142.11000061035156,
          137.82000732421875,
          135.52000427246094,
          138.36000061035156,
          144.6699981689453,
          144.5,
          143.89999389648438,
          141.72000122070312,
          141.07000732421875,
          145.97999572753906,
          151.49000549316406,
          149.08999633789062,
          147.1300048828125,
          148.00999450683594,
          149.44000244140625,
          153.61000061035156,
          153.24000549316406,
          154.13999938964844,
          153.67999267578125,
          153.72000122070312,
          154.42999267578125,
          154.69000244140625,
          175.72000122070312,
          169.3000030517578,
          173.94000244140625,
          173.1199951171875,
          173.5500030517578,
          172.88999938964844,
          170.69000244140625,
          170.4499969482422,
          173.5500030517578,
          173.72999572753906,
          178.86000061035156,
          177.3000030517578,
          181.1699981689453,
          181.17999267578125
         ]
        },
        {
         "mode": "lines",
         "name": "Open",
         "type": "scatter",
         "x": [
          "2020-01-02T00:00:00",
          "2020-01-03T00:00:00",
          "2020-01-06T00:00:00",
          "2020-01-07T00:00:00",
          "2020-01-08T00:00:00",
          "2020-01-09T00:00:00",
          "2020-01-10T00:00:00",
          "2020-01-13T00:00:00",
          "2020-01-14T00:00:00",
          "2020-01-15T00:00:00",
          "2020-01-16T00:00:00",
          "2020-01-17T00:00:00",
          "2020-01-21T00:00:00",
          "2020-01-22T00:00:00",
          "2020-01-23T00:00:00",
          "2020-01-24T00:00:00",
          "2020-01-27T00:00:00",
          "2020-01-28T00:00:00",
          "2020-01-29T00:00:00",
          "2020-01-30T00:00:00",
          "2020-01-31T00:00:00",
          "2020-02-03T00:00:00",
          "2020-02-04T00:00:00",
          "2020-02-05T00:00:00",
          "2020-02-06T00:00:00",
          "2020-02-07T00:00:00",
          "2020-02-10T00:00:00",
          "2020-02-11T00:00:00",
          "2020-02-12T00:00:00",
          "2020-02-13T00:00:00",
          "2020-02-14T00:00:00",
          "2020-02-18T00:00:00",
          "2020-02-19T00:00:00",
          "2020-02-20T00:00:00",
          "2020-02-21T00:00:00",
          "2020-02-24T00:00:00",
          "2020-02-25T00:00:00",
          "2020-02-26T00:00:00",
          "2020-02-27T00:00:00",
          "2020-02-28T00:00:00",
          "2020-03-02T00:00:00",
          "2020-03-03T00:00:00",
          "2020-03-04T00:00:00",
          "2020-03-05T00:00:00",
          "2020-03-06T00:00:00",
          "2020-03-09T00:00:00",
          "2020-03-10T00:00:00",
          "2020-03-11T00:00:00",
          "2020-03-12T00:00:00",
          "2020-03-13T00:00:00",
          "2020-03-16T00:00:00",
          "2020-03-17T00:00:00",
          "2020-03-18T00:00:00",
          "2020-03-19T00:00:00",
          "2020-03-20T00:00:00",
          "2020-03-23T00:00:00",
          "2020-03-24T00:00:00",
          "2020-03-25T00:00:00",
          "2020-03-26T00:00:00",
          "2020-03-27T00:00:00",
          "2020-03-30T00:00:00",
          "2020-03-31T00:00:00",
          "2020-04-01T00:00:00",
          "2020-04-02T00:00:00",
          "2020-04-03T00:00:00",
          "2020-04-06T00:00:00",
          "2020-04-07T00:00:00",
          "2020-04-08T00:00:00",
          "2020-04-09T00:00:00",
          "2020-04-13T00:00:00",
          "2020-04-14T00:00:00",
          "2020-04-15T00:00:00",
          "2020-04-16T00:00:00",
          "2020-04-17T00:00:00",
          "2020-04-20T00:00:00",
          "2020-04-21T00:00:00",
          "2020-04-22T00:00:00",
          "2020-04-23T00:00:00",
          "2020-04-24T00:00:00",
          "2020-04-27T00:00:00",
          "2020-04-28T00:00:00",
          "2020-04-29T00:00:00",
          "2020-04-30T00:00:00",
          "2020-05-01T00:00:00",
          "2020-05-04T00:00:00",
          "2020-05-05T00:00:00",
          "2020-05-06T00:00:00",
          "2020-05-07T00:00:00",
          "2020-05-08T00:00:00",
          "2020-05-11T00:00:00",
          "2020-05-12T00:00:00",
          "2020-05-13T00:00:00",
          "2020-05-14T00:00:00",
          "2020-05-15T00:00:00",
          "2020-05-18T00:00:00",
          "2020-05-19T00:00:00",
          "2020-05-20T00:00:00",
          "2020-05-21T00:00:00",
          "2020-05-22T00:00:00",
          "2020-05-26T00:00:00",
          "2020-05-27T00:00:00",
          "2020-05-28T00:00:00",
          "2020-05-29T00:00:00",
          "2020-06-01T00:00:00",
          "2020-06-02T00:00:00",
          "2020-06-03T00:00:00",
          "2020-06-04T00:00:00",
          "2020-06-05T00:00:00",
          "2020-06-08T00:00:00",
          "2020-06-09T00:00:00",
          "2020-06-10T00:00:00",
          "2020-06-11T00:00:00",
          "2020-06-12T00:00:00",
          "2020-06-15T00:00:00",
          "2020-06-16T00:00:00",
          "2020-06-17T00:00:00",
          "2020-06-18T00:00:00",
          "2020-06-19T00:00:00",
          "2020-06-22T00:00:00",
          "2020-06-23T00:00:00",
          "2020-06-24T00:00:00",
          "2020-06-25T00:00:00",
          "2020-06-26T00:00:00",
          "2020-06-29T00:00:00",
          "2020-06-30T00:00:00",
          "2020-07-01T00:00:00",
          "2020-07-02T00:00:00",
          "2020-07-06T00:00:00",
          "2020-07-07T00:00:00",
          "2020-07-08T00:00:00",
          "2020-07-09T00:00:00",
          "2020-07-10T00:00:00",
          "2020-07-13T00:00:00",
          "2020-07-14T00:00:00",
          "2020-07-15T00:00:00",
          "2020-07-16T00:00:00",
          "2020-07-17T00:00:00",
          "2020-07-20T00:00:00",
          "2020-07-21T00:00:00",
          "2020-07-22T00:00:00",
          "2020-07-23T00:00:00",
          "2020-07-24T00:00:00",
          "2020-07-27T00:00:00",
          "2020-07-28T00:00:00",
          "2020-07-29T00:00:00",
          "2020-07-30T00:00:00",
          "2020-07-31T00:00:00",
          "2020-08-03T00:00:00",
          "2020-08-04T00:00:00",
          "2020-08-05T00:00:00",
          "2020-08-06T00:00:00",
          "2020-08-07T00:00:00",
          "2020-08-10T00:00:00",
          "2020-08-11T00:00:00",
          "2020-08-12T00:00:00",
          "2020-08-13T00:00:00",
          "2020-08-14T00:00:00",
          "2020-08-17T00:00:00",
          "2020-08-18T00:00:00",
          "2020-08-19T00:00:00",
          "2020-08-20T00:00:00",
          "2020-08-21T00:00:00",
          "2020-08-24T00:00:00",
          "2020-08-25T00:00:00",
          "2020-08-26T00:00:00",
          "2020-08-27T00:00:00",
          "2020-08-28T00:00:00",
          "2020-08-31T00:00:00",
          "2020-09-01T00:00:00",
          "2020-09-02T00:00:00",
          "2020-09-03T00:00:00",
          "2020-09-04T00:00:00",
          "2020-09-08T00:00:00",
          "2020-09-09T00:00:00",
          "2020-09-10T00:00:00",
          "2020-09-11T00:00:00",
          "2020-09-14T00:00:00",
          "2020-09-15T00:00:00",
          "2020-09-16T00:00:00",
          "2020-09-17T00:00:00",
          "2020-09-18T00:00:00",
          "2020-09-21T00:00:00",
          "2020-09-22T00:00:00",
          "2020-09-23T00:00:00",
          "2020-09-24T00:00:00",
          "2020-09-25T00:00:00",
          "2020-09-28T00:00:00",
          "2020-09-29T00:00:00",
          "2020-09-30T00:00:00",
          "2020-10-01T00:00:00",
          "2020-10-02T00:00:00",
          "2020-10-05T00:00:00",
          "2020-10-06T00:00:00",
          "2020-10-07T00:00:00",
          "2020-10-08T00:00:00",
          "2020-10-09T00:00:00",
          "2020-10-12T00:00:00",
          "2020-10-13T00:00:00",
          "2020-10-14T00:00:00",
          "2020-10-15T00:00:00",
          "2020-10-16T00:00:00",
          "2020-10-19T00:00:00",
          "2020-10-20T00:00:00",
          "2020-10-21T00:00:00",
          "2020-10-22T00:00:00",
          "2020-10-23T00:00:00",
          "2020-10-26T00:00:00",
          "2020-10-27T00:00:00",
          "2020-10-28T00:00:00",
          "2020-10-29T00:00:00",
          "2020-10-30T00:00:00",
          "2020-11-02T00:00:00",
          "2020-11-03T00:00:00",
          "2020-11-04T00:00:00",
          "2020-11-05T00:00:00",
          "2020-11-06T00:00:00",
          "2020-11-09T00:00:00",
          "2020-11-10T00:00:00",
          "2020-11-11T00:00:00",
          "2020-11-12T00:00:00",
          "2020-11-13T00:00:00",
          "2020-11-16T00:00:00",
          "2020-11-17T00:00:00",
          "2020-11-18T00:00:00",
          "2020-11-19T00:00:00",
          "2020-11-20T00:00:00",
          "2020-11-23T00:00:00",
          "2020-11-24T00:00:00",
          "2020-11-25T00:00:00",
          "2020-11-27T00:00:00",
          "2020-11-30T00:00:00",
          "2020-12-01T00:00:00",
          "2020-12-02T00:00:00",
          "2020-12-03T00:00:00",
          "2020-12-04T00:00:00",
          "2020-12-07T00:00:00",
          "2020-12-08T00:00:00",
          "2020-12-09T00:00:00",
          "2020-12-10T00:00:00",
          "2020-12-11T00:00:00",
          "2020-12-14T00:00:00",
          "2020-12-15T00:00:00",
          "2020-12-16T00:00:00",
          "2020-12-17T00:00:00",
          "2020-12-18T00:00:00",
          "2020-12-21T00:00:00",
          "2020-12-22T00:00:00",
          "2020-12-23T00:00:00",
          "2020-12-24T00:00:00",
          "2020-12-28T00:00:00",
          "2020-12-29T00:00:00",
          "2020-12-30T00:00:00",
          "2020-12-31T00:00:00"
         ],
         "y": [
          145.2899932861328,
          146.39999389648438,
          145.5399932861328,
          145.99000549316406,
          145.49000549316406,
          146.47000122070312,
          145.3000030517578,
          144.75,
          143.41000366210938,
          145.7100067138672,
          145.08999633789062,
          145.5399932861328,
          144.24000549316406,
          144.4499969482422,
          143.60000610351562,
          141.39999389648438,
          135.86000061035156,
          136.5,
          138.60000610351562,
          135.08999633789062,
          138.39999389648438,
          139.7899932861328,
          145.49000549316406,
          146.60000610351562,
          141.9199981689453,
          141.88999938964844,
          141.02999877929688,
          142.85000610351562,
          141.33999633789062,
          141.1699981689453,
          141.10000610351562,
          139.02000427246094,
          139.6300048828125,
          141.6300048828125,
          139.86000061035156,
          132.89999389648438,
          133.75,
          126.12000274658203,
          119.80999755859375,
          114.51000213623047,
          119.12999725341797,
          121.1500015258789,
          118.95999908447266,
          116.86000061035156,
          110.76000213623047,
          108.69000244140625,
          108.0999984741211,
          108.41999816894531,
          97.62000274658203,
          100.77999877929688,
          91.80000305175781,
          95.80000305175781,
          87.58999633789062,
          88,
          95.98999786376953,
          84.48999786376953,
          92.33000183105469,
          100.66000366210938,
          100.83000183105469,
          100.44999694824219,
          96,
          100.22000122070312,
          93.5,
          94.19999694824219,
          96.30999755859375,
          97.26000213623047,
          104.86000061035156,
          100.52999877929688,
          107.91999816894531,
          104.70999908447266,
          105.5,
          104.38999938964844,
          103.52999877929688,
          106.20999908447266,
          103.58000183105469,
          100.01000213623047,
          101.80000305175781,
          100.6500015258789,
          101.77999877929688,
          102,
          108.79000091552734,
          109.94000244140625,
          109.44000244140625,
          106.36000061035156,
          102.01000213623047,
          101.51000213623047,
          101.4800033569336,
          101.8499984741211,
          109.05000305175781,
          108.4000015258789,
          109.05999755859375,
          104.5,
          101.9800033569336,
          104.9800033569336,
          114.47000122070312,
          115.0999984741211,
          116.41999816894531,
          119.33999633789062,
          117.5,
          121.05000305175781,
          123.68000030517578,
          121.5999984741211,
          116.19000244140625,
          117.26000213623047,
          119,
          119.98999786376953,
          121.94999694824219,
          126.30999755859375,
          125.0999984741211,
          125.62999725341797,
          124.0199966430664,
          117.5999984741211,
          115.16999816894531,
          112.08000183105469,
          121.23999786376953,
          118.63999938964844,
          116.87999725341797,
          119.9800033569336,
          114.19000244140625,
          116.95999908447266,
          115.8499984741211,
          108.98999786376953,
          110.94999694824219,
          109,
          111.5,
          112.81999969482422,
          115,
          113.83000183105469,
          113.62999725341797,
          113.4800033569336,
          116.51000213623047,
          116.83000183105469,
          119.94000244140625,
          115.2300033569336,
          121.62999725341797,
          117.72000122070312,
          118.9000015258789,
          118.05000305175781,
          118.05000305175781,
          118.19000244140625,
          118.86000061035156,
          115.69999694824219,
          117.19999694824219,
          115.45999908447266,
          116.22000122070312,
          114.91000366210938,
          115.22000122070312,
          116.16999816894531,
          115.95999908447266,
          123.37000274658203,
          126.95999908447266,
          130.22000122070312,
          129.75,
          130.52999877929688,
          130.6699981689453,
          130.63999938964844,
          130.00999450683594,
          130.10000610351562,
          129.44000244140625,
          129.25,
          126.80000305175781,
          127.72000122070312,
          128.14999389648438,
          130.8300018310547,
          130,
          133,
          134.5,
          135.25,
          131.9199981689453,
          133.6300048828125,
          135.24000549316406,
          133.75,
          131.99000549316406,
          134.27999877929688,
          133.5800018310547,
          133.74000549316406,
          132.52999877929688,
          131.4600067138672,
          132.1699981689453,
          130.5500030517578,
          129.5,
          125.9800033569336,
          125.26000213623047,
          127.06999969482422,
          121.93000030517578,
          121.36000061035156,
          125.75,
          125.91999816894531,
          123.23999786376953,
          124.94000244140625,
          121.98999786376953,
          123.26000213623047,
          123.12999725341797,
          121.94999694824219,
          123.58000183105469,
          123.8499984741211,
          124.9000015258789,
          129.8000030517578,
          129.13999938964844,
          125,
          127.80999755859375,
          127.37000274658203,
          124.58000183105469,
          124.36000061035156,
          126.66999816894531,
          128.10000610351562,
          127.11000061035156,
          124.02999877929688,
          121.01000213623047,
          118.16000366210938,
          120.63999938964844,
          122.23999786376953,
          121.61000061035156,
          123.58000183105469,
          126.77999877929688,
          126.26000213623047,
          140.25999450683594,
          139.97000122070312,
          141.47000122070312,
          136.33999633789062,
          140.89999389648438,
          141.57000732421875,
          144.39999389648438,
          144.5,
          142.57000732421875,
          141.7100067138672,
          142.4499969482422,
          148.16000366210938,
          150.27000427246094,
          149,
          147.05999755859375,
          149.57000732421875,
          149.49000549316406,
          153.4499969482422,
          153.69000244140625,
          153.17999267578125,
          152.4199981689453,
          156.2899932861328,
          153.32000732421875,
          169.67999267578125,
          173.8000030517578,
          170.49000549316406,
          173.99000549316406,
          173.82000732421875,
          173.60000610351562,
          170.08999633789062,
          170,
          172.9600067138672,
          173.99000549316406,
          175.75,
          180.00999450683594,
          178.5,
          181.22000122070312
         ]
        }
       ],
       "layout": {
        "template": {
         "data": {
          "bar": [
           {
            "error_x": {
             "color": "#2a3f5f"
            },
            "error_y": {
             "color": "#2a3f5f"
            },
            "marker": {
             "line": {
              "color": "#E5ECF6",
              "width": 0.5
             }
            },
            "type": "bar"
           }
          ],
          "barpolar": [
           {
            "marker": {
             "line": {
              "color": "#E5ECF6",
              "width": 0.5
             }
            },
            "type": "barpolar"
           }
          ],
          "carpet": [
           {
            "aaxis": {
             "endlinecolor": "#2a3f5f",
             "gridcolor": "white",
             "linecolor": "white",
             "minorgridcolor": "white",
             "startlinecolor": "#2a3f5f"
            },
            "baxis": {
             "endlinecolor": "#2a3f5f",
             "gridcolor": "white",
             "linecolor": "white",
             "minorgridcolor": "white",
             "startlinecolor": "#2a3f5f"
            },
            "type": "carpet"
           }
          ],
          "choropleth": [
           {
            "colorbar": {
             "outlinewidth": 0,
             "ticks": ""
            },
            "type": "choropleth"
           }
          ],
          "contour": [
           {
            "colorbar": {
             "outlinewidth": 0,
             "ticks": ""
            },
            "colorscale": [
             [
              0,
              "#0d0887"
             ],
             [
              0.1111111111111111,
              "#46039f"
             ],
             [
              0.2222222222222222,
              "#7201a8"
             ],
             [
              0.3333333333333333,
              "#9c179e"
             ],
             [
              0.4444444444444444,
              "#bd3786"
             ],
             [
              0.5555555555555556,
              "#d8576b"
             ],
             [
              0.6666666666666666,
              "#ed7953"
             ],
             [
              0.7777777777777778,
              "#fb9f3a"
             ],
             [
              0.8888888888888888,
              "#fdca26"
             ],
             [
              1,
              "#f0f921"
             ]
            ],
            "type": "contour"
           }
          ],
          "contourcarpet": [
           {
            "colorbar": {
             "outlinewidth": 0,
             "ticks": ""
            },
            "type": "contourcarpet"
           }
          ],
          "heatmap": [
           {
            "colorbar": {
             "outlinewidth": 0,
             "ticks": ""
            },
            "colorscale": [
             [
              0,
              "#0d0887"
             ],
             [
              0.1111111111111111,
              "#46039f"
             ],
             [
              0.2222222222222222,
              "#7201a8"
             ],
             [
              0.3333333333333333,
              "#9c179e"
             ],
             [
              0.4444444444444444,
              "#bd3786"
             ],
             [
              0.5555555555555556,
              "#d8576b"
             ],
             [
              0.6666666666666666,
              "#ed7953"
             ],
             [
              0.7777777777777778,
              "#fb9f3a"
             ],
             [
              0.8888888888888888,
              "#fdca26"
             ],
             [
              1,
              "#f0f921"
             ]
            ],
            "type": "heatmap"
           }
          ],
          "heatmapgl": [
           {
            "colorbar": {
             "outlinewidth": 0,
             "ticks": ""
            },
            "colorscale": [
             [
              0,
              "#0d0887"
             ],
             [
              0.1111111111111111,
              "#46039f"
             ],
             [
              0.2222222222222222,
              "#7201a8"
             ],
             [
              0.3333333333333333,
              "#9c179e"
             ],
             [
              0.4444444444444444,
              "#bd3786"
             ],
             [
              0.5555555555555556,
              "#d8576b"
             ],
             [
              0.6666666666666666,
              "#ed7953"
             ],
             [
              0.7777777777777778,
              "#fb9f3a"
             ],
             [
              0.8888888888888888,
              "#fdca26"
             ],
             [
              1,
              "#f0f921"
             ]
            ],
            "type": "heatmapgl"
           }
          ],
          "histogram": [
           {
            "marker": {
             "colorbar": {
              "outlinewidth": 0,
              "ticks": ""
             }
            },
            "type": "histogram"
           }
          ],
          "histogram2d": [
           {
            "colorbar": {
             "outlinewidth": 0,
             "ticks": ""
            },
            "colorscale": [
             [
              0,
              "#0d0887"
             ],
             [
              0.1111111111111111,
              "#46039f"
             ],
             [
              0.2222222222222222,
              "#7201a8"
             ],
             [
              0.3333333333333333,
              "#9c179e"
             ],
             [
              0.4444444444444444,
              "#bd3786"
             ],
             [
              0.5555555555555556,
              "#d8576b"
             ],
             [
              0.6666666666666666,
              "#ed7953"
             ],
             [
              0.7777777777777778,
              "#fb9f3a"
             ],
             [
              0.8888888888888888,
              "#fdca26"
             ],
             [
              1,
              "#f0f921"
             ]
            ],
            "type": "histogram2d"
           }
          ],
          "histogram2dcontour": [
           {
            "colorbar": {
             "outlinewidth": 0,
             "ticks": ""
            },
            "colorscale": [
             [
              0,
              "#0d0887"
             ],
             [
              0.1111111111111111,
              "#46039f"
             ],
             [
              0.2222222222222222,
              "#7201a8"
             ],
             [
              0.3333333333333333,
              "#9c179e"
             ],
             [
              0.4444444444444444,
              "#bd3786"
             ],
             [
              0.5555555555555556,
              "#d8576b"
             ],
             [
              0.6666666666666666,
              "#ed7953"
             ],
             [
              0.7777777777777778,
              "#fb9f3a"
             ],
             [
              0.8888888888888888,
              "#fdca26"
             ],
             [
              1,
              "#f0f921"
             ]
            ],
            "type": "histogram2dcontour"
           }
          ],
          "mesh3d": [
           {
            "colorbar": {
             "outlinewidth": 0,
             "ticks": ""
            },
            "type": "mesh3d"
           }
          ],
          "parcoords": [
           {
            "line": {
             "colorbar": {
              "outlinewidth": 0,
              "ticks": ""
             }
            },
            "type": "parcoords"
           }
          ],
          "pie": [
           {
            "automargin": true,
            "type": "pie"
           }
          ],
          "scatter": [
           {
            "marker": {
             "colorbar": {
              "outlinewidth": 0,
              "ticks": ""
             }
            },
            "type": "scatter"
           }
          ],
          "scatter3d": [
           {
            "line": {
             "colorbar": {
              "outlinewidth": 0,
              "ticks": ""
             }
            },
            "marker": {
             "colorbar": {
              "outlinewidth": 0,
              "ticks": ""
             }
            },
            "type": "scatter3d"
           }
          ],
          "scattercarpet": [
           {
            "marker": {
             "colorbar": {
              "outlinewidth": 0,
              "ticks": ""
             }
            },
            "type": "scattercarpet"
           }
          ],
          "scattergeo": [
           {
            "marker": {
             "colorbar": {
              "outlinewidth": 0,
              "ticks": ""
             }
            },
            "type": "scattergeo"
           }
          ],
          "scattergl": [
           {
            "marker": {
             "colorbar": {
              "outlinewidth": 0,
              "ticks": ""
             }
            },
            "type": "scattergl"
           }
          ],
          "scattermapbox": [
           {
            "marker": {
             "colorbar": {
              "outlinewidth": 0,
              "ticks": ""
             }
            },
            "type": "scattermapbox"
           }
          ],
          "scatterpolar": [
           {
            "marker": {
             "colorbar": {
              "outlinewidth": 0,
              "ticks": ""
             }
            },
            "type": "scatterpolar"
           }
          ],
          "scatterpolargl": [
           {
            "marker": {
             "colorbar": {
              "outlinewidth": 0,
              "ticks": ""
             }
            },
            "type": "scatterpolargl"
           }
          ],
          "scatterternary": [
           {
            "marker": {
             "colorbar": {
              "outlinewidth": 0,
              "ticks": ""
             }
            },
            "type": "scatterternary"
           }
          ],
          "surface": [
           {
            "colorbar": {
             "outlinewidth": 0,
             "ticks": ""
            },
            "colorscale": [
             [
              0,
              "#0d0887"
             ],
             [
              0.1111111111111111,
              "#46039f"
             ],
             [
              0.2222222222222222,
              "#7201a8"
             ],
             [
              0.3333333333333333,
              "#9c179e"
             ],
             [
              0.4444444444444444,
              "#bd3786"
             ],
             [
              0.5555555555555556,
              "#d8576b"
             ],
             [
              0.6666666666666666,
              "#ed7953"
             ],
             [
              0.7777777777777778,
              "#fb9f3a"
             ],
             [
              0.8888888888888888,
              "#fdca26"
             ],
             [
              1,
              "#f0f921"
             ]
            ],
            "type": "surface"
           }
          ],
          "table": [
           {
            "cells": {
             "fill": {
              "color": "#EBF0F8"
             },
             "line": {
              "color": "white"
             }
            },
            "header": {
             "fill": {
              "color": "#C8D4E3"
             },
             "line": {
              "color": "white"
             }
            },
            "type": "table"
           }
          ]
         },
         "layout": {
          "annotationdefaults": {
           "arrowcolor": "#2a3f5f",
           "arrowhead": 0,
           "arrowwidth": 1
          },
          "coloraxis": {
           "colorbar": {
            "outlinewidth": 0,
            "ticks": ""
           }
          },
          "colorscale": {
           "diverging": [
            [
             0,
             "#8e0152"
            ],
            [
             0.1,
             "#c51b7d"
            ],
            [
             0.2,
             "#de77ae"
            ],
            [
             0.3,
             "#f1b6da"
            ],
            [
             0.4,
             "#fde0ef"
            ],
            [
             0.5,
             "#f7f7f7"
            ],
            [
             0.6,
             "#e6f5d0"
            ],
            [
             0.7,
             "#b8e186"
            ],
            [
             0.8,
             "#7fbc41"
            ],
            [
             0.9,
             "#4d9221"
            ],
            [
             1,
             "#276419"
            ]
           ],
           "sequential": [
            [
             0,
             "#0d0887"
            ],
            [
             0.1111111111111111,
             "#46039f"
            ],
            [
             0.2222222222222222,
             "#7201a8"
            ],
            [
             0.3333333333333333,
             "#9c179e"
            ],
            [
             0.4444444444444444,
             "#bd3786"
            ],
            [
             0.5555555555555556,
             "#d8576b"
            ],
            [
             0.6666666666666666,
             "#ed7953"
            ],
            [
             0.7777777777777778,
             "#fb9f3a"
            ],
            [
             0.8888888888888888,
             "#fdca26"
            ],
            [
             1,
             "#f0f921"
            ]
           ],
           "sequentialminus": [
            [
             0,
             "#0d0887"
            ],
            [
             0.1111111111111111,
             "#46039f"
            ],
            [
             0.2222222222222222,
             "#7201a8"
            ],
            [
             0.3333333333333333,
             "#9c179e"
            ],
            [
             0.4444444444444444,
             "#bd3786"
            ],
            [
             0.5555555555555556,
             "#d8576b"
            ],
            [
             0.6666666666666666,
             "#ed7953"
            ],
            [
             0.7777777777777778,
             "#fb9f3a"
            ],
            [
             0.8888888888888888,
             "#fdca26"
            ],
            [
             1,
             "#f0f921"
            ]
           ]
          },
          "colorway": [
           "#636efa",
           "#EF553B",
           "#00cc96",
           "#ab63fa",
           "#FFA15A",
           "#19d3f3",
           "#FF6692",
           "#B6E880",
           "#FF97FF",
           "#FECB52"
          ],
          "font": {
           "color": "#2a3f5f"
          },
          "geo": {
           "bgcolor": "white",
           "lakecolor": "white",
           "landcolor": "#E5ECF6",
           "showlakes": true,
           "showland": true,
           "subunitcolor": "white"
          },
          "hoverlabel": {
           "align": "left"
          },
          "hovermode": "closest",
          "mapbox": {
           "style": "light"
          },
          "paper_bgcolor": "white",
          "plot_bgcolor": "#E5ECF6",
          "polar": {
           "angularaxis": {
            "gridcolor": "white",
            "linecolor": "white",
            "ticks": ""
           },
           "bgcolor": "#E5ECF6",
           "radialaxis": {
            "gridcolor": "white",
            "linecolor": "white",
            "ticks": ""
           }
          },
          "scene": {
           "xaxis": {
            "backgroundcolor": "#E5ECF6",
            "gridcolor": "white",
            "gridwidth": 2,
            "linecolor": "white",
            "showbackground": true,
            "ticks": "",
            "zerolinecolor": "white"
           },
           "yaxis": {
            "backgroundcolor": "#E5ECF6",
            "gridcolor": "white",
            "gridwidth": 2,
            "linecolor": "white",
            "showbackground": true,
            "ticks": "",
            "zerolinecolor": "white"
           },
           "zaxis": {
            "backgroundcolor": "#E5ECF6",
            "gridcolor": "white",
            "gridwidth": 2,
            "linecolor": "white",
            "showbackground": true,
            "ticks": "",
            "zerolinecolor": "white"
           }
          },
          "shapedefaults": {
           "line": {
            "color": "#2a3f5f"
           }
          },
          "ternary": {
           "aaxis": {
            "gridcolor": "white",
            "linecolor": "white",
            "ticks": ""
           },
           "baxis": {
            "gridcolor": "white",
            "linecolor": "white",
            "ticks": ""
           },
           "bgcolor": "#E5ECF6",
           "caxis": {
            "gridcolor": "white",
            "linecolor": "white",
            "ticks": ""
           }
          },
          "title": {
           "x": 0.05
          },
          "xaxis": {
           "automargin": true,
           "gridcolor": "white",
           "linecolor": "white",
           "ticks": "",
           "title": {
            "standoff": 15
           },
           "zerolinecolor": "white",
           "zerolinewidth": 2
          },
          "yaxis": {
           "automargin": true,
           "gridcolor": "white",
           "linecolor": "white",
           "ticks": "",
           "title": {
            "standoff": 15
           },
           "zerolinecolor": "white",
           "zerolinewidth": 2
          }
         }
        }
       }
      },
      "text/html": [
       "<div>\n",
       "        \n",
       "        \n",
       "            <div id=\"58f00484-64c6-4ab9-802e-9f7a3f763aff\" class=\"plotly-graph-div\" style=\"height:525px; width:100%;\"></div>\n",
       "            <script type=\"text/javascript\">\n",
       "                require([\"plotly\"], function(Plotly) {\n",
       "                    window.PLOTLYENV=window.PLOTLYENV || {};\n",
       "                    \n",
       "                if (document.getElementById(\"58f00484-64c6-4ab9-802e-9f7a3f763aff\")) {\n",
       "                    Plotly.newPlot(\n",
       "                        '58f00484-64c6-4ab9-802e-9f7a3f763aff',\n",
       "                        [{\"mode\": \"lines\", \"name\": \"Close\", \"type\": \"scatter\", \"x\": [\"2020-01-02T00:00:00\", \"2020-01-03T00:00:00\", \"2020-01-06T00:00:00\", \"2020-01-07T00:00:00\", \"2020-01-08T00:00:00\", \"2020-01-09T00:00:00\", \"2020-01-10T00:00:00\", \"2020-01-13T00:00:00\", \"2020-01-14T00:00:00\", \"2020-01-15T00:00:00\", \"2020-01-16T00:00:00\", \"2020-01-17T00:00:00\", \"2020-01-21T00:00:00\", \"2020-01-22T00:00:00\", \"2020-01-23T00:00:00\", \"2020-01-24T00:00:00\", \"2020-01-27T00:00:00\", \"2020-01-28T00:00:00\", \"2020-01-29T00:00:00\", \"2020-01-30T00:00:00\", \"2020-01-31T00:00:00\", \"2020-02-03T00:00:00\", \"2020-02-04T00:00:00\", \"2020-02-05T00:00:00\", \"2020-02-06T00:00:00\", \"2020-02-07T00:00:00\", \"2020-02-10T00:00:00\", \"2020-02-11T00:00:00\", \"2020-02-12T00:00:00\", \"2020-02-13T00:00:00\", \"2020-02-14T00:00:00\", \"2020-02-18T00:00:00\", \"2020-02-19T00:00:00\", \"2020-02-20T00:00:00\", \"2020-02-21T00:00:00\", \"2020-02-24T00:00:00\", \"2020-02-25T00:00:00\", \"2020-02-26T00:00:00\", \"2020-02-27T00:00:00\", \"2020-02-28T00:00:00\", \"2020-03-02T00:00:00\", \"2020-03-03T00:00:00\", \"2020-03-04T00:00:00\", \"2020-03-05T00:00:00\", \"2020-03-06T00:00:00\", \"2020-03-09T00:00:00\", \"2020-03-10T00:00:00\", \"2020-03-11T00:00:00\", \"2020-03-12T00:00:00\", \"2020-03-13T00:00:00\", \"2020-03-16T00:00:00\", \"2020-03-17T00:00:00\", \"2020-03-18T00:00:00\", \"2020-03-19T00:00:00\", \"2020-03-20T00:00:00\", \"2020-03-23T00:00:00\", \"2020-03-24T00:00:00\", \"2020-03-25T00:00:00\", \"2020-03-26T00:00:00\", \"2020-03-27T00:00:00\", \"2020-03-30T00:00:00\", \"2020-03-31T00:00:00\", \"2020-04-01T00:00:00\", \"2020-04-02T00:00:00\", \"2020-04-03T00:00:00\", \"2020-04-06T00:00:00\", \"2020-04-07T00:00:00\", \"2020-04-08T00:00:00\", \"2020-04-09T00:00:00\", \"2020-04-13T00:00:00\", \"2020-04-14T00:00:00\", \"2020-04-15T00:00:00\", \"2020-04-16T00:00:00\", \"2020-04-17T00:00:00\", \"2020-04-20T00:00:00\", \"2020-04-21T00:00:00\", \"2020-04-22T00:00:00\", \"2020-04-23T00:00:00\", \"2020-04-24T00:00:00\", \"2020-04-27T00:00:00\", \"2020-04-28T00:00:00\", \"2020-04-29T00:00:00\", \"2020-04-30T00:00:00\", \"2020-05-01T00:00:00\", \"2020-05-04T00:00:00\", \"2020-05-05T00:00:00\", \"2020-05-06T00:00:00\", \"2020-05-07T00:00:00\", \"2020-05-08T00:00:00\", \"2020-05-11T00:00:00\", \"2020-05-12T00:00:00\", \"2020-05-13T00:00:00\", \"2020-05-14T00:00:00\", \"2020-05-15T00:00:00\", \"2020-05-18T00:00:00\", \"2020-05-19T00:00:00\", \"2020-05-20T00:00:00\", \"2020-05-21T00:00:00\", \"2020-05-22T00:00:00\", \"2020-05-26T00:00:00\", \"2020-05-27T00:00:00\", \"2020-05-28T00:00:00\", \"2020-05-29T00:00:00\", \"2020-06-01T00:00:00\", \"2020-06-02T00:00:00\", \"2020-06-03T00:00:00\", \"2020-06-04T00:00:00\", \"2020-06-05T00:00:00\", \"2020-06-08T00:00:00\", \"2020-06-09T00:00:00\", \"2020-06-10T00:00:00\", \"2020-06-11T00:00:00\", \"2020-06-12T00:00:00\", \"2020-06-15T00:00:00\", \"2020-06-16T00:00:00\", \"2020-06-17T00:00:00\", \"2020-06-18T00:00:00\", \"2020-06-19T00:00:00\", \"2020-06-22T00:00:00\", \"2020-06-23T00:00:00\", \"2020-06-24T00:00:00\", \"2020-06-25T00:00:00\", \"2020-06-26T00:00:00\", \"2020-06-29T00:00:00\", \"2020-06-30T00:00:00\", \"2020-07-01T00:00:00\", \"2020-07-02T00:00:00\", \"2020-07-06T00:00:00\", \"2020-07-07T00:00:00\", \"2020-07-08T00:00:00\", \"2020-07-09T00:00:00\", \"2020-07-10T00:00:00\", \"2020-07-13T00:00:00\", \"2020-07-14T00:00:00\", \"2020-07-15T00:00:00\", \"2020-07-16T00:00:00\", \"2020-07-17T00:00:00\", \"2020-07-20T00:00:00\", \"2020-07-21T00:00:00\", \"2020-07-22T00:00:00\", \"2020-07-23T00:00:00\", \"2020-07-24T00:00:00\", \"2020-07-27T00:00:00\", \"2020-07-28T00:00:00\", \"2020-07-29T00:00:00\", \"2020-07-30T00:00:00\", \"2020-07-31T00:00:00\", \"2020-08-03T00:00:00\", \"2020-08-04T00:00:00\", \"2020-08-05T00:00:00\", \"2020-08-06T00:00:00\", \"2020-08-07T00:00:00\", \"2020-08-10T00:00:00\", \"2020-08-11T00:00:00\", \"2020-08-12T00:00:00\", \"2020-08-13T00:00:00\", \"2020-08-14T00:00:00\", \"2020-08-17T00:00:00\", \"2020-08-18T00:00:00\", \"2020-08-19T00:00:00\", \"2020-08-20T00:00:00\", \"2020-08-21T00:00:00\", \"2020-08-24T00:00:00\", \"2020-08-25T00:00:00\", \"2020-08-26T00:00:00\", \"2020-08-27T00:00:00\", \"2020-08-28T00:00:00\", \"2020-08-31T00:00:00\", \"2020-09-01T00:00:00\", \"2020-09-02T00:00:00\", \"2020-09-03T00:00:00\", \"2020-09-04T00:00:00\", \"2020-09-08T00:00:00\", \"2020-09-09T00:00:00\", \"2020-09-10T00:00:00\", \"2020-09-11T00:00:00\", \"2020-09-14T00:00:00\", \"2020-09-15T00:00:00\", \"2020-09-16T00:00:00\", \"2020-09-17T00:00:00\", \"2020-09-18T00:00:00\", \"2020-09-21T00:00:00\", \"2020-09-22T00:00:00\", \"2020-09-23T00:00:00\", \"2020-09-24T00:00:00\", \"2020-09-25T00:00:00\", \"2020-09-28T00:00:00\", \"2020-09-29T00:00:00\", \"2020-09-30T00:00:00\", \"2020-10-01T00:00:00\", \"2020-10-02T00:00:00\", \"2020-10-05T00:00:00\", \"2020-10-06T00:00:00\", \"2020-10-07T00:00:00\", \"2020-10-08T00:00:00\", \"2020-10-09T00:00:00\", \"2020-10-12T00:00:00\", \"2020-10-13T00:00:00\", \"2020-10-14T00:00:00\", \"2020-10-15T00:00:00\", \"2020-10-16T00:00:00\", \"2020-10-19T00:00:00\", \"2020-10-20T00:00:00\", \"2020-10-21T00:00:00\", \"2020-10-22T00:00:00\", \"2020-10-23T00:00:00\", \"2020-10-26T00:00:00\", \"2020-10-27T00:00:00\", \"2020-10-28T00:00:00\", \"2020-10-29T00:00:00\", \"2020-10-30T00:00:00\", \"2020-11-02T00:00:00\", \"2020-11-03T00:00:00\", \"2020-11-04T00:00:00\", \"2020-11-05T00:00:00\", \"2020-11-06T00:00:00\", \"2020-11-09T00:00:00\", \"2020-11-10T00:00:00\", \"2020-11-11T00:00:00\", \"2020-11-12T00:00:00\", \"2020-11-13T00:00:00\", \"2020-11-16T00:00:00\", \"2020-11-17T00:00:00\", \"2020-11-18T00:00:00\", \"2020-11-19T00:00:00\", \"2020-11-20T00:00:00\", \"2020-11-23T00:00:00\", \"2020-11-24T00:00:00\", \"2020-11-25T00:00:00\", \"2020-11-27T00:00:00\", \"2020-11-30T00:00:00\", \"2020-12-01T00:00:00\", \"2020-12-02T00:00:00\", \"2020-12-03T00:00:00\", \"2020-12-04T00:00:00\", \"2020-12-07T00:00:00\", \"2020-12-08T00:00:00\", \"2020-12-09T00:00:00\", \"2020-12-10T00:00:00\", \"2020-12-11T00:00:00\", \"2020-12-14T00:00:00\", \"2020-12-15T00:00:00\", \"2020-12-16T00:00:00\", \"2020-12-17T00:00:00\", \"2020-12-18T00:00:00\", \"2020-12-21T00:00:00\", \"2020-12-22T00:00:00\", \"2020-12-23T00:00:00\", \"2020-12-24T00:00:00\", \"2020-12-28T00:00:00\", \"2020-12-29T00:00:00\", \"2020-12-30T00:00:00\", \"2020-12-31T00:00:00\"], \"y\": [148.1999969482422, 146.5, 145.64999389648438, 145.6999969482422, 145.39999389648438, 144.8300018310547, 144.6199951171875, 143.8800048828125, 145.1999969482422, 144.32000732421875, 145.1199951171875, 144.3300018310547, 143.55999755859375, 144.00999450683594, 142.1999969482422, 140.0800018310547, 135.89999389648438, 138.3699951171875, 136.05999755859375, 137.80999755859375, 138.30999755859375, 141.32000732421875, 144.72999572753906, 141.3699951171875, 142.6999969482422, 141.02000427246094, 142.58999633789062, 141.00999450683594, 141.85000610351562, 140.89999389648438, 139.5399932861328, 139.13999938964844, 141.3000030517578, 140.3699951171875, 138.97000122070312, 133.00999450683594, 128.19000244140625, 123.36000061035156, 118.04000091552734, 117.6500015258789, 119.9800033569336, 116.44999694824219, 119.18000030517578, 113.9800033569336, 115.2699966430664, 104.3499984741211, 111.45999908447266, 105.51000213623047, 91.80999755859375, 102.5199966430664, 95.01000213623047, 93.52999877929688, 88.80000305175781, 94.93000030517578, 85.9800033569336, 85.76000213623047, 98.12000274658203, 100.7300033569336, 105.36000061035156, 96.4000015258789, 99.80000305175781, 96.5999984741211, 94.91999816894531, 96.97000122070312, 93.87999725341797, 99.58000183105469, 101.23999786376953, 101.06999969482422, 104.5, 103.5, 106.02999877929688, 103.37000274658203, 102.0199966430664, 106.62999725341797, 102.26000213623047, 100.54000091552734, 100.98999786376953, 101.0, 101.19000244140625, 106.05999755859375, 106.20999908447266, 112.25, 108.1500015258789, 105.5, 103.18000030517578, 101.05999755859375, 100.87999725341797, 105.56999969482422, 109.16000366210938, 107.7699966430664, 104.55999755859375, 102.91999816894531, 105.91000366210938, 109.05000305175781, 116.8499984741211, 114.37000274658203, 119.91999816894531, 117.83000183105469, 118.0199966430664, 120.94999694824219, 121.52999877929688, 116.75, 117.30000305175781, 118.7699966430664, 118.75, 122.18000030517578, 123.69000244140625, 124.81999969482422, 127.27999877929688, 123.88999938964844, 122.18000030517578, 112.63999938964844, 115.48999786376953, 117.08000183105469, 118.44000244140625, 117.6500015258789, 118.37000274658203, 114.3499984741211, 115.91999816894531, 116.58999633789062, 112.06999969482422, 111.36000061035156, 109.0999984741211, 111.5199966430664, 111.51000213623047, 113.01000213623047, 112.18000030517578, 114.43000030517578, 113.62999725341797, 116.66000366210938, 116.80999755859375, 119.33999633789062, 116.22000122070312, 118.66000366210938, 120.9000015258789, 119.43000030517578, 118.6500015258789, 117.79000091552734, 118.62000274658203, 119.02999877929688, 118.12000274658203, 117.61000061035156, 116.30999755859375, 116.18000030517578, 115.61000061035156, 115.66000366210938, 116.94000244140625, 116.3499984741211, 117.29000091552734, 127.61000061035156, 130.82000732421875, 129.92999267578125, 128.7899932861328, 130.49000549316406, 131.7899932861328, 130.9600067138672, 130.52999877929688, 129.3699951171875, 128.9199981689453, 127.7699966430664, 128.1199951171875, 127.44000244140625, 130.69000244140625, 129.7899932861328, 132.17999267578125, 133.72999572753906, 135.5399932861328, 131.8699951171875, 133.5500030517578, 135.38999938964844, 133.24000549316406, 131.99000549316406, 134.1999969482422, 133.36000061035156, 133.22000122070312, 131.75, 131.25, 131.24000549316406, 132.08999633789062, 130.22000122070312, 128.6300048828125, 125.41000366210938, 127.20999908447266, 123.27999877929688, 122.48999786376953, 124.0, 125.98999786376953, 125.4000015258789, 124.08000183105469, 123.30999755859375, 122.55000305175781, 123.37000274658203, 120.93000030517578, 122.91000366210938, 123.08999633789062, 124.9800033569336, 124.97000122070312, 128.9600067138672, 126.58999633789062, 127.36000061035156, 126.80999755859375, 124.2300033569336, 124.94999694824219, 126.62999725341797, 127.55999755859375, 128.35000610351562, 124.05999755859375, 123.30999755859375, 118.47000122070312, 121.54000091552734, 121.25, 120.12999725341797, 124.0199966430664, 125.06999969482422, 126.95999908447266, 127.45999908447266, 142.58999633789062, 142.11000061035156, 137.82000732421875, 135.52000427246094, 138.36000061035156, 144.6699981689453, 144.5, 143.89999389648438, 141.72000122070312, 141.07000732421875, 145.97999572753906, 151.49000549316406, 149.08999633789062, 147.1300048828125, 148.00999450683594, 149.44000244140625, 153.61000061035156, 153.24000549316406, 154.13999938964844, 153.67999267578125, 153.72000122070312, 154.42999267578125, 154.69000244140625, 175.72000122070312, 169.3000030517578, 173.94000244140625, 173.1199951171875, 173.5500030517578, 172.88999938964844, 170.69000244140625, 170.4499969482422, 173.5500030517578, 173.72999572753906, 178.86000061035156, 177.3000030517578, 181.1699981689453, 181.17999267578125]}, {\"mode\": \"lines\", \"name\": \"Open\", \"type\": \"scatter\", \"x\": [\"2020-01-02T00:00:00\", \"2020-01-03T00:00:00\", \"2020-01-06T00:00:00\", \"2020-01-07T00:00:00\", \"2020-01-08T00:00:00\", \"2020-01-09T00:00:00\", \"2020-01-10T00:00:00\", \"2020-01-13T00:00:00\", \"2020-01-14T00:00:00\", \"2020-01-15T00:00:00\", \"2020-01-16T00:00:00\", \"2020-01-17T00:00:00\", \"2020-01-21T00:00:00\", \"2020-01-22T00:00:00\", \"2020-01-23T00:00:00\", \"2020-01-24T00:00:00\", \"2020-01-27T00:00:00\", \"2020-01-28T00:00:00\", \"2020-01-29T00:00:00\", \"2020-01-30T00:00:00\", \"2020-01-31T00:00:00\", \"2020-02-03T00:00:00\", \"2020-02-04T00:00:00\", \"2020-02-05T00:00:00\", \"2020-02-06T00:00:00\", \"2020-02-07T00:00:00\", \"2020-02-10T00:00:00\", \"2020-02-11T00:00:00\", \"2020-02-12T00:00:00\", \"2020-02-13T00:00:00\", \"2020-02-14T00:00:00\", \"2020-02-18T00:00:00\", \"2020-02-19T00:00:00\", \"2020-02-20T00:00:00\", \"2020-02-21T00:00:00\", \"2020-02-24T00:00:00\", \"2020-02-25T00:00:00\", \"2020-02-26T00:00:00\", \"2020-02-27T00:00:00\", \"2020-02-28T00:00:00\", \"2020-03-02T00:00:00\", \"2020-03-03T00:00:00\", \"2020-03-04T00:00:00\", \"2020-03-05T00:00:00\", \"2020-03-06T00:00:00\", \"2020-03-09T00:00:00\", \"2020-03-10T00:00:00\", \"2020-03-11T00:00:00\", \"2020-03-12T00:00:00\", \"2020-03-13T00:00:00\", \"2020-03-16T00:00:00\", \"2020-03-17T00:00:00\", \"2020-03-18T00:00:00\", \"2020-03-19T00:00:00\", \"2020-03-20T00:00:00\", \"2020-03-23T00:00:00\", \"2020-03-24T00:00:00\", \"2020-03-25T00:00:00\", \"2020-03-26T00:00:00\", \"2020-03-27T00:00:00\", \"2020-03-30T00:00:00\", \"2020-03-31T00:00:00\", \"2020-04-01T00:00:00\", \"2020-04-02T00:00:00\", \"2020-04-03T00:00:00\", \"2020-04-06T00:00:00\", \"2020-04-07T00:00:00\", \"2020-04-08T00:00:00\", \"2020-04-09T00:00:00\", \"2020-04-13T00:00:00\", \"2020-04-14T00:00:00\", \"2020-04-15T00:00:00\", \"2020-04-16T00:00:00\", \"2020-04-17T00:00:00\", \"2020-04-20T00:00:00\", \"2020-04-21T00:00:00\", \"2020-04-22T00:00:00\", \"2020-04-23T00:00:00\", \"2020-04-24T00:00:00\", \"2020-04-27T00:00:00\", \"2020-04-28T00:00:00\", \"2020-04-29T00:00:00\", \"2020-04-30T00:00:00\", \"2020-05-01T00:00:00\", \"2020-05-04T00:00:00\", \"2020-05-05T00:00:00\", \"2020-05-06T00:00:00\", \"2020-05-07T00:00:00\", \"2020-05-08T00:00:00\", \"2020-05-11T00:00:00\", \"2020-05-12T00:00:00\", \"2020-05-13T00:00:00\", \"2020-05-14T00:00:00\", \"2020-05-15T00:00:00\", \"2020-05-18T00:00:00\", \"2020-05-19T00:00:00\", \"2020-05-20T00:00:00\", \"2020-05-21T00:00:00\", \"2020-05-22T00:00:00\", \"2020-05-26T00:00:00\", \"2020-05-27T00:00:00\", \"2020-05-28T00:00:00\", \"2020-05-29T00:00:00\", \"2020-06-01T00:00:00\", \"2020-06-02T00:00:00\", \"2020-06-03T00:00:00\", \"2020-06-04T00:00:00\", \"2020-06-05T00:00:00\", \"2020-06-08T00:00:00\", \"2020-06-09T00:00:00\", \"2020-06-10T00:00:00\", \"2020-06-11T00:00:00\", \"2020-06-12T00:00:00\", \"2020-06-15T00:00:00\", \"2020-06-16T00:00:00\", \"2020-06-17T00:00:00\", \"2020-06-18T00:00:00\", \"2020-06-19T00:00:00\", \"2020-06-22T00:00:00\", \"2020-06-23T00:00:00\", \"2020-06-24T00:00:00\", \"2020-06-25T00:00:00\", \"2020-06-26T00:00:00\", \"2020-06-29T00:00:00\", \"2020-06-30T00:00:00\", \"2020-07-01T00:00:00\", \"2020-07-02T00:00:00\", \"2020-07-06T00:00:00\", \"2020-07-07T00:00:00\", \"2020-07-08T00:00:00\", \"2020-07-09T00:00:00\", \"2020-07-10T00:00:00\", \"2020-07-13T00:00:00\", \"2020-07-14T00:00:00\", \"2020-07-15T00:00:00\", \"2020-07-16T00:00:00\", \"2020-07-17T00:00:00\", \"2020-07-20T00:00:00\", \"2020-07-21T00:00:00\", \"2020-07-22T00:00:00\", \"2020-07-23T00:00:00\", \"2020-07-24T00:00:00\", \"2020-07-27T00:00:00\", \"2020-07-28T00:00:00\", \"2020-07-29T00:00:00\", \"2020-07-30T00:00:00\", \"2020-07-31T00:00:00\", \"2020-08-03T00:00:00\", \"2020-08-04T00:00:00\", \"2020-08-05T00:00:00\", \"2020-08-06T00:00:00\", \"2020-08-07T00:00:00\", \"2020-08-10T00:00:00\", \"2020-08-11T00:00:00\", \"2020-08-12T00:00:00\", \"2020-08-13T00:00:00\", \"2020-08-14T00:00:00\", \"2020-08-17T00:00:00\", \"2020-08-18T00:00:00\", \"2020-08-19T00:00:00\", \"2020-08-20T00:00:00\", \"2020-08-21T00:00:00\", \"2020-08-24T00:00:00\", \"2020-08-25T00:00:00\", \"2020-08-26T00:00:00\", \"2020-08-27T00:00:00\", \"2020-08-28T00:00:00\", \"2020-08-31T00:00:00\", \"2020-09-01T00:00:00\", \"2020-09-02T00:00:00\", \"2020-09-03T00:00:00\", \"2020-09-04T00:00:00\", \"2020-09-08T00:00:00\", \"2020-09-09T00:00:00\", \"2020-09-10T00:00:00\", \"2020-09-11T00:00:00\", \"2020-09-14T00:00:00\", \"2020-09-15T00:00:00\", \"2020-09-16T00:00:00\", \"2020-09-17T00:00:00\", \"2020-09-18T00:00:00\", \"2020-09-21T00:00:00\", \"2020-09-22T00:00:00\", \"2020-09-23T00:00:00\", \"2020-09-24T00:00:00\", \"2020-09-25T00:00:00\", \"2020-09-28T00:00:00\", \"2020-09-29T00:00:00\", \"2020-09-30T00:00:00\", \"2020-10-01T00:00:00\", \"2020-10-02T00:00:00\", \"2020-10-05T00:00:00\", \"2020-10-06T00:00:00\", \"2020-10-07T00:00:00\", \"2020-10-08T00:00:00\", \"2020-10-09T00:00:00\", \"2020-10-12T00:00:00\", \"2020-10-13T00:00:00\", \"2020-10-14T00:00:00\", \"2020-10-15T00:00:00\", \"2020-10-16T00:00:00\", \"2020-10-19T00:00:00\", \"2020-10-20T00:00:00\", \"2020-10-21T00:00:00\", \"2020-10-22T00:00:00\", \"2020-10-23T00:00:00\", \"2020-10-26T00:00:00\", \"2020-10-27T00:00:00\", \"2020-10-28T00:00:00\", \"2020-10-29T00:00:00\", \"2020-10-30T00:00:00\", \"2020-11-02T00:00:00\", \"2020-11-03T00:00:00\", \"2020-11-04T00:00:00\", \"2020-11-05T00:00:00\", \"2020-11-06T00:00:00\", \"2020-11-09T00:00:00\", \"2020-11-10T00:00:00\", \"2020-11-11T00:00:00\", \"2020-11-12T00:00:00\", \"2020-11-13T00:00:00\", \"2020-11-16T00:00:00\", \"2020-11-17T00:00:00\", \"2020-11-18T00:00:00\", \"2020-11-19T00:00:00\", \"2020-11-20T00:00:00\", \"2020-11-23T00:00:00\", \"2020-11-24T00:00:00\", \"2020-11-25T00:00:00\", \"2020-11-27T00:00:00\", \"2020-11-30T00:00:00\", \"2020-12-01T00:00:00\", \"2020-12-02T00:00:00\", \"2020-12-03T00:00:00\", \"2020-12-04T00:00:00\", \"2020-12-07T00:00:00\", \"2020-12-08T00:00:00\", \"2020-12-09T00:00:00\", \"2020-12-10T00:00:00\", \"2020-12-11T00:00:00\", \"2020-12-14T00:00:00\", \"2020-12-15T00:00:00\", \"2020-12-16T00:00:00\", \"2020-12-17T00:00:00\", \"2020-12-18T00:00:00\", \"2020-12-21T00:00:00\", \"2020-12-22T00:00:00\", \"2020-12-23T00:00:00\", \"2020-12-24T00:00:00\", \"2020-12-28T00:00:00\", \"2020-12-29T00:00:00\", \"2020-12-30T00:00:00\", \"2020-12-31T00:00:00\"], \"y\": [145.2899932861328, 146.39999389648438, 145.5399932861328, 145.99000549316406, 145.49000549316406, 146.47000122070312, 145.3000030517578, 144.75, 143.41000366210938, 145.7100067138672, 145.08999633789062, 145.5399932861328, 144.24000549316406, 144.4499969482422, 143.60000610351562, 141.39999389648438, 135.86000061035156, 136.5, 138.60000610351562, 135.08999633789062, 138.39999389648438, 139.7899932861328, 145.49000549316406, 146.60000610351562, 141.9199981689453, 141.88999938964844, 141.02999877929688, 142.85000610351562, 141.33999633789062, 141.1699981689453, 141.10000610351562, 139.02000427246094, 139.6300048828125, 141.6300048828125, 139.86000061035156, 132.89999389648438, 133.75, 126.12000274658203, 119.80999755859375, 114.51000213623047, 119.12999725341797, 121.1500015258789, 118.95999908447266, 116.86000061035156, 110.76000213623047, 108.69000244140625, 108.0999984741211, 108.41999816894531, 97.62000274658203, 100.77999877929688, 91.80000305175781, 95.80000305175781, 87.58999633789062, 88.0, 95.98999786376953, 84.48999786376953, 92.33000183105469, 100.66000366210938, 100.83000183105469, 100.44999694824219, 96.0, 100.22000122070312, 93.5, 94.19999694824219, 96.30999755859375, 97.26000213623047, 104.86000061035156, 100.52999877929688, 107.91999816894531, 104.70999908447266, 105.5, 104.38999938964844, 103.52999877929688, 106.20999908447266, 103.58000183105469, 100.01000213623047, 101.80000305175781, 100.6500015258789, 101.77999877929688, 102.0, 108.79000091552734, 109.94000244140625, 109.44000244140625, 106.36000061035156, 102.01000213623047, 101.51000213623047, 101.4800033569336, 101.8499984741211, 109.05000305175781, 108.4000015258789, 109.05999755859375, 104.5, 101.9800033569336, 104.9800033569336, 114.47000122070312, 115.0999984741211, 116.41999816894531, 119.33999633789062, 117.5, 121.05000305175781, 123.68000030517578, 121.5999984741211, 116.19000244140625, 117.26000213623047, 119.0, 119.98999786376953, 121.94999694824219, 126.30999755859375, 125.0999984741211, 125.62999725341797, 124.0199966430664, 117.5999984741211, 115.16999816894531, 112.08000183105469, 121.23999786376953, 118.63999938964844, 116.87999725341797, 119.9800033569336, 114.19000244140625, 116.95999908447266, 115.8499984741211, 108.98999786376953, 110.94999694824219, 109.0, 111.5, 112.81999969482422, 115.0, 113.83000183105469, 113.62999725341797, 113.4800033569336, 116.51000213623047, 116.83000183105469, 119.94000244140625, 115.2300033569336, 121.62999725341797, 117.72000122070312, 118.9000015258789, 118.05000305175781, 118.05000305175781, 118.19000244140625, 118.86000061035156, 115.69999694824219, 117.19999694824219, 115.45999908447266, 116.22000122070312, 114.91000366210938, 115.22000122070312, 116.16999816894531, 115.95999908447266, 123.37000274658203, 126.95999908447266, 130.22000122070312, 129.75, 130.52999877929688, 130.6699981689453, 130.63999938964844, 130.00999450683594, 130.10000610351562, 129.44000244140625, 129.25, 126.80000305175781, 127.72000122070312, 128.14999389648438, 130.8300018310547, 130.0, 133.0, 134.5, 135.25, 131.9199981689453, 133.6300048828125, 135.24000549316406, 133.75, 131.99000549316406, 134.27999877929688, 133.5800018310547, 133.74000549316406, 132.52999877929688, 131.4600067138672, 132.1699981689453, 130.5500030517578, 129.5, 125.9800033569336, 125.26000213623047, 127.06999969482422, 121.93000030517578, 121.36000061035156, 125.75, 125.91999816894531, 123.23999786376953, 124.94000244140625, 121.98999786376953, 123.26000213623047, 123.12999725341797, 121.94999694824219, 123.58000183105469, 123.8499984741211, 124.9000015258789, 129.8000030517578, 129.13999938964844, 125.0, 127.80999755859375, 127.37000274658203, 124.58000183105469, 124.36000061035156, 126.66999816894531, 128.10000610351562, 127.11000061035156, 124.02999877929688, 121.01000213623047, 118.16000366210938, 120.63999938964844, 122.23999786376953, 121.61000061035156, 123.58000183105469, 126.77999877929688, 126.26000213623047, 140.25999450683594, 139.97000122070312, 141.47000122070312, 136.33999633789062, 140.89999389648438, 141.57000732421875, 144.39999389648438, 144.5, 142.57000732421875, 141.7100067138672, 142.4499969482422, 148.16000366210938, 150.27000427246094, 149.0, 147.05999755859375, 149.57000732421875, 149.49000549316406, 153.4499969482422, 153.69000244140625, 153.17999267578125, 152.4199981689453, 156.2899932861328, 153.32000732421875, 169.67999267578125, 173.8000030517578, 170.49000549316406, 173.99000549316406, 173.82000732421875, 173.60000610351562, 170.08999633789062, 170.0, 172.9600067138672, 173.99000549316406, 175.75, 180.00999450683594, 178.5, 181.22000122070312]}],\n",
       "                        {\"template\": {\"data\": {\"bar\": [{\"error_x\": {\"color\": \"#2a3f5f\"}, \"error_y\": {\"color\": \"#2a3f5f\"}, \"marker\": {\"line\": {\"color\": \"#E5ECF6\", \"width\": 0.5}}, \"type\": \"bar\"}], \"barpolar\": [{\"marker\": {\"line\": {\"color\": \"#E5ECF6\", \"width\": 0.5}}, \"type\": \"barpolar\"}], \"carpet\": [{\"aaxis\": {\"endlinecolor\": \"#2a3f5f\", \"gridcolor\": \"white\", \"linecolor\": \"white\", \"minorgridcolor\": \"white\", \"startlinecolor\": \"#2a3f5f\"}, \"baxis\": {\"endlinecolor\": \"#2a3f5f\", \"gridcolor\": \"white\", \"linecolor\": \"white\", \"minorgridcolor\": \"white\", \"startlinecolor\": \"#2a3f5f\"}, \"type\": \"carpet\"}], \"choropleth\": [{\"colorbar\": {\"outlinewidth\": 0, \"ticks\": \"\"}, \"type\": \"choropleth\"}], \"contour\": [{\"colorbar\": {\"outlinewidth\": 0, \"ticks\": \"\"}, \"colorscale\": [[0.0, \"#0d0887\"], [0.1111111111111111, \"#46039f\"], [0.2222222222222222, \"#7201a8\"], [0.3333333333333333, \"#9c179e\"], [0.4444444444444444, \"#bd3786\"], [0.5555555555555556, \"#d8576b\"], [0.6666666666666666, \"#ed7953\"], [0.7777777777777778, \"#fb9f3a\"], [0.8888888888888888, \"#fdca26\"], [1.0, \"#f0f921\"]], \"type\": \"contour\"}], \"contourcarpet\": [{\"colorbar\": {\"outlinewidth\": 0, \"ticks\": \"\"}, \"type\": \"contourcarpet\"}], \"heatmap\": [{\"colorbar\": {\"outlinewidth\": 0, \"ticks\": \"\"}, \"colorscale\": [[0.0, \"#0d0887\"], [0.1111111111111111, \"#46039f\"], [0.2222222222222222, \"#7201a8\"], [0.3333333333333333, \"#9c179e\"], [0.4444444444444444, \"#bd3786\"], [0.5555555555555556, \"#d8576b\"], [0.6666666666666666, \"#ed7953\"], [0.7777777777777778, \"#fb9f3a\"], [0.8888888888888888, \"#fdca26\"], [1.0, \"#f0f921\"]], \"type\": \"heatmap\"}], \"heatmapgl\": [{\"colorbar\": {\"outlinewidth\": 0, \"ticks\": \"\"}, \"colorscale\": [[0.0, \"#0d0887\"], [0.1111111111111111, \"#46039f\"], [0.2222222222222222, \"#7201a8\"], [0.3333333333333333, \"#9c179e\"], [0.4444444444444444, \"#bd3786\"], [0.5555555555555556, \"#d8576b\"], [0.6666666666666666, \"#ed7953\"], [0.7777777777777778, \"#fb9f3a\"], [0.8888888888888888, \"#fdca26\"], [1.0, \"#f0f921\"]], \"type\": \"heatmapgl\"}], \"histogram\": [{\"marker\": {\"colorbar\": {\"outlinewidth\": 0, \"ticks\": \"\"}}, \"type\": \"histogram\"}], \"histogram2d\": [{\"colorbar\": {\"outlinewidth\": 0, \"ticks\": \"\"}, \"colorscale\": [[0.0, \"#0d0887\"], [0.1111111111111111, \"#46039f\"], [0.2222222222222222, \"#7201a8\"], [0.3333333333333333, \"#9c179e\"], [0.4444444444444444, \"#bd3786\"], [0.5555555555555556, \"#d8576b\"], [0.6666666666666666, \"#ed7953\"], [0.7777777777777778, \"#fb9f3a\"], [0.8888888888888888, \"#fdca26\"], [1.0, \"#f0f921\"]], \"type\": \"histogram2d\"}], \"histogram2dcontour\": [{\"colorbar\": {\"outlinewidth\": 0, \"ticks\": \"\"}, \"colorscale\": [[0.0, \"#0d0887\"], [0.1111111111111111, \"#46039f\"], [0.2222222222222222, \"#7201a8\"], [0.3333333333333333, \"#9c179e\"], [0.4444444444444444, \"#bd3786\"], [0.5555555555555556, \"#d8576b\"], [0.6666666666666666, \"#ed7953\"], [0.7777777777777778, \"#fb9f3a\"], [0.8888888888888888, \"#fdca26\"], [1.0, \"#f0f921\"]], \"type\": \"histogram2dcontour\"}], \"mesh3d\": [{\"colorbar\": {\"outlinewidth\": 0, \"ticks\": \"\"}, \"type\": \"mesh3d\"}], \"parcoords\": [{\"line\": {\"colorbar\": {\"outlinewidth\": 0, \"ticks\": \"\"}}, \"type\": \"parcoords\"}], \"pie\": [{\"automargin\": true, \"type\": \"pie\"}], \"scatter\": [{\"marker\": {\"colorbar\": {\"outlinewidth\": 0, \"ticks\": \"\"}}, \"type\": \"scatter\"}], \"scatter3d\": [{\"line\": {\"colorbar\": {\"outlinewidth\": 0, \"ticks\": \"\"}}, \"marker\": {\"colorbar\": {\"outlinewidth\": 0, \"ticks\": \"\"}}, \"type\": \"scatter3d\"}], \"scattercarpet\": [{\"marker\": {\"colorbar\": {\"outlinewidth\": 0, \"ticks\": \"\"}}, \"type\": \"scattercarpet\"}], \"scattergeo\": [{\"marker\": {\"colorbar\": {\"outlinewidth\": 0, \"ticks\": \"\"}}, \"type\": \"scattergeo\"}], \"scattergl\": [{\"marker\": {\"colorbar\": {\"outlinewidth\": 0, \"ticks\": \"\"}}, \"type\": \"scattergl\"}], \"scattermapbox\": [{\"marker\": {\"colorbar\": {\"outlinewidth\": 0, \"ticks\": \"\"}}, \"type\": \"scattermapbox\"}], \"scatterpolar\": [{\"marker\": {\"colorbar\": {\"outlinewidth\": 0, \"ticks\": \"\"}}, \"type\": \"scatterpolar\"}], \"scatterpolargl\": [{\"marker\": {\"colorbar\": {\"outlinewidth\": 0, \"ticks\": \"\"}}, \"type\": \"scatterpolargl\"}], \"scatterternary\": [{\"marker\": {\"colorbar\": {\"outlinewidth\": 0, \"ticks\": \"\"}}, \"type\": \"scatterternary\"}], \"surface\": [{\"colorbar\": {\"outlinewidth\": 0, \"ticks\": \"\"}, \"colorscale\": [[0.0, \"#0d0887\"], [0.1111111111111111, \"#46039f\"], [0.2222222222222222, \"#7201a8\"], [0.3333333333333333, \"#9c179e\"], [0.4444444444444444, \"#bd3786\"], [0.5555555555555556, \"#d8576b\"], [0.6666666666666666, \"#ed7953\"], [0.7777777777777778, \"#fb9f3a\"], [0.8888888888888888, \"#fdca26\"], [1.0, \"#f0f921\"]], \"type\": \"surface\"}], \"table\": [{\"cells\": {\"fill\": {\"color\": \"#EBF0F8\"}, \"line\": {\"color\": \"white\"}}, \"header\": {\"fill\": {\"color\": \"#C8D4E3\"}, \"line\": {\"color\": \"white\"}}, \"type\": \"table\"}]}, \"layout\": {\"annotationdefaults\": {\"arrowcolor\": \"#2a3f5f\", \"arrowhead\": 0, \"arrowwidth\": 1}, \"coloraxis\": {\"colorbar\": {\"outlinewidth\": 0, \"ticks\": \"\"}}, \"colorscale\": {\"diverging\": [[0, \"#8e0152\"], [0.1, \"#c51b7d\"], [0.2, \"#de77ae\"], [0.3, \"#f1b6da\"], [0.4, \"#fde0ef\"], [0.5, \"#f7f7f7\"], [0.6, \"#e6f5d0\"], [0.7, \"#b8e186\"], [0.8, \"#7fbc41\"], [0.9, \"#4d9221\"], [1, \"#276419\"]], \"sequential\": [[0.0, \"#0d0887\"], [0.1111111111111111, \"#46039f\"], [0.2222222222222222, \"#7201a8\"], [0.3333333333333333, \"#9c179e\"], [0.4444444444444444, \"#bd3786\"], [0.5555555555555556, \"#d8576b\"], [0.6666666666666666, \"#ed7953\"], [0.7777777777777778, \"#fb9f3a\"], [0.8888888888888888, \"#fdca26\"], [1.0, \"#f0f921\"]], \"sequentialminus\": [[0.0, \"#0d0887\"], [0.1111111111111111, \"#46039f\"], [0.2222222222222222, \"#7201a8\"], [0.3333333333333333, \"#9c179e\"], [0.4444444444444444, \"#bd3786\"], [0.5555555555555556, \"#d8576b\"], [0.6666666666666666, \"#ed7953\"], [0.7777777777777778, \"#fb9f3a\"], [0.8888888888888888, \"#fdca26\"], [1.0, \"#f0f921\"]]}, \"colorway\": [\"#636efa\", \"#EF553B\", \"#00cc96\", \"#ab63fa\", \"#FFA15A\", \"#19d3f3\", \"#FF6692\", \"#B6E880\", \"#FF97FF\", \"#FECB52\"], \"font\": {\"color\": \"#2a3f5f\"}, \"geo\": {\"bgcolor\": \"white\", \"lakecolor\": \"white\", \"landcolor\": \"#E5ECF6\", \"showlakes\": true, \"showland\": true, \"subunitcolor\": \"white\"}, \"hoverlabel\": {\"align\": \"left\"}, \"hovermode\": \"closest\", \"mapbox\": {\"style\": \"light\"}, \"paper_bgcolor\": \"white\", \"plot_bgcolor\": \"#E5ECF6\", \"polar\": {\"angularaxis\": {\"gridcolor\": \"white\", \"linecolor\": \"white\", \"ticks\": \"\"}, \"bgcolor\": \"#E5ECF6\", \"radialaxis\": {\"gridcolor\": \"white\", \"linecolor\": \"white\", \"ticks\": \"\"}}, \"scene\": {\"xaxis\": {\"backgroundcolor\": \"#E5ECF6\", \"gridcolor\": \"white\", \"gridwidth\": 2, \"linecolor\": \"white\", \"showbackground\": true, \"ticks\": \"\", \"zerolinecolor\": \"white\"}, \"yaxis\": {\"backgroundcolor\": \"#E5ECF6\", \"gridcolor\": \"white\", \"gridwidth\": 2, \"linecolor\": \"white\", \"showbackground\": true, \"ticks\": \"\", \"zerolinecolor\": \"white\"}, \"zaxis\": {\"backgroundcolor\": \"#E5ECF6\", \"gridcolor\": \"white\", \"gridwidth\": 2, \"linecolor\": \"white\", \"showbackground\": true, \"ticks\": \"\", \"zerolinecolor\": \"white\"}}, \"shapedefaults\": {\"line\": {\"color\": \"#2a3f5f\"}}, \"ternary\": {\"aaxis\": {\"gridcolor\": \"white\", \"linecolor\": \"white\", \"ticks\": \"\"}, \"baxis\": {\"gridcolor\": \"white\", \"linecolor\": \"white\", \"ticks\": \"\"}, \"bgcolor\": \"#E5ECF6\", \"caxis\": {\"gridcolor\": \"white\", \"linecolor\": \"white\", \"ticks\": \"\"}}, \"title\": {\"x\": 0.05}, \"xaxis\": {\"automargin\": true, \"gridcolor\": \"white\", \"linecolor\": \"white\", \"ticks\": \"\", \"title\": {\"standoff\": 15}, \"zerolinecolor\": \"white\", \"zerolinewidth\": 2}, \"yaxis\": {\"automargin\": true, \"gridcolor\": \"white\", \"linecolor\": \"white\", \"ticks\": \"\", \"title\": {\"standoff\": 15}, \"zerolinecolor\": \"white\", \"zerolinewidth\": 2}}}},\n",
       "                        {\"responsive\": true}\n",
       "                    ).then(function(){\n",
       "                            \n",
       "var gd = document.getElementById('58f00484-64c6-4ab9-802e-9f7a3f763aff');\n",
       "var x = new MutationObserver(function (mutations, observer) {{\n",
       "        var display = window.getComputedStyle(gd).display;\n",
       "        if (!display || display === 'none') {{\n",
       "            console.log([gd, 'removed!']);\n",
       "            Plotly.purge(gd);\n",
       "            observer.disconnect();\n",
       "        }}\n",
       "}});\n",
       "\n",
       "// Listen for the removal of the full notebook cells\n",
       "var notebookContainer = gd.closest('#notebook-container');\n",
       "if (notebookContainer) {{\n",
       "    x.observe(notebookContainer, {childList: true});\n",
       "}}\n",
       "\n",
       "// Listen for the clearing of the current output cell\n",
       "var outputEl = gd.closest('.output');\n",
       "if (outputEl) {{\n",
       "    x.observe(outputEl, {childList: true});\n",
       "}}\n",
       "\n",
       "                        })\n",
       "                };\n",
       "                });\n",
       "            </script>\n",
       "        </div>"
      ]
     },
     "metadata": {},
     "output_type": "display_data"
    }
   ],
   "source": [
    "#you can either input data objects created in cell above or directly write go.Scatter() function inside \n",
    "fig_close_open=go.Figure()\n",
    "\n",
    "fig_close_open.add_trace(go.Scatter(x=data_dis.index, y=data_dis.Close,\n",
    "                   mode='lines', name='Close'))\n",
    "\n",
    "fig_close_open.add_trace(go.Scatter(x=data_dis.index, y=data_dis.Open,\n",
    "                   mode='lines', name='Open'))\n",
    "\n",
    "fig_close_open.show()"
   ]
  },
  {
   "cell_type": "code",
   "execution_count": 45,
   "metadata": {
    "scrolled": true
   },
   "outputs": [
    {
     "data": {
      "application/vnd.plotly.v1+json": {
       "config": {
        "plotlyServerURL": "https://plot.ly"
       },
       "data": [
        {
         "close": [
          148.1999969482422,
          146.5,
          145.64999389648438,
          145.6999969482422,
          145.39999389648438,
          144.8300018310547,
          144.6199951171875,
          143.8800048828125,
          145.1999969482422,
          144.32000732421875,
          145.1199951171875,
          144.3300018310547,
          143.55999755859375,
          144.00999450683594,
          142.1999969482422,
          140.0800018310547,
          135.89999389648438,
          138.3699951171875,
          136.05999755859375,
          137.80999755859375,
          138.30999755859375,
          141.32000732421875,
          144.72999572753906,
          141.3699951171875,
          142.6999969482422,
          141.02000427246094,
          142.58999633789062,
          141.00999450683594,
          141.85000610351562,
          140.89999389648438,
          139.5399932861328,
          139.13999938964844,
          141.3000030517578,
          140.3699951171875,
          138.97000122070312,
          133.00999450683594,
          128.19000244140625,
          123.36000061035156,
          118.04000091552734,
          117.6500015258789,
          119.9800033569336,
          116.44999694824219,
          119.18000030517578,
          113.9800033569336,
          115.2699966430664,
          104.3499984741211,
          111.45999908447266,
          105.51000213623047,
          91.80999755859375,
          102.5199966430664,
          95.01000213623047,
          93.52999877929688,
          88.80000305175781,
          94.93000030517578,
          85.9800033569336,
          85.76000213623047,
          98.12000274658203,
          100.7300033569336,
          105.36000061035156,
          96.4000015258789,
          99.80000305175781,
          96.5999984741211,
          94.91999816894531,
          96.97000122070312,
          93.87999725341797,
          99.58000183105469,
          101.23999786376953,
          101.06999969482422,
          104.5,
          103.5,
          106.02999877929688,
          103.37000274658203,
          102.0199966430664,
          106.62999725341797,
          102.26000213623047,
          100.54000091552734,
          100.98999786376953,
          101,
          101.19000244140625,
          106.05999755859375,
          106.20999908447266,
          112.25,
          108.1500015258789,
          105.5,
          103.18000030517578,
          101.05999755859375,
          100.87999725341797,
          105.56999969482422,
          109.16000366210938,
          107.7699966430664,
          104.55999755859375,
          102.91999816894531,
          105.91000366210938,
          109.05000305175781,
          116.8499984741211,
          114.37000274658203,
          119.91999816894531,
          117.83000183105469,
          118.0199966430664,
          120.94999694824219,
          121.52999877929688,
          116.75,
          117.30000305175781,
          118.7699966430664,
          118.75,
          122.18000030517578,
          123.69000244140625,
          124.81999969482422,
          127.27999877929688,
          123.88999938964844,
          122.18000030517578,
          112.63999938964844,
          115.48999786376953,
          117.08000183105469,
          118.44000244140625,
          117.6500015258789,
          118.37000274658203,
          114.3499984741211,
          115.91999816894531,
          116.58999633789062,
          112.06999969482422,
          111.36000061035156,
          109.0999984741211,
          111.5199966430664,
          111.51000213623047,
          113.01000213623047,
          112.18000030517578,
          114.43000030517578,
          113.62999725341797,
          116.66000366210938,
          116.80999755859375,
          119.33999633789062,
          116.22000122070312,
          118.66000366210938,
          120.9000015258789,
          119.43000030517578,
          118.6500015258789,
          117.79000091552734,
          118.62000274658203,
          119.02999877929688,
          118.12000274658203,
          117.61000061035156,
          116.30999755859375,
          116.18000030517578,
          115.61000061035156,
          115.66000366210938,
          116.94000244140625,
          116.3499984741211,
          117.29000091552734,
          127.61000061035156,
          130.82000732421875,
          129.92999267578125,
          128.7899932861328,
          130.49000549316406,
          131.7899932861328,
          130.9600067138672,
          130.52999877929688,
          129.3699951171875,
          128.9199981689453,
          127.7699966430664,
          128.1199951171875,
          127.44000244140625,
          130.69000244140625,
          129.7899932861328,
          132.17999267578125,
          133.72999572753906,
          135.5399932861328,
          131.8699951171875,
          133.5500030517578,
          135.38999938964844,
          133.24000549316406,
          131.99000549316406,
          134.1999969482422,
          133.36000061035156,
          133.22000122070312,
          131.75,
          131.25,
          131.24000549316406,
          132.08999633789062,
          130.22000122070312,
          128.6300048828125,
          125.41000366210938,
          127.20999908447266,
          123.27999877929688,
          122.48999786376953,
          124,
          125.98999786376953,
          125.4000015258789,
          124.08000183105469,
          123.30999755859375,
          122.55000305175781,
          123.37000274658203,
          120.93000030517578,
          122.91000366210938,
          123.08999633789062,
          124.9800033569336,
          124.97000122070312,
          128.9600067138672,
          126.58999633789062,
          127.36000061035156,
          126.80999755859375,
          124.2300033569336,
          124.94999694824219,
          126.62999725341797,
          127.55999755859375,
          128.35000610351562,
          124.05999755859375,
          123.30999755859375,
          118.47000122070312,
          121.54000091552734,
          121.25,
          120.12999725341797,
          124.0199966430664,
          125.06999969482422,
          126.95999908447266,
          127.45999908447266,
          142.58999633789062,
          142.11000061035156,
          137.82000732421875,
          135.52000427246094,
          138.36000061035156,
          144.6699981689453,
          144.5,
          143.89999389648438,
          141.72000122070312,
          141.07000732421875,
          145.97999572753906,
          151.49000549316406,
          149.08999633789062,
          147.1300048828125,
          148.00999450683594,
          149.44000244140625,
          153.61000061035156,
          153.24000549316406,
          154.13999938964844,
          153.67999267578125,
          153.72000122070312,
          154.42999267578125,
          154.69000244140625,
          175.72000122070312,
          169.3000030517578,
          173.94000244140625,
          173.1199951171875,
          173.5500030517578,
          172.88999938964844,
          170.69000244140625,
          170.4499969482422,
          173.5500030517578,
          173.72999572753906,
          178.86000061035156,
          177.3000030517578,
          181.1699981689453,
          181.17999267578125
         ],
         "high": [
          148.1999969482422,
          147.89999389648438,
          146.02999877929688,
          146.8699951171875,
          146.1300048828125,
          146.6300048828125,
          145.5,
          144.75,
          146.72000122070312,
          145.7100067138672,
          145.42999267578125,
          145.63999938964844,
          144.58999633789062,
          144.7899932861328,
          143.61000061035156,
          142.25,
          137.72999572753906,
          138.92999267578125,
          138.67999267578125,
          137.85000610351562,
          138.6699981689453,
          141.82000732421875,
          145.58999633789062,
          147.3000030517578,
          143.9499969482422,
          141.99000549316406,
          142.58999633789062,
          142.99000549316406,
          142.22000122070312,
          141.89999389648438,
          141.27999877929688,
          139.66000366210938,
          141.8699951171875,
          141.6300048828125,
          139.8800048828125,
          134.44000244140625,
          133.94000244140625,
          128.3699951171875,
          122.9000015258789,
          118.30999755859375,
          119.9800033569336,
          121.77999877929688,
          119.23999786376953,
          116.95999908447266,
          115.87000274658203,
          110.43000030517578,
          111.58000183105469,
          108.9000015258789,
          100,
          102.87000274658203,
          98.27999877929688,
          97.45999908447266,
          89.33999633789062,
          97.4000015258789,
          96.98999786376953,
          87.27999877929688,
          99.16999816894531,
          105.91999816894531,
          107.7300033569336,
          101.48999786376953,
          100.45999908447266,
          103.16000366210938,
          97.4000015258789,
          97.26000213623047,
          96.91999816894531,
          100.19000244140625,
          105.88999938964844,
          102.3499984741211,
          107.98999786376953,
          104.87000274658203,
          107.63999938964844,
          104.87999725341797,
          103.72000122070312,
          106.79000091552734,
          104.86000061035156,
          101.51000213623047,
          102.62999725341797,
          102.52999877929688,
          101.91999816894531,
          106.5199966430664,
          110.05999755859375,
          112.69999694824219,
          110.30999755859375,
          106.91000366210938,
          103.83000183105469,
          105.18000030517578,
          105.2699966430664,
          105.61000061035156,
          109.18000030517578,
          108.80999755859375,
          109.44000244140625,
          104.54000091552734,
          105.91999816894531,
          109.37999725341797,
          119.77999877929688,
          116.47000122070312,
          120.87000274658203,
          120.30000305175781,
          118.56999969482422,
          122.51000213623047,
          123.77999877929688,
          121.9800033569336,
          117.75,
          119.6500015258789,
          119.8499984741211,
          122.44999694824219,
          124.5,
          127.81999969482422,
          127.44000244140625,
          125.79000091552734,
          124.0999984741211,
          118,
          117,
          118.12000274658203,
          121.5,
          119.2300033569336,
          118.52999877929688,
          120.12000274658203,
          116.19000244140625,
          117.44999694824219,
          116,
          111.51000213623047,
          111.19999694824219,
          111.56999969482422,
          112.05000305175781,
          115.5999984741211,
          115.0999984741211,
          114.52999877929688,
          115.08000183105469,
          117.12999725341797,
          117.8499984741211,
          119.44000244140625,
          120.12999725341797,
          119.08000183105469,
          122.08999633789062,
          119.98999786376953,
          119.55999755859375,
          118.48999786376953,
          120.38999938964844,
          119.30000305175781,
          119.3499984741211,
          118.20999908447266,
          117.41999816894531,
          116.83999633789062,
          116.70999908447266,
          116.29000091552734,
          117.05000305175781,
          117.12000274658203,
          118.3499984741211,
          130.30999755859375,
          131.6300048828125,
          131.94000244140625,
          131.32000732421875,
          132.75999450683594,
          133,
          132.35000610351562,
          131.0800018310547,
          130.13999938964844,
          129.58999633789062,
          130.22000122070312,
          128.4499969482422,
          128.30999755859375,
          130.8800048828125,
          131.08999633789062,
          132.60000610351562,
          136.36000061035156,
          136.8000030517578,
          135.5399932861328,
          133.61000061035156,
          135.9199981689453,
          137.24000549316406,
          134.8800048828125,
          137.13999938964844,
          135.5500030517578,
          136.75,
          133.74000549316406,
          132.92999267578125,
          132.5399932861328,
          133.6199951171875,
          131.77000427246094,
          130.7899932861328,
          126.88999938964844,
          127.47000122070312,
          127.30000305175781,
          123.80000305175781,
          124.19000244140625,
          126.86000061035156,
          126.29000091552734,
          125.55000305175781,
          125.47000122070312,
          123.68000030517578,
          123.5999984741211,
          124.19000244140625,
          123.30999755859375,
          123.75,
          125.55000305175781,
          125.94000244140625,
          131.36000061035156,
          129.5,
          127.4000015258789,
          128.1199951171875,
          127.4000015258789,
          125.7300033569336,
          127.55999755859375,
          128.10000610351562,
          128.5,
          127.11000061035156,
          124.61000061035156,
          121.52999877929688,
          122.62999725341797,
          121.75,
          122.93000030517578,
          125.06999969482422,
          126.86000061035156,
          128.6199951171875,
          128.0399932861328,
          147.67999267578125,
          142.3699951171875,
          142,
          138.49000549316406,
          141.19000244140625,
          144.74000549316406,
          144.8300018310547,
          145.47999572753906,
          143.3000030517578,
          142.61000061035156,
          147.75,
          151.86000061035156,
          150.27000427246094,
          150.35000610351562,
          148.69000244140625,
          151.39999389648438,
          154.00999450683594,
          154.44000244140625,
          154.67999267578125,
          153.8800048828125,
          154.8800048828125,
          157.4600067138672,
          155.33999633789062,
          179.4499969482422,
          177.3000030517578,
          174.47000122070312,
          174.85000610351562,
          174.83999633789062,
          175.83999633789062,
          171.94000244140625,
          171.4499969482422,
          175.9499969482422,
          174.5800018310547,
          179.9199981689453,
          180.1999969482422,
          183.39999389648438,
          183.39999389648438
         ],
         "low": [
          145.10000610351562,
          146.0500030517578,
          144.30999755859375,
          145.4199981689453,
          144.82000732421875,
          144.61000061035156,
          144.25999450683594,
          143.36000061035156,
          142.2899932861328,
          143.92999267578125,
          144.44000244140625,
          144.00999450683594,
          143.00999450683594,
          143.5399932861328,
          140.64999389648438,
          139.1999969482422,
          135,
          135.86000061035156,
          135.7899932861328,
          134.8300018310547,
          137.05999755859375,
          139.75,
          143.25,
          138.57000732421875,
          141.22000122070312,
          140.1199951171875,
          140.4600067138672,
          140.4600067138672,
          140.8699951171875,
          140.82000732421875,
          139.1300048828125,
          138.10000610351562,
          139.22999572753906,
          138.85000610351562,
          138.5800018310547,
          131.2100067138672,
          127.9800033569336,
          122.12999725341797,
          117.91999816894531,
          113.20999908447266,
          116.02999877929688,
          115.1500015258789,
          115.4800033569336,
          112.11000061035156,
          110.31999969482422,
          104.27999877929688,
          102.43000030517578,
          102.86000061035156,
          91.63999938964844,
          92.25,
          90,
          91.1500015258789,
          79.06999969482422,
          85.11000061035156,
          85.83999633789062,
          81.08999633789062,
          91.80000305175781,
          95.51000213623047,
          100.80000305175781,
          95.54000091552734,
          92.0999984741211,
          96.16000366210938,
          92.55999755859375,
          94.19999694824219,
          92.70999908447266,
          94.5199966430664,
          100.25,
          98.6500015258789,
          103.52999877929688,
          99.61000061035156,
          103.9000015258789,
          102.69999694824219,
          100.88999938964844,
          104.3499984741211,
          102,
          99.12999725341797,
          100.88999938964844,
          99.45999908447266,
          99.5199966430664,
          101.61000061035156,
          105.9800033569336,
          108.55999755859375,
          106.86000061035156,
          104.47000122070312,
          100.55000305175781,
          100.9000015258789,
          98.86000061035156,
          101.83000183105469,
          106.62999725341797,
          106.41000366210938,
          104.48999786376953,
          101.5999984741211,
          99.66000366210938,
          104.2699966430664,
          114.47000122070312,
          113.41999816894531,
          116.04000091552734,
          116.5,
          116.83000183105469,
          120.43000030517578,
          119.70999908447266,
          116,
          114.12000274658203,
          116.93000030517578,
          117.83000183105469,
          119.31999969482422,
          121.8499984741211,
          124.27999877929688,
          123.94000244140625,
          123.51000213623047,
          120.93000030517578,
          112.25,
          112.88999938964844,
          111.70999908447266,
          116.05000305175781,
          117.13999938964844,
          115.93000030517578,
          114.3499984741211,
          113.11000061035156,
          115.97000122070312,
          110.02999877929688,
          108.5,
          108.0199966430664,
          108.0999984741211,
          109.93000030517578,
          112.29000091552734,
          112,
          112.9000015258789,
          112.61000061035156,
          112.80999755859375,
          115.37999725341797,
          116.20999908447266,
          115.88999938964844,
          114.54000091552734,
          119.69999694824219,
          117.5999984741211,
          117.05999755859375,
          116.81999969482422,
          117.66000366210938,
          117.93000030517578,
          117.01000213623047,
          115.52999877929688,
          115.68000030517578,
          114.68000030517578,
          115.11000061035156,
          113.37000274658203,
          114.12000274658203,
          115.3499984741211,
          115.76000213623047,
          123.27999877929688,
          125.61000061035156,
          128.66000366210938,
          128.49000549316406,
          130,
          130.49000549316406,
          130.4499969482422,
          129.74000549316406,
          128.5399932861328,
          128.36000061035156,
          127.43000030517578,
          126.52999877929688,
          127.2300033569336,
          127.93000030517578,
          129.30999755859375,
          129.52000427246094,
          132.82000732421875,
          133.5800018310547,
          131.25,
          130.88999938964844,
          133.25999450683594,
          132.02000427246094,
          129.4199981689453,
          130.86000061035156,
          132.25999450683594,
          132.74000549316406,
          131.08999633789062,
          130.89999389648438,
          131.00999450683594,
          131.39999389648438,
          128.60000610351562,
          128.1199951171875,
          123.58999633789062,
          124.69999694824219,
          122.9000015258789,
          120.77999877929688,
          120.9800033569336,
          125.37000274658203,
          123.68000030517578,
          123.23999786376953,
          122.41999816894531,
          121.69000244140625,
          122.33000183105469,
          120.61000061035156,
          120.93000030517578,
          122.41999816894531,
          123.33000183105469,
          123.7300033569336,
          127.9000015258789,
          125.29000091552734,
          124.43000030517578,
          126.33000183105469,
          123.70999908447266,
          123.63999938964844,
          123.83999633789062,
          125.97000122070312,
          126.3499984741211,
          122.94999694824219,
          123.02999877929688,
          118.31999969482422,
          117.2300033569336,
          119.08999633789062,
          119.80999755859375,
          121.37000274658203,
          123.41000366210938,
          125.80000305175781,
          124.61000061035156,
          138.07000732421875,
          137.6699981689453,
          136.6199951171875,
          134.10000610351562,
          136.52000427246094,
          141.57000732421875,
          142.55999755859375,
          143.35000610351562,
          141.6999969482422,
          140.86000061035156,
          141.6999969482422,
          147.85000610351562,
          147.24000549316406,
          146.52999877929688,
          146.2899932861328,
          149,
          148.33999633789062,
          152.1300048828125,
          152.80999755859375,
          152.25999450683594,
          152.25,
          153.88999938964844,
          152.5,
          165.3300018310547,
          168.80999755859375,
          167.82000732421875,
          171.6199951171875,
          171.9600067138672,
          172.27999877929688,
          168.19000244140625,
          169.16000366210938,
          172.3000030517578,
          172.3800048828125,
          175.0500030517578,
          176.22000122070312,
          178.3699951171875,
          180.27000427246094
         ],
         "open": [
          145.2899932861328,
          146.39999389648438,
          145.5399932861328,
          145.99000549316406,
          145.49000549316406,
          146.47000122070312,
          145.3000030517578,
          144.75,
          143.41000366210938,
          145.7100067138672,
          145.08999633789062,
          145.5399932861328,
          144.24000549316406,
          144.4499969482422,
          143.60000610351562,
          141.39999389648438,
          135.86000061035156,
          136.5,
          138.60000610351562,
          135.08999633789062,
          138.39999389648438,
          139.7899932861328,
          145.49000549316406,
          146.60000610351562,
          141.9199981689453,
          141.88999938964844,
          141.02999877929688,
          142.85000610351562,
          141.33999633789062,
          141.1699981689453,
          141.10000610351562,
          139.02000427246094,
          139.6300048828125,
          141.6300048828125,
          139.86000061035156,
          132.89999389648438,
          133.75,
          126.12000274658203,
          119.80999755859375,
          114.51000213623047,
          119.12999725341797,
          121.1500015258789,
          118.95999908447266,
          116.86000061035156,
          110.76000213623047,
          108.69000244140625,
          108.0999984741211,
          108.41999816894531,
          97.62000274658203,
          100.77999877929688,
          91.80000305175781,
          95.80000305175781,
          87.58999633789062,
          88,
          95.98999786376953,
          84.48999786376953,
          92.33000183105469,
          100.66000366210938,
          100.83000183105469,
          100.44999694824219,
          96,
          100.22000122070312,
          93.5,
          94.19999694824219,
          96.30999755859375,
          97.26000213623047,
          104.86000061035156,
          100.52999877929688,
          107.91999816894531,
          104.70999908447266,
          105.5,
          104.38999938964844,
          103.52999877929688,
          106.20999908447266,
          103.58000183105469,
          100.01000213623047,
          101.80000305175781,
          100.6500015258789,
          101.77999877929688,
          102,
          108.79000091552734,
          109.94000244140625,
          109.44000244140625,
          106.36000061035156,
          102.01000213623047,
          101.51000213623047,
          101.4800033569336,
          101.8499984741211,
          109.05000305175781,
          108.4000015258789,
          109.05999755859375,
          104.5,
          101.9800033569336,
          104.9800033569336,
          114.47000122070312,
          115.0999984741211,
          116.41999816894531,
          119.33999633789062,
          117.5,
          121.05000305175781,
          123.68000030517578,
          121.5999984741211,
          116.19000244140625,
          117.26000213623047,
          119,
          119.98999786376953,
          121.94999694824219,
          126.30999755859375,
          125.0999984741211,
          125.62999725341797,
          124.0199966430664,
          117.5999984741211,
          115.16999816894531,
          112.08000183105469,
          121.23999786376953,
          118.63999938964844,
          116.87999725341797,
          119.9800033569336,
          114.19000244140625,
          116.95999908447266,
          115.8499984741211,
          108.98999786376953,
          110.94999694824219,
          109,
          111.5,
          112.81999969482422,
          115,
          113.83000183105469,
          113.62999725341797,
          113.4800033569336,
          116.51000213623047,
          116.83000183105469,
          119.94000244140625,
          115.2300033569336,
          121.62999725341797,
          117.72000122070312,
          118.9000015258789,
          118.05000305175781,
          118.05000305175781,
          118.19000244140625,
          118.86000061035156,
          115.69999694824219,
          117.19999694824219,
          115.45999908447266,
          116.22000122070312,
          114.91000366210938,
          115.22000122070312,
          116.16999816894531,
          115.95999908447266,
          123.37000274658203,
          126.95999908447266,
          130.22000122070312,
          129.75,
          130.52999877929688,
          130.6699981689453,
          130.63999938964844,
          130.00999450683594,
          130.10000610351562,
          129.44000244140625,
          129.25,
          126.80000305175781,
          127.72000122070312,
          128.14999389648438,
          130.8300018310547,
          130,
          133,
          134.5,
          135.25,
          131.9199981689453,
          133.6300048828125,
          135.24000549316406,
          133.75,
          131.99000549316406,
          134.27999877929688,
          133.5800018310547,
          133.74000549316406,
          132.52999877929688,
          131.4600067138672,
          132.1699981689453,
          130.5500030517578,
          129.5,
          125.9800033569336,
          125.26000213623047,
          127.06999969482422,
          121.93000030517578,
          121.36000061035156,
          125.75,
          125.91999816894531,
          123.23999786376953,
          124.94000244140625,
          121.98999786376953,
          123.26000213623047,
          123.12999725341797,
          121.94999694824219,
          123.58000183105469,
          123.8499984741211,
          124.9000015258789,
          129.8000030517578,
          129.13999938964844,
          125,
          127.80999755859375,
          127.37000274658203,
          124.58000183105469,
          124.36000061035156,
          126.66999816894531,
          128.10000610351562,
          127.11000061035156,
          124.02999877929688,
          121.01000213623047,
          118.16000366210938,
          120.63999938964844,
          122.23999786376953,
          121.61000061035156,
          123.58000183105469,
          126.77999877929688,
          126.26000213623047,
          140.25999450683594,
          139.97000122070312,
          141.47000122070312,
          136.33999633789062,
          140.89999389648438,
          141.57000732421875,
          144.39999389648438,
          144.5,
          142.57000732421875,
          141.7100067138672,
          142.4499969482422,
          148.16000366210938,
          150.27000427246094,
          149,
          147.05999755859375,
          149.57000732421875,
          149.49000549316406,
          153.4499969482422,
          153.69000244140625,
          153.17999267578125,
          152.4199981689453,
          156.2899932861328,
          153.32000732421875,
          169.67999267578125,
          173.8000030517578,
          170.49000549316406,
          173.99000549316406,
          173.82000732421875,
          173.60000610351562,
          170.08999633789062,
          170,
          172.9600067138672,
          173.99000549316406,
          175.75,
          180.00999450683594,
          178.5,
          181.22000122070312
         ],
         "type": "candlestick",
         "x": [
          "2020-01-02T00:00:00",
          "2020-01-03T00:00:00",
          "2020-01-06T00:00:00",
          "2020-01-07T00:00:00",
          "2020-01-08T00:00:00",
          "2020-01-09T00:00:00",
          "2020-01-10T00:00:00",
          "2020-01-13T00:00:00",
          "2020-01-14T00:00:00",
          "2020-01-15T00:00:00",
          "2020-01-16T00:00:00",
          "2020-01-17T00:00:00",
          "2020-01-21T00:00:00",
          "2020-01-22T00:00:00",
          "2020-01-23T00:00:00",
          "2020-01-24T00:00:00",
          "2020-01-27T00:00:00",
          "2020-01-28T00:00:00",
          "2020-01-29T00:00:00",
          "2020-01-30T00:00:00",
          "2020-01-31T00:00:00",
          "2020-02-03T00:00:00",
          "2020-02-04T00:00:00",
          "2020-02-05T00:00:00",
          "2020-02-06T00:00:00",
          "2020-02-07T00:00:00",
          "2020-02-10T00:00:00",
          "2020-02-11T00:00:00",
          "2020-02-12T00:00:00",
          "2020-02-13T00:00:00",
          "2020-02-14T00:00:00",
          "2020-02-18T00:00:00",
          "2020-02-19T00:00:00",
          "2020-02-20T00:00:00",
          "2020-02-21T00:00:00",
          "2020-02-24T00:00:00",
          "2020-02-25T00:00:00",
          "2020-02-26T00:00:00",
          "2020-02-27T00:00:00",
          "2020-02-28T00:00:00",
          "2020-03-02T00:00:00",
          "2020-03-03T00:00:00",
          "2020-03-04T00:00:00",
          "2020-03-05T00:00:00",
          "2020-03-06T00:00:00",
          "2020-03-09T00:00:00",
          "2020-03-10T00:00:00",
          "2020-03-11T00:00:00",
          "2020-03-12T00:00:00",
          "2020-03-13T00:00:00",
          "2020-03-16T00:00:00",
          "2020-03-17T00:00:00",
          "2020-03-18T00:00:00",
          "2020-03-19T00:00:00",
          "2020-03-20T00:00:00",
          "2020-03-23T00:00:00",
          "2020-03-24T00:00:00",
          "2020-03-25T00:00:00",
          "2020-03-26T00:00:00",
          "2020-03-27T00:00:00",
          "2020-03-30T00:00:00",
          "2020-03-31T00:00:00",
          "2020-04-01T00:00:00",
          "2020-04-02T00:00:00",
          "2020-04-03T00:00:00",
          "2020-04-06T00:00:00",
          "2020-04-07T00:00:00",
          "2020-04-08T00:00:00",
          "2020-04-09T00:00:00",
          "2020-04-13T00:00:00",
          "2020-04-14T00:00:00",
          "2020-04-15T00:00:00",
          "2020-04-16T00:00:00",
          "2020-04-17T00:00:00",
          "2020-04-20T00:00:00",
          "2020-04-21T00:00:00",
          "2020-04-22T00:00:00",
          "2020-04-23T00:00:00",
          "2020-04-24T00:00:00",
          "2020-04-27T00:00:00",
          "2020-04-28T00:00:00",
          "2020-04-29T00:00:00",
          "2020-04-30T00:00:00",
          "2020-05-01T00:00:00",
          "2020-05-04T00:00:00",
          "2020-05-05T00:00:00",
          "2020-05-06T00:00:00",
          "2020-05-07T00:00:00",
          "2020-05-08T00:00:00",
          "2020-05-11T00:00:00",
          "2020-05-12T00:00:00",
          "2020-05-13T00:00:00",
          "2020-05-14T00:00:00",
          "2020-05-15T00:00:00",
          "2020-05-18T00:00:00",
          "2020-05-19T00:00:00",
          "2020-05-20T00:00:00",
          "2020-05-21T00:00:00",
          "2020-05-22T00:00:00",
          "2020-05-26T00:00:00",
          "2020-05-27T00:00:00",
          "2020-05-28T00:00:00",
          "2020-05-29T00:00:00",
          "2020-06-01T00:00:00",
          "2020-06-02T00:00:00",
          "2020-06-03T00:00:00",
          "2020-06-04T00:00:00",
          "2020-06-05T00:00:00",
          "2020-06-08T00:00:00",
          "2020-06-09T00:00:00",
          "2020-06-10T00:00:00",
          "2020-06-11T00:00:00",
          "2020-06-12T00:00:00",
          "2020-06-15T00:00:00",
          "2020-06-16T00:00:00",
          "2020-06-17T00:00:00",
          "2020-06-18T00:00:00",
          "2020-06-19T00:00:00",
          "2020-06-22T00:00:00",
          "2020-06-23T00:00:00",
          "2020-06-24T00:00:00",
          "2020-06-25T00:00:00",
          "2020-06-26T00:00:00",
          "2020-06-29T00:00:00",
          "2020-06-30T00:00:00",
          "2020-07-01T00:00:00",
          "2020-07-02T00:00:00",
          "2020-07-06T00:00:00",
          "2020-07-07T00:00:00",
          "2020-07-08T00:00:00",
          "2020-07-09T00:00:00",
          "2020-07-10T00:00:00",
          "2020-07-13T00:00:00",
          "2020-07-14T00:00:00",
          "2020-07-15T00:00:00",
          "2020-07-16T00:00:00",
          "2020-07-17T00:00:00",
          "2020-07-20T00:00:00",
          "2020-07-21T00:00:00",
          "2020-07-22T00:00:00",
          "2020-07-23T00:00:00",
          "2020-07-24T00:00:00",
          "2020-07-27T00:00:00",
          "2020-07-28T00:00:00",
          "2020-07-29T00:00:00",
          "2020-07-30T00:00:00",
          "2020-07-31T00:00:00",
          "2020-08-03T00:00:00",
          "2020-08-04T00:00:00",
          "2020-08-05T00:00:00",
          "2020-08-06T00:00:00",
          "2020-08-07T00:00:00",
          "2020-08-10T00:00:00",
          "2020-08-11T00:00:00",
          "2020-08-12T00:00:00",
          "2020-08-13T00:00:00",
          "2020-08-14T00:00:00",
          "2020-08-17T00:00:00",
          "2020-08-18T00:00:00",
          "2020-08-19T00:00:00",
          "2020-08-20T00:00:00",
          "2020-08-21T00:00:00",
          "2020-08-24T00:00:00",
          "2020-08-25T00:00:00",
          "2020-08-26T00:00:00",
          "2020-08-27T00:00:00",
          "2020-08-28T00:00:00",
          "2020-08-31T00:00:00",
          "2020-09-01T00:00:00",
          "2020-09-02T00:00:00",
          "2020-09-03T00:00:00",
          "2020-09-04T00:00:00",
          "2020-09-08T00:00:00",
          "2020-09-09T00:00:00",
          "2020-09-10T00:00:00",
          "2020-09-11T00:00:00",
          "2020-09-14T00:00:00",
          "2020-09-15T00:00:00",
          "2020-09-16T00:00:00",
          "2020-09-17T00:00:00",
          "2020-09-18T00:00:00",
          "2020-09-21T00:00:00",
          "2020-09-22T00:00:00",
          "2020-09-23T00:00:00",
          "2020-09-24T00:00:00",
          "2020-09-25T00:00:00",
          "2020-09-28T00:00:00",
          "2020-09-29T00:00:00",
          "2020-09-30T00:00:00",
          "2020-10-01T00:00:00",
          "2020-10-02T00:00:00",
          "2020-10-05T00:00:00",
          "2020-10-06T00:00:00",
          "2020-10-07T00:00:00",
          "2020-10-08T00:00:00",
          "2020-10-09T00:00:00",
          "2020-10-12T00:00:00",
          "2020-10-13T00:00:00",
          "2020-10-14T00:00:00",
          "2020-10-15T00:00:00",
          "2020-10-16T00:00:00",
          "2020-10-19T00:00:00",
          "2020-10-20T00:00:00",
          "2020-10-21T00:00:00",
          "2020-10-22T00:00:00",
          "2020-10-23T00:00:00",
          "2020-10-26T00:00:00",
          "2020-10-27T00:00:00",
          "2020-10-28T00:00:00",
          "2020-10-29T00:00:00",
          "2020-10-30T00:00:00",
          "2020-11-02T00:00:00",
          "2020-11-03T00:00:00",
          "2020-11-04T00:00:00",
          "2020-11-05T00:00:00",
          "2020-11-06T00:00:00",
          "2020-11-09T00:00:00",
          "2020-11-10T00:00:00",
          "2020-11-11T00:00:00",
          "2020-11-12T00:00:00",
          "2020-11-13T00:00:00",
          "2020-11-16T00:00:00",
          "2020-11-17T00:00:00",
          "2020-11-18T00:00:00",
          "2020-11-19T00:00:00",
          "2020-11-20T00:00:00",
          "2020-11-23T00:00:00",
          "2020-11-24T00:00:00",
          "2020-11-25T00:00:00",
          "2020-11-27T00:00:00",
          "2020-11-30T00:00:00",
          "2020-12-01T00:00:00",
          "2020-12-02T00:00:00",
          "2020-12-03T00:00:00",
          "2020-12-04T00:00:00",
          "2020-12-07T00:00:00",
          "2020-12-08T00:00:00",
          "2020-12-09T00:00:00",
          "2020-12-10T00:00:00",
          "2020-12-11T00:00:00",
          "2020-12-14T00:00:00",
          "2020-12-15T00:00:00",
          "2020-12-16T00:00:00",
          "2020-12-17T00:00:00",
          "2020-12-18T00:00:00",
          "2020-12-21T00:00:00",
          "2020-12-22T00:00:00",
          "2020-12-23T00:00:00",
          "2020-12-24T00:00:00",
          "2020-12-28T00:00:00",
          "2020-12-29T00:00:00",
          "2020-12-30T00:00:00",
          "2020-12-31T00:00:00"
         ]
        }
       ],
       "layout": {
        "template": {
         "data": {
          "bar": [
           {
            "error_x": {
             "color": "#2a3f5f"
            },
            "error_y": {
             "color": "#2a3f5f"
            },
            "marker": {
             "line": {
              "color": "#E5ECF6",
              "width": 0.5
             }
            },
            "type": "bar"
           }
          ],
          "barpolar": [
           {
            "marker": {
             "line": {
              "color": "#E5ECF6",
              "width": 0.5
             }
            },
            "type": "barpolar"
           }
          ],
          "carpet": [
           {
            "aaxis": {
             "endlinecolor": "#2a3f5f",
             "gridcolor": "white",
             "linecolor": "white",
             "minorgridcolor": "white",
             "startlinecolor": "#2a3f5f"
            },
            "baxis": {
             "endlinecolor": "#2a3f5f",
             "gridcolor": "white",
             "linecolor": "white",
             "minorgridcolor": "white",
             "startlinecolor": "#2a3f5f"
            },
            "type": "carpet"
           }
          ],
          "choropleth": [
           {
            "colorbar": {
             "outlinewidth": 0,
             "ticks": ""
            },
            "type": "choropleth"
           }
          ],
          "contour": [
           {
            "colorbar": {
             "outlinewidth": 0,
             "ticks": ""
            },
            "colorscale": [
             [
              0,
              "#0d0887"
             ],
             [
              0.1111111111111111,
              "#46039f"
             ],
             [
              0.2222222222222222,
              "#7201a8"
             ],
             [
              0.3333333333333333,
              "#9c179e"
             ],
             [
              0.4444444444444444,
              "#bd3786"
             ],
             [
              0.5555555555555556,
              "#d8576b"
             ],
             [
              0.6666666666666666,
              "#ed7953"
             ],
             [
              0.7777777777777778,
              "#fb9f3a"
             ],
             [
              0.8888888888888888,
              "#fdca26"
             ],
             [
              1,
              "#f0f921"
             ]
            ],
            "type": "contour"
           }
          ],
          "contourcarpet": [
           {
            "colorbar": {
             "outlinewidth": 0,
             "ticks": ""
            },
            "type": "contourcarpet"
           }
          ],
          "heatmap": [
           {
            "colorbar": {
             "outlinewidth": 0,
             "ticks": ""
            },
            "colorscale": [
             [
              0,
              "#0d0887"
             ],
             [
              0.1111111111111111,
              "#46039f"
             ],
             [
              0.2222222222222222,
              "#7201a8"
             ],
             [
              0.3333333333333333,
              "#9c179e"
             ],
             [
              0.4444444444444444,
              "#bd3786"
             ],
             [
              0.5555555555555556,
              "#d8576b"
             ],
             [
              0.6666666666666666,
              "#ed7953"
             ],
             [
              0.7777777777777778,
              "#fb9f3a"
             ],
             [
              0.8888888888888888,
              "#fdca26"
             ],
             [
              1,
              "#f0f921"
             ]
            ],
            "type": "heatmap"
           }
          ],
          "heatmapgl": [
           {
            "colorbar": {
             "outlinewidth": 0,
             "ticks": ""
            },
            "colorscale": [
             [
              0,
              "#0d0887"
             ],
             [
              0.1111111111111111,
              "#46039f"
             ],
             [
              0.2222222222222222,
              "#7201a8"
             ],
             [
              0.3333333333333333,
              "#9c179e"
             ],
             [
              0.4444444444444444,
              "#bd3786"
             ],
             [
              0.5555555555555556,
              "#d8576b"
             ],
             [
              0.6666666666666666,
              "#ed7953"
             ],
             [
              0.7777777777777778,
              "#fb9f3a"
             ],
             [
              0.8888888888888888,
              "#fdca26"
             ],
             [
              1,
              "#f0f921"
             ]
            ],
            "type": "heatmapgl"
           }
          ],
          "histogram": [
           {
            "marker": {
             "colorbar": {
              "outlinewidth": 0,
              "ticks": ""
             }
            },
            "type": "histogram"
           }
          ],
          "histogram2d": [
           {
            "colorbar": {
             "outlinewidth": 0,
             "ticks": ""
            },
            "colorscale": [
             [
              0,
              "#0d0887"
             ],
             [
              0.1111111111111111,
              "#46039f"
             ],
             [
              0.2222222222222222,
              "#7201a8"
             ],
             [
              0.3333333333333333,
              "#9c179e"
             ],
             [
              0.4444444444444444,
              "#bd3786"
             ],
             [
              0.5555555555555556,
              "#d8576b"
             ],
             [
              0.6666666666666666,
              "#ed7953"
             ],
             [
              0.7777777777777778,
              "#fb9f3a"
             ],
             [
              0.8888888888888888,
              "#fdca26"
             ],
             [
              1,
              "#f0f921"
             ]
            ],
            "type": "histogram2d"
           }
          ],
          "histogram2dcontour": [
           {
            "colorbar": {
             "outlinewidth": 0,
             "ticks": ""
            },
            "colorscale": [
             [
              0,
              "#0d0887"
             ],
             [
              0.1111111111111111,
              "#46039f"
             ],
             [
              0.2222222222222222,
              "#7201a8"
             ],
             [
              0.3333333333333333,
              "#9c179e"
             ],
             [
              0.4444444444444444,
              "#bd3786"
             ],
             [
              0.5555555555555556,
              "#d8576b"
             ],
             [
              0.6666666666666666,
              "#ed7953"
             ],
             [
              0.7777777777777778,
              "#fb9f3a"
             ],
             [
              0.8888888888888888,
              "#fdca26"
             ],
             [
              1,
              "#f0f921"
             ]
            ],
            "type": "histogram2dcontour"
           }
          ],
          "mesh3d": [
           {
            "colorbar": {
             "outlinewidth": 0,
             "ticks": ""
            },
            "type": "mesh3d"
           }
          ],
          "parcoords": [
           {
            "line": {
             "colorbar": {
              "outlinewidth": 0,
              "ticks": ""
             }
            },
            "type": "parcoords"
           }
          ],
          "pie": [
           {
            "automargin": true,
            "type": "pie"
           }
          ],
          "scatter": [
           {
            "marker": {
             "colorbar": {
              "outlinewidth": 0,
              "ticks": ""
             }
            },
            "type": "scatter"
           }
          ],
          "scatter3d": [
           {
            "line": {
             "colorbar": {
              "outlinewidth": 0,
              "ticks": ""
             }
            },
            "marker": {
             "colorbar": {
              "outlinewidth": 0,
              "ticks": ""
             }
            },
            "type": "scatter3d"
           }
          ],
          "scattercarpet": [
           {
            "marker": {
             "colorbar": {
              "outlinewidth": 0,
              "ticks": ""
             }
            },
            "type": "scattercarpet"
           }
          ],
          "scattergeo": [
           {
            "marker": {
             "colorbar": {
              "outlinewidth": 0,
              "ticks": ""
             }
            },
            "type": "scattergeo"
           }
          ],
          "scattergl": [
           {
            "marker": {
             "colorbar": {
              "outlinewidth": 0,
              "ticks": ""
             }
            },
            "type": "scattergl"
           }
          ],
          "scattermapbox": [
           {
            "marker": {
             "colorbar": {
              "outlinewidth": 0,
              "ticks": ""
             }
            },
            "type": "scattermapbox"
           }
          ],
          "scatterpolar": [
           {
            "marker": {
             "colorbar": {
              "outlinewidth": 0,
              "ticks": ""
             }
            },
            "type": "scatterpolar"
           }
          ],
          "scatterpolargl": [
           {
            "marker": {
             "colorbar": {
              "outlinewidth": 0,
              "ticks": ""
             }
            },
            "type": "scatterpolargl"
           }
          ],
          "scatterternary": [
           {
            "marker": {
             "colorbar": {
              "outlinewidth": 0,
              "ticks": ""
             }
            },
            "type": "scatterternary"
           }
          ],
          "surface": [
           {
            "colorbar": {
             "outlinewidth": 0,
             "ticks": ""
            },
            "colorscale": [
             [
              0,
              "#0d0887"
             ],
             [
              0.1111111111111111,
              "#46039f"
             ],
             [
              0.2222222222222222,
              "#7201a8"
             ],
             [
              0.3333333333333333,
              "#9c179e"
             ],
             [
              0.4444444444444444,
              "#bd3786"
             ],
             [
              0.5555555555555556,
              "#d8576b"
             ],
             [
              0.6666666666666666,
              "#ed7953"
             ],
             [
              0.7777777777777778,
              "#fb9f3a"
             ],
             [
              0.8888888888888888,
              "#fdca26"
             ],
             [
              1,
              "#f0f921"
             ]
            ],
            "type": "surface"
           }
          ],
          "table": [
           {
            "cells": {
             "fill": {
              "color": "#EBF0F8"
             },
             "line": {
              "color": "white"
             }
            },
            "header": {
             "fill": {
              "color": "#C8D4E3"
             },
             "line": {
              "color": "white"
             }
            },
            "type": "table"
           }
          ]
         },
         "layout": {
          "annotationdefaults": {
           "arrowcolor": "#2a3f5f",
           "arrowhead": 0,
           "arrowwidth": 1
          },
          "coloraxis": {
           "colorbar": {
            "outlinewidth": 0,
            "ticks": ""
           }
          },
          "colorscale": {
           "diverging": [
            [
             0,
             "#8e0152"
            ],
            [
             0.1,
             "#c51b7d"
            ],
            [
             0.2,
             "#de77ae"
            ],
            [
             0.3,
             "#f1b6da"
            ],
            [
             0.4,
             "#fde0ef"
            ],
            [
             0.5,
             "#f7f7f7"
            ],
            [
             0.6,
             "#e6f5d0"
            ],
            [
             0.7,
             "#b8e186"
            ],
            [
             0.8,
             "#7fbc41"
            ],
            [
             0.9,
             "#4d9221"
            ],
            [
             1,
             "#276419"
            ]
           ],
           "sequential": [
            [
             0,
             "#0d0887"
            ],
            [
             0.1111111111111111,
             "#46039f"
            ],
            [
             0.2222222222222222,
             "#7201a8"
            ],
            [
             0.3333333333333333,
             "#9c179e"
            ],
            [
             0.4444444444444444,
             "#bd3786"
            ],
            [
             0.5555555555555556,
             "#d8576b"
            ],
            [
             0.6666666666666666,
             "#ed7953"
            ],
            [
             0.7777777777777778,
             "#fb9f3a"
            ],
            [
             0.8888888888888888,
             "#fdca26"
            ],
            [
             1,
             "#f0f921"
            ]
           ],
           "sequentialminus": [
            [
             0,
             "#0d0887"
            ],
            [
             0.1111111111111111,
             "#46039f"
            ],
            [
             0.2222222222222222,
             "#7201a8"
            ],
            [
             0.3333333333333333,
             "#9c179e"
            ],
            [
             0.4444444444444444,
             "#bd3786"
            ],
            [
             0.5555555555555556,
             "#d8576b"
            ],
            [
             0.6666666666666666,
             "#ed7953"
            ],
            [
             0.7777777777777778,
             "#fb9f3a"
            ],
            [
             0.8888888888888888,
             "#fdca26"
            ],
            [
             1,
             "#f0f921"
            ]
           ]
          },
          "colorway": [
           "#636efa",
           "#EF553B",
           "#00cc96",
           "#ab63fa",
           "#FFA15A",
           "#19d3f3",
           "#FF6692",
           "#B6E880",
           "#FF97FF",
           "#FECB52"
          ],
          "font": {
           "color": "#2a3f5f"
          },
          "geo": {
           "bgcolor": "white",
           "lakecolor": "white",
           "landcolor": "#E5ECF6",
           "showlakes": true,
           "showland": true,
           "subunitcolor": "white"
          },
          "hoverlabel": {
           "align": "left"
          },
          "hovermode": "closest",
          "mapbox": {
           "style": "light"
          },
          "paper_bgcolor": "white",
          "plot_bgcolor": "#E5ECF6",
          "polar": {
           "angularaxis": {
            "gridcolor": "white",
            "linecolor": "white",
            "ticks": ""
           },
           "bgcolor": "#E5ECF6",
           "radialaxis": {
            "gridcolor": "white",
            "linecolor": "white",
            "ticks": ""
           }
          },
          "scene": {
           "xaxis": {
            "backgroundcolor": "#E5ECF6",
            "gridcolor": "white",
            "gridwidth": 2,
            "linecolor": "white",
            "showbackground": true,
            "ticks": "",
            "zerolinecolor": "white"
           },
           "yaxis": {
            "backgroundcolor": "#E5ECF6",
            "gridcolor": "white",
            "gridwidth": 2,
            "linecolor": "white",
            "showbackground": true,
            "ticks": "",
            "zerolinecolor": "white"
           },
           "zaxis": {
            "backgroundcolor": "#E5ECF6",
            "gridcolor": "white",
            "gridwidth": 2,
            "linecolor": "white",
            "showbackground": true,
            "ticks": "",
            "zerolinecolor": "white"
           }
          },
          "shapedefaults": {
           "line": {
            "color": "#2a3f5f"
           }
          },
          "ternary": {
           "aaxis": {
            "gridcolor": "white",
            "linecolor": "white",
            "ticks": ""
           },
           "baxis": {
            "gridcolor": "white",
            "linecolor": "white",
            "ticks": ""
           },
           "bgcolor": "#E5ECF6",
           "caxis": {
            "gridcolor": "white",
            "linecolor": "white",
            "ticks": ""
           }
          },
          "title": {
           "x": 0.05
          },
          "xaxis": {
           "automargin": true,
           "gridcolor": "white",
           "linecolor": "white",
           "ticks": "",
           "title": {
            "standoff": 15
           },
           "zerolinecolor": "white",
           "zerolinewidth": 2
          },
          "yaxis": {
           "automargin": true,
           "gridcolor": "white",
           "linecolor": "white",
           "ticks": "",
           "title": {
            "standoff": 15
           },
           "zerolinecolor": "white",
           "zerolinewidth": 2
          }
         }
        }
       }
      },
      "text/html": [
       "<div>\n",
       "        \n",
       "        \n",
       "            <div id=\"6016eb0b-f95c-4713-9265-23e75e98f4e4\" class=\"plotly-graph-div\" style=\"height:525px; width:100%;\"></div>\n",
       "            <script type=\"text/javascript\">\n",
       "                require([\"plotly\"], function(Plotly) {\n",
       "                    window.PLOTLYENV=window.PLOTLYENV || {};\n",
       "                    \n",
       "                if (document.getElementById(\"6016eb0b-f95c-4713-9265-23e75e98f4e4\")) {\n",
       "                    Plotly.newPlot(\n",
       "                        '6016eb0b-f95c-4713-9265-23e75e98f4e4',\n",
       "                        [{\"close\": [148.1999969482422, 146.5, 145.64999389648438, 145.6999969482422, 145.39999389648438, 144.8300018310547, 144.6199951171875, 143.8800048828125, 145.1999969482422, 144.32000732421875, 145.1199951171875, 144.3300018310547, 143.55999755859375, 144.00999450683594, 142.1999969482422, 140.0800018310547, 135.89999389648438, 138.3699951171875, 136.05999755859375, 137.80999755859375, 138.30999755859375, 141.32000732421875, 144.72999572753906, 141.3699951171875, 142.6999969482422, 141.02000427246094, 142.58999633789062, 141.00999450683594, 141.85000610351562, 140.89999389648438, 139.5399932861328, 139.13999938964844, 141.3000030517578, 140.3699951171875, 138.97000122070312, 133.00999450683594, 128.19000244140625, 123.36000061035156, 118.04000091552734, 117.6500015258789, 119.9800033569336, 116.44999694824219, 119.18000030517578, 113.9800033569336, 115.2699966430664, 104.3499984741211, 111.45999908447266, 105.51000213623047, 91.80999755859375, 102.5199966430664, 95.01000213623047, 93.52999877929688, 88.80000305175781, 94.93000030517578, 85.9800033569336, 85.76000213623047, 98.12000274658203, 100.7300033569336, 105.36000061035156, 96.4000015258789, 99.80000305175781, 96.5999984741211, 94.91999816894531, 96.97000122070312, 93.87999725341797, 99.58000183105469, 101.23999786376953, 101.06999969482422, 104.5, 103.5, 106.02999877929688, 103.37000274658203, 102.0199966430664, 106.62999725341797, 102.26000213623047, 100.54000091552734, 100.98999786376953, 101.0, 101.19000244140625, 106.05999755859375, 106.20999908447266, 112.25, 108.1500015258789, 105.5, 103.18000030517578, 101.05999755859375, 100.87999725341797, 105.56999969482422, 109.16000366210938, 107.7699966430664, 104.55999755859375, 102.91999816894531, 105.91000366210938, 109.05000305175781, 116.8499984741211, 114.37000274658203, 119.91999816894531, 117.83000183105469, 118.0199966430664, 120.94999694824219, 121.52999877929688, 116.75, 117.30000305175781, 118.7699966430664, 118.75, 122.18000030517578, 123.69000244140625, 124.81999969482422, 127.27999877929688, 123.88999938964844, 122.18000030517578, 112.63999938964844, 115.48999786376953, 117.08000183105469, 118.44000244140625, 117.6500015258789, 118.37000274658203, 114.3499984741211, 115.91999816894531, 116.58999633789062, 112.06999969482422, 111.36000061035156, 109.0999984741211, 111.5199966430664, 111.51000213623047, 113.01000213623047, 112.18000030517578, 114.43000030517578, 113.62999725341797, 116.66000366210938, 116.80999755859375, 119.33999633789062, 116.22000122070312, 118.66000366210938, 120.9000015258789, 119.43000030517578, 118.6500015258789, 117.79000091552734, 118.62000274658203, 119.02999877929688, 118.12000274658203, 117.61000061035156, 116.30999755859375, 116.18000030517578, 115.61000061035156, 115.66000366210938, 116.94000244140625, 116.3499984741211, 117.29000091552734, 127.61000061035156, 130.82000732421875, 129.92999267578125, 128.7899932861328, 130.49000549316406, 131.7899932861328, 130.9600067138672, 130.52999877929688, 129.3699951171875, 128.9199981689453, 127.7699966430664, 128.1199951171875, 127.44000244140625, 130.69000244140625, 129.7899932861328, 132.17999267578125, 133.72999572753906, 135.5399932861328, 131.8699951171875, 133.5500030517578, 135.38999938964844, 133.24000549316406, 131.99000549316406, 134.1999969482422, 133.36000061035156, 133.22000122070312, 131.75, 131.25, 131.24000549316406, 132.08999633789062, 130.22000122070312, 128.6300048828125, 125.41000366210938, 127.20999908447266, 123.27999877929688, 122.48999786376953, 124.0, 125.98999786376953, 125.4000015258789, 124.08000183105469, 123.30999755859375, 122.55000305175781, 123.37000274658203, 120.93000030517578, 122.91000366210938, 123.08999633789062, 124.9800033569336, 124.97000122070312, 128.9600067138672, 126.58999633789062, 127.36000061035156, 126.80999755859375, 124.2300033569336, 124.94999694824219, 126.62999725341797, 127.55999755859375, 128.35000610351562, 124.05999755859375, 123.30999755859375, 118.47000122070312, 121.54000091552734, 121.25, 120.12999725341797, 124.0199966430664, 125.06999969482422, 126.95999908447266, 127.45999908447266, 142.58999633789062, 142.11000061035156, 137.82000732421875, 135.52000427246094, 138.36000061035156, 144.6699981689453, 144.5, 143.89999389648438, 141.72000122070312, 141.07000732421875, 145.97999572753906, 151.49000549316406, 149.08999633789062, 147.1300048828125, 148.00999450683594, 149.44000244140625, 153.61000061035156, 153.24000549316406, 154.13999938964844, 153.67999267578125, 153.72000122070312, 154.42999267578125, 154.69000244140625, 175.72000122070312, 169.3000030517578, 173.94000244140625, 173.1199951171875, 173.5500030517578, 172.88999938964844, 170.69000244140625, 170.4499969482422, 173.5500030517578, 173.72999572753906, 178.86000061035156, 177.3000030517578, 181.1699981689453, 181.17999267578125], \"high\": [148.1999969482422, 147.89999389648438, 146.02999877929688, 146.8699951171875, 146.1300048828125, 146.6300048828125, 145.5, 144.75, 146.72000122070312, 145.7100067138672, 145.42999267578125, 145.63999938964844, 144.58999633789062, 144.7899932861328, 143.61000061035156, 142.25, 137.72999572753906, 138.92999267578125, 138.67999267578125, 137.85000610351562, 138.6699981689453, 141.82000732421875, 145.58999633789062, 147.3000030517578, 143.9499969482422, 141.99000549316406, 142.58999633789062, 142.99000549316406, 142.22000122070312, 141.89999389648438, 141.27999877929688, 139.66000366210938, 141.8699951171875, 141.6300048828125, 139.8800048828125, 134.44000244140625, 133.94000244140625, 128.3699951171875, 122.9000015258789, 118.30999755859375, 119.9800033569336, 121.77999877929688, 119.23999786376953, 116.95999908447266, 115.87000274658203, 110.43000030517578, 111.58000183105469, 108.9000015258789, 100.0, 102.87000274658203, 98.27999877929688, 97.45999908447266, 89.33999633789062, 97.4000015258789, 96.98999786376953, 87.27999877929688, 99.16999816894531, 105.91999816894531, 107.7300033569336, 101.48999786376953, 100.45999908447266, 103.16000366210938, 97.4000015258789, 97.26000213623047, 96.91999816894531, 100.19000244140625, 105.88999938964844, 102.3499984741211, 107.98999786376953, 104.87000274658203, 107.63999938964844, 104.87999725341797, 103.72000122070312, 106.79000091552734, 104.86000061035156, 101.51000213623047, 102.62999725341797, 102.52999877929688, 101.91999816894531, 106.5199966430664, 110.05999755859375, 112.69999694824219, 110.30999755859375, 106.91000366210938, 103.83000183105469, 105.18000030517578, 105.2699966430664, 105.61000061035156, 109.18000030517578, 108.80999755859375, 109.44000244140625, 104.54000091552734, 105.91999816894531, 109.37999725341797, 119.77999877929688, 116.47000122070312, 120.87000274658203, 120.30000305175781, 118.56999969482422, 122.51000213623047, 123.77999877929688, 121.9800033569336, 117.75, 119.6500015258789, 119.8499984741211, 122.44999694824219, 124.5, 127.81999969482422, 127.44000244140625, 125.79000091552734, 124.0999984741211, 118.0, 117.0, 118.12000274658203, 121.5, 119.2300033569336, 118.52999877929688, 120.12000274658203, 116.19000244140625, 117.44999694824219, 116.0, 111.51000213623047, 111.19999694824219, 111.56999969482422, 112.05000305175781, 115.5999984741211, 115.0999984741211, 114.52999877929688, 115.08000183105469, 117.12999725341797, 117.8499984741211, 119.44000244140625, 120.12999725341797, 119.08000183105469, 122.08999633789062, 119.98999786376953, 119.55999755859375, 118.48999786376953, 120.38999938964844, 119.30000305175781, 119.3499984741211, 118.20999908447266, 117.41999816894531, 116.83999633789062, 116.70999908447266, 116.29000091552734, 117.05000305175781, 117.12000274658203, 118.3499984741211, 130.30999755859375, 131.6300048828125, 131.94000244140625, 131.32000732421875, 132.75999450683594, 133.0, 132.35000610351562, 131.0800018310547, 130.13999938964844, 129.58999633789062, 130.22000122070312, 128.4499969482422, 128.30999755859375, 130.8800048828125, 131.08999633789062, 132.60000610351562, 136.36000061035156, 136.8000030517578, 135.5399932861328, 133.61000061035156, 135.9199981689453, 137.24000549316406, 134.8800048828125, 137.13999938964844, 135.5500030517578, 136.75, 133.74000549316406, 132.92999267578125, 132.5399932861328, 133.6199951171875, 131.77000427246094, 130.7899932861328, 126.88999938964844, 127.47000122070312, 127.30000305175781, 123.80000305175781, 124.19000244140625, 126.86000061035156, 126.29000091552734, 125.55000305175781, 125.47000122070312, 123.68000030517578, 123.5999984741211, 124.19000244140625, 123.30999755859375, 123.75, 125.55000305175781, 125.94000244140625, 131.36000061035156, 129.5, 127.4000015258789, 128.1199951171875, 127.4000015258789, 125.7300033569336, 127.55999755859375, 128.10000610351562, 128.5, 127.11000061035156, 124.61000061035156, 121.52999877929688, 122.62999725341797, 121.75, 122.93000030517578, 125.06999969482422, 126.86000061035156, 128.6199951171875, 128.0399932861328, 147.67999267578125, 142.3699951171875, 142.0, 138.49000549316406, 141.19000244140625, 144.74000549316406, 144.8300018310547, 145.47999572753906, 143.3000030517578, 142.61000061035156, 147.75, 151.86000061035156, 150.27000427246094, 150.35000610351562, 148.69000244140625, 151.39999389648438, 154.00999450683594, 154.44000244140625, 154.67999267578125, 153.8800048828125, 154.8800048828125, 157.4600067138672, 155.33999633789062, 179.4499969482422, 177.3000030517578, 174.47000122070312, 174.85000610351562, 174.83999633789062, 175.83999633789062, 171.94000244140625, 171.4499969482422, 175.9499969482422, 174.5800018310547, 179.9199981689453, 180.1999969482422, 183.39999389648438, 183.39999389648438], \"low\": [145.10000610351562, 146.0500030517578, 144.30999755859375, 145.4199981689453, 144.82000732421875, 144.61000061035156, 144.25999450683594, 143.36000061035156, 142.2899932861328, 143.92999267578125, 144.44000244140625, 144.00999450683594, 143.00999450683594, 143.5399932861328, 140.64999389648438, 139.1999969482422, 135.0, 135.86000061035156, 135.7899932861328, 134.8300018310547, 137.05999755859375, 139.75, 143.25, 138.57000732421875, 141.22000122070312, 140.1199951171875, 140.4600067138672, 140.4600067138672, 140.8699951171875, 140.82000732421875, 139.1300048828125, 138.10000610351562, 139.22999572753906, 138.85000610351562, 138.5800018310547, 131.2100067138672, 127.9800033569336, 122.12999725341797, 117.91999816894531, 113.20999908447266, 116.02999877929688, 115.1500015258789, 115.4800033569336, 112.11000061035156, 110.31999969482422, 104.27999877929688, 102.43000030517578, 102.86000061035156, 91.63999938964844, 92.25, 90.0, 91.1500015258789, 79.06999969482422, 85.11000061035156, 85.83999633789062, 81.08999633789062, 91.80000305175781, 95.51000213623047, 100.80000305175781, 95.54000091552734, 92.0999984741211, 96.16000366210938, 92.55999755859375, 94.19999694824219, 92.70999908447266, 94.5199966430664, 100.25, 98.6500015258789, 103.52999877929688, 99.61000061035156, 103.9000015258789, 102.69999694824219, 100.88999938964844, 104.3499984741211, 102.0, 99.12999725341797, 100.88999938964844, 99.45999908447266, 99.5199966430664, 101.61000061035156, 105.9800033569336, 108.55999755859375, 106.86000061035156, 104.47000122070312, 100.55000305175781, 100.9000015258789, 98.86000061035156, 101.83000183105469, 106.62999725341797, 106.41000366210938, 104.48999786376953, 101.5999984741211, 99.66000366210938, 104.2699966430664, 114.47000122070312, 113.41999816894531, 116.04000091552734, 116.5, 116.83000183105469, 120.43000030517578, 119.70999908447266, 116.0, 114.12000274658203, 116.93000030517578, 117.83000183105469, 119.31999969482422, 121.8499984741211, 124.27999877929688, 123.94000244140625, 123.51000213623047, 120.93000030517578, 112.25, 112.88999938964844, 111.70999908447266, 116.05000305175781, 117.13999938964844, 115.93000030517578, 114.3499984741211, 113.11000061035156, 115.97000122070312, 110.02999877929688, 108.5, 108.0199966430664, 108.0999984741211, 109.93000030517578, 112.29000091552734, 112.0, 112.9000015258789, 112.61000061035156, 112.80999755859375, 115.37999725341797, 116.20999908447266, 115.88999938964844, 114.54000091552734, 119.69999694824219, 117.5999984741211, 117.05999755859375, 116.81999969482422, 117.66000366210938, 117.93000030517578, 117.01000213623047, 115.52999877929688, 115.68000030517578, 114.68000030517578, 115.11000061035156, 113.37000274658203, 114.12000274658203, 115.3499984741211, 115.76000213623047, 123.27999877929688, 125.61000061035156, 128.66000366210938, 128.49000549316406, 130.0, 130.49000549316406, 130.4499969482422, 129.74000549316406, 128.5399932861328, 128.36000061035156, 127.43000030517578, 126.52999877929688, 127.2300033569336, 127.93000030517578, 129.30999755859375, 129.52000427246094, 132.82000732421875, 133.5800018310547, 131.25, 130.88999938964844, 133.25999450683594, 132.02000427246094, 129.4199981689453, 130.86000061035156, 132.25999450683594, 132.74000549316406, 131.08999633789062, 130.89999389648438, 131.00999450683594, 131.39999389648438, 128.60000610351562, 128.1199951171875, 123.58999633789062, 124.69999694824219, 122.9000015258789, 120.77999877929688, 120.9800033569336, 125.37000274658203, 123.68000030517578, 123.23999786376953, 122.41999816894531, 121.69000244140625, 122.33000183105469, 120.61000061035156, 120.93000030517578, 122.41999816894531, 123.33000183105469, 123.7300033569336, 127.9000015258789, 125.29000091552734, 124.43000030517578, 126.33000183105469, 123.70999908447266, 123.63999938964844, 123.83999633789062, 125.97000122070312, 126.3499984741211, 122.94999694824219, 123.02999877929688, 118.31999969482422, 117.2300033569336, 119.08999633789062, 119.80999755859375, 121.37000274658203, 123.41000366210938, 125.80000305175781, 124.61000061035156, 138.07000732421875, 137.6699981689453, 136.6199951171875, 134.10000610351562, 136.52000427246094, 141.57000732421875, 142.55999755859375, 143.35000610351562, 141.6999969482422, 140.86000061035156, 141.6999969482422, 147.85000610351562, 147.24000549316406, 146.52999877929688, 146.2899932861328, 149.0, 148.33999633789062, 152.1300048828125, 152.80999755859375, 152.25999450683594, 152.25, 153.88999938964844, 152.5, 165.3300018310547, 168.80999755859375, 167.82000732421875, 171.6199951171875, 171.9600067138672, 172.27999877929688, 168.19000244140625, 169.16000366210938, 172.3000030517578, 172.3800048828125, 175.0500030517578, 176.22000122070312, 178.3699951171875, 180.27000427246094], \"open\": [145.2899932861328, 146.39999389648438, 145.5399932861328, 145.99000549316406, 145.49000549316406, 146.47000122070312, 145.3000030517578, 144.75, 143.41000366210938, 145.7100067138672, 145.08999633789062, 145.5399932861328, 144.24000549316406, 144.4499969482422, 143.60000610351562, 141.39999389648438, 135.86000061035156, 136.5, 138.60000610351562, 135.08999633789062, 138.39999389648438, 139.7899932861328, 145.49000549316406, 146.60000610351562, 141.9199981689453, 141.88999938964844, 141.02999877929688, 142.85000610351562, 141.33999633789062, 141.1699981689453, 141.10000610351562, 139.02000427246094, 139.6300048828125, 141.6300048828125, 139.86000061035156, 132.89999389648438, 133.75, 126.12000274658203, 119.80999755859375, 114.51000213623047, 119.12999725341797, 121.1500015258789, 118.95999908447266, 116.86000061035156, 110.76000213623047, 108.69000244140625, 108.0999984741211, 108.41999816894531, 97.62000274658203, 100.77999877929688, 91.80000305175781, 95.80000305175781, 87.58999633789062, 88.0, 95.98999786376953, 84.48999786376953, 92.33000183105469, 100.66000366210938, 100.83000183105469, 100.44999694824219, 96.0, 100.22000122070312, 93.5, 94.19999694824219, 96.30999755859375, 97.26000213623047, 104.86000061035156, 100.52999877929688, 107.91999816894531, 104.70999908447266, 105.5, 104.38999938964844, 103.52999877929688, 106.20999908447266, 103.58000183105469, 100.01000213623047, 101.80000305175781, 100.6500015258789, 101.77999877929688, 102.0, 108.79000091552734, 109.94000244140625, 109.44000244140625, 106.36000061035156, 102.01000213623047, 101.51000213623047, 101.4800033569336, 101.8499984741211, 109.05000305175781, 108.4000015258789, 109.05999755859375, 104.5, 101.9800033569336, 104.9800033569336, 114.47000122070312, 115.0999984741211, 116.41999816894531, 119.33999633789062, 117.5, 121.05000305175781, 123.68000030517578, 121.5999984741211, 116.19000244140625, 117.26000213623047, 119.0, 119.98999786376953, 121.94999694824219, 126.30999755859375, 125.0999984741211, 125.62999725341797, 124.0199966430664, 117.5999984741211, 115.16999816894531, 112.08000183105469, 121.23999786376953, 118.63999938964844, 116.87999725341797, 119.9800033569336, 114.19000244140625, 116.95999908447266, 115.8499984741211, 108.98999786376953, 110.94999694824219, 109.0, 111.5, 112.81999969482422, 115.0, 113.83000183105469, 113.62999725341797, 113.4800033569336, 116.51000213623047, 116.83000183105469, 119.94000244140625, 115.2300033569336, 121.62999725341797, 117.72000122070312, 118.9000015258789, 118.05000305175781, 118.05000305175781, 118.19000244140625, 118.86000061035156, 115.69999694824219, 117.19999694824219, 115.45999908447266, 116.22000122070312, 114.91000366210938, 115.22000122070312, 116.16999816894531, 115.95999908447266, 123.37000274658203, 126.95999908447266, 130.22000122070312, 129.75, 130.52999877929688, 130.6699981689453, 130.63999938964844, 130.00999450683594, 130.10000610351562, 129.44000244140625, 129.25, 126.80000305175781, 127.72000122070312, 128.14999389648438, 130.8300018310547, 130.0, 133.0, 134.5, 135.25, 131.9199981689453, 133.6300048828125, 135.24000549316406, 133.75, 131.99000549316406, 134.27999877929688, 133.5800018310547, 133.74000549316406, 132.52999877929688, 131.4600067138672, 132.1699981689453, 130.5500030517578, 129.5, 125.9800033569336, 125.26000213623047, 127.06999969482422, 121.93000030517578, 121.36000061035156, 125.75, 125.91999816894531, 123.23999786376953, 124.94000244140625, 121.98999786376953, 123.26000213623047, 123.12999725341797, 121.94999694824219, 123.58000183105469, 123.8499984741211, 124.9000015258789, 129.8000030517578, 129.13999938964844, 125.0, 127.80999755859375, 127.37000274658203, 124.58000183105469, 124.36000061035156, 126.66999816894531, 128.10000610351562, 127.11000061035156, 124.02999877929688, 121.01000213623047, 118.16000366210938, 120.63999938964844, 122.23999786376953, 121.61000061035156, 123.58000183105469, 126.77999877929688, 126.26000213623047, 140.25999450683594, 139.97000122070312, 141.47000122070312, 136.33999633789062, 140.89999389648438, 141.57000732421875, 144.39999389648438, 144.5, 142.57000732421875, 141.7100067138672, 142.4499969482422, 148.16000366210938, 150.27000427246094, 149.0, 147.05999755859375, 149.57000732421875, 149.49000549316406, 153.4499969482422, 153.69000244140625, 153.17999267578125, 152.4199981689453, 156.2899932861328, 153.32000732421875, 169.67999267578125, 173.8000030517578, 170.49000549316406, 173.99000549316406, 173.82000732421875, 173.60000610351562, 170.08999633789062, 170.0, 172.9600067138672, 173.99000549316406, 175.75, 180.00999450683594, 178.5, 181.22000122070312], \"type\": \"candlestick\", \"x\": [\"2020-01-02T00:00:00\", \"2020-01-03T00:00:00\", \"2020-01-06T00:00:00\", \"2020-01-07T00:00:00\", \"2020-01-08T00:00:00\", \"2020-01-09T00:00:00\", \"2020-01-10T00:00:00\", \"2020-01-13T00:00:00\", \"2020-01-14T00:00:00\", \"2020-01-15T00:00:00\", \"2020-01-16T00:00:00\", \"2020-01-17T00:00:00\", \"2020-01-21T00:00:00\", \"2020-01-22T00:00:00\", \"2020-01-23T00:00:00\", \"2020-01-24T00:00:00\", \"2020-01-27T00:00:00\", \"2020-01-28T00:00:00\", \"2020-01-29T00:00:00\", \"2020-01-30T00:00:00\", \"2020-01-31T00:00:00\", \"2020-02-03T00:00:00\", \"2020-02-04T00:00:00\", \"2020-02-05T00:00:00\", \"2020-02-06T00:00:00\", \"2020-02-07T00:00:00\", \"2020-02-10T00:00:00\", \"2020-02-11T00:00:00\", \"2020-02-12T00:00:00\", \"2020-02-13T00:00:00\", \"2020-02-14T00:00:00\", \"2020-02-18T00:00:00\", \"2020-02-19T00:00:00\", \"2020-02-20T00:00:00\", \"2020-02-21T00:00:00\", \"2020-02-24T00:00:00\", \"2020-02-25T00:00:00\", \"2020-02-26T00:00:00\", \"2020-02-27T00:00:00\", \"2020-02-28T00:00:00\", \"2020-03-02T00:00:00\", \"2020-03-03T00:00:00\", \"2020-03-04T00:00:00\", \"2020-03-05T00:00:00\", \"2020-03-06T00:00:00\", \"2020-03-09T00:00:00\", \"2020-03-10T00:00:00\", \"2020-03-11T00:00:00\", \"2020-03-12T00:00:00\", \"2020-03-13T00:00:00\", \"2020-03-16T00:00:00\", \"2020-03-17T00:00:00\", \"2020-03-18T00:00:00\", \"2020-03-19T00:00:00\", \"2020-03-20T00:00:00\", \"2020-03-23T00:00:00\", \"2020-03-24T00:00:00\", \"2020-03-25T00:00:00\", \"2020-03-26T00:00:00\", \"2020-03-27T00:00:00\", \"2020-03-30T00:00:00\", \"2020-03-31T00:00:00\", \"2020-04-01T00:00:00\", \"2020-04-02T00:00:00\", \"2020-04-03T00:00:00\", \"2020-04-06T00:00:00\", \"2020-04-07T00:00:00\", \"2020-04-08T00:00:00\", \"2020-04-09T00:00:00\", \"2020-04-13T00:00:00\", \"2020-04-14T00:00:00\", \"2020-04-15T00:00:00\", \"2020-04-16T00:00:00\", \"2020-04-17T00:00:00\", \"2020-04-20T00:00:00\", \"2020-04-21T00:00:00\", \"2020-04-22T00:00:00\", \"2020-04-23T00:00:00\", \"2020-04-24T00:00:00\", \"2020-04-27T00:00:00\", \"2020-04-28T00:00:00\", \"2020-04-29T00:00:00\", \"2020-04-30T00:00:00\", \"2020-05-01T00:00:00\", \"2020-05-04T00:00:00\", \"2020-05-05T00:00:00\", \"2020-05-06T00:00:00\", \"2020-05-07T00:00:00\", \"2020-05-08T00:00:00\", \"2020-05-11T00:00:00\", \"2020-05-12T00:00:00\", \"2020-05-13T00:00:00\", \"2020-05-14T00:00:00\", \"2020-05-15T00:00:00\", \"2020-05-18T00:00:00\", \"2020-05-19T00:00:00\", \"2020-05-20T00:00:00\", \"2020-05-21T00:00:00\", \"2020-05-22T00:00:00\", \"2020-05-26T00:00:00\", \"2020-05-27T00:00:00\", \"2020-05-28T00:00:00\", \"2020-05-29T00:00:00\", \"2020-06-01T00:00:00\", \"2020-06-02T00:00:00\", \"2020-06-03T00:00:00\", \"2020-06-04T00:00:00\", \"2020-06-05T00:00:00\", \"2020-06-08T00:00:00\", \"2020-06-09T00:00:00\", \"2020-06-10T00:00:00\", \"2020-06-11T00:00:00\", \"2020-06-12T00:00:00\", \"2020-06-15T00:00:00\", \"2020-06-16T00:00:00\", \"2020-06-17T00:00:00\", \"2020-06-18T00:00:00\", \"2020-06-19T00:00:00\", \"2020-06-22T00:00:00\", \"2020-06-23T00:00:00\", \"2020-06-24T00:00:00\", \"2020-06-25T00:00:00\", \"2020-06-26T00:00:00\", \"2020-06-29T00:00:00\", \"2020-06-30T00:00:00\", \"2020-07-01T00:00:00\", \"2020-07-02T00:00:00\", \"2020-07-06T00:00:00\", \"2020-07-07T00:00:00\", \"2020-07-08T00:00:00\", \"2020-07-09T00:00:00\", \"2020-07-10T00:00:00\", \"2020-07-13T00:00:00\", \"2020-07-14T00:00:00\", \"2020-07-15T00:00:00\", \"2020-07-16T00:00:00\", \"2020-07-17T00:00:00\", \"2020-07-20T00:00:00\", \"2020-07-21T00:00:00\", \"2020-07-22T00:00:00\", \"2020-07-23T00:00:00\", \"2020-07-24T00:00:00\", \"2020-07-27T00:00:00\", \"2020-07-28T00:00:00\", \"2020-07-29T00:00:00\", \"2020-07-30T00:00:00\", \"2020-07-31T00:00:00\", \"2020-08-03T00:00:00\", \"2020-08-04T00:00:00\", \"2020-08-05T00:00:00\", \"2020-08-06T00:00:00\", \"2020-08-07T00:00:00\", \"2020-08-10T00:00:00\", \"2020-08-11T00:00:00\", \"2020-08-12T00:00:00\", \"2020-08-13T00:00:00\", \"2020-08-14T00:00:00\", \"2020-08-17T00:00:00\", \"2020-08-18T00:00:00\", \"2020-08-19T00:00:00\", \"2020-08-20T00:00:00\", \"2020-08-21T00:00:00\", \"2020-08-24T00:00:00\", \"2020-08-25T00:00:00\", \"2020-08-26T00:00:00\", \"2020-08-27T00:00:00\", \"2020-08-28T00:00:00\", \"2020-08-31T00:00:00\", \"2020-09-01T00:00:00\", \"2020-09-02T00:00:00\", \"2020-09-03T00:00:00\", \"2020-09-04T00:00:00\", \"2020-09-08T00:00:00\", \"2020-09-09T00:00:00\", \"2020-09-10T00:00:00\", \"2020-09-11T00:00:00\", \"2020-09-14T00:00:00\", \"2020-09-15T00:00:00\", \"2020-09-16T00:00:00\", \"2020-09-17T00:00:00\", \"2020-09-18T00:00:00\", \"2020-09-21T00:00:00\", \"2020-09-22T00:00:00\", \"2020-09-23T00:00:00\", \"2020-09-24T00:00:00\", \"2020-09-25T00:00:00\", \"2020-09-28T00:00:00\", \"2020-09-29T00:00:00\", \"2020-09-30T00:00:00\", \"2020-10-01T00:00:00\", \"2020-10-02T00:00:00\", \"2020-10-05T00:00:00\", \"2020-10-06T00:00:00\", \"2020-10-07T00:00:00\", \"2020-10-08T00:00:00\", \"2020-10-09T00:00:00\", \"2020-10-12T00:00:00\", \"2020-10-13T00:00:00\", \"2020-10-14T00:00:00\", \"2020-10-15T00:00:00\", \"2020-10-16T00:00:00\", \"2020-10-19T00:00:00\", \"2020-10-20T00:00:00\", \"2020-10-21T00:00:00\", \"2020-10-22T00:00:00\", \"2020-10-23T00:00:00\", \"2020-10-26T00:00:00\", \"2020-10-27T00:00:00\", \"2020-10-28T00:00:00\", \"2020-10-29T00:00:00\", \"2020-10-30T00:00:00\", \"2020-11-02T00:00:00\", \"2020-11-03T00:00:00\", \"2020-11-04T00:00:00\", \"2020-11-05T00:00:00\", \"2020-11-06T00:00:00\", \"2020-11-09T00:00:00\", \"2020-11-10T00:00:00\", \"2020-11-11T00:00:00\", \"2020-11-12T00:00:00\", \"2020-11-13T00:00:00\", \"2020-11-16T00:00:00\", \"2020-11-17T00:00:00\", \"2020-11-18T00:00:00\", \"2020-11-19T00:00:00\", \"2020-11-20T00:00:00\", \"2020-11-23T00:00:00\", \"2020-11-24T00:00:00\", \"2020-11-25T00:00:00\", \"2020-11-27T00:00:00\", \"2020-11-30T00:00:00\", \"2020-12-01T00:00:00\", \"2020-12-02T00:00:00\", \"2020-12-03T00:00:00\", \"2020-12-04T00:00:00\", \"2020-12-07T00:00:00\", \"2020-12-08T00:00:00\", \"2020-12-09T00:00:00\", \"2020-12-10T00:00:00\", \"2020-12-11T00:00:00\", \"2020-12-14T00:00:00\", \"2020-12-15T00:00:00\", \"2020-12-16T00:00:00\", \"2020-12-17T00:00:00\", \"2020-12-18T00:00:00\", \"2020-12-21T00:00:00\", \"2020-12-22T00:00:00\", \"2020-12-23T00:00:00\", \"2020-12-24T00:00:00\", \"2020-12-28T00:00:00\", \"2020-12-29T00:00:00\", \"2020-12-30T00:00:00\", \"2020-12-31T00:00:00\"]}],\n",
       "                        {\"template\": {\"data\": {\"bar\": [{\"error_x\": {\"color\": \"#2a3f5f\"}, \"error_y\": {\"color\": \"#2a3f5f\"}, \"marker\": {\"line\": {\"color\": \"#E5ECF6\", \"width\": 0.5}}, \"type\": \"bar\"}], \"barpolar\": [{\"marker\": {\"line\": {\"color\": \"#E5ECF6\", \"width\": 0.5}}, \"type\": \"barpolar\"}], \"carpet\": [{\"aaxis\": {\"endlinecolor\": \"#2a3f5f\", \"gridcolor\": \"white\", \"linecolor\": \"white\", \"minorgridcolor\": \"white\", \"startlinecolor\": \"#2a3f5f\"}, \"baxis\": {\"endlinecolor\": \"#2a3f5f\", \"gridcolor\": \"white\", \"linecolor\": \"white\", \"minorgridcolor\": \"white\", \"startlinecolor\": \"#2a3f5f\"}, \"type\": \"carpet\"}], \"choropleth\": [{\"colorbar\": {\"outlinewidth\": 0, \"ticks\": \"\"}, \"type\": \"choropleth\"}], \"contour\": [{\"colorbar\": {\"outlinewidth\": 0, \"ticks\": \"\"}, \"colorscale\": [[0.0, \"#0d0887\"], [0.1111111111111111, \"#46039f\"], [0.2222222222222222, \"#7201a8\"], [0.3333333333333333, \"#9c179e\"], [0.4444444444444444, \"#bd3786\"], [0.5555555555555556, \"#d8576b\"], [0.6666666666666666, \"#ed7953\"], [0.7777777777777778, \"#fb9f3a\"], [0.8888888888888888, \"#fdca26\"], [1.0, \"#f0f921\"]], \"type\": \"contour\"}], \"contourcarpet\": [{\"colorbar\": {\"outlinewidth\": 0, \"ticks\": \"\"}, \"type\": \"contourcarpet\"}], \"heatmap\": [{\"colorbar\": {\"outlinewidth\": 0, \"ticks\": \"\"}, \"colorscale\": [[0.0, \"#0d0887\"], [0.1111111111111111, \"#46039f\"], [0.2222222222222222, \"#7201a8\"], [0.3333333333333333, \"#9c179e\"], [0.4444444444444444, \"#bd3786\"], [0.5555555555555556, \"#d8576b\"], [0.6666666666666666, \"#ed7953\"], [0.7777777777777778, \"#fb9f3a\"], [0.8888888888888888, \"#fdca26\"], [1.0, \"#f0f921\"]], \"type\": \"heatmap\"}], \"heatmapgl\": [{\"colorbar\": {\"outlinewidth\": 0, \"ticks\": \"\"}, \"colorscale\": [[0.0, \"#0d0887\"], [0.1111111111111111, \"#46039f\"], [0.2222222222222222, \"#7201a8\"], [0.3333333333333333, \"#9c179e\"], [0.4444444444444444, \"#bd3786\"], [0.5555555555555556, \"#d8576b\"], [0.6666666666666666, \"#ed7953\"], [0.7777777777777778, \"#fb9f3a\"], [0.8888888888888888, \"#fdca26\"], [1.0, \"#f0f921\"]], \"type\": \"heatmapgl\"}], \"histogram\": [{\"marker\": {\"colorbar\": {\"outlinewidth\": 0, \"ticks\": \"\"}}, \"type\": \"histogram\"}], \"histogram2d\": [{\"colorbar\": {\"outlinewidth\": 0, \"ticks\": \"\"}, \"colorscale\": [[0.0, \"#0d0887\"], [0.1111111111111111, \"#46039f\"], [0.2222222222222222, \"#7201a8\"], [0.3333333333333333, \"#9c179e\"], [0.4444444444444444, \"#bd3786\"], [0.5555555555555556, \"#d8576b\"], [0.6666666666666666, \"#ed7953\"], [0.7777777777777778, \"#fb9f3a\"], [0.8888888888888888, \"#fdca26\"], [1.0, \"#f0f921\"]], \"type\": \"histogram2d\"}], \"histogram2dcontour\": [{\"colorbar\": {\"outlinewidth\": 0, \"ticks\": \"\"}, \"colorscale\": [[0.0, \"#0d0887\"], [0.1111111111111111, \"#46039f\"], [0.2222222222222222, \"#7201a8\"], [0.3333333333333333, \"#9c179e\"], [0.4444444444444444, \"#bd3786\"], [0.5555555555555556, \"#d8576b\"], [0.6666666666666666, \"#ed7953\"], [0.7777777777777778, \"#fb9f3a\"], [0.8888888888888888, \"#fdca26\"], [1.0, \"#f0f921\"]], \"type\": \"histogram2dcontour\"}], \"mesh3d\": [{\"colorbar\": {\"outlinewidth\": 0, \"ticks\": \"\"}, \"type\": \"mesh3d\"}], \"parcoords\": [{\"line\": {\"colorbar\": {\"outlinewidth\": 0, \"ticks\": \"\"}}, \"type\": \"parcoords\"}], \"pie\": [{\"automargin\": true, \"type\": \"pie\"}], \"scatter\": [{\"marker\": {\"colorbar\": {\"outlinewidth\": 0, \"ticks\": \"\"}}, \"type\": \"scatter\"}], \"scatter3d\": [{\"line\": {\"colorbar\": {\"outlinewidth\": 0, \"ticks\": \"\"}}, \"marker\": {\"colorbar\": {\"outlinewidth\": 0, \"ticks\": \"\"}}, \"type\": \"scatter3d\"}], \"scattercarpet\": [{\"marker\": {\"colorbar\": {\"outlinewidth\": 0, \"ticks\": \"\"}}, \"type\": \"scattercarpet\"}], \"scattergeo\": [{\"marker\": {\"colorbar\": {\"outlinewidth\": 0, \"ticks\": \"\"}}, \"type\": \"scattergeo\"}], \"scattergl\": [{\"marker\": {\"colorbar\": {\"outlinewidth\": 0, \"ticks\": \"\"}}, \"type\": \"scattergl\"}], \"scattermapbox\": [{\"marker\": {\"colorbar\": {\"outlinewidth\": 0, \"ticks\": \"\"}}, \"type\": \"scattermapbox\"}], \"scatterpolar\": [{\"marker\": {\"colorbar\": {\"outlinewidth\": 0, \"ticks\": \"\"}}, \"type\": \"scatterpolar\"}], \"scatterpolargl\": [{\"marker\": {\"colorbar\": {\"outlinewidth\": 0, \"ticks\": \"\"}}, \"type\": \"scatterpolargl\"}], \"scatterternary\": [{\"marker\": {\"colorbar\": {\"outlinewidth\": 0, \"ticks\": \"\"}}, \"type\": \"scatterternary\"}], \"surface\": [{\"colorbar\": {\"outlinewidth\": 0, \"ticks\": \"\"}, \"colorscale\": [[0.0, \"#0d0887\"], [0.1111111111111111, \"#46039f\"], [0.2222222222222222, \"#7201a8\"], [0.3333333333333333, \"#9c179e\"], [0.4444444444444444, \"#bd3786\"], [0.5555555555555556, \"#d8576b\"], [0.6666666666666666, \"#ed7953\"], [0.7777777777777778, \"#fb9f3a\"], [0.8888888888888888, \"#fdca26\"], [1.0, \"#f0f921\"]], \"type\": \"surface\"}], \"table\": [{\"cells\": {\"fill\": {\"color\": \"#EBF0F8\"}, \"line\": {\"color\": \"white\"}}, \"header\": {\"fill\": {\"color\": \"#C8D4E3\"}, \"line\": {\"color\": \"white\"}}, \"type\": \"table\"}]}, \"layout\": {\"annotationdefaults\": {\"arrowcolor\": \"#2a3f5f\", \"arrowhead\": 0, \"arrowwidth\": 1}, \"coloraxis\": {\"colorbar\": {\"outlinewidth\": 0, \"ticks\": \"\"}}, \"colorscale\": {\"diverging\": [[0, \"#8e0152\"], [0.1, \"#c51b7d\"], [0.2, \"#de77ae\"], [0.3, \"#f1b6da\"], [0.4, \"#fde0ef\"], [0.5, \"#f7f7f7\"], [0.6, \"#e6f5d0\"], [0.7, \"#b8e186\"], [0.8, \"#7fbc41\"], [0.9, \"#4d9221\"], [1, \"#276419\"]], \"sequential\": [[0.0, \"#0d0887\"], [0.1111111111111111, \"#46039f\"], [0.2222222222222222, \"#7201a8\"], [0.3333333333333333, \"#9c179e\"], [0.4444444444444444, \"#bd3786\"], [0.5555555555555556, \"#d8576b\"], [0.6666666666666666, \"#ed7953\"], [0.7777777777777778, \"#fb9f3a\"], [0.8888888888888888, \"#fdca26\"], [1.0, \"#f0f921\"]], \"sequentialminus\": [[0.0, \"#0d0887\"], [0.1111111111111111, \"#46039f\"], [0.2222222222222222, \"#7201a8\"], [0.3333333333333333, \"#9c179e\"], [0.4444444444444444, \"#bd3786\"], [0.5555555555555556, \"#d8576b\"], [0.6666666666666666, \"#ed7953\"], [0.7777777777777778, \"#fb9f3a\"], [0.8888888888888888, \"#fdca26\"], [1.0, \"#f0f921\"]]}, \"colorway\": [\"#636efa\", \"#EF553B\", \"#00cc96\", \"#ab63fa\", \"#FFA15A\", \"#19d3f3\", \"#FF6692\", \"#B6E880\", \"#FF97FF\", \"#FECB52\"], \"font\": {\"color\": \"#2a3f5f\"}, \"geo\": {\"bgcolor\": \"white\", \"lakecolor\": \"white\", \"landcolor\": \"#E5ECF6\", \"showlakes\": true, \"showland\": true, \"subunitcolor\": \"white\"}, \"hoverlabel\": {\"align\": \"left\"}, \"hovermode\": \"closest\", \"mapbox\": {\"style\": \"light\"}, \"paper_bgcolor\": \"white\", \"plot_bgcolor\": \"#E5ECF6\", \"polar\": {\"angularaxis\": {\"gridcolor\": \"white\", \"linecolor\": \"white\", \"ticks\": \"\"}, \"bgcolor\": \"#E5ECF6\", \"radialaxis\": {\"gridcolor\": \"white\", \"linecolor\": \"white\", \"ticks\": \"\"}}, \"scene\": {\"xaxis\": {\"backgroundcolor\": \"#E5ECF6\", \"gridcolor\": \"white\", \"gridwidth\": 2, \"linecolor\": \"white\", \"showbackground\": true, \"ticks\": \"\", \"zerolinecolor\": \"white\"}, \"yaxis\": {\"backgroundcolor\": \"#E5ECF6\", \"gridcolor\": \"white\", \"gridwidth\": 2, \"linecolor\": \"white\", \"showbackground\": true, \"ticks\": \"\", \"zerolinecolor\": \"white\"}, \"zaxis\": {\"backgroundcolor\": \"#E5ECF6\", \"gridcolor\": \"white\", \"gridwidth\": 2, \"linecolor\": \"white\", \"showbackground\": true, \"ticks\": \"\", \"zerolinecolor\": \"white\"}}, \"shapedefaults\": {\"line\": {\"color\": \"#2a3f5f\"}}, \"ternary\": {\"aaxis\": {\"gridcolor\": \"white\", \"linecolor\": \"white\", \"ticks\": \"\"}, \"baxis\": {\"gridcolor\": \"white\", \"linecolor\": \"white\", \"ticks\": \"\"}, \"bgcolor\": \"#E5ECF6\", \"caxis\": {\"gridcolor\": \"white\", \"linecolor\": \"white\", \"ticks\": \"\"}}, \"title\": {\"x\": 0.05}, \"xaxis\": {\"automargin\": true, \"gridcolor\": \"white\", \"linecolor\": \"white\", \"ticks\": \"\", \"title\": {\"standoff\": 15}, \"zerolinecolor\": \"white\", \"zerolinewidth\": 2}, \"yaxis\": {\"automargin\": true, \"gridcolor\": \"white\", \"linecolor\": \"white\", \"ticks\": \"\", \"title\": {\"standoff\": 15}, \"zerolinecolor\": \"white\", \"zerolinewidth\": 2}}}},\n",
       "                        {\"responsive\": true}\n",
       "                    ).then(function(){\n",
       "                            \n",
       "var gd = document.getElementById('6016eb0b-f95c-4713-9265-23e75e98f4e4');\n",
       "var x = new MutationObserver(function (mutations, observer) {{\n",
       "        var display = window.getComputedStyle(gd).display;\n",
       "        if (!display || display === 'none') {{\n",
       "            console.log([gd, 'removed!']);\n",
       "            Plotly.purge(gd);\n",
       "            observer.disconnect();\n",
       "        }}\n",
       "}});\n",
       "\n",
       "// Listen for the removal of the full notebook cells\n",
       "var notebookContainer = gd.closest('#notebook-container');\n",
       "if (notebookContainer) {{\n",
       "    x.observe(notebookContainer, {childList: true});\n",
       "}}\n",
       "\n",
       "// Listen for the clearing of the current output cell\n",
       "var outputEl = gd.closest('.output');\n",
       "if (outputEl) {{\n",
       "    x.observe(outputEl, {childList: true});\n",
       "}}\n",
       "\n",
       "                        })\n",
       "                };\n",
       "                });\n",
       "            </script>\n",
       "        </div>"
      ]
     },
     "metadata": {},
     "output_type": "display_data"
    }
   ],
   "source": [
    "#use go.Candlestick() to create candlestick chart\n",
    "\n",
    "data_cand_obj=go.Candlestick(x=data_dis.index,\n",
    "                             open=data_dis.Open,\n",
    "                             close=data_dis.Close,\n",
    "                             low=data_dis.Low,\n",
    "                             high=data_dis.High)\n",
    "\n",
    "fig_cand=go.Figure(data_cand_obj)\n",
    "\n",
    "fig_cand.show()"
   ]
  },
  {
   "cell_type": "code",
   "execution_count": 46,
   "metadata": {},
   "outputs": [],
   "source": [
    "#creating a list from multiple stock names\n",
    "tickers=['AAPL','MSFT','DIS']"
   ]
  },
  {
   "cell_type": "code",
   "execution_count": 47,
   "metadata": {},
   "outputs": [],
   "source": [
    "#downloading stock data for multiple tickers from Yahoo\n",
    "data_stocks=data.DataReader(name=tickers,\n",
    "                           data_source='yahoo',\n",
    "                           start='2020-01-01',\n",
    "                           end='2021-01-01',\n",
    "                           pause=0.1\n",
    "                           )"
   ]
  },
  {
   "cell_type": "code",
   "execution_count": 48,
   "metadata": {},
   "outputs": [
    {
     "data": {
      "text/html": [
       "<div>\n",
       "<style scoped>\n",
       "    .dataframe tbody tr th:only-of-type {\n",
       "        vertical-align: middle;\n",
       "    }\n",
       "\n",
       "    .dataframe tbody tr th {\n",
       "        vertical-align: top;\n",
       "    }\n",
       "\n",
       "    .dataframe thead tr th {\n",
       "        text-align: left;\n",
       "    }\n",
       "\n",
       "    .dataframe thead tr:last-of-type th {\n",
       "        text-align: right;\n",
       "    }\n",
       "</style>\n",
       "<table border=\"1\" class=\"dataframe\">\n",
       "  <thead>\n",
       "    <tr>\n",
       "      <th>Attributes</th>\n",
       "      <th colspan=\"3\" halign=\"left\">Adj Close</th>\n",
       "      <th colspan=\"3\" halign=\"left\">Close</th>\n",
       "      <th colspan=\"3\" halign=\"left\">High</th>\n",
       "      <th colspan=\"3\" halign=\"left\">Low</th>\n",
       "      <th colspan=\"3\" halign=\"left\">Open</th>\n",
       "      <th colspan=\"3\" halign=\"left\">Volume</th>\n",
       "    </tr>\n",
       "    <tr>\n",
       "      <th>Symbols</th>\n",
       "      <th>AAPL</th>\n",
       "      <th>MSFT</th>\n",
       "      <th>DIS</th>\n",
       "      <th>AAPL</th>\n",
       "      <th>MSFT</th>\n",
       "      <th>DIS</th>\n",
       "      <th>AAPL</th>\n",
       "      <th>MSFT</th>\n",
       "      <th>DIS</th>\n",
       "      <th>AAPL</th>\n",
       "      <th>MSFT</th>\n",
       "      <th>DIS</th>\n",
       "      <th>AAPL</th>\n",
       "      <th>MSFT</th>\n",
       "      <th>DIS</th>\n",
       "      <th>AAPL</th>\n",
       "      <th>MSFT</th>\n",
       "      <th>DIS</th>\n",
       "    </tr>\n",
       "    <tr>\n",
       "      <th>Date</th>\n",
       "      <th></th>\n",
       "      <th></th>\n",
       "      <th></th>\n",
       "      <th></th>\n",
       "      <th></th>\n",
       "      <th></th>\n",
       "      <th></th>\n",
       "      <th></th>\n",
       "      <th></th>\n",
       "      <th></th>\n",
       "      <th></th>\n",
       "      <th></th>\n",
       "      <th></th>\n",
       "      <th></th>\n",
       "      <th></th>\n",
       "      <th></th>\n",
       "      <th></th>\n",
       "      <th></th>\n",
       "    </tr>\n",
       "  </thead>\n",
       "  <tbody>\n",
       "    <tr>\n",
       "      <th>2020-01-02</th>\n",
       "      <td>74.207466</td>\n",
       "      <td>158.205765</td>\n",
       "      <td>148.199997</td>\n",
       "      <td>75.087502</td>\n",
       "      <td>160.619995</td>\n",
       "      <td>148.199997</td>\n",
       "      <td>75.150002</td>\n",
       "      <td>160.729996</td>\n",
       "      <td>148.199997</td>\n",
       "      <td>73.797501</td>\n",
       "      <td>158.330002</td>\n",
       "      <td>145.100006</td>\n",
       "      <td>74.059998</td>\n",
       "      <td>158.779999</td>\n",
       "      <td>145.289993</td>\n",
       "      <td>135480400.0</td>\n",
       "      <td>22622100.0</td>\n",
       "      <td>9502100.0</td>\n",
       "    </tr>\n",
       "    <tr>\n",
       "      <th>2020-01-03</th>\n",
       "      <td>73.486023</td>\n",
       "      <td>156.235825</td>\n",
       "      <td>146.500000</td>\n",
       "      <td>74.357498</td>\n",
       "      <td>158.619995</td>\n",
       "      <td>146.500000</td>\n",
       "      <td>75.144997</td>\n",
       "      <td>159.949997</td>\n",
       "      <td>147.899994</td>\n",
       "      <td>74.125000</td>\n",
       "      <td>158.059998</td>\n",
       "      <td>146.050003</td>\n",
       "      <td>74.287498</td>\n",
       "      <td>158.320007</td>\n",
       "      <td>146.399994</td>\n",
       "      <td>146322800.0</td>\n",
       "      <td>21116200.0</td>\n",
       "      <td>7320200.0</td>\n",
       "    </tr>\n",
       "    <tr>\n",
       "      <th>2020-01-06</th>\n",
       "      <td>74.071579</td>\n",
       "      <td>156.639694</td>\n",
       "      <td>145.649994</td>\n",
       "      <td>74.949997</td>\n",
       "      <td>159.029999</td>\n",
       "      <td>145.649994</td>\n",
       "      <td>74.989998</td>\n",
       "      <td>159.100006</td>\n",
       "      <td>146.029999</td>\n",
       "      <td>73.187500</td>\n",
       "      <td>156.509995</td>\n",
       "      <td>144.309998</td>\n",
       "      <td>73.447502</td>\n",
       "      <td>157.080002</td>\n",
       "      <td>145.539993</td>\n",
       "      <td>118387200.0</td>\n",
       "      <td>20813700.0</td>\n",
       "      <td>8262500.0</td>\n",
       "    </tr>\n",
       "    <tr>\n",
       "      <th>2020-01-07</th>\n",
       "      <td>73.723213</td>\n",
       "      <td>155.211456</td>\n",
       "      <td>145.699997</td>\n",
       "      <td>74.597504</td>\n",
       "      <td>157.580002</td>\n",
       "      <td>145.699997</td>\n",
       "      <td>75.224998</td>\n",
       "      <td>159.669998</td>\n",
       "      <td>146.869995</td>\n",
       "      <td>74.370003</td>\n",
       "      <td>157.320007</td>\n",
       "      <td>145.419998</td>\n",
       "      <td>74.959999</td>\n",
       "      <td>159.320007</td>\n",
       "      <td>145.990005</td>\n",
       "      <td>108872000.0</td>\n",
       "      <td>21634100.0</td>\n",
       "      <td>6906500.0</td>\n",
       "    </tr>\n",
       "    <tr>\n",
       "      <th>2020-01-08</th>\n",
       "      <td>74.909149</td>\n",
       "      <td>157.683731</td>\n",
       "      <td>145.399994</td>\n",
       "      <td>75.797501</td>\n",
       "      <td>160.089996</td>\n",
       "      <td>145.399994</td>\n",
       "      <td>76.110001</td>\n",
       "      <td>160.800003</td>\n",
       "      <td>146.130005</td>\n",
       "      <td>74.290001</td>\n",
       "      <td>157.949997</td>\n",
       "      <td>144.820007</td>\n",
       "      <td>74.290001</td>\n",
       "      <td>158.929993</td>\n",
       "      <td>145.490005</td>\n",
       "      <td>132079200.0</td>\n",
       "      <td>27746500.0</td>\n",
       "      <td>6984200.0</td>\n",
       "    </tr>\n",
       "  </tbody>\n",
       "</table>\n",
       "</div>"
      ],
      "text/plain": [
       "Attributes  Adj Close                              Close              \\\n",
       "Symbols          AAPL        MSFT         DIS       AAPL        MSFT   \n",
       "Date                                                                   \n",
       "2020-01-02  74.207466  158.205765  148.199997  75.087502  160.619995   \n",
       "2020-01-03  73.486023  156.235825  146.500000  74.357498  158.619995   \n",
       "2020-01-06  74.071579  156.639694  145.649994  74.949997  159.029999   \n",
       "2020-01-07  73.723213  155.211456  145.699997  74.597504  157.580002   \n",
       "2020-01-08  74.909149  157.683731  145.399994  75.797501  160.089996   \n",
       "\n",
       "Attributes                   High                                Low  \\\n",
       "Symbols            DIS       AAPL        MSFT         DIS       AAPL   \n",
       "Date                                                                   \n",
       "2020-01-02  148.199997  75.150002  160.729996  148.199997  73.797501   \n",
       "2020-01-03  146.500000  75.144997  159.949997  147.899994  74.125000   \n",
       "2020-01-06  145.649994  74.989998  159.100006  146.029999  73.187500   \n",
       "2020-01-07  145.699997  75.224998  159.669998  146.869995  74.370003   \n",
       "2020-01-08  145.399994  76.110001  160.800003  146.130005  74.290001   \n",
       "\n",
       "Attributes                               Open                          \\\n",
       "Symbols           MSFT         DIS       AAPL        MSFT         DIS   \n",
       "Date                                                                    \n",
       "2020-01-02  158.330002  145.100006  74.059998  158.779999  145.289993   \n",
       "2020-01-03  158.059998  146.050003  74.287498  158.320007  146.399994   \n",
       "2020-01-06  156.509995  144.309998  73.447502  157.080002  145.539993   \n",
       "2020-01-07  157.320007  145.419998  74.959999  159.320007  145.990005   \n",
       "2020-01-08  157.949997  144.820007  74.290001  158.929993  145.490005   \n",
       "\n",
       "Attributes       Volume                         \n",
       "Symbols            AAPL        MSFT        DIS  \n",
       "Date                                            \n",
       "2020-01-02  135480400.0  22622100.0  9502100.0  \n",
       "2020-01-03  146322800.0  21116200.0  7320200.0  \n",
       "2020-01-06  118387200.0  20813700.0  8262500.0  \n",
       "2020-01-07  108872000.0  21634100.0  6906500.0  \n",
       "2020-01-08  132079200.0  27746500.0  6984200.0  "
      ]
     },
     "execution_count": 48,
     "metadata": {},
     "output_type": "execute_result"
    }
   ],
   "source": [
    "#first five rows of data\n",
    "data_stocks.head()"
   ]
  },
  {
   "cell_type": "code",
   "execution_count": 49,
   "metadata": {},
   "outputs": [
    {
     "name": "stdout",
     "output_type": "stream",
     "text": [
      "<class 'pandas.core.frame.DataFrame'>\n",
      "DatetimeIndex: 253 entries, 2020-01-02 to 2020-12-31\n",
      "Data columns (total 18 columns):\n",
      " #   Column             Non-Null Count  Dtype  \n",
      "---  ------             --------------  -----  \n",
      " 0   (Adj Close, AAPL)  253 non-null    float64\n",
      " 1   (Adj Close, MSFT)  253 non-null    float64\n",
      " 2   (Adj Close, DIS)   253 non-null    float64\n",
      " 3   (Close, AAPL)      253 non-null    float64\n",
      " 4   (Close, MSFT)      253 non-null    float64\n",
      " 5   (Close, DIS)       253 non-null    float64\n",
      " 6   (High, AAPL)       253 non-null    float64\n",
      " 7   (High, MSFT)       253 non-null    float64\n",
      " 8   (High, DIS)        253 non-null    float64\n",
      " 9   (Low, AAPL)        253 non-null    float64\n",
      " 10  (Low, MSFT)        253 non-null    float64\n",
      " 11  (Low, DIS)         253 non-null    float64\n",
      " 12  (Open, AAPL)       253 non-null    float64\n",
      " 13  (Open, MSFT)       253 non-null    float64\n",
      " 14  (Open, DIS)        253 non-null    float64\n",
      " 15  (Volume, AAPL)     253 non-null    float64\n",
      " 16  (Volume, MSFT)     253 non-null    float64\n",
      " 17  (Volume, DIS)      253 non-null    float64\n",
      "dtypes: float64(18)\n",
      "memory usage: 37.6 KB\n"
     ]
    }
   ],
   "source": [
    "data_stocks.info()"
   ]
  },
  {
   "cell_type": "code",
   "execution_count": 50,
   "metadata": {},
   "outputs": [
    {
     "data": {
      "text/plain": [
       "Date\n",
       "2020-01-02    74.207466\n",
       "2020-01-03    73.486023\n",
       "2020-01-06    74.071579\n",
       "2020-01-07    73.723213\n",
       "2020-01-08    74.909149\n",
       "Name: (Adj Close, AAPL), dtype: float64"
      ]
     },
     "execution_count": 50,
     "metadata": {},
     "output_type": "execute_result"
    }
   ],
   "source": [
    "data_stocks[('Adj Close', 'AAPL')].head()"
   ]
  },
  {
   "cell_type": "code",
   "execution_count": 51,
   "metadata": {},
   "outputs": [
    {
     "data": {
      "text/plain": [
       "MultiIndex([('Adj Close', 'AAPL'),\n",
       "            ('Adj Close', 'MSFT'),\n",
       "            ('Adj Close',  'DIS'),\n",
       "            (    'Close', 'AAPL'),\n",
       "            (    'Close', 'MSFT'),\n",
       "            (    'Close',  'DIS'),\n",
       "            (     'High', 'AAPL'),\n",
       "            (     'High', 'MSFT'),\n",
       "            (     'High',  'DIS'),\n",
       "            (      'Low', 'AAPL'),\n",
       "            (      'Low', 'MSFT'),\n",
       "            (      'Low',  'DIS'),\n",
       "            (     'Open', 'AAPL'),\n",
       "            (     'Open', 'MSFT'),\n",
       "            (     'Open',  'DIS'),\n",
       "            (   'Volume', 'AAPL'),\n",
       "            (   'Volume', 'MSFT'),\n",
       "            (   'Volume',  'DIS')],\n",
       "           names=['Attributes', 'Symbols'])"
      ]
     },
     "execution_count": 51,
     "metadata": {},
     "output_type": "execute_result"
    }
   ],
   "source": [
    "#column headings are in a multirow format\n",
    "data_stocks.columns"
   ]
  },
  {
   "cell_type": "code",
   "execution_count": 52,
   "metadata": {},
   "outputs": [],
   "source": [
    "#in order to have only one row of headings, let's join two headings with \"_\"\n",
    "data_stocks.columns=data_stocks.columns.map('_'.join)"
   ]
  },
  {
   "cell_type": "code",
   "execution_count": 53,
   "metadata": {},
   "outputs": [
    {
     "data": {
      "text/html": [
       "<div>\n",
       "<style scoped>\n",
       "    .dataframe tbody tr th:only-of-type {\n",
       "        vertical-align: middle;\n",
       "    }\n",
       "\n",
       "    .dataframe tbody tr th {\n",
       "        vertical-align: top;\n",
       "    }\n",
       "\n",
       "    .dataframe thead th {\n",
       "        text-align: right;\n",
       "    }\n",
       "</style>\n",
       "<table border=\"1\" class=\"dataframe\">\n",
       "  <thead>\n",
       "    <tr style=\"text-align: right;\">\n",
       "      <th></th>\n",
       "      <th>Adj Close_AAPL</th>\n",
       "      <th>Adj Close_MSFT</th>\n",
       "      <th>Adj Close_DIS</th>\n",
       "      <th>Close_AAPL</th>\n",
       "      <th>Close_MSFT</th>\n",
       "      <th>Close_DIS</th>\n",
       "      <th>High_AAPL</th>\n",
       "      <th>High_MSFT</th>\n",
       "      <th>High_DIS</th>\n",
       "      <th>Low_AAPL</th>\n",
       "      <th>Low_MSFT</th>\n",
       "      <th>Low_DIS</th>\n",
       "      <th>Open_AAPL</th>\n",
       "      <th>Open_MSFT</th>\n",
       "      <th>Open_DIS</th>\n",
       "      <th>Volume_AAPL</th>\n",
       "      <th>Volume_MSFT</th>\n",
       "      <th>Volume_DIS</th>\n",
       "    </tr>\n",
       "    <tr>\n",
       "      <th>Date</th>\n",
       "      <th></th>\n",
       "      <th></th>\n",
       "      <th></th>\n",
       "      <th></th>\n",
       "      <th></th>\n",
       "      <th></th>\n",
       "      <th></th>\n",
       "      <th></th>\n",
       "      <th></th>\n",
       "      <th></th>\n",
       "      <th></th>\n",
       "      <th></th>\n",
       "      <th></th>\n",
       "      <th></th>\n",
       "      <th></th>\n",
       "      <th></th>\n",
       "      <th></th>\n",
       "      <th></th>\n",
       "    </tr>\n",
       "  </thead>\n",
       "  <tbody>\n",
       "    <tr>\n",
       "      <th>2020-01-02</th>\n",
       "      <td>74.207466</td>\n",
       "      <td>158.205765</td>\n",
       "      <td>148.199997</td>\n",
       "      <td>75.087502</td>\n",
       "      <td>160.619995</td>\n",
       "      <td>148.199997</td>\n",
       "      <td>75.150002</td>\n",
       "      <td>160.729996</td>\n",
       "      <td>148.199997</td>\n",
       "      <td>73.797501</td>\n",
       "      <td>158.330002</td>\n",
       "      <td>145.100006</td>\n",
       "      <td>74.059998</td>\n",
       "      <td>158.779999</td>\n",
       "      <td>145.289993</td>\n",
       "      <td>135480400.0</td>\n",
       "      <td>22622100.0</td>\n",
       "      <td>9502100.0</td>\n",
       "    </tr>\n",
       "    <tr>\n",
       "      <th>2020-01-03</th>\n",
       "      <td>73.486023</td>\n",
       "      <td>156.235825</td>\n",
       "      <td>146.500000</td>\n",
       "      <td>74.357498</td>\n",
       "      <td>158.619995</td>\n",
       "      <td>146.500000</td>\n",
       "      <td>75.144997</td>\n",
       "      <td>159.949997</td>\n",
       "      <td>147.899994</td>\n",
       "      <td>74.125000</td>\n",
       "      <td>158.059998</td>\n",
       "      <td>146.050003</td>\n",
       "      <td>74.287498</td>\n",
       "      <td>158.320007</td>\n",
       "      <td>146.399994</td>\n",
       "      <td>146322800.0</td>\n",
       "      <td>21116200.0</td>\n",
       "      <td>7320200.0</td>\n",
       "    </tr>\n",
       "    <tr>\n",
       "      <th>2020-01-06</th>\n",
       "      <td>74.071579</td>\n",
       "      <td>156.639694</td>\n",
       "      <td>145.649994</td>\n",
       "      <td>74.949997</td>\n",
       "      <td>159.029999</td>\n",
       "      <td>145.649994</td>\n",
       "      <td>74.989998</td>\n",
       "      <td>159.100006</td>\n",
       "      <td>146.029999</td>\n",
       "      <td>73.187500</td>\n",
       "      <td>156.509995</td>\n",
       "      <td>144.309998</td>\n",
       "      <td>73.447502</td>\n",
       "      <td>157.080002</td>\n",
       "      <td>145.539993</td>\n",
       "      <td>118387200.0</td>\n",
       "      <td>20813700.0</td>\n",
       "      <td>8262500.0</td>\n",
       "    </tr>\n",
       "    <tr>\n",
       "      <th>2020-01-07</th>\n",
       "      <td>73.723213</td>\n",
       "      <td>155.211456</td>\n",
       "      <td>145.699997</td>\n",
       "      <td>74.597504</td>\n",
       "      <td>157.580002</td>\n",
       "      <td>145.699997</td>\n",
       "      <td>75.224998</td>\n",
       "      <td>159.669998</td>\n",
       "      <td>146.869995</td>\n",
       "      <td>74.370003</td>\n",
       "      <td>157.320007</td>\n",
       "      <td>145.419998</td>\n",
       "      <td>74.959999</td>\n",
       "      <td>159.320007</td>\n",
       "      <td>145.990005</td>\n",
       "      <td>108872000.0</td>\n",
       "      <td>21634100.0</td>\n",
       "      <td>6906500.0</td>\n",
       "    </tr>\n",
       "    <tr>\n",
       "      <th>2020-01-08</th>\n",
       "      <td>74.909149</td>\n",
       "      <td>157.683731</td>\n",
       "      <td>145.399994</td>\n",
       "      <td>75.797501</td>\n",
       "      <td>160.089996</td>\n",
       "      <td>145.399994</td>\n",
       "      <td>76.110001</td>\n",
       "      <td>160.800003</td>\n",
       "      <td>146.130005</td>\n",
       "      <td>74.290001</td>\n",
       "      <td>157.949997</td>\n",
       "      <td>144.820007</td>\n",
       "      <td>74.290001</td>\n",
       "      <td>158.929993</td>\n",
       "      <td>145.490005</td>\n",
       "      <td>132079200.0</td>\n",
       "      <td>27746500.0</td>\n",
       "      <td>6984200.0</td>\n",
       "    </tr>\n",
       "  </tbody>\n",
       "</table>\n",
       "</div>"
      ],
      "text/plain": [
       "            Adj Close_AAPL  Adj Close_MSFT  Adj Close_DIS  Close_AAPL  \\\n",
       "Date                                                                    \n",
       "2020-01-02       74.207466      158.205765     148.199997   75.087502   \n",
       "2020-01-03       73.486023      156.235825     146.500000   74.357498   \n",
       "2020-01-06       74.071579      156.639694     145.649994   74.949997   \n",
       "2020-01-07       73.723213      155.211456     145.699997   74.597504   \n",
       "2020-01-08       74.909149      157.683731     145.399994   75.797501   \n",
       "\n",
       "            Close_MSFT   Close_DIS  High_AAPL   High_MSFT    High_DIS  \\\n",
       "Date                                                                    \n",
       "2020-01-02  160.619995  148.199997  75.150002  160.729996  148.199997   \n",
       "2020-01-03  158.619995  146.500000  75.144997  159.949997  147.899994   \n",
       "2020-01-06  159.029999  145.649994  74.989998  159.100006  146.029999   \n",
       "2020-01-07  157.580002  145.699997  75.224998  159.669998  146.869995   \n",
       "2020-01-08  160.089996  145.399994  76.110001  160.800003  146.130005   \n",
       "\n",
       "             Low_AAPL    Low_MSFT     Low_DIS  Open_AAPL   Open_MSFT  \\\n",
       "Date                                                                   \n",
       "2020-01-02  73.797501  158.330002  145.100006  74.059998  158.779999   \n",
       "2020-01-03  74.125000  158.059998  146.050003  74.287498  158.320007   \n",
       "2020-01-06  73.187500  156.509995  144.309998  73.447502  157.080002   \n",
       "2020-01-07  74.370003  157.320007  145.419998  74.959999  159.320007   \n",
       "2020-01-08  74.290001  157.949997  144.820007  74.290001  158.929993   \n",
       "\n",
       "              Open_DIS  Volume_AAPL  Volume_MSFT  Volume_DIS  \n",
       "Date                                                          \n",
       "2020-01-02  145.289993  135480400.0   22622100.0   9502100.0  \n",
       "2020-01-03  146.399994  146322800.0   21116200.0   7320200.0  \n",
       "2020-01-06  145.539993  118387200.0   20813700.0   8262500.0  \n",
       "2020-01-07  145.990005  108872000.0   21634100.0   6906500.0  \n",
       "2020-01-08  145.490005  132079200.0   27746500.0   6984200.0  "
      ]
     },
     "execution_count": 53,
     "metadata": {},
     "output_type": "execute_result"
    }
   ],
   "source": [
    "data_stocks.head()"
   ]
  },
  {
   "cell_type": "code",
   "execution_count": 54,
   "metadata": {},
   "outputs": [
    {
     "data": {
      "application/vnd.plotly.v1+json": {
       "config": {
        "plotlyServerURL": "https://plot.ly"
       },
       "data": [
        {
         "mode": "lines",
         "name": "Close Price of AAPL",
         "type": "scatter",
         "x": [
          "2020-01-02T00:00:00",
          "2020-01-03T00:00:00",
          "2020-01-06T00:00:00",
          "2020-01-07T00:00:00",
          "2020-01-08T00:00:00",
          "2020-01-09T00:00:00",
          "2020-01-10T00:00:00",
          "2020-01-13T00:00:00",
          "2020-01-14T00:00:00",
          "2020-01-15T00:00:00",
          "2020-01-16T00:00:00",
          "2020-01-17T00:00:00",
          "2020-01-21T00:00:00",
          "2020-01-22T00:00:00",
          "2020-01-23T00:00:00",
          "2020-01-24T00:00:00",
          "2020-01-27T00:00:00",
          "2020-01-28T00:00:00",
          "2020-01-29T00:00:00",
          "2020-01-30T00:00:00",
          "2020-01-31T00:00:00",
          "2020-02-03T00:00:00",
          "2020-02-04T00:00:00",
          "2020-02-05T00:00:00",
          "2020-02-06T00:00:00",
          "2020-02-07T00:00:00",
          "2020-02-10T00:00:00",
          "2020-02-11T00:00:00",
          "2020-02-12T00:00:00",
          "2020-02-13T00:00:00",
          "2020-02-14T00:00:00",
          "2020-02-18T00:00:00",
          "2020-02-19T00:00:00",
          "2020-02-20T00:00:00",
          "2020-02-21T00:00:00",
          "2020-02-24T00:00:00",
          "2020-02-25T00:00:00",
          "2020-02-26T00:00:00",
          "2020-02-27T00:00:00",
          "2020-02-28T00:00:00",
          "2020-03-02T00:00:00",
          "2020-03-03T00:00:00",
          "2020-03-04T00:00:00",
          "2020-03-05T00:00:00",
          "2020-03-06T00:00:00",
          "2020-03-09T00:00:00",
          "2020-03-10T00:00:00",
          "2020-03-11T00:00:00",
          "2020-03-12T00:00:00",
          "2020-03-13T00:00:00",
          "2020-03-16T00:00:00",
          "2020-03-17T00:00:00",
          "2020-03-18T00:00:00",
          "2020-03-19T00:00:00",
          "2020-03-20T00:00:00",
          "2020-03-23T00:00:00",
          "2020-03-24T00:00:00",
          "2020-03-25T00:00:00",
          "2020-03-26T00:00:00",
          "2020-03-27T00:00:00",
          "2020-03-30T00:00:00",
          "2020-03-31T00:00:00",
          "2020-04-01T00:00:00",
          "2020-04-02T00:00:00",
          "2020-04-03T00:00:00",
          "2020-04-06T00:00:00",
          "2020-04-07T00:00:00",
          "2020-04-08T00:00:00",
          "2020-04-09T00:00:00",
          "2020-04-13T00:00:00",
          "2020-04-14T00:00:00",
          "2020-04-15T00:00:00",
          "2020-04-16T00:00:00",
          "2020-04-17T00:00:00",
          "2020-04-20T00:00:00",
          "2020-04-21T00:00:00",
          "2020-04-22T00:00:00",
          "2020-04-23T00:00:00",
          "2020-04-24T00:00:00",
          "2020-04-27T00:00:00",
          "2020-04-28T00:00:00",
          "2020-04-29T00:00:00",
          "2020-04-30T00:00:00",
          "2020-05-01T00:00:00",
          "2020-05-04T00:00:00",
          "2020-05-05T00:00:00",
          "2020-05-06T00:00:00",
          "2020-05-07T00:00:00",
          "2020-05-08T00:00:00",
          "2020-05-11T00:00:00",
          "2020-05-12T00:00:00",
          "2020-05-13T00:00:00",
          "2020-05-14T00:00:00",
          "2020-05-15T00:00:00",
          "2020-05-18T00:00:00",
          "2020-05-19T00:00:00",
          "2020-05-20T00:00:00",
          "2020-05-21T00:00:00",
          "2020-05-22T00:00:00",
          "2020-05-26T00:00:00",
          "2020-05-27T00:00:00",
          "2020-05-28T00:00:00",
          "2020-05-29T00:00:00",
          "2020-06-01T00:00:00",
          "2020-06-02T00:00:00",
          "2020-06-03T00:00:00",
          "2020-06-04T00:00:00",
          "2020-06-05T00:00:00",
          "2020-06-08T00:00:00",
          "2020-06-09T00:00:00",
          "2020-06-10T00:00:00",
          "2020-06-11T00:00:00",
          "2020-06-12T00:00:00",
          "2020-06-15T00:00:00",
          "2020-06-16T00:00:00",
          "2020-06-17T00:00:00",
          "2020-06-18T00:00:00",
          "2020-06-19T00:00:00",
          "2020-06-22T00:00:00",
          "2020-06-23T00:00:00",
          "2020-06-24T00:00:00",
          "2020-06-25T00:00:00",
          "2020-06-26T00:00:00",
          "2020-06-29T00:00:00",
          "2020-06-30T00:00:00",
          "2020-07-01T00:00:00",
          "2020-07-02T00:00:00",
          "2020-07-06T00:00:00",
          "2020-07-07T00:00:00",
          "2020-07-08T00:00:00",
          "2020-07-09T00:00:00",
          "2020-07-10T00:00:00",
          "2020-07-13T00:00:00",
          "2020-07-14T00:00:00",
          "2020-07-15T00:00:00",
          "2020-07-16T00:00:00",
          "2020-07-17T00:00:00",
          "2020-07-20T00:00:00",
          "2020-07-21T00:00:00",
          "2020-07-22T00:00:00",
          "2020-07-23T00:00:00",
          "2020-07-24T00:00:00",
          "2020-07-27T00:00:00",
          "2020-07-28T00:00:00",
          "2020-07-29T00:00:00",
          "2020-07-30T00:00:00",
          "2020-07-31T00:00:00",
          "2020-08-03T00:00:00",
          "2020-08-04T00:00:00",
          "2020-08-05T00:00:00",
          "2020-08-06T00:00:00",
          "2020-08-07T00:00:00",
          "2020-08-10T00:00:00",
          "2020-08-11T00:00:00",
          "2020-08-12T00:00:00",
          "2020-08-13T00:00:00",
          "2020-08-14T00:00:00",
          "2020-08-17T00:00:00",
          "2020-08-18T00:00:00",
          "2020-08-19T00:00:00",
          "2020-08-20T00:00:00",
          "2020-08-21T00:00:00",
          "2020-08-24T00:00:00",
          "2020-08-25T00:00:00",
          "2020-08-26T00:00:00",
          "2020-08-27T00:00:00",
          "2020-08-28T00:00:00",
          "2020-08-31T00:00:00",
          "2020-09-01T00:00:00",
          "2020-09-02T00:00:00",
          "2020-09-03T00:00:00",
          "2020-09-04T00:00:00",
          "2020-09-08T00:00:00",
          "2020-09-09T00:00:00",
          "2020-09-10T00:00:00",
          "2020-09-11T00:00:00",
          "2020-09-14T00:00:00",
          "2020-09-15T00:00:00",
          "2020-09-16T00:00:00",
          "2020-09-17T00:00:00",
          "2020-09-18T00:00:00",
          "2020-09-21T00:00:00",
          "2020-09-22T00:00:00",
          "2020-09-23T00:00:00",
          "2020-09-24T00:00:00",
          "2020-09-25T00:00:00",
          "2020-09-28T00:00:00",
          "2020-09-29T00:00:00",
          "2020-09-30T00:00:00",
          "2020-10-01T00:00:00",
          "2020-10-02T00:00:00",
          "2020-10-05T00:00:00",
          "2020-10-06T00:00:00",
          "2020-10-07T00:00:00",
          "2020-10-08T00:00:00",
          "2020-10-09T00:00:00",
          "2020-10-12T00:00:00",
          "2020-10-13T00:00:00",
          "2020-10-14T00:00:00",
          "2020-10-15T00:00:00",
          "2020-10-16T00:00:00",
          "2020-10-19T00:00:00",
          "2020-10-20T00:00:00",
          "2020-10-21T00:00:00",
          "2020-10-22T00:00:00",
          "2020-10-23T00:00:00",
          "2020-10-26T00:00:00",
          "2020-10-27T00:00:00",
          "2020-10-28T00:00:00",
          "2020-10-29T00:00:00",
          "2020-10-30T00:00:00",
          "2020-11-02T00:00:00",
          "2020-11-03T00:00:00",
          "2020-11-04T00:00:00",
          "2020-11-05T00:00:00",
          "2020-11-06T00:00:00",
          "2020-11-09T00:00:00",
          "2020-11-10T00:00:00",
          "2020-11-11T00:00:00",
          "2020-11-12T00:00:00",
          "2020-11-13T00:00:00",
          "2020-11-16T00:00:00",
          "2020-11-17T00:00:00",
          "2020-11-18T00:00:00",
          "2020-11-19T00:00:00",
          "2020-11-20T00:00:00",
          "2020-11-23T00:00:00",
          "2020-11-24T00:00:00",
          "2020-11-25T00:00:00",
          "2020-11-27T00:00:00",
          "2020-11-30T00:00:00",
          "2020-12-01T00:00:00",
          "2020-12-02T00:00:00",
          "2020-12-03T00:00:00",
          "2020-12-04T00:00:00",
          "2020-12-07T00:00:00",
          "2020-12-08T00:00:00",
          "2020-12-09T00:00:00",
          "2020-12-10T00:00:00",
          "2020-12-11T00:00:00",
          "2020-12-14T00:00:00",
          "2020-12-15T00:00:00",
          "2020-12-16T00:00:00",
          "2020-12-17T00:00:00",
          "2020-12-18T00:00:00",
          "2020-12-21T00:00:00",
          "2020-12-22T00:00:00",
          "2020-12-23T00:00:00",
          "2020-12-24T00:00:00",
          "2020-12-28T00:00:00",
          "2020-12-29T00:00:00",
          "2020-12-30T00:00:00",
          "2020-12-31T00:00:00"
         ],
         "y": [
          75.0875015258789,
          74.35749816894531,
          74.94999694824219,
          74.59750366210938,
          75.79750061035156,
          77.40750122070312,
          77.5824966430664,
          79.23999786376953,
          78.16999816894531,
          77.83499908447266,
          78.80999755859375,
          79.68250274658203,
          79.14250183105469,
          79.42500305175781,
          79.80750274658203,
          79.57749938964844,
          77.23750305175781,
          79.42250061035156,
          81.08499908447266,
          80.96749877929688,
          77.37750244140625,
          77.16500091552734,
          79.7125015258789,
          80.36250305175781,
          81.30249786376953,
          80.00749969482422,
          80.38749694824219,
          79.90249633789062,
          81.80000305175781,
          81.21749877929688,
          81.23750305175781,
          79.75,
          80.90499877929688,
          80.07499694824219,
          78.26249694824219,
          74.54499816894531,
          72.0199966430664,
          73.1624984741211,
          68.37999725341797,
          68.33999633789062,
          74.70249938964844,
          72.33000183105469,
          75.68499755859375,
          73.2300033569336,
          72.25749969482422,
          66.5425033569336,
          71.33499908447266,
          68.85749816894531,
          62.057498931884766,
          69.49250030517578,
          60.5525016784668,
          63.21500015258789,
          61.66749954223633,
          61.19499969482422,
          57.310001373291016,
          56.092498779296875,
          61.720001220703125,
          61.380001068115234,
          64.61000061035156,
          61.935001373291016,
          63.70249938964844,
          63.5724983215332,
          60.227500915527344,
          61.23249816894531,
          60.352500915527344,
          65.61750030517578,
          64.85749816894531,
          66.51750183105469,
          66.99749755859375,
          68.3125,
          71.76249694824219,
          71.10749816894531,
          71.67250061035156,
          70.69999694824219,
          69.23249816894531,
          67.09249877929688,
          69.0250015258789,
          68.75749969482422,
          70.74250030517578,
          70.7925033569336,
          69.6449966430664,
          71.93250274658203,
          73.44999694824219,
          72.26750183105469,
          73.29000091552734,
          74.38999938964844,
          75.15750122070312,
          75.93499755859375,
          77.53250122070312,
          78.75250244140625,
          77.85250091552734,
          76.9124984741211,
          77.38500213623047,
          76.92749786376953,
          78.73999786376953,
          78.28500366210938,
          79.80750274658203,
          79.2125015258789,
          79.72250366210938,
          79.18250274658203,
          79.52749633789062,
          79.5625,
          79.48500061035156,
          80.4625015258789,
          80.83499908447266,
          81.27999877929688,
          80.58000183105469,
          82.875,
          83.36499786376953,
          85.99749755859375,
          88.20999908447266,
          83.9749984741211,
          84.69999694824219,
          85.74749755859375,
          88.0199966430664,
          87.89749908447266,
          87.93250274658203,
          87.43000030517578,
          89.71749877929688,
          91.63249969482422,
          90.01499938964844,
          91.20999908447266,
          88.40750122070312,
          90.44499969482422,
          91.19999694824219,
          91.02749633789062,
          91.02749633789062,
          93.4625015258789,
          93.17250061035156,
          95.34249877929688,
          95.75250244140625,
          95.91999816894531,
          95.47750091552734,
          97.05750274658203,
          97.7249984741211,
          96.52249908447266,
          96.32749938964844,
          98.35749816894531,
          97,
          97.27249908447266,
          92.84500122070312,
          92.61499786376953,
          94.80999755859375,
          93.25250244140625,
          95.04000091552734,
          96.19000244140625,
          106.26000213623047,
          108.9375,
          109.66500091552734,
          110.0625,
          113.90249633789062,
          111.11250305175781,
          112.72750091552734,
          109.375,
          113.01000213623047,
          115.01000213623047,
          114.90750122070312,
          114.60749816894531,
          115.5625,
          115.7074966430664,
          118.2750015258789,
          124.37000274658203,
          125.85749816894531,
          124.82499694824219,
          126.52249908447266,
          125.01000213623047,
          124.80750274658203,
          129.0399932861328,
          134.17999267578125,
          131.39999389648438,
          120.87999725341797,
          120.95999908447266,
          112.81999969482422,
          117.31999969482422,
          113.48999786376953,
          112,
          115.36000061035156,
          115.54000091552734,
          112.12999725341797,
          110.33999633789062,
          106.83999633789062,
          110.08000183105469,
          111.80999755859375,
          107.12000274658203,
          108.22000122070312,
          112.27999877929688,
          114.95999908447266,
          114.08999633789062,
          115.80999755859375,
          116.79000091552734,
          113.0199966430664,
          116.5,
          113.16000366210938,
          115.08000183105469,
          114.97000122070312,
          116.97000122070312,
          124.4000015258789,
          121.0999984741211,
          121.19000244140625,
          120.70999908447266,
          119.0199966430664,
          115.9800033569336,
          117.51000213623047,
          116.87000274658203,
          115.75,
          115.04000091552734,
          115.05000305175781,
          116.5999984741211,
          111.19999694824219,
          115.31999969482422,
          108.86000061035156,
          108.7699966430664,
          110.44000244140625,
          114.94999694824219,
          119.02999877929688,
          118.69000244140625,
          116.31999969482422,
          115.97000122070312,
          119.48999786376953,
          119.20999908447266,
          119.26000213623047,
          120.30000305175781,
          119.38999938964844,
          118.02999877929688,
          118.63999938964844,
          117.33999633789062,
          113.8499984741211,
          115.16999816894531,
          116.02999877929688,
          116.58999633789062,
          119.05000305175781,
          122.72000122070312,
          123.08000183105469,
          122.94000244140625,
          122.25,
          123.75,
          124.37999725341797,
          121.77999877929688,
          123.23999786376953,
          122.41000366210938,
          121.77999877929688,
          127.87999725341797,
          127.80999755859375,
          128.6999969482422,
          126.66000366210938,
          128.22999572753906,
          131.8800048828125,
          130.9600067138672,
          131.97000122070312,
          136.69000244140625,
          134.8699951171875,
          133.72000122070312,
          132.69000244140625
         ]
        },
        {
         "mode": "lines",
         "name": "Close Price of DIS",
         "type": "scatter",
         "x": [
          "2020-01-02T00:00:00",
          "2020-01-03T00:00:00",
          "2020-01-06T00:00:00",
          "2020-01-07T00:00:00",
          "2020-01-08T00:00:00",
          "2020-01-09T00:00:00",
          "2020-01-10T00:00:00",
          "2020-01-13T00:00:00",
          "2020-01-14T00:00:00",
          "2020-01-15T00:00:00",
          "2020-01-16T00:00:00",
          "2020-01-17T00:00:00",
          "2020-01-21T00:00:00",
          "2020-01-22T00:00:00",
          "2020-01-23T00:00:00",
          "2020-01-24T00:00:00",
          "2020-01-27T00:00:00",
          "2020-01-28T00:00:00",
          "2020-01-29T00:00:00",
          "2020-01-30T00:00:00",
          "2020-01-31T00:00:00",
          "2020-02-03T00:00:00",
          "2020-02-04T00:00:00",
          "2020-02-05T00:00:00",
          "2020-02-06T00:00:00",
          "2020-02-07T00:00:00",
          "2020-02-10T00:00:00",
          "2020-02-11T00:00:00",
          "2020-02-12T00:00:00",
          "2020-02-13T00:00:00",
          "2020-02-14T00:00:00",
          "2020-02-18T00:00:00",
          "2020-02-19T00:00:00",
          "2020-02-20T00:00:00",
          "2020-02-21T00:00:00",
          "2020-02-24T00:00:00",
          "2020-02-25T00:00:00",
          "2020-02-26T00:00:00",
          "2020-02-27T00:00:00",
          "2020-02-28T00:00:00",
          "2020-03-02T00:00:00",
          "2020-03-03T00:00:00",
          "2020-03-04T00:00:00",
          "2020-03-05T00:00:00",
          "2020-03-06T00:00:00",
          "2020-03-09T00:00:00",
          "2020-03-10T00:00:00",
          "2020-03-11T00:00:00",
          "2020-03-12T00:00:00",
          "2020-03-13T00:00:00",
          "2020-03-16T00:00:00",
          "2020-03-17T00:00:00",
          "2020-03-18T00:00:00",
          "2020-03-19T00:00:00",
          "2020-03-20T00:00:00",
          "2020-03-23T00:00:00",
          "2020-03-24T00:00:00",
          "2020-03-25T00:00:00",
          "2020-03-26T00:00:00",
          "2020-03-27T00:00:00",
          "2020-03-30T00:00:00",
          "2020-03-31T00:00:00",
          "2020-04-01T00:00:00",
          "2020-04-02T00:00:00",
          "2020-04-03T00:00:00",
          "2020-04-06T00:00:00",
          "2020-04-07T00:00:00",
          "2020-04-08T00:00:00",
          "2020-04-09T00:00:00",
          "2020-04-13T00:00:00",
          "2020-04-14T00:00:00",
          "2020-04-15T00:00:00",
          "2020-04-16T00:00:00",
          "2020-04-17T00:00:00",
          "2020-04-20T00:00:00",
          "2020-04-21T00:00:00",
          "2020-04-22T00:00:00",
          "2020-04-23T00:00:00",
          "2020-04-24T00:00:00",
          "2020-04-27T00:00:00",
          "2020-04-28T00:00:00",
          "2020-04-29T00:00:00",
          "2020-04-30T00:00:00",
          "2020-05-01T00:00:00",
          "2020-05-04T00:00:00",
          "2020-05-05T00:00:00",
          "2020-05-06T00:00:00",
          "2020-05-07T00:00:00",
          "2020-05-08T00:00:00",
          "2020-05-11T00:00:00",
          "2020-05-12T00:00:00",
          "2020-05-13T00:00:00",
          "2020-05-14T00:00:00",
          "2020-05-15T00:00:00",
          "2020-05-18T00:00:00",
          "2020-05-19T00:00:00",
          "2020-05-20T00:00:00",
          "2020-05-21T00:00:00",
          "2020-05-22T00:00:00",
          "2020-05-26T00:00:00",
          "2020-05-27T00:00:00",
          "2020-05-28T00:00:00",
          "2020-05-29T00:00:00",
          "2020-06-01T00:00:00",
          "2020-06-02T00:00:00",
          "2020-06-03T00:00:00",
          "2020-06-04T00:00:00",
          "2020-06-05T00:00:00",
          "2020-06-08T00:00:00",
          "2020-06-09T00:00:00",
          "2020-06-10T00:00:00",
          "2020-06-11T00:00:00",
          "2020-06-12T00:00:00",
          "2020-06-15T00:00:00",
          "2020-06-16T00:00:00",
          "2020-06-17T00:00:00",
          "2020-06-18T00:00:00",
          "2020-06-19T00:00:00",
          "2020-06-22T00:00:00",
          "2020-06-23T00:00:00",
          "2020-06-24T00:00:00",
          "2020-06-25T00:00:00",
          "2020-06-26T00:00:00",
          "2020-06-29T00:00:00",
          "2020-06-30T00:00:00",
          "2020-07-01T00:00:00",
          "2020-07-02T00:00:00",
          "2020-07-06T00:00:00",
          "2020-07-07T00:00:00",
          "2020-07-08T00:00:00",
          "2020-07-09T00:00:00",
          "2020-07-10T00:00:00",
          "2020-07-13T00:00:00",
          "2020-07-14T00:00:00",
          "2020-07-15T00:00:00",
          "2020-07-16T00:00:00",
          "2020-07-17T00:00:00",
          "2020-07-20T00:00:00",
          "2020-07-21T00:00:00",
          "2020-07-22T00:00:00",
          "2020-07-23T00:00:00",
          "2020-07-24T00:00:00",
          "2020-07-27T00:00:00",
          "2020-07-28T00:00:00",
          "2020-07-29T00:00:00",
          "2020-07-30T00:00:00",
          "2020-07-31T00:00:00",
          "2020-08-03T00:00:00",
          "2020-08-04T00:00:00",
          "2020-08-05T00:00:00",
          "2020-08-06T00:00:00",
          "2020-08-07T00:00:00",
          "2020-08-10T00:00:00",
          "2020-08-11T00:00:00",
          "2020-08-12T00:00:00",
          "2020-08-13T00:00:00",
          "2020-08-14T00:00:00",
          "2020-08-17T00:00:00",
          "2020-08-18T00:00:00",
          "2020-08-19T00:00:00",
          "2020-08-20T00:00:00",
          "2020-08-21T00:00:00",
          "2020-08-24T00:00:00",
          "2020-08-25T00:00:00",
          "2020-08-26T00:00:00",
          "2020-08-27T00:00:00",
          "2020-08-28T00:00:00",
          "2020-08-31T00:00:00",
          "2020-09-01T00:00:00",
          "2020-09-02T00:00:00",
          "2020-09-03T00:00:00",
          "2020-09-04T00:00:00",
          "2020-09-08T00:00:00",
          "2020-09-09T00:00:00",
          "2020-09-10T00:00:00",
          "2020-09-11T00:00:00",
          "2020-09-14T00:00:00",
          "2020-09-15T00:00:00",
          "2020-09-16T00:00:00",
          "2020-09-17T00:00:00",
          "2020-09-18T00:00:00",
          "2020-09-21T00:00:00",
          "2020-09-22T00:00:00",
          "2020-09-23T00:00:00",
          "2020-09-24T00:00:00",
          "2020-09-25T00:00:00",
          "2020-09-28T00:00:00",
          "2020-09-29T00:00:00",
          "2020-09-30T00:00:00",
          "2020-10-01T00:00:00",
          "2020-10-02T00:00:00",
          "2020-10-05T00:00:00",
          "2020-10-06T00:00:00",
          "2020-10-07T00:00:00",
          "2020-10-08T00:00:00",
          "2020-10-09T00:00:00",
          "2020-10-12T00:00:00",
          "2020-10-13T00:00:00",
          "2020-10-14T00:00:00",
          "2020-10-15T00:00:00",
          "2020-10-16T00:00:00",
          "2020-10-19T00:00:00",
          "2020-10-20T00:00:00",
          "2020-10-21T00:00:00",
          "2020-10-22T00:00:00",
          "2020-10-23T00:00:00",
          "2020-10-26T00:00:00",
          "2020-10-27T00:00:00",
          "2020-10-28T00:00:00",
          "2020-10-29T00:00:00",
          "2020-10-30T00:00:00",
          "2020-11-02T00:00:00",
          "2020-11-03T00:00:00",
          "2020-11-04T00:00:00",
          "2020-11-05T00:00:00",
          "2020-11-06T00:00:00",
          "2020-11-09T00:00:00",
          "2020-11-10T00:00:00",
          "2020-11-11T00:00:00",
          "2020-11-12T00:00:00",
          "2020-11-13T00:00:00",
          "2020-11-16T00:00:00",
          "2020-11-17T00:00:00",
          "2020-11-18T00:00:00",
          "2020-11-19T00:00:00",
          "2020-11-20T00:00:00",
          "2020-11-23T00:00:00",
          "2020-11-24T00:00:00",
          "2020-11-25T00:00:00",
          "2020-11-27T00:00:00",
          "2020-11-30T00:00:00",
          "2020-12-01T00:00:00",
          "2020-12-02T00:00:00",
          "2020-12-03T00:00:00",
          "2020-12-04T00:00:00",
          "2020-12-07T00:00:00",
          "2020-12-08T00:00:00",
          "2020-12-09T00:00:00",
          "2020-12-10T00:00:00",
          "2020-12-11T00:00:00",
          "2020-12-14T00:00:00",
          "2020-12-15T00:00:00",
          "2020-12-16T00:00:00",
          "2020-12-17T00:00:00",
          "2020-12-18T00:00:00",
          "2020-12-21T00:00:00",
          "2020-12-22T00:00:00",
          "2020-12-23T00:00:00",
          "2020-12-24T00:00:00",
          "2020-12-28T00:00:00",
          "2020-12-29T00:00:00",
          "2020-12-30T00:00:00",
          "2020-12-31T00:00:00"
         ],
         "y": [
          148.1999969482422,
          146.5,
          145.64999389648438,
          145.6999969482422,
          145.39999389648438,
          144.8300018310547,
          144.6199951171875,
          143.8800048828125,
          145.1999969482422,
          144.32000732421875,
          145.1199951171875,
          144.3300018310547,
          143.55999755859375,
          144.00999450683594,
          142.1999969482422,
          140.0800018310547,
          135.89999389648438,
          138.3699951171875,
          136.05999755859375,
          137.80999755859375,
          138.30999755859375,
          141.32000732421875,
          144.72999572753906,
          141.3699951171875,
          142.6999969482422,
          141.02000427246094,
          142.58999633789062,
          141.00999450683594,
          141.85000610351562,
          140.89999389648438,
          139.5399932861328,
          139.13999938964844,
          141.3000030517578,
          140.3699951171875,
          138.97000122070312,
          133.00999450683594,
          128.19000244140625,
          123.36000061035156,
          118.04000091552734,
          117.6500015258789,
          119.9800033569336,
          116.44999694824219,
          119.18000030517578,
          113.9800033569336,
          115.2699966430664,
          104.3499984741211,
          111.45999908447266,
          105.51000213623047,
          91.80999755859375,
          102.5199966430664,
          95.01000213623047,
          93.52999877929688,
          88.80000305175781,
          94.93000030517578,
          85.9800033569336,
          85.76000213623047,
          98.12000274658203,
          100.7300033569336,
          105.36000061035156,
          96.4000015258789,
          99.80000305175781,
          96.5999984741211,
          94.91999816894531,
          96.97000122070312,
          93.87999725341797,
          99.58000183105469,
          101.23999786376953,
          101.06999969482422,
          104.5,
          103.5,
          106.02999877929688,
          103.37000274658203,
          102.0199966430664,
          106.62999725341797,
          102.26000213623047,
          100.54000091552734,
          100.98999786376953,
          101,
          101.19000244140625,
          106.05999755859375,
          106.20999908447266,
          112.25,
          108.1500015258789,
          105.5,
          103.18000030517578,
          101.05999755859375,
          100.87999725341797,
          105.56999969482422,
          109.16000366210938,
          107.7699966430664,
          104.55999755859375,
          102.91999816894531,
          105.91000366210938,
          109.05000305175781,
          116.8499984741211,
          114.37000274658203,
          119.91999816894531,
          117.83000183105469,
          118.0199966430664,
          120.94999694824219,
          121.52999877929688,
          116.75,
          117.30000305175781,
          118.7699966430664,
          118.75,
          122.18000030517578,
          123.69000244140625,
          124.81999969482422,
          127.27999877929688,
          123.88999938964844,
          122.18000030517578,
          112.63999938964844,
          115.48999786376953,
          117.08000183105469,
          118.44000244140625,
          117.6500015258789,
          118.37000274658203,
          114.3499984741211,
          115.91999816894531,
          116.58999633789062,
          112.06999969482422,
          111.36000061035156,
          109.0999984741211,
          111.5199966430664,
          111.51000213623047,
          113.01000213623047,
          112.18000030517578,
          114.43000030517578,
          113.62999725341797,
          116.66000366210938,
          116.80999755859375,
          119.33999633789062,
          116.22000122070312,
          118.66000366210938,
          120.9000015258789,
          119.43000030517578,
          118.6500015258789,
          117.79000091552734,
          118.62000274658203,
          119.02999877929688,
          118.12000274658203,
          117.61000061035156,
          116.30999755859375,
          116.18000030517578,
          115.61000061035156,
          115.66000366210938,
          116.94000244140625,
          116.3499984741211,
          117.29000091552734,
          127.61000061035156,
          130.82000732421875,
          129.92999267578125,
          128.7899932861328,
          130.49000549316406,
          131.7899932861328,
          130.9600067138672,
          130.52999877929688,
          129.3699951171875,
          128.9199981689453,
          127.7699966430664,
          128.1199951171875,
          127.44000244140625,
          130.69000244140625,
          129.7899932861328,
          132.17999267578125,
          133.72999572753906,
          135.5399932861328,
          131.8699951171875,
          133.5500030517578,
          135.38999938964844,
          133.24000549316406,
          131.99000549316406,
          134.1999969482422,
          133.36000061035156,
          133.22000122070312,
          131.75,
          131.25,
          131.24000549316406,
          132.08999633789062,
          130.22000122070312,
          128.6300048828125,
          125.41000366210938,
          127.20999908447266,
          123.27999877929688,
          122.48999786376953,
          124,
          125.98999786376953,
          125.4000015258789,
          124.08000183105469,
          123.30999755859375,
          122.55000305175781,
          123.37000274658203,
          120.93000030517578,
          122.91000366210938,
          123.08999633789062,
          124.9800033569336,
          124.97000122070312,
          128.9600067138672,
          126.58999633789062,
          127.36000061035156,
          126.80999755859375,
          124.2300033569336,
          124.94999694824219,
          126.62999725341797,
          127.55999755859375,
          128.35000610351562,
          124.05999755859375,
          123.30999755859375,
          118.47000122070312,
          121.54000091552734,
          121.25,
          120.12999725341797,
          124.0199966430664,
          125.06999969482422,
          126.95999908447266,
          127.45999908447266,
          142.58999633789062,
          142.11000061035156,
          137.82000732421875,
          135.52000427246094,
          138.36000061035156,
          144.6699981689453,
          144.5,
          143.89999389648438,
          141.72000122070312,
          141.07000732421875,
          145.97999572753906,
          151.49000549316406,
          149.08999633789062,
          147.1300048828125,
          148.00999450683594,
          149.44000244140625,
          153.61000061035156,
          153.24000549316406,
          154.13999938964844,
          153.67999267578125,
          153.72000122070312,
          154.42999267578125,
          154.69000244140625,
          175.72000122070312,
          169.3000030517578,
          173.94000244140625,
          173.1199951171875,
          173.5500030517578,
          172.88999938964844,
          170.69000244140625,
          170.4499969482422,
          173.5500030517578,
          173.72999572753906,
          178.86000061035156,
          177.3000030517578,
          181.1699981689453,
          181.17999267578125
         ]
        },
        {
         "mode": "lines",
         "name": "Close Price of MSFT",
         "type": "scatter",
         "x": [
          "2020-01-02T00:00:00",
          "2020-01-03T00:00:00",
          "2020-01-06T00:00:00",
          "2020-01-07T00:00:00",
          "2020-01-08T00:00:00",
          "2020-01-09T00:00:00",
          "2020-01-10T00:00:00",
          "2020-01-13T00:00:00",
          "2020-01-14T00:00:00",
          "2020-01-15T00:00:00",
          "2020-01-16T00:00:00",
          "2020-01-17T00:00:00",
          "2020-01-21T00:00:00",
          "2020-01-22T00:00:00",
          "2020-01-23T00:00:00",
          "2020-01-24T00:00:00",
          "2020-01-27T00:00:00",
          "2020-01-28T00:00:00",
          "2020-01-29T00:00:00",
          "2020-01-30T00:00:00",
          "2020-01-31T00:00:00",
          "2020-02-03T00:00:00",
          "2020-02-04T00:00:00",
          "2020-02-05T00:00:00",
          "2020-02-06T00:00:00",
          "2020-02-07T00:00:00",
          "2020-02-10T00:00:00",
          "2020-02-11T00:00:00",
          "2020-02-12T00:00:00",
          "2020-02-13T00:00:00",
          "2020-02-14T00:00:00",
          "2020-02-18T00:00:00",
          "2020-02-19T00:00:00",
          "2020-02-20T00:00:00",
          "2020-02-21T00:00:00",
          "2020-02-24T00:00:00",
          "2020-02-25T00:00:00",
          "2020-02-26T00:00:00",
          "2020-02-27T00:00:00",
          "2020-02-28T00:00:00",
          "2020-03-02T00:00:00",
          "2020-03-03T00:00:00",
          "2020-03-04T00:00:00",
          "2020-03-05T00:00:00",
          "2020-03-06T00:00:00",
          "2020-03-09T00:00:00",
          "2020-03-10T00:00:00",
          "2020-03-11T00:00:00",
          "2020-03-12T00:00:00",
          "2020-03-13T00:00:00",
          "2020-03-16T00:00:00",
          "2020-03-17T00:00:00",
          "2020-03-18T00:00:00",
          "2020-03-19T00:00:00",
          "2020-03-20T00:00:00",
          "2020-03-23T00:00:00",
          "2020-03-24T00:00:00",
          "2020-03-25T00:00:00",
          "2020-03-26T00:00:00",
          "2020-03-27T00:00:00",
          "2020-03-30T00:00:00",
          "2020-03-31T00:00:00",
          "2020-04-01T00:00:00",
          "2020-04-02T00:00:00",
          "2020-04-03T00:00:00",
          "2020-04-06T00:00:00",
          "2020-04-07T00:00:00",
          "2020-04-08T00:00:00",
          "2020-04-09T00:00:00",
          "2020-04-13T00:00:00",
          "2020-04-14T00:00:00",
          "2020-04-15T00:00:00",
          "2020-04-16T00:00:00",
          "2020-04-17T00:00:00",
          "2020-04-20T00:00:00",
          "2020-04-21T00:00:00",
          "2020-04-22T00:00:00",
          "2020-04-23T00:00:00",
          "2020-04-24T00:00:00",
          "2020-04-27T00:00:00",
          "2020-04-28T00:00:00",
          "2020-04-29T00:00:00",
          "2020-04-30T00:00:00",
          "2020-05-01T00:00:00",
          "2020-05-04T00:00:00",
          "2020-05-05T00:00:00",
          "2020-05-06T00:00:00",
          "2020-05-07T00:00:00",
          "2020-05-08T00:00:00",
          "2020-05-11T00:00:00",
          "2020-05-12T00:00:00",
          "2020-05-13T00:00:00",
          "2020-05-14T00:00:00",
          "2020-05-15T00:00:00",
          "2020-05-18T00:00:00",
          "2020-05-19T00:00:00",
          "2020-05-20T00:00:00",
          "2020-05-21T00:00:00",
          "2020-05-22T00:00:00",
          "2020-05-26T00:00:00",
          "2020-05-27T00:00:00",
          "2020-05-28T00:00:00",
          "2020-05-29T00:00:00",
          "2020-06-01T00:00:00",
          "2020-06-02T00:00:00",
          "2020-06-03T00:00:00",
          "2020-06-04T00:00:00",
          "2020-06-05T00:00:00",
          "2020-06-08T00:00:00",
          "2020-06-09T00:00:00",
          "2020-06-10T00:00:00",
          "2020-06-11T00:00:00",
          "2020-06-12T00:00:00",
          "2020-06-15T00:00:00",
          "2020-06-16T00:00:00",
          "2020-06-17T00:00:00",
          "2020-06-18T00:00:00",
          "2020-06-19T00:00:00",
          "2020-06-22T00:00:00",
          "2020-06-23T00:00:00",
          "2020-06-24T00:00:00",
          "2020-06-25T00:00:00",
          "2020-06-26T00:00:00",
          "2020-06-29T00:00:00",
          "2020-06-30T00:00:00",
          "2020-07-01T00:00:00",
          "2020-07-02T00:00:00",
          "2020-07-06T00:00:00",
          "2020-07-07T00:00:00",
          "2020-07-08T00:00:00",
          "2020-07-09T00:00:00",
          "2020-07-10T00:00:00",
          "2020-07-13T00:00:00",
          "2020-07-14T00:00:00",
          "2020-07-15T00:00:00",
          "2020-07-16T00:00:00",
          "2020-07-17T00:00:00",
          "2020-07-20T00:00:00",
          "2020-07-21T00:00:00",
          "2020-07-22T00:00:00",
          "2020-07-23T00:00:00",
          "2020-07-24T00:00:00",
          "2020-07-27T00:00:00",
          "2020-07-28T00:00:00",
          "2020-07-29T00:00:00",
          "2020-07-30T00:00:00",
          "2020-07-31T00:00:00",
          "2020-08-03T00:00:00",
          "2020-08-04T00:00:00",
          "2020-08-05T00:00:00",
          "2020-08-06T00:00:00",
          "2020-08-07T00:00:00",
          "2020-08-10T00:00:00",
          "2020-08-11T00:00:00",
          "2020-08-12T00:00:00",
          "2020-08-13T00:00:00",
          "2020-08-14T00:00:00",
          "2020-08-17T00:00:00",
          "2020-08-18T00:00:00",
          "2020-08-19T00:00:00",
          "2020-08-20T00:00:00",
          "2020-08-21T00:00:00",
          "2020-08-24T00:00:00",
          "2020-08-25T00:00:00",
          "2020-08-26T00:00:00",
          "2020-08-27T00:00:00",
          "2020-08-28T00:00:00",
          "2020-08-31T00:00:00",
          "2020-09-01T00:00:00",
          "2020-09-02T00:00:00",
          "2020-09-03T00:00:00",
          "2020-09-04T00:00:00",
          "2020-09-08T00:00:00",
          "2020-09-09T00:00:00",
          "2020-09-10T00:00:00",
          "2020-09-11T00:00:00",
          "2020-09-14T00:00:00",
          "2020-09-15T00:00:00",
          "2020-09-16T00:00:00",
          "2020-09-17T00:00:00",
          "2020-09-18T00:00:00",
          "2020-09-21T00:00:00",
          "2020-09-22T00:00:00",
          "2020-09-23T00:00:00",
          "2020-09-24T00:00:00",
          "2020-09-25T00:00:00",
          "2020-09-28T00:00:00",
          "2020-09-29T00:00:00",
          "2020-09-30T00:00:00",
          "2020-10-01T00:00:00",
          "2020-10-02T00:00:00",
          "2020-10-05T00:00:00",
          "2020-10-06T00:00:00",
          "2020-10-07T00:00:00",
          "2020-10-08T00:00:00",
          "2020-10-09T00:00:00",
          "2020-10-12T00:00:00",
          "2020-10-13T00:00:00",
          "2020-10-14T00:00:00",
          "2020-10-15T00:00:00",
          "2020-10-16T00:00:00",
          "2020-10-19T00:00:00",
          "2020-10-20T00:00:00",
          "2020-10-21T00:00:00",
          "2020-10-22T00:00:00",
          "2020-10-23T00:00:00",
          "2020-10-26T00:00:00",
          "2020-10-27T00:00:00",
          "2020-10-28T00:00:00",
          "2020-10-29T00:00:00",
          "2020-10-30T00:00:00",
          "2020-11-02T00:00:00",
          "2020-11-03T00:00:00",
          "2020-11-04T00:00:00",
          "2020-11-05T00:00:00",
          "2020-11-06T00:00:00",
          "2020-11-09T00:00:00",
          "2020-11-10T00:00:00",
          "2020-11-11T00:00:00",
          "2020-11-12T00:00:00",
          "2020-11-13T00:00:00",
          "2020-11-16T00:00:00",
          "2020-11-17T00:00:00",
          "2020-11-18T00:00:00",
          "2020-11-19T00:00:00",
          "2020-11-20T00:00:00",
          "2020-11-23T00:00:00",
          "2020-11-24T00:00:00",
          "2020-11-25T00:00:00",
          "2020-11-27T00:00:00",
          "2020-11-30T00:00:00",
          "2020-12-01T00:00:00",
          "2020-12-02T00:00:00",
          "2020-12-03T00:00:00",
          "2020-12-04T00:00:00",
          "2020-12-07T00:00:00",
          "2020-12-08T00:00:00",
          "2020-12-09T00:00:00",
          "2020-12-10T00:00:00",
          "2020-12-11T00:00:00",
          "2020-12-14T00:00:00",
          "2020-12-15T00:00:00",
          "2020-12-16T00:00:00",
          "2020-12-17T00:00:00",
          "2020-12-18T00:00:00",
          "2020-12-21T00:00:00",
          "2020-12-22T00:00:00",
          "2020-12-23T00:00:00",
          "2020-12-24T00:00:00",
          "2020-12-28T00:00:00",
          "2020-12-29T00:00:00",
          "2020-12-30T00:00:00",
          "2020-12-31T00:00:00"
         ],
         "y": [
          160.6199951171875,
          158.6199951171875,
          159.02999877929688,
          157.5800018310547,
          160.08999633789062,
          162.08999633789062,
          161.33999633789062,
          163.27999877929688,
          162.1300048828125,
          163.17999267578125,
          166.1699981689453,
          167.10000610351562,
          166.5,
          165.6999969482422,
          166.72000122070312,
          165.0399932861328,
          162.27999877929688,
          165.4600067138672,
          168.0399932861328,
          172.77999877929688,
          170.22999572753906,
          174.3800048828125,
          180.1199951171875,
          179.89999389648438,
          183.6300048828125,
          183.88999938964844,
          188.6999969482422,
          184.44000244140625,
          184.7100067138672,
          183.7100067138672,
          185.35000610351562,
          187.22999572753906,
          187.27999877929688,
          184.4199981689453,
          178.58999633789062,
          170.88999938964844,
          168.07000732421875,
          170.1699981689453,
          158.17999267578125,
          162.00999450683594,
          172.7899932861328,
          164.50999450683594,
          170.5500030517578,
          166.27000427246094,
          161.57000732421875,
          150.6199951171875,
          160.9199981689453,
          153.6300048828125,
          139.05999755859375,
          158.8300018310547,
          135.4199981689453,
          146.57000732421875,
          140.39999389648438,
          142.7100067138672,
          137.35000610351562,
          135.97999572753906,
          148.33999633789062,
          146.9199981689453,
          156.11000061035156,
          149.6999969482422,
          160.22999572753906,
          157.7100067138672,
          152.11000061035156,
          155.25999450683594,
          153.8300018310547,
          165.27000427246094,
          163.49000549316406,
          165.1300048828125,
          165.13999938964844,
          165.50999450683594,
          173.6999969482422,
          171.8800048828125,
          177.0399932861328,
          178.60000610351562,
          175.05999755859375,
          167.82000732421875,
          173.52000427246094,
          171.4199981689453,
          174.5500030517578,
          174.0500030517578,
          169.80999755859375,
          177.42999267578125,
          179.2100067138672,
          174.57000732421875,
          178.83999633789062,
          180.75999450683594,
          182.5399932861328,
          183.60000610351562,
          184.67999267578125,
          186.74000549316406,
          182.50999450683594,
          179.75,
          180.52999877929688,
          183.16000366210938,
          184.91000366210938,
          183.6300048828125,
          185.66000366210938,
          183.42999267578125,
          183.50999450683594,
          181.57000732421875,
          181.80999755859375,
          181.39999389648438,
          183.25,
          182.8300018310547,
          184.91000366210938,
          185.36000061035156,
          182.9199981689453,
          187.1999969482422,
          188.36000061035156,
          189.8000030517578,
          196.83999633789062,
          186.27000427246094,
          187.74000549316406,
          188.94000244140625,
          193.57000732421875,
          194.24000549316406,
          196.32000732421875,
          195.14999389648438,
          200.57000732421875,
          201.91000366210938,
          197.83999633789062,
          200.33999633789062,
          196.3300018310547,
          198.44000244140625,
          203.50999450683594,
          204.6999969482422,
          206.25999450683594,
          210.6999969482422,
          208.25,
          212.8300018310547,
          214.32000732421875,
          213.6699981689453,
          207.07000732421875,
          208.35000610351562,
          208.0399932861328,
          203.9199981689453,
          202.8800048828125,
          211.60000610351562,
          208.75,
          211.75,
          202.5399932861328,
          201.3000030517578,
          203.85000610351562,
          202.02000427246094,
          204.05999755859375,
          203.89999389648438,
          205.00999450683594,
          216.5399932861328,
          213.2899932861328,
          212.94000244140625,
          216.35000610351562,
          212.47999572753906,
          208.25,
          203.3800048828125,
          209.19000244140625,
          208.6999969482422,
          208.89999389648438,
          210.27999877929688,
          211.49000549316406,
          209.6999969482422,
          214.5800018310547,
          213.02000427246094,
          213.69000244140625,
          216.47000122070312,
          221.14999389648438,
          226.5800018310547,
          228.91000366210938,
          225.52999877929688,
          227.27000427246094,
          231.64999389648438,
          217.3000030517578,
          214.25,
          202.66000366210938,
          211.2899932861328,
          205.3699951171875,
          204.02999877929688,
          205.41000366210938,
          208.77999877929688,
          205.0500030517578,
          202.91000366210938,
          200.38999938964844,
          202.5399932861328,
          207.4199981689453,
          200.58999633789062,
          203.19000244140625,
          207.82000732421875,
          209.44000244140625,
          207.25999450683594,
          210.3300018310547,
          212.4600067138672,
          206.19000244140625,
          210.3800048828125,
          205.91000366210938,
          209.8300018310547,
          210.5800018310547,
          215.80999755859375,
          221.39999389648438,
          222.86000061035156,
          220.86000061035156,
          219.66000366210938,
          219.66000366210938,
          214.22000122070312,
          214.64999389648438,
          214.8000030517578,
          214.88999938964844,
          216.22999572753906,
          210.0800018310547,
          213.25,
          202.67999267578125,
          204.72000122070312,
          202.47000122070312,
          202.3300018310547,
          206.42999267578125,
          216.38999938964844,
          223.2899932861328,
          223.72000122070312,
          218.38999938964844,
          211.00999450683594,
          216.5500030517578,
          215.44000244140625,
          216.50999450683594,
          217.22999572753906,
          214.4600067138672,
          211.0800018310547,
          212.4199981689453,
          210.38999938964844,
          210.11000061035156,
          213.86000061035156,
          213.8699951171875,
          215.22999572753906,
          214.07000732421875,
          216.2100067138672,
          215.3699951171875,
          214.24000549316406,
          214.36000061035156,
          214.2899932861328,
          216.00999450683594,
          211.8000030517578,
          210.52000427246094,
          213.25999450683594,
          214.1999969482422,
          214.1300048828125,
          219.27999877929688,
          219.4199981689453,
          218.58999633789062,
          222.58999633789062,
          223.94000244140625,
          221.02000427246094,
          222.75,
          224.9600067138672,
          224.14999389648438,
          221.67999267578125,
          222.4199981689453
         ]
        }
       ],
       "layout": {
        "template": {
         "data": {
          "bar": [
           {
            "error_x": {
             "color": "#2a3f5f"
            },
            "error_y": {
             "color": "#2a3f5f"
            },
            "marker": {
             "line": {
              "color": "#E5ECF6",
              "width": 0.5
             }
            },
            "type": "bar"
           }
          ],
          "barpolar": [
           {
            "marker": {
             "line": {
              "color": "#E5ECF6",
              "width": 0.5
             }
            },
            "type": "barpolar"
           }
          ],
          "carpet": [
           {
            "aaxis": {
             "endlinecolor": "#2a3f5f",
             "gridcolor": "white",
             "linecolor": "white",
             "minorgridcolor": "white",
             "startlinecolor": "#2a3f5f"
            },
            "baxis": {
             "endlinecolor": "#2a3f5f",
             "gridcolor": "white",
             "linecolor": "white",
             "minorgridcolor": "white",
             "startlinecolor": "#2a3f5f"
            },
            "type": "carpet"
           }
          ],
          "choropleth": [
           {
            "colorbar": {
             "outlinewidth": 0,
             "ticks": ""
            },
            "type": "choropleth"
           }
          ],
          "contour": [
           {
            "colorbar": {
             "outlinewidth": 0,
             "ticks": ""
            },
            "colorscale": [
             [
              0,
              "#0d0887"
             ],
             [
              0.1111111111111111,
              "#46039f"
             ],
             [
              0.2222222222222222,
              "#7201a8"
             ],
             [
              0.3333333333333333,
              "#9c179e"
             ],
             [
              0.4444444444444444,
              "#bd3786"
             ],
             [
              0.5555555555555556,
              "#d8576b"
             ],
             [
              0.6666666666666666,
              "#ed7953"
             ],
             [
              0.7777777777777778,
              "#fb9f3a"
             ],
             [
              0.8888888888888888,
              "#fdca26"
             ],
             [
              1,
              "#f0f921"
             ]
            ],
            "type": "contour"
           }
          ],
          "contourcarpet": [
           {
            "colorbar": {
             "outlinewidth": 0,
             "ticks": ""
            },
            "type": "contourcarpet"
           }
          ],
          "heatmap": [
           {
            "colorbar": {
             "outlinewidth": 0,
             "ticks": ""
            },
            "colorscale": [
             [
              0,
              "#0d0887"
             ],
             [
              0.1111111111111111,
              "#46039f"
             ],
             [
              0.2222222222222222,
              "#7201a8"
             ],
             [
              0.3333333333333333,
              "#9c179e"
             ],
             [
              0.4444444444444444,
              "#bd3786"
             ],
             [
              0.5555555555555556,
              "#d8576b"
             ],
             [
              0.6666666666666666,
              "#ed7953"
             ],
             [
              0.7777777777777778,
              "#fb9f3a"
             ],
             [
              0.8888888888888888,
              "#fdca26"
             ],
             [
              1,
              "#f0f921"
             ]
            ],
            "type": "heatmap"
           }
          ],
          "heatmapgl": [
           {
            "colorbar": {
             "outlinewidth": 0,
             "ticks": ""
            },
            "colorscale": [
             [
              0,
              "#0d0887"
             ],
             [
              0.1111111111111111,
              "#46039f"
             ],
             [
              0.2222222222222222,
              "#7201a8"
             ],
             [
              0.3333333333333333,
              "#9c179e"
             ],
             [
              0.4444444444444444,
              "#bd3786"
             ],
             [
              0.5555555555555556,
              "#d8576b"
             ],
             [
              0.6666666666666666,
              "#ed7953"
             ],
             [
              0.7777777777777778,
              "#fb9f3a"
             ],
             [
              0.8888888888888888,
              "#fdca26"
             ],
             [
              1,
              "#f0f921"
             ]
            ],
            "type": "heatmapgl"
           }
          ],
          "histogram": [
           {
            "marker": {
             "colorbar": {
              "outlinewidth": 0,
              "ticks": ""
             }
            },
            "type": "histogram"
           }
          ],
          "histogram2d": [
           {
            "colorbar": {
             "outlinewidth": 0,
             "ticks": ""
            },
            "colorscale": [
             [
              0,
              "#0d0887"
             ],
             [
              0.1111111111111111,
              "#46039f"
             ],
             [
              0.2222222222222222,
              "#7201a8"
             ],
             [
              0.3333333333333333,
              "#9c179e"
             ],
             [
              0.4444444444444444,
              "#bd3786"
             ],
             [
              0.5555555555555556,
              "#d8576b"
             ],
             [
              0.6666666666666666,
              "#ed7953"
             ],
             [
              0.7777777777777778,
              "#fb9f3a"
             ],
             [
              0.8888888888888888,
              "#fdca26"
             ],
             [
              1,
              "#f0f921"
             ]
            ],
            "type": "histogram2d"
           }
          ],
          "histogram2dcontour": [
           {
            "colorbar": {
             "outlinewidth": 0,
             "ticks": ""
            },
            "colorscale": [
             [
              0,
              "#0d0887"
             ],
             [
              0.1111111111111111,
              "#46039f"
             ],
             [
              0.2222222222222222,
              "#7201a8"
             ],
             [
              0.3333333333333333,
              "#9c179e"
             ],
             [
              0.4444444444444444,
              "#bd3786"
             ],
             [
              0.5555555555555556,
              "#d8576b"
             ],
             [
              0.6666666666666666,
              "#ed7953"
             ],
             [
              0.7777777777777778,
              "#fb9f3a"
             ],
             [
              0.8888888888888888,
              "#fdca26"
             ],
             [
              1,
              "#f0f921"
             ]
            ],
            "type": "histogram2dcontour"
           }
          ],
          "mesh3d": [
           {
            "colorbar": {
             "outlinewidth": 0,
             "ticks": ""
            },
            "type": "mesh3d"
           }
          ],
          "parcoords": [
           {
            "line": {
             "colorbar": {
              "outlinewidth": 0,
              "ticks": ""
             }
            },
            "type": "parcoords"
           }
          ],
          "pie": [
           {
            "automargin": true,
            "type": "pie"
           }
          ],
          "scatter": [
           {
            "marker": {
             "colorbar": {
              "outlinewidth": 0,
              "ticks": ""
             }
            },
            "type": "scatter"
           }
          ],
          "scatter3d": [
           {
            "line": {
             "colorbar": {
              "outlinewidth": 0,
              "ticks": ""
             }
            },
            "marker": {
             "colorbar": {
              "outlinewidth": 0,
              "ticks": ""
             }
            },
            "type": "scatter3d"
           }
          ],
          "scattercarpet": [
           {
            "marker": {
             "colorbar": {
              "outlinewidth": 0,
              "ticks": ""
             }
            },
            "type": "scattercarpet"
           }
          ],
          "scattergeo": [
           {
            "marker": {
             "colorbar": {
              "outlinewidth": 0,
              "ticks": ""
             }
            },
            "type": "scattergeo"
           }
          ],
          "scattergl": [
           {
            "marker": {
             "colorbar": {
              "outlinewidth": 0,
              "ticks": ""
             }
            },
            "type": "scattergl"
           }
          ],
          "scattermapbox": [
           {
            "marker": {
             "colorbar": {
              "outlinewidth": 0,
              "ticks": ""
             }
            },
            "type": "scattermapbox"
           }
          ],
          "scatterpolar": [
           {
            "marker": {
             "colorbar": {
              "outlinewidth": 0,
              "ticks": ""
             }
            },
            "type": "scatterpolar"
           }
          ],
          "scatterpolargl": [
           {
            "marker": {
             "colorbar": {
              "outlinewidth": 0,
              "ticks": ""
             }
            },
            "type": "scatterpolargl"
           }
          ],
          "scatterternary": [
           {
            "marker": {
             "colorbar": {
              "outlinewidth": 0,
              "ticks": ""
             }
            },
            "type": "scatterternary"
           }
          ],
          "surface": [
           {
            "colorbar": {
             "outlinewidth": 0,
             "ticks": ""
            },
            "colorscale": [
             [
              0,
              "#0d0887"
             ],
             [
              0.1111111111111111,
              "#46039f"
             ],
             [
              0.2222222222222222,
              "#7201a8"
             ],
             [
              0.3333333333333333,
              "#9c179e"
             ],
             [
              0.4444444444444444,
              "#bd3786"
             ],
             [
              0.5555555555555556,
              "#d8576b"
             ],
             [
              0.6666666666666666,
              "#ed7953"
             ],
             [
              0.7777777777777778,
              "#fb9f3a"
             ],
             [
              0.8888888888888888,
              "#fdca26"
             ],
             [
              1,
              "#f0f921"
             ]
            ],
            "type": "surface"
           }
          ],
          "table": [
           {
            "cells": {
             "fill": {
              "color": "#EBF0F8"
             },
             "line": {
              "color": "white"
             }
            },
            "header": {
             "fill": {
              "color": "#C8D4E3"
             },
             "line": {
              "color": "white"
             }
            },
            "type": "table"
           }
          ]
         },
         "layout": {
          "annotationdefaults": {
           "arrowcolor": "#2a3f5f",
           "arrowhead": 0,
           "arrowwidth": 1
          },
          "coloraxis": {
           "colorbar": {
            "outlinewidth": 0,
            "ticks": ""
           }
          },
          "colorscale": {
           "diverging": [
            [
             0,
             "#8e0152"
            ],
            [
             0.1,
             "#c51b7d"
            ],
            [
             0.2,
             "#de77ae"
            ],
            [
             0.3,
             "#f1b6da"
            ],
            [
             0.4,
             "#fde0ef"
            ],
            [
             0.5,
             "#f7f7f7"
            ],
            [
             0.6,
             "#e6f5d0"
            ],
            [
             0.7,
             "#b8e186"
            ],
            [
             0.8,
             "#7fbc41"
            ],
            [
             0.9,
             "#4d9221"
            ],
            [
             1,
             "#276419"
            ]
           ],
           "sequential": [
            [
             0,
             "#0d0887"
            ],
            [
             0.1111111111111111,
             "#46039f"
            ],
            [
             0.2222222222222222,
             "#7201a8"
            ],
            [
             0.3333333333333333,
             "#9c179e"
            ],
            [
             0.4444444444444444,
             "#bd3786"
            ],
            [
             0.5555555555555556,
             "#d8576b"
            ],
            [
             0.6666666666666666,
             "#ed7953"
            ],
            [
             0.7777777777777778,
             "#fb9f3a"
            ],
            [
             0.8888888888888888,
             "#fdca26"
            ],
            [
             1,
             "#f0f921"
            ]
           ],
           "sequentialminus": [
            [
             0,
             "#0d0887"
            ],
            [
             0.1111111111111111,
             "#46039f"
            ],
            [
             0.2222222222222222,
             "#7201a8"
            ],
            [
             0.3333333333333333,
             "#9c179e"
            ],
            [
             0.4444444444444444,
             "#bd3786"
            ],
            [
             0.5555555555555556,
             "#d8576b"
            ],
            [
             0.6666666666666666,
             "#ed7953"
            ],
            [
             0.7777777777777778,
             "#fb9f3a"
            ],
            [
             0.8888888888888888,
             "#fdca26"
            ],
            [
             1,
             "#f0f921"
            ]
           ]
          },
          "colorway": [
           "#636efa",
           "#EF553B",
           "#00cc96",
           "#ab63fa",
           "#FFA15A",
           "#19d3f3",
           "#FF6692",
           "#B6E880",
           "#FF97FF",
           "#FECB52"
          ],
          "font": {
           "color": "#2a3f5f"
          },
          "geo": {
           "bgcolor": "white",
           "lakecolor": "white",
           "landcolor": "#E5ECF6",
           "showlakes": true,
           "showland": true,
           "subunitcolor": "white"
          },
          "hoverlabel": {
           "align": "left"
          },
          "hovermode": "closest",
          "mapbox": {
           "style": "light"
          },
          "paper_bgcolor": "white",
          "plot_bgcolor": "#E5ECF6",
          "polar": {
           "angularaxis": {
            "gridcolor": "white",
            "linecolor": "white",
            "ticks": ""
           },
           "bgcolor": "#E5ECF6",
           "radialaxis": {
            "gridcolor": "white",
            "linecolor": "white",
            "ticks": ""
           }
          },
          "scene": {
           "xaxis": {
            "backgroundcolor": "#E5ECF6",
            "gridcolor": "white",
            "gridwidth": 2,
            "linecolor": "white",
            "showbackground": true,
            "ticks": "",
            "zerolinecolor": "white"
           },
           "yaxis": {
            "backgroundcolor": "#E5ECF6",
            "gridcolor": "white",
            "gridwidth": 2,
            "linecolor": "white",
            "showbackground": true,
            "ticks": "",
            "zerolinecolor": "white"
           },
           "zaxis": {
            "backgroundcolor": "#E5ECF6",
            "gridcolor": "white",
            "gridwidth": 2,
            "linecolor": "white",
            "showbackground": true,
            "ticks": "",
            "zerolinecolor": "white"
           }
          },
          "shapedefaults": {
           "line": {
            "color": "#2a3f5f"
           }
          },
          "ternary": {
           "aaxis": {
            "gridcolor": "white",
            "linecolor": "white",
            "ticks": ""
           },
           "baxis": {
            "gridcolor": "white",
            "linecolor": "white",
            "ticks": ""
           },
           "bgcolor": "#E5ECF6",
           "caxis": {
            "gridcolor": "white",
            "linecolor": "white",
            "ticks": ""
           }
          },
          "title": {
           "x": 0.05
          },
          "xaxis": {
           "automargin": true,
           "gridcolor": "white",
           "linecolor": "white",
           "ticks": "",
           "title": {
            "standoff": 15
           },
           "zerolinecolor": "white",
           "zerolinewidth": 2
          },
          "yaxis": {
           "automargin": true,
           "gridcolor": "white",
           "linecolor": "white",
           "ticks": "",
           "title": {
            "standoff": 15
           },
           "zerolinecolor": "white",
           "zerolinewidth": 2
          }
         }
        },
        "title": {
         "text": "Comparison of Close Prices Between Stocks"
        }
       }
      },
      "text/html": [
       "<div>\n",
       "        \n",
       "        \n",
       "            <div id=\"c5935342-ec03-40a0-9783-7088d4f32151\" class=\"plotly-graph-div\" style=\"height:525px; width:100%;\"></div>\n",
       "            <script type=\"text/javascript\">\n",
       "                require([\"plotly\"], function(Plotly) {\n",
       "                    window.PLOTLYENV=window.PLOTLYENV || {};\n",
       "                    \n",
       "                if (document.getElementById(\"c5935342-ec03-40a0-9783-7088d4f32151\")) {\n",
       "                    Plotly.newPlot(\n",
       "                        'c5935342-ec03-40a0-9783-7088d4f32151',\n",
       "                        [{\"mode\": \"lines\", \"name\": \"Close Price of AAPL\", \"type\": \"scatter\", \"x\": [\"2020-01-02T00:00:00\", \"2020-01-03T00:00:00\", \"2020-01-06T00:00:00\", \"2020-01-07T00:00:00\", \"2020-01-08T00:00:00\", \"2020-01-09T00:00:00\", \"2020-01-10T00:00:00\", \"2020-01-13T00:00:00\", \"2020-01-14T00:00:00\", \"2020-01-15T00:00:00\", \"2020-01-16T00:00:00\", \"2020-01-17T00:00:00\", \"2020-01-21T00:00:00\", \"2020-01-22T00:00:00\", \"2020-01-23T00:00:00\", \"2020-01-24T00:00:00\", \"2020-01-27T00:00:00\", \"2020-01-28T00:00:00\", \"2020-01-29T00:00:00\", \"2020-01-30T00:00:00\", \"2020-01-31T00:00:00\", \"2020-02-03T00:00:00\", \"2020-02-04T00:00:00\", \"2020-02-05T00:00:00\", \"2020-02-06T00:00:00\", \"2020-02-07T00:00:00\", \"2020-02-10T00:00:00\", \"2020-02-11T00:00:00\", \"2020-02-12T00:00:00\", \"2020-02-13T00:00:00\", \"2020-02-14T00:00:00\", \"2020-02-18T00:00:00\", \"2020-02-19T00:00:00\", \"2020-02-20T00:00:00\", \"2020-02-21T00:00:00\", \"2020-02-24T00:00:00\", \"2020-02-25T00:00:00\", \"2020-02-26T00:00:00\", \"2020-02-27T00:00:00\", \"2020-02-28T00:00:00\", \"2020-03-02T00:00:00\", \"2020-03-03T00:00:00\", \"2020-03-04T00:00:00\", \"2020-03-05T00:00:00\", \"2020-03-06T00:00:00\", \"2020-03-09T00:00:00\", \"2020-03-10T00:00:00\", \"2020-03-11T00:00:00\", \"2020-03-12T00:00:00\", \"2020-03-13T00:00:00\", \"2020-03-16T00:00:00\", \"2020-03-17T00:00:00\", \"2020-03-18T00:00:00\", \"2020-03-19T00:00:00\", \"2020-03-20T00:00:00\", \"2020-03-23T00:00:00\", \"2020-03-24T00:00:00\", \"2020-03-25T00:00:00\", \"2020-03-26T00:00:00\", \"2020-03-27T00:00:00\", \"2020-03-30T00:00:00\", \"2020-03-31T00:00:00\", \"2020-04-01T00:00:00\", \"2020-04-02T00:00:00\", \"2020-04-03T00:00:00\", \"2020-04-06T00:00:00\", \"2020-04-07T00:00:00\", \"2020-04-08T00:00:00\", \"2020-04-09T00:00:00\", \"2020-04-13T00:00:00\", \"2020-04-14T00:00:00\", \"2020-04-15T00:00:00\", \"2020-04-16T00:00:00\", \"2020-04-17T00:00:00\", \"2020-04-20T00:00:00\", \"2020-04-21T00:00:00\", \"2020-04-22T00:00:00\", \"2020-04-23T00:00:00\", \"2020-04-24T00:00:00\", \"2020-04-27T00:00:00\", \"2020-04-28T00:00:00\", \"2020-04-29T00:00:00\", \"2020-04-30T00:00:00\", \"2020-05-01T00:00:00\", \"2020-05-04T00:00:00\", \"2020-05-05T00:00:00\", \"2020-05-06T00:00:00\", \"2020-05-07T00:00:00\", \"2020-05-08T00:00:00\", \"2020-05-11T00:00:00\", \"2020-05-12T00:00:00\", \"2020-05-13T00:00:00\", \"2020-05-14T00:00:00\", \"2020-05-15T00:00:00\", \"2020-05-18T00:00:00\", \"2020-05-19T00:00:00\", \"2020-05-20T00:00:00\", \"2020-05-21T00:00:00\", \"2020-05-22T00:00:00\", \"2020-05-26T00:00:00\", \"2020-05-27T00:00:00\", \"2020-05-28T00:00:00\", \"2020-05-29T00:00:00\", \"2020-06-01T00:00:00\", \"2020-06-02T00:00:00\", \"2020-06-03T00:00:00\", \"2020-06-04T00:00:00\", \"2020-06-05T00:00:00\", \"2020-06-08T00:00:00\", \"2020-06-09T00:00:00\", \"2020-06-10T00:00:00\", \"2020-06-11T00:00:00\", \"2020-06-12T00:00:00\", \"2020-06-15T00:00:00\", \"2020-06-16T00:00:00\", \"2020-06-17T00:00:00\", \"2020-06-18T00:00:00\", \"2020-06-19T00:00:00\", \"2020-06-22T00:00:00\", \"2020-06-23T00:00:00\", \"2020-06-24T00:00:00\", \"2020-06-25T00:00:00\", \"2020-06-26T00:00:00\", \"2020-06-29T00:00:00\", \"2020-06-30T00:00:00\", \"2020-07-01T00:00:00\", \"2020-07-02T00:00:00\", \"2020-07-06T00:00:00\", \"2020-07-07T00:00:00\", \"2020-07-08T00:00:00\", \"2020-07-09T00:00:00\", \"2020-07-10T00:00:00\", \"2020-07-13T00:00:00\", \"2020-07-14T00:00:00\", \"2020-07-15T00:00:00\", \"2020-07-16T00:00:00\", \"2020-07-17T00:00:00\", \"2020-07-20T00:00:00\", \"2020-07-21T00:00:00\", \"2020-07-22T00:00:00\", \"2020-07-23T00:00:00\", \"2020-07-24T00:00:00\", \"2020-07-27T00:00:00\", \"2020-07-28T00:00:00\", \"2020-07-29T00:00:00\", \"2020-07-30T00:00:00\", \"2020-07-31T00:00:00\", \"2020-08-03T00:00:00\", \"2020-08-04T00:00:00\", \"2020-08-05T00:00:00\", \"2020-08-06T00:00:00\", \"2020-08-07T00:00:00\", \"2020-08-10T00:00:00\", \"2020-08-11T00:00:00\", \"2020-08-12T00:00:00\", \"2020-08-13T00:00:00\", \"2020-08-14T00:00:00\", \"2020-08-17T00:00:00\", \"2020-08-18T00:00:00\", \"2020-08-19T00:00:00\", \"2020-08-20T00:00:00\", \"2020-08-21T00:00:00\", \"2020-08-24T00:00:00\", \"2020-08-25T00:00:00\", \"2020-08-26T00:00:00\", \"2020-08-27T00:00:00\", \"2020-08-28T00:00:00\", \"2020-08-31T00:00:00\", \"2020-09-01T00:00:00\", \"2020-09-02T00:00:00\", \"2020-09-03T00:00:00\", \"2020-09-04T00:00:00\", \"2020-09-08T00:00:00\", \"2020-09-09T00:00:00\", \"2020-09-10T00:00:00\", \"2020-09-11T00:00:00\", \"2020-09-14T00:00:00\", \"2020-09-15T00:00:00\", \"2020-09-16T00:00:00\", \"2020-09-17T00:00:00\", \"2020-09-18T00:00:00\", \"2020-09-21T00:00:00\", \"2020-09-22T00:00:00\", \"2020-09-23T00:00:00\", \"2020-09-24T00:00:00\", \"2020-09-25T00:00:00\", \"2020-09-28T00:00:00\", \"2020-09-29T00:00:00\", \"2020-09-30T00:00:00\", \"2020-10-01T00:00:00\", \"2020-10-02T00:00:00\", \"2020-10-05T00:00:00\", \"2020-10-06T00:00:00\", \"2020-10-07T00:00:00\", \"2020-10-08T00:00:00\", \"2020-10-09T00:00:00\", \"2020-10-12T00:00:00\", \"2020-10-13T00:00:00\", \"2020-10-14T00:00:00\", \"2020-10-15T00:00:00\", \"2020-10-16T00:00:00\", \"2020-10-19T00:00:00\", \"2020-10-20T00:00:00\", \"2020-10-21T00:00:00\", \"2020-10-22T00:00:00\", \"2020-10-23T00:00:00\", \"2020-10-26T00:00:00\", \"2020-10-27T00:00:00\", \"2020-10-28T00:00:00\", \"2020-10-29T00:00:00\", \"2020-10-30T00:00:00\", \"2020-11-02T00:00:00\", \"2020-11-03T00:00:00\", \"2020-11-04T00:00:00\", \"2020-11-05T00:00:00\", \"2020-11-06T00:00:00\", \"2020-11-09T00:00:00\", \"2020-11-10T00:00:00\", \"2020-11-11T00:00:00\", \"2020-11-12T00:00:00\", \"2020-11-13T00:00:00\", \"2020-11-16T00:00:00\", \"2020-11-17T00:00:00\", \"2020-11-18T00:00:00\", \"2020-11-19T00:00:00\", \"2020-11-20T00:00:00\", \"2020-11-23T00:00:00\", \"2020-11-24T00:00:00\", \"2020-11-25T00:00:00\", \"2020-11-27T00:00:00\", \"2020-11-30T00:00:00\", \"2020-12-01T00:00:00\", \"2020-12-02T00:00:00\", \"2020-12-03T00:00:00\", \"2020-12-04T00:00:00\", \"2020-12-07T00:00:00\", \"2020-12-08T00:00:00\", \"2020-12-09T00:00:00\", \"2020-12-10T00:00:00\", \"2020-12-11T00:00:00\", \"2020-12-14T00:00:00\", \"2020-12-15T00:00:00\", \"2020-12-16T00:00:00\", \"2020-12-17T00:00:00\", \"2020-12-18T00:00:00\", \"2020-12-21T00:00:00\", \"2020-12-22T00:00:00\", \"2020-12-23T00:00:00\", \"2020-12-24T00:00:00\", \"2020-12-28T00:00:00\", \"2020-12-29T00:00:00\", \"2020-12-30T00:00:00\", \"2020-12-31T00:00:00\"], \"y\": [75.0875015258789, 74.35749816894531, 74.94999694824219, 74.59750366210938, 75.79750061035156, 77.40750122070312, 77.5824966430664, 79.23999786376953, 78.16999816894531, 77.83499908447266, 78.80999755859375, 79.68250274658203, 79.14250183105469, 79.42500305175781, 79.80750274658203, 79.57749938964844, 77.23750305175781, 79.42250061035156, 81.08499908447266, 80.96749877929688, 77.37750244140625, 77.16500091552734, 79.7125015258789, 80.36250305175781, 81.30249786376953, 80.00749969482422, 80.38749694824219, 79.90249633789062, 81.80000305175781, 81.21749877929688, 81.23750305175781, 79.75, 80.90499877929688, 80.07499694824219, 78.26249694824219, 74.54499816894531, 72.0199966430664, 73.1624984741211, 68.37999725341797, 68.33999633789062, 74.70249938964844, 72.33000183105469, 75.68499755859375, 73.2300033569336, 72.25749969482422, 66.5425033569336, 71.33499908447266, 68.85749816894531, 62.057498931884766, 69.49250030517578, 60.5525016784668, 63.21500015258789, 61.66749954223633, 61.19499969482422, 57.310001373291016, 56.092498779296875, 61.720001220703125, 61.380001068115234, 64.61000061035156, 61.935001373291016, 63.70249938964844, 63.5724983215332, 60.227500915527344, 61.23249816894531, 60.352500915527344, 65.61750030517578, 64.85749816894531, 66.51750183105469, 66.99749755859375, 68.3125, 71.76249694824219, 71.10749816894531, 71.67250061035156, 70.69999694824219, 69.23249816894531, 67.09249877929688, 69.0250015258789, 68.75749969482422, 70.74250030517578, 70.7925033569336, 69.6449966430664, 71.93250274658203, 73.44999694824219, 72.26750183105469, 73.29000091552734, 74.38999938964844, 75.15750122070312, 75.93499755859375, 77.53250122070312, 78.75250244140625, 77.85250091552734, 76.9124984741211, 77.38500213623047, 76.92749786376953, 78.73999786376953, 78.28500366210938, 79.80750274658203, 79.2125015258789, 79.72250366210938, 79.18250274658203, 79.52749633789062, 79.5625, 79.48500061035156, 80.4625015258789, 80.83499908447266, 81.27999877929688, 80.58000183105469, 82.875, 83.36499786376953, 85.99749755859375, 88.20999908447266, 83.9749984741211, 84.69999694824219, 85.74749755859375, 88.0199966430664, 87.89749908447266, 87.93250274658203, 87.43000030517578, 89.71749877929688, 91.63249969482422, 90.01499938964844, 91.20999908447266, 88.40750122070312, 90.44499969482422, 91.19999694824219, 91.02749633789062, 91.02749633789062, 93.4625015258789, 93.17250061035156, 95.34249877929688, 95.75250244140625, 95.91999816894531, 95.47750091552734, 97.05750274658203, 97.7249984741211, 96.52249908447266, 96.32749938964844, 98.35749816894531, 97.0, 97.27249908447266, 92.84500122070312, 92.61499786376953, 94.80999755859375, 93.25250244140625, 95.04000091552734, 96.19000244140625, 106.26000213623047, 108.9375, 109.66500091552734, 110.0625, 113.90249633789062, 111.11250305175781, 112.72750091552734, 109.375, 113.01000213623047, 115.01000213623047, 114.90750122070312, 114.60749816894531, 115.5625, 115.7074966430664, 118.2750015258789, 124.37000274658203, 125.85749816894531, 124.82499694824219, 126.52249908447266, 125.01000213623047, 124.80750274658203, 129.0399932861328, 134.17999267578125, 131.39999389648438, 120.87999725341797, 120.95999908447266, 112.81999969482422, 117.31999969482422, 113.48999786376953, 112.0, 115.36000061035156, 115.54000091552734, 112.12999725341797, 110.33999633789062, 106.83999633789062, 110.08000183105469, 111.80999755859375, 107.12000274658203, 108.22000122070312, 112.27999877929688, 114.95999908447266, 114.08999633789062, 115.80999755859375, 116.79000091552734, 113.0199966430664, 116.5, 113.16000366210938, 115.08000183105469, 114.97000122070312, 116.97000122070312, 124.4000015258789, 121.0999984741211, 121.19000244140625, 120.70999908447266, 119.0199966430664, 115.9800033569336, 117.51000213623047, 116.87000274658203, 115.75, 115.04000091552734, 115.05000305175781, 116.5999984741211, 111.19999694824219, 115.31999969482422, 108.86000061035156, 108.7699966430664, 110.44000244140625, 114.94999694824219, 119.02999877929688, 118.69000244140625, 116.31999969482422, 115.97000122070312, 119.48999786376953, 119.20999908447266, 119.26000213623047, 120.30000305175781, 119.38999938964844, 118.02999877929688, 118.63999938964844, 117.33999633789062, 113.8499984741211, 115.16999816894531, 116.02999877929688, 116.58999633789062, 119.05000305175781, 122.72000122070312, 123.08000183105469, 122.94000244140625, 122.25, 123.75, 124.37999725341797, 121.77999877929688, 123.23999786376953, 122.41000366210938, 121.77999877929688, 127.87999725341797, 127.80999755859375, 128.6999969482422, 126.66000366210938, 128.22999572753906, 131.8800048828125, 130.9600067138672, 131.97000122070312, 136.69000244140625, 134.8699951171875, 133.72000122070312, 132.69000244140625]}, {\"mode\": \"lines\", \"name\": \"Close Price of DIS\", \"type\": \"scatter\", \"x\": [\"2020-01-02T00:00:00\", \"2020-01-03T00:00:00\", \"2020-01-06T00:00:00\", \"2020-01-07T00:00:00\", \"2020-01-08T00:00:00\", \"2020-01-09T00:00:00\", \"2020-01-10T00:00:00\", \"2020-01-13T00:00:00\", \"2020-01-14T00:00:00\", \"2020-01-15T00:00:00\", \"2020-01-16T00:00:00\", \"2020-01-17T00:00:00\", \"2020-01-21T00:00:00\", \"2020-01-22T00:00:00\", \"2020-01-23T00:00:00\", \"2020-01-24T00:00:00\", \"2020-01-27T00:00:00\", \"2020-01-28T00:00:00\", \"2020-01-29T00:00:00\", \"2020-01-30T00:00:00\", \"2020-01-31T00:00:00\", \"2020-02-03T00:00:00\", \"2020-02-04T00:00:00\", \"2020-02-05T00:00:00\", \"2020-02-06T00:00:00\", \"2020-02-07T00:00:00\", \"2020-02-10T00:00:00\", \"2020-02-11T00:00:00\", \"2020-02-12T00:00:00\", \"2020-02-13T00:00:00\", \"2020-02-14T00:00:00\", \"2020-02-18T00:00:00\", \"2020-02-19T00:00:00\", \"2020-02-20T00:00:00\", \"2020-02-21T00:00:00\", \"2020-02-24T00:00:00\", \"2020-02-25T00:00:00\", \"2020-02-26T00:00:00\", \"2020-02-27T00:00:00\", \"2020-02-28T00:00:00\", \"2020-03-02T00:00:00\", \"2020-03-03T00:00:00\", \"2020-03-04T00:00:00\", \"2020-03-05T00:00:00\", \"2020-03-06T00:00:00\", \"2020-03-09T00:00:00\", \"2020-03-10T00:00:00\", \"2020-03-11T00:00:00\", \"2020-03-12T00:00:00\", \"2020-03-13T00:00:00\", \"2020-03-16T00:00:00\", \"2020-03-17T00:00:00\", \"2020-03-18T00:00:00\", \"2020-03-19T00:00:00\", \"2020-03-20T00:00:00\", \"2020-03-23T00:00:00\", \"2020-03-24T00:00:00\", \"2020-03-25T00:00:00\", \"2020-03-26T00:00:00\", \"2020-03-27T00:00:00\", \"2020-03-30T00:00:00\", \"2020-03-31T00:00:00\", \"2020-04-01T00:00:00\", \"2020-04-02T00:00:00\", \"2020-04-03T00:00:00\", \"2020-04-06T00:00:00\", \"2020-04-07T00:00:00\", \"2020-04-08T00:00:00\", \"2020-04-09T00:00:00\", \"2020-04-13T00:00:00\", \"2020-04-14T00:00:00\", \"2020-04-15T00:00:00\", \"2020-04-16T00:00:00\", \"2020-04-17T00:00:00\", \"2020-04-20T00:00:00\", \"2020-04-21T00:00:00\", \"2020-04-22T00:00:00\", \"2020-04-23T00:00:00\", \"2020-04-24T00:00:00\", \"2020-04-27T00:00:00\", \"2020-04-28T00:00:00\", \"2020-04-29T00:00:00\", \"2020-04-30T00:00:00\", \"2020-05-01T00:00:00\", \"2020-05-04T00:00:00\", \"2020-05-05T00:00:00\", \"2020-05-06T00:00:00\", \"2020-05-07T00:00:00\", \"2020-05-08T00:00:00\", \"2020-05-11T00:00:00\", \"2020-05-12T00:00:00\", \"2020-05-13T00:00:00\", \"2020-05-14T00:00:00\", \"2020-05-15T00:00:00\", \"2020-05-18T00:00:00\", \"2020-05-19T00:00:00\", \"2020-05-20T00:00:00\", \"2020-05-21T00:00:00\", \"2020-05-22T00:00:00\", \"2020-05-26T00:00:00\", \"2020-05-27T00:00:00\", \"2020-05-28T00:00:00\", \"2020-05-29T00:00:00\", \"2020-06-01T00:00:00\", \"2020-06-02T00:00:00\", \"2020-06-03T00:00:00\", \"2020-06-04T00:00:00\", \"2020-06-05T00:00:00\", \"2020-06-08T00:00:00\", \"2020-06-09T00:00:00\", \"2020-06-10T00:00:00\", \"2020-06-11T00:00:00\", \"2020-06-12T00:00:00\", \"2020-06-15T00:00:00\", \"2020-06-16T00:00:00\", \"2020-06-17T00:00:00\", \"2020-06-18T00:00:00\", \"2020-06-19T00:00:00\", \"2020-06-22T00:00:00\", \"2020-06-23T00:00:00\", \"2020-06-24T00:00:00\", \"2020-06-25T00:00:00\", \"2020-06-26T00:00:00\", \"2020-06-29T00:00:00\", \"2020-06-30T00:00:00\", \"2020-07-01T00:00:00\", \"2020-07-02T00:00:00\", \"2020-07-06T00:00:00\", \"2020-07-07T00:00:00\", \"2020-07-08T00:00:00\", \"2020-07-09T00:00:00\", \"2020-07-10T00:00:00\", \"2020-07-13T00:00:00\", \"2020-07-14T00:00:00\", \"2020-07-15T00:00:00\", \"2020-07-16T00:00:00\", \"2020-07-17T00:00:00\", \"2020-07-20T00:00:00\", \"2020-07-21T00:00:00\", \"2020-07-22T00:00:00\", \"2020-07-23T00:00:00\", \"2020-07-24T00:00:00\", \"2020-07-27T00:00:00\", \"2020-07-28T00:00:00\", \"2020-07-29T00:00:00\", \"2020-07-30T00:00:00\", \"2020-07-31T00:00:00\", \"2020-08-03T00:00:00\", \"2020-08-04T00:00:00\", \"2020-08-05T00:00:00\", \"2020-08-06T00:00:00\", \"2020-08-07T00:00:00\", \"2020-08-10T00:00:00\", \"2020-08-11T00:00:00\", \"2020-08-12T00:00:00\", \"2020-08-13T00:00:00\", \"2020-08-14T00:00:00\", \"2020-08-17T00:00:00\", \"2020-08-18T00:00:00\", \"2020-08-19T00:00:00\", \"2020-08-20T00:00:00\", \"2020-08-21T00:00:00\", \"2020-08-24T00:00:00\", \"2020-08-25T00:00:00\", \"2020-08-26T00:00:00\", \"2020-08-27T00:00:00\", \"2020-08-28T00:00:00\", \"2020-08-31T00:00:00\", \"2020-09-01T00:00:00\", \"2020-09-02T00:00:00\", \"2020-09-03T00:00:00\", \"2020-09-04T00:00:00\", \"2020-09-08T00:00:00\", \"2020-09-09T00:00:00\", \"2020-09-10T00:00:00\", \"2020-09-11T00:00:00\", \"2020-09-14T00:00:00\", \"2020-09-15T00:00:00\", \"2020-09-16T00:00:00\", \"2020-09-17T00:00:00\", \"2020-09-18T00:00:00\", \"2020-09-21T00:00:00\", \"2020-09-22T00:00:00\", \"2020-09-23T00:00:00\", \"2020-09-24T00:00:00\", \"2020-09-25T00:00:00\", \"2020-09-28T00:00:00\", \"2020-09-29T00:00:00\", \"2020-09-30T00:00:00\", \"2020-10-01T00:00:00\", \"2020-10-02T00:00:00\", \"2020-10-05T00:00:00\", \"2020-10-06T00:00:00\", \"2020-10-07T00:00:00\", \"2020-10-08T00:00:00\", \"2020-10-09T00:00:00\", \"2020-10-12T00:00:00\", \"2020-10-13T00:00:00\", \"2020-10-14T00:00:00\", \"2020-10-15T00:00:00\", \"2020-10-16T00:00:00\", \"2020-10-19T00:00:00\", \"2020-10-20T00:00:00\", \"2020-10-21T00:00:00\", \"2020-10-22T00:00:00\", \"2020-10-23T00:00:00\", \"2020-10-26T00:00:00\", \"2020-10-27T00:00:00\", \"2020-10-28T00:00:00\", \"2020-10-29T00:00:00\", \"2020-10-30T00:00:00\", \"2020-11-02T00:00:00\", \"2020-11-03T00:00:00\", \"2020-11-04T00:00:00\", \"2020-11-05T00:00:00\", \"2020-11-06T00:00:00\", \"2020-11-09T00:00:00\", \"2020-11-10T00:00:00\", \"2020-11-11T00:00:00\", \"2020-11-12T00:00:00\", \"2020-11-13T00:00:00\", \"2020-11-16T00:00:00\", \"2020-11-17T00:00:00\", \"2020-11-18T00:00:00\", \"2020-11-19T00:00:00\", \"2020-11-20T00:00:00\", \"2020-11-23T00:00:00\", \"2020-11-24T00:00:00\", \"2020-11-25T00:00:00\", \"2020-11-27T00:00:00\", \"2020-11-30T00:00:00\", \"2020-12-01T00:00:00\", \"2020-12-02T00:00:00\", \"2020-12-03T00:00:00\", \"2020-12-04T00:00:00\", \"2020-12-07T00:00:00\", \"2020-12-08T00:00:00\", \"2020-12-09T00:00:00\", \"2020-12-10T00:00:00\", \"2020-12-11T00:00:00\", \"2020-12-14T00:00:00\", \"2020-12-15T00:00:00\", \"2020-12-16T00:00:00\", \"2020-12-17T00:00:00\", \"2020-12-18T00:00:00\", \"2020-12-21T00:00:00\", \"2020-12-22T00:00:00\", \"2020-12-23T00:00:00\", \"2020-12-24T00:00:00\", \"2020-12-28T00:00:00\", \"2020-12-29T00:00:00\", \"2020-12-30T00:00:00\", \"2020-12-31T00:00:00\"], \"y\": [148.1999969482422, 146.5, 145.64999389648438, 145.6999969482422, 145.39999389648438, 144.8300018310547, 144.6199951171875, 143.8800048828125, 145.1999969482422, 144.32000732421875, 145.1199951171875, 144.3300018310547, 143.55999755859375, 144.00999450683594, 142.1999969482422, 140.0800018310547, 135.89999389648438, 138.3699951171875, 136.05999755859375, 137.80999755859375, 138.30999755859375, 141.32000732421875, 144.72999572753906, 141.3699951171875, 142.6999969482422, 141.02000427246094, 142.58999633789062, 141.00999450683594, 141.85000610351562, 140.89999389648438, 139.5399932861328, 139.13999938964844, 141.3000030517578, 140.3699951171875, 138.97000122070312, 133.00999450683594, 128.19000244140625, 123.36000061035156, 118.04000091552734, 117.6500015258789, 119.9800033569336, 116.44999694824219, 119.18000030517578, 113.9800033569336, 115.2699966430664, 104.3499984741211, 111.45999908447266, 105.51000213623047, 91.80999755859375, 102.5199966430664, 95.01000213623047, 93.52999877929688, 88.80000305175781, 94.93000030517578, 85.9800033569336, 85.76000213623047, 98.12000274658203, 100.7300033569336, 105.36000061035156, 96.4000015258789, 99.80000305175781, 96.5999984741211, 94.91999816894531, 96.97000122070312, 93.87999725341797, 99.58000183105469, 101.23999786376953, 101.06999969482422, 104.5, 103.5, 106.02999877929688, 103.37000274658203, 102.0199966430664, 106.62999725341797, 102.26000213623047, 100.54000091552734, 100.98999786376953, 101.0, 101.19000244140625, 106.05999755859375, 106.20999908447266, 112.25, 108.1500015258789, 105.5, 103.18000030517578, 101.05999755859375, 100.87999725341797, 105.56999969482422, 109.16000366210938, 107.7699966430664, 104.55999755859375, 102.91999816894531, 105.91000366210938, 109.05000305175781, 116.8499984741211, 114.37000274658203, 119.91999816894531, 117.83000183105469, 118.0199966430664, 120.94999694824219, 121.52999877929688, 116.75, 117.30000305175781, 118.7699966430664, 118.75, 122.18000030517578, 123.69000244140625, 124.81999969482422, 127.27999877929688, 123.88999938964844, 122.18000030517578, 112.63999938964844, 115.48999786376953, 117.08000183105469, 118.44000244140625, 117.6500015258789, 118.37000274658203, 114.3499984741211, 115.91999816894531, 116.58999633789062, 112.06999969482422, 111.36000061035156, 109.0999984741211, 111.5199966430664, 111.51000213623047, 113.01000213623047, 112.18000030517578, 114.43000030517578, 113.62999725341797, 116.66000366210938, 116.80999755859375, 119.33999633789062, 116.22000122070312, 118.66000366210938, 120.9000015258789, 119.43000030517578, 118.6500015258789, 117.79000091552734, 118.62000274658203, 119.02999877929688, 118.12000274658203, 117.61000061035156, 116.30999755859375, 116.18000030517578, 115.61000061035156, 115.66000366210938, 116.94000244140625, 116.3499984741211, 117.29000091552734, 127.61000061035156, 130.82000732421875, 129.92999267578125, 128.7899932861328, 130.49000549316406, 131.7899932861328, 130.9600067138672, 130.52999877929688, 129.3699951171875, 128.9199981689453, 127.7699966430664, 128.1199951171875, 127.44000244140625, 130.69000244140625, 129.7899932861328, 132.17999267578125, 133.72999572753906, 135.5399932861328, 131.8699951171875, 133.5500030517578, 135.38999938964844, 133.24000549316406, 131.99000549316406, 134.1999969482422, 133.36000061035156, 133.22000122070312, 131.75, 131.25, 131.24000549316406, 132.08999633789062, 130.22000122070312, 128.6300048828125, 125.41000366210938, 127.20999908447266, 123.27999877929688, 122.48999786376953, 124.0, 125.98999786376953, 125.4000015258789, 124.08000183105469, 123.30999755859375, 122.55000305175781, 123.37000274658203, 120.93000030517578, 122.91000366210938, 123.08999633789062, 124.9800033569336, 124.97000122070312, 128.9600067138672, 126.58999633789062, 127.36000061035156, 126.80999755859375, 124.2300033569336, 124.94999694824219, 126.62999725341797, 127.55999755859375, 128.35000610351562, 124.05999755859375, 123.30999755859375, 118.47000122070312, 121.54000091552734, 121.25, 120.12999725341797, 124.0199966430664, 125.06999969482422, 126.95999908447266, 127.45999908447266, 142.58999633789062, 142.11000061035156, 137.82000732421875, 135.52000427246094, 138.36000061035156, 144.6699981689453, 144.5, 143.89999389648438, 141.72000122070312, 141.07000732421875, 145.97999572753906, 151.49000549316406, 149.08999633789062, 147.1300048828125, 148.00999450683594, 149.44000244140625, 153.61000061035156, 153.24000549316406, 154.13999938964844, 153.67999267578125, 153.72000122070312, 154.42999267578125, 154.69000244140625, 175.72000122070312, 169.3000030517578, 173.94000244140625, 173.1199951171875, 173.5500030517578, 172.88999938964844, 170.69000244140625, 170.4499969482422, 173.5500030517578, 173.72999572753906, 178.86000061035156, 177.3000030517578, 181.1699981689453, 181.17999267578125]}, {\"mode\": \"lines\", \"name\": \"Close Price of MSFT\", \"type\": \"scatter\", \"x\": [\"2020-01-02T00:00:00\", \"2020-01-03T00:00:00\", \"2020-01-06T00:00:00\", \"2020-01-07T00:00:00\", \"2020-01-08T00:00:00\", \"2020-01-09T00:00:00\", \"2020-01-10T00:00:00\", \"2020-01-13T00:00:00\", \"2020-01-14T00:00:00\", \"2020-01-15T00:00:00\", \"2020-01-16T00:00:00\", \"2020-01-17T00:00:00\", \"2020-01-21T00:00:00\", \"2020-01-22T00:00:00\", \"2020-01-23T00:00:00\", \"2020-01-24T00:00:00\", \"2020-01-27T00:00:00\", \"2020-01-28T00:00:00\", \"2020-01-29T00:00:00\", \"2020-01-30T00:00:00\", \"2020-01-31T00:00:00\", \"2020-02-03T00:00:00\", \"2020-02-04T00:00:00\", \"2020-02-05T00:00:00\", \"2020-02-06T00:00:00\", \"2020-02-07T00:00:00\", \"2020-02-10T00:00:00\", \"2020-02-11T00:00:00\", \"2020-02-12T00:00:00\", \"2020-02-13T00:00:00\", \"2020-02-14T00:00:00\", \"2020-02-18T00:00:00\", \"2020-02-19T00:00:00\", \"2020-02-20T00:00:00\", \"2020-02-21T00:00:00\", \"2020-02-24T00:00:00\", \"2020-02-25T00:00:00\", \"2020-02-26T00:00:00\", \"2020-02-27T00:00:00\", \"2020-02-28T00:00:00\", \"2020-03-02T00:00:00\", \"2020-03-03T00:00:00\", \"2020-03-04T00:00:00\", \"2020-03-05T00:00:00\", \"2020-03-06T00:00:00\", \"2020-03-09T00:00:00\", \"2020-03-10T00:00:00\", \"2020-03-11T00:00:00\", \"2020-03-12T00:00:00\", \"2020-03-13T00:00:00\", \"2020-03-16T00:00:00\", \"2020-03-17T00:00:00\", \"2020-03-18T00:00:00\", \"2020-03-19T00:00:00\", \"2020-03-20T00:00:00\", \"2020-03-23T00:00:00\", \"2020-03-24T00:00:00\", \"2020-03-25T00:00:00\", \"2020-03-26T00:00:00\", \"2020-03-27T00:00:00\", \"2020-03-30T00:00:00\", \"2020-03-31T00:00:00\", \"2020-04-01T00:00:00\", \"2020-04-02T00:00:00\", \"2020-04-03T00:00:00\", \"2020-04-06T00:00:00\", \"2020-04-07T00:00:00\", \"2020-04-08T00:00:00\", \"2020-04-09T00:00:00\", \"2020-04-13T00:00:00\", \"2020-04-14T00:00:00\", \"2020-04-15T00:00:00\", \"2020-04-16T00:00:00\", \"2020-04-17T00:00:00\", \"2020-04-20T00:00:00\", \"2020-04-21T00:00:00\", \"2020-04-22T00:00:00\", \"2020-04-23T00:00:00\", \"2020-04-24T00:00:00\", \"2020-04-27T00:00:00\", \"2020-04-28T00:00:00\", \"2020-04-29T00:00:00\", \"2020-04-30T00:00:00\", \"2020-05-01T00:00:00\", \"2020-05-04T00:00:00\", \"2020-05-05T00:00:00\", \"2020-05-06T00:00:00\", \"2020-05-07T00:00:00\", \"2020-05-08T00:00:00\", \"2020-05-11T00:00:00\", \"2020-05-12T00:00:00\", \"2020-05-13T00:00:00\", \"2020-05-14T00:00:00\", \"2020-05-15T00:00:00\", \"2020-05-18T00:00:00\", \"2020-05-19T00:00:00\", \"2020-05-20T00:00:00\", \"2020-05-21T00:00:00\", \"2020-05-22T00:00:00\", \"2020-05-26T00:00:00\", \"2020-05-27T00:00:00\", \"2020-05-28T00:00:00\", \"2020-05-29T00:00:00\", \"2020-06-01T00:00:00\", \"2020-06-02T00:00:00\", \"2020-06-03T00:00:00\", \"2020-06-04T00:00:00\", \"2020-06-05T00:00:00\", \"2020-06-08T00:00:00\", \"2020-06-09T00:00:00\", \"2020-06-10T00:00:00\", \"2020-06-11T00:00:00\", \"2020-06-12T00:00:00\", \"2020-06-15T00:00:00\", \"2020-06-16T00:00:00\", \"2020-06-17T00:00:00\", \"2020-06-18T00:00:00\", \"2020-06-19T00:00:00\", \"2020-06-22T00:00:00\", \"2020-06-23T00:00:00\", \"2020-06-24T00:00:00\", \"2020-06-25T00:00:00\", \"2020-06-26T00:00:00\", \"2020-06-29T00:00:00\", \"2020-06-30T00:00:00\", \"2020-07-01T00:00:00\", \"2020-07-02T00:00:00\", \"2020-07-06T00:00:00\", \"2020-07-07T00:00:00\", \"2020-07-08T00:00:00\", \"2020-07-09T00:00:00\", \"2020-07-10T00:00:00\", \"2020-07-13T00:00:00\", \"2020-07-14T00:00:00\", \"2020-07-15T00:00:00\", \"2020-07-16T00:00:00\", \"2020-07-17T00:00:00\", \"2020-07-20T00:00:00\", \"2020-07-21T00:00:00\", \"2020-07-22T00:00:00\", \"2020-07-23T00:00:00\", \"2020-07-24T00:00:00\", \"2020-07-27T00:00:00\", \"2020-07-28T00:00:00\", \"2020-07-29T00:00:00\", \"2020-07-30T00:00:00\", \"2020-07-31T00:00:00\", \"2020-08-03T00:00:00\", \"2020-08-04T00:00:00\", \"2020-08-05T00:00:00\", \"2020-08-06T00:00:00\", \"2020-08-07T00:00:00\", \"2020-08-10T00:00:00\", \"2020-08-11T00:00:00\", \"2020-08-12T00:00:00\", \"2020-08-13T00:00:00\", \"2020-08-14T00:00:00\", \"2020-08-17T00:00:00\", \"2020-08-18T00:00:00\", \"2020-08-19T00:00:00\", \"2020-08-20T00:00:00\", \"2020-08-21T00:00:00\", \"2020-08-24T00:00:00\", \"2020-08-25T00:00:00\", \"2020-08-26T00:00:00\", \"2020-08-27T00:00:00\", \"2020-08-28T00:00:00\", \"2020-08-31T00:00:00\", \"2020-09-01T00:00:00\", \"2020-09-02T00:00:00\", \"2020-09-03T00:00:00\", \"2020-09-04T00:00:00\", \"2020-09-08T00:00:00\", \"2020-09-09T00:00:00\", \"2020-09-10T00:00:00\", \"2020-09-11T00:00:00\", \"2020-09-14T00:00:00\", \"2020-09-15T00:00:00\", \"2020-09-16T00:00:00\", \"2020-09-17T00:00:00\", \"2020-09-18T00:00:00\", \"2020-09-21T00:00:00\", \"2020-09-22T00:00:00\", \"2020-09-23T00:00:00\", \"2020-09-24T00:00:00\", \"2020-09-25T00:00:00\", \"2020-09-28T00:00:00\", \"2020-09-29T00:00:00\", \"2020-09-30T00:00:00\", \"2020-10-01T00:00:00\", \"2020-10-02T00:00:00\", \"2020-10-05T00:00:00\", \"2020-10-06T00:00:00\", \"2020-10-07T00:00:00\", \"2020-10-08T00:00:00\", \"2020-10-09T00:00:00\", \"2020-10-12T00:00:00\", \"2020-10-13T00:00:00\", \"2020-10-14T00:00:00\", \"2020-10-15T00:00:00\", \"2020-10-16T00:00:00\", \"2020-10-19T00:00:00\", \"2020-10-20T00:00:00\", \"2020-10-21T00:00:00\", \"2020-10-22T00:00:00\", \"2020-10-23T00:00:00\", \"2020-10-26T00:00:00\", \"2020-10-27T00:00:00\", \"2020-10-28T00:00:00\", \"2020-10-29T00:00:00\", \"2020-10-30T00:00:00\", \"2020-11-02T00:00:00\", \"2020-11-03T00:00:00\", \"2020-11-04T00:00:00\", \"2020-11-05T00:00:00\", \"2020-11-06T00:00:00\", \"2020-11-09T00:00:00\", \"2020-11-10T00:00:00\", \"2020-11-11T00:00:00\", \"2020-11-12T00:00:00\", \"2020-11-13T00:00:00\", \"2020-11-16T00:00:00\", \"2020-11-17T00:00:00\", \"2020-11-18T00:00:00\", \"2020-11-19T00:00:00\", \"2020-11-20T00:00:00\", \"2020-11-23T00:00:00\", \"2020-11-24T00:00:00\", \"2020-11-25T00:00:00\", \"2020-11-27T00:00:00\", \"2020-11-30T00:00:00\", \"2020-12-01T00:00:00\", \"2020-12-02T00:00:00\", \"2020-12-03T00:00:00\", \"2020-12-04T00:00:00\", \"2020-12-07T00:00:00\", \"2020-12-08T00:00:00\", \"2020-12-09T00:00:00\", \"2020-12-10T00:00:00\", \"2020-12-11T00:00:00\", \"2020-12-14T00:00:00\", \"2020-12-15T00:00:00\", \"2020-12-16T00:00:00\", \"2020-12-17T00:00:00\", \"2020-12-18T00:00:00\", \"2020-12-21T00:00:00\", \"2020-12-22T00:00:00\", \"2020-12-23T00:00:00\", \"2020-12-24T00:00:00\", \"2020-12-28T00:00:00\", \"2020-12-29T00:00:00\", \"2020-12-30T00:00:00\", \"2020-12-31T00:00:00\"], \"y\": [160.6199951171875, 158.6199951171875, 159.02999877929688, 157.5800018310547, 160.08999633789062, 162.08999633789062, 161.33999633789062, 163.27999877929688, 162.1300048828125, 163.17999267578125, 166.1699981689453, 167.10000610351562, 166.5, 165.6999969482422, 166.72000122070312, 165.0399932861328, 162.27999877929688, 165.4600067138672, 168.0399932861328, 172.77999877929688, 170.22999572753906, 174.3800048828125, 180.1199951171875, 179.89999389648438, 183.6300048828125, 183.88999938964844, 188.6999969482422, 184.44000244140625, 184.7100067138672, 183.7100067138672, 185.35000610351562, 187.22999572753906, 187.27999877929688, 184.4199981689453, 178.58999633789062, 170.88999938964844, 168.07000732421875, 170.1699981689453, 158.17999267578125, 162.00999450683594, 172.7899932861328, 164.50999450683594, 170.5500030517578, 166.27000427246094, 161.57000732421875, 150.6199951171875, 160.9199981689453, 153.6300048828125, 139.05999755859375, 158.8300018310547, 135.4199981689453, 146.57000732421875, 140.39999389648438, 142.7100067138672, 137.35000610351562, 135.97999572753906, 148.33999633789062, 146.9199981689453, 156.11000061035156, 149.6999969482422, 160.22999572753906, 157.7100067138672, 152.11000061035156, 155.25999450683594, 153.8300018310547, 165.27000427246094, 163.49000549316406, 165.1300048828125, 165.13999938964844, 165.50999450683594, 173.6999969482422, 171.8800048828125, 177.0399932861328, 178.60000610351562, 175.05999755859375, 167.82000732421875, 173.52000427246094, 171.4199981689453, 174.5500030517578, 174.0500030517578, 169.80999755859375, 177.42999267578125, 179.2100067138672, 174.57000732421875, 178.83999633789062, 180.75999450683594, 182.5399932861328, 183.60000610351562, 184.67999267578125, 186.74000549316406, 182.50999450683594, 179.75, 180.52999877929688, 183.16000366210938, 184.91000366210938, 183.6300048828125, 185.66000366210938, 183.42999267578125, 183.50999450683594, 181.57000732421875, 181.80999755859375, 181.39999389648438, 183.25, 182.8300018310547, 184.91000366210938, 185.36000061035156, 182.9199981689453, 187.1999969482422, 188.36000061035156, 189.8000030517578, 196.83999633789062, 186.27000427246094, 187.74000549316406, 188.94000244140625, 193.57000732421875, 194.24000549316406, 196.32000732421875, 195.14999389648438, 200.57000732421875, 201.91000366210938, 197.83999633789062, 200.33999633789062, 196.3300018310547, 198.44000244140625, 203.50999450683594, 204.6999969482422, 206.25999450683594, 210.6999969482422, 208.25, 212.8300018310547, 214.32000732421875, 213.6699981689453, 207.07000732421875, 208.35000610351562, 208.0399932861328, 203.9199981689453, 202.8800048828125, 211.60000610351562, 208.75, 211.75, 202.5399932861328, 201.3000030517578, 203.85000610351562, 202.02000427246094, 204.05999755859375, 203.89999389648438, 205.00999450683594, 216.5399932861328, 213.2899932861328, 212.94000244140625, 216.35000610351562, 212.47999572753906, 208.25, 203.3800048828125, 209.19000244140625, 208.6999969482422, 208.89999389648438, 210.27999877929688, 211.49000549316406, 209.6999969482422, 214.5800018310547, 213.02000427246094, 213.69000244140625, 216.47000122070312, 221.14999389648438, 226.5800018310547, 228.91000366210938, 225.52999877929688, 227.27000427246094, 231.64999389648438, 217.3000030517578, 214.25, 202.66000366210938, 211.2899932861328, 205.3699951171875, 204.02999877929688, 205.41000366210938, 208.77999877929688, 205.0500030517578, 202.91000366210938, 200.38999938964844, 202.5399932861328, 207.4199981689453, 200.58999633789062, 203.19000244140625, 207.82000732421875, 209.44000244140625, 207.25999450683594, 210.3300018310547, 212.4600067138672, 206.19000244140625, 210.3800048828125, 205.91000366210938, 209.8300018310547, 210.5800018310547, 215.80999755859375, 221.39999389648438, 222.86000061035156, 220.86000061035156, 219.66000366210938, 219.66000366210938, 214.22000122070312, 214.64999389648438, 214.8000030517578, 214.88999938964844, 216.22999572753906, 210.0800018310547, 213.25, 202.67999267578125, 204.72000122070312, 202.47000122070312, 202.3300018310547, 206.42999267578125, 216.38999938964844, 223.2899932861328, 223.72000122070312, 218.38999938964844, 211.00999450683594, 216.5500030517578, 215.44000244140625, 216.50999450683594, 217.22999572753906, 214.4600067138672, 211.0800018310547, 212.4199981689453, 210.38999938964844, 210.11000061035156, 213.86000061035156, 213.8699951171875, 215.22999572753906, 214.07000732421875, 216.2100067138672, 215.3699951171875, 214.24000549316406, 214.36000061035156, 214.2899932861328, 216.00999450683594, 211.8000030517578, 210.52000427246094, 213.25999450683594, 214.1999969482422, 214.1300048828125, 219.27999877929688, 219.4199981689453, 218.58999633789062, 222.58999633789062, 223.94000244140625, 221.02000427246094, 222.75, 224.9600067138672, 224.14999389648438, 221.67999267578125, 222.4199981689453]}],\n",
       "                        {\"template\": {\"data\": {\"bar\": [{\"error_x\": {\"color\": \"#2a3f5f\"}, \"error_y\": {\"color\": \"#2a3f5f\"}, \"marker\": {\"line\": {\"color\": \"#E5ECF6\", \"width\": 0.5}}, \"type\": \"bar\"}], \"barpolar\": [{\"marker\": {\"line\": {\"color\": \"#E5ECF6\", \"width\": 0.5}}, \"type\": \"barpolar\"}], \"carpet\": [{\"aaxis\": {\"endlinecolor\": \"#2a3f5f\", \"gridcolor\": \"white\", \"linecolor\": \"white\", \"minorgridcolor\": \"white\", \"startlinecolor\": \"#2a3f5f\"}, \"baxis\": {\"endlinecolor\": \"#2a3f5f\", \"gridcolor\": \"white\", \"linecolor\": \"white\", \"minorgridcolor\": \"white\", \"startlinecolor\": \"#2a3f5f\"}, \"type\": \"carpet\"}], \"choropleth\": [{\"colorbar\": {\"outlinewidth\": 0, \"ticks\": \"\"}, \"type\": \"choropleth\"}], \"contour\": [{\"colorbar\": {\"outlinewidth\": 0, \"ticks\": \"\"}, \"colorscale\": [[0.0, \"#0d0887\"], [0.1111111111111111, \"#46039f\"], [0.2222222222222222, \"#7201a8\"], [0.3333333333333333, \"#9c179e\"], [0.4444444444444444, \"#bd3786\"], [0.5555555555555556, \"#d8576b\"], [0.6666666666666666, \"#ed7953\"], [0.7777777777777778, \"#fb9f3a\"], [0.8888888888888888, \"#fdca26\"], [1.0, \"#f0f921\"]], \"type\": \"contour\"}], \"contourcarpet\": [{\"colorbar\": {\"outlinewidth\": 0, \"ticks\": \"\"}, \"type\": \"contourcarpet\"}], \"heatmap\": [{\"colorbar\": {\"outlinewidth\": 0, \"ticks\": \"\"}, \"colorscale\": [[0.0, \"#0d0887\"], [0.1111111111111111, \"#46039f\"], [0.2222222222222222, \"#7201a8\"], [0.3333333333333333, \"#9c179e\"], [0.4444444444444444, \"#bd3786\"], [0.5555555555555556, \"#d8576b\"], [0.6666666666666666, \"#ed7953\"], [0.7777777777777778, \"#fb9f3a\"], [0.8888888888888888, \"#fdca26\"], [1.0, \"#f0f921\"]], \"type\": \"heatmap\"}], \"heatmapgl\": [{\"colorbar\": {\"outlinewidth\": 0, \"ticks\": \"\"}, \"colorscale\": [[0.0, \"#0d0887\"], [0.1111111111111111, \"#46039f\"], [0.2222222222222222, \"#7201a8\"], [0.3333333333333333, \"#9c179e\"], [0.4444444444444444, \"#bd3786\"], [0.5555555555555556, \"#d8576b\"], [0.6666666666666666, \"#ed7953\"], [0.7777777777777778, \"#fb9f3a\"], [0.8888888888888888, \"#fdca26\"], [1.0, \"#f0f921\"]], \"type\": \"heatmapgl\"}], \"histogram\": [{\"marker\": {\"colorbar\": {\"outlinewidth\": 0, \"ticks\": \"\"}}, \"type\": \"histogram\"}], \"histogram2d\": [{\"colorbar\": {\"outlinewidth\": 0, \"ticks\": \"\"}, \"colorscale\": [[0.0, \"#0d0887\"], [0.1111111111111111, \"#46039f\"], [0.2222222222222222, \"#7201a8\"], [0.3333333333333333, \"#9c179e\"], [0.4444444444444444, \"#bd3786\"], [0.5555555555555556, \"#d8576b\"], [0.6666666666666666, \"#ed7953\"], [0.7777777777777778, \"#fb9f3a\"], [0.8888888888888888, \"#fdca26\"], [1.0, \"#f0f921\"]], \"type\": \"histogram2d\"}], \"histogram2dcontour\": [{\"colorbar\": {\"outlinewidth\": 0, \"ticks\": \"\"}, \"colorscale\": [[0.0, \"#0d0887\"], [0.1111111111111111, \"#46039f\"], [0.2222222222222222, \"#7201a8\"], [0.3333333333333333, \"#9c179e\"], [0.4444444444444444, \"#bd3786\"], [0.5555555555555556, \"#d8576b\"], [0.6666666666666666, \"#ed7953\"], [0.7777777777777778, \"#fb9f3a\"], [0.8888888888888888, \"#fdca26\"], [1.0, \"#f0f921\"]], \"type\": \"histogram2dcontour\"}], \"mesh3d\": [{\"colorbar\": {\"outlinewidth\": 0, \"ticks\": \"\"}, \"type\": \"mesh3d\"}], \"parcoords\": [{\"line\": {\"colorbar\": {\"outlinewidth\": 0, \"ticks\": \"\"}}, \"type\": \"parcoords\"}], \"pie\": [{\"automargin\": true, \"type\": \"pie\"}], \"scatter\": [{\"marker\": {\"colorbar\": {\"outlinewidth\": 0, \"ticks\": \"\"}}, \"type\": \"scatter\"}], \"scatter3d\": [{\"line\": {\"colorbar\": {\"outlinewidth\": 0, \"ticks\": \"\"}}, \"marker\": {\"colorbar\": {\"outlinewidth\": 0, \"ticks\": \"\"}}, \"type\": \"scatter3d\"}], \"scattercarpet\": [{\"marker\": {\"colorbar\": {\"outlinewidth\": 0, \"ticks\": \"\"}}, \"type\": \"scattercarpet\"}], \"scattergeo\": [{\"marker\": {\"colorbar\": {\"outlinewidth\": 0, \"ticks\": \"\"}}, \"type\": \"scattergeo\"}], \"scattergl\": [{\"marker\": {\"colorbar\": {\"outlinewidth\": 0, \"ticks\": \"\"}}, \"type\": \"scattergl\"}], \"scattermapbox\": [{\"marker\": {\"colorbar\": {\"outlinewidth\": 0, \"ticks\": \"\"}}, \"type\": \"scattermapbox\"}], \"scatterpolar\": [{\"marker\": {\"colorbar\": {\"outlinewidth\": 0, \"ticks\": \"\"}}, \"type\": \"scatterpolar\"}], \"scatterpolargl\": [{\"marker\": {\"colorbar\": {\"outlinewidth\": 0, \"ticks\": \"\"}}, \"type\": \"scatterpolargl\"}], \"scatterternary\": [{\"marker\": {\"colorbar\": {\"outlinewidth\": 0, \"ticks\": \"\"}}, \"type\": \"scatterternary\"}], \"surface\": [{\"colorbar\": {\"outlinewidth\": 0, \"ticks\": \"\"}, \"colorscale\": [[0.0, \"#0d0887\"], [0.1111111111111111, \"#46039f\"], [0.2222222222222222, \"#7201a8\"], [0.3333333333333333, \"#9c179e\"], [0.4444444444444444, \"#bd3786\"], [0.5555555555555556, \"#d8576b\"], [0.6666666666666666, \"#ed7953\"], [0.7777777777777778, \"#fb9f3a\"], [0.8888888888888888, \"#fdca26\"], [1.0, \"#f0f921\"]], \"type\": \"surface\"}], \"table\": [{\"cells\": {\"fill\": {\"color\": \"#EBF0F8\"}, \"line\": {\"color\": \"white\"}}, \"header\": {\"fill\": {\"color\": \"#C8D4E3\"}, \"line\": {\"color\": \"white\"}}, \"type\": \"table\"}]}, \"layout\": {\"annotationdefaults\": {\"arrowcolor\": \"#2a3f5f\", \"arrowhead\": 0, \"arrowwidth\": 1}, \"coloraxis\": {\"colorbar\": {\"outlinewidth\": 0, \"ticks\": \"\"}}, \"colorscale\": {\"diverging\": [[0, \"#8e0152\"], [0.1, \"#c51b7d\"], [0.2, \"#de77ae\"], [0.3, \"#f1b6da\"], [0.4, \"#fde0ef\"], [0.5, \"#f7f7f7\"], [0.6, \"#e6f5d0\"], [0.7, \"#b8e186\"], [0.8, \"#7fbc41\"], [0.9, \"#4d9221\"], [1, \"#276419\"]], \"sequential\": [[0.0, \"#0d0887\"], [0.1111111111111111, \"#46039f\"], [0.2222222222222222, \"#7201a8\"], [0.3333333333333333, \"#9c179e\"], [0.4444444444444444, \"#bd3786\"], [0.5555555555555556, \"#d8576b\"], [0.6666666666666666, \"#ed7953\"], [0.7777777777777778, \"#fb9f3a\"], [0.8888888888888888, \"#fdca26\"], [1.0, \"#f0f921\"]], \"sequentialminus\": [[0.0, \"#0d0887\"], [0.1111111111111111, \"#46039f\"], [0.2222222222222222, \"#7201a8\"], [0.3333333333333333, \"#9c179e\"], [0.4444444444444444, \"#bd3786\"], [0.5555555555555556, \"#d8576b\"], [0.6666666666666666, \"#ed7953\"], [0.7777777777777778, \"#fb9f3a\"], [0.8888888888888888, \"#fdca26\"], [1.0, \"#f0f921\"]]}, \"colorway\": [\"#636efa\", \"#EF553B\", \"#00cc96\", \"#ab63fa\", \"#FFA15A\", \"#19d3f3\", \"#FF6692\", \"#B6E880\", \"#FF97FF\", \"#FECB52\"], \"font\": {\"color\": \"#2a3f5f\"}, \"geo\": {\"bgcolor\": \"white\", \"lakecolor\": \"white\", \"landcolor\": \"#E5ECF6\", \"showlakes\": true, \"showland\": true, \"subunitcolor\": \"white\"}, \"hoverlabel\": {\"align\": \"left\"}, \"hovermode\": \"closest\", \"mapbox\": {\"style\": \"light\"}, \"paper_bgcolor\": \"white\", \"plot_bgcolor\": \"#E5ECF6\", \"polar\": {\"angularaxis\": {\"gridcolor\": \"white\", \"linecolor\": \"white\", \"ticks\": \"\"}, \"bgcolor\": \"#E5ECF6\", \"radialaxis\": {\"gridcolor\": \"white\", \"linecolor\": \"white\", \"ticks\": \"\"}}, \"scene\": {\"xaxis\": {\"backgroundcolor\": \"#E5ECF6\", \"gridcolor\": \"white\", \"gridwidth\": 2, \"linecolor\": \"white\", \"showbackground\": true, \"ticks\": \"\", \"zerolinecolor\": \"white\"}, \"yaxis\": {\"backgroundcolor\": \"#E5ECF6\", \"gridcolor\": \"white\", \"gridwidth\": 2, \"linecolor\": \"white\", \"showbackground\": true, \"ticks\": \"\", \"zerolinecolor\": \"white\"}, \"zaxis\": {\"backgroundcolor\": \"#E5ECF6\", \"gridcolor\": \"white\", \"gridwidth\": 2, \"linecolor\": \"white\", \"showbackground\": true, \"ticks\": \"\", \"zerolinecolor\": \"white\"}}, \"shapedefaults\": {\"line\": {\"color\": \"#2a3f5f\"}}, \"ternary\": {\"aaxis\": {\"gridcolor\": \"white\", \"linecolor\": \"white\", \"ticks\": \"\"}, \"baxis\": {\"gridcolor\": \"white\", \"linecolor\": \"white\", \"ticks\": \"\"}, \"bgcolor\": \"#E5ECF6\", \"caxis\": {\"gridcolor\": \"white\", \"linecolor\": \"white\", \"ticks\": \"\"}}, \"title\": {\"x\": 0.05}, \"xaxis\": {\"automargin\": true, \"gridcolor\": \"white\", \"linecolor\": \"white\", \"ticks\": \"\", \"title\": {\"standoff\": 15}, \"zerolinecolor\": \"white\", \"zerolinewidth\": 2}, \"yaxis\": {\"automargin\": true, \"gridcolor\": \"white\", \"linecolor\": \"white\", \"ticks\": \"\", \"title\": {\"standoff\": 15}, \"zerolinecolor\": \"white\", \"zerolinewidth\": 2}}}, \"title\": {\"text\": \"Comparison of Close Prices Between Stocks\"}},\n",
       "                        {\"responsive\": true}\n",
       "                    ).then(function(){\n",
       "                            \n",
       "var gd = document.getElementById('c5935342-ec03-40a0-9783-7088d4f32151');\n",
       "var x = new MutationObserver(function (mutations, observer) {{\n",
       "        var display = window.getComputedStyle(gd).display;\n",
       "        if (!display || display === 'none') {{\n",
       "            console.log([gd, 'removed!']);\n",
       "            Plotly.purge(gd);\n",
       "            observer.disconnect();\n",
       "        }}\n",
       "}});\n",
       "\n",
       "// Listen for the removal of the full notebook cells\n",
       "var notebookContainer = gd.closest('#notebook-container');\n",
       "if (notebookContainer) {{\n",
       "    x.observe(notebookContainer, {childList: true});\n",
       "}}\n",
       "\n",
       "// Listen for the clearing of the current output cell\n",
       "var outputEl = gd.closest('.output');\n",
       "if (outputEl) {{\n",
       "    x.observe(outputEl, {childList: true});\n",
       "}}\n",
       "\n",
       "                        })\n",
       "                };\n",
       "                });\n",
       "            </script>\n",
       "        </div>"
      ]
     },
     "metadata": {},
     "output_type": "display_data"
    }
   ],
   "source": [
    "#interactive chart of Close prices for stocks\n",
    "fig=go.Figure()\n",
    "\n",
    "fig.add_trace(go.Scatter(x=data_stocks.index,\n",
    "                        y=data_stocks.Close_AAPL,\n",
    "                        mode='lines',\n",
    "                        name='Close Price of AAPL'))\n",
    "\n",
    "fig.add_trace(go.Scatter(x=data_stocks.index,\n",
    "                        y=data_stocks.Close_DIS,\n",
    "                        mode='lines',\n",
    "                        name='Close Price of DIS'))\n",
    "\n",
    "fig.add_trace(go.Scatter(x=data_stocks.index,\n",
    "                        y=data_stocks.Close_MSFT,\n",
    "                        mode='lines',\n",
    "                        name='Close Price of MSFT'))\n",
    "\n",
    "fig.update_layout(title='Comparison of Close Prices Between Stocks')\n",
    "\n",
    "fig.show()\n"
   ]
  }
 ],
 "metadata": {
  "kernelspec": {
   "display_name": "Python 3",
   "language": "python",
   "name": "python3"
  },
  "language_info": {
   "codemirror_mode": {
    "name": "ipython",
    "version": 3
   },
   "file_extension": ".py",
   "mimetype": "text/x-python",
   "name": "python",
   "nbconvert_exporter": "python",
   "pygments_lexer": "ipython3",
   "version": "3.7.6"
  }
 },
 "nbformat": 4,
 "nbformat_minor": 2
}
